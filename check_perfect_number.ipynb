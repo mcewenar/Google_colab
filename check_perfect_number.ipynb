{
  "nbformat": 4,
  "nbformat_minor": 0,
  "metadata": {
    "colab": {
      "provenance": [],
      "authorship_tag": "ABX9TyOxp3Buu26Zq9v7Ja35hntb",
      "include_colab_link": true
    },
    "kernelspec": {
      "name": "python3",
      "display_name": "Python 3"
    },
    "language_info": {
      "name": "python"
    }
  },
  "cells": [
    {
      "cell_type": "markdown",
      "metadata": {
        "id": "view-in-github",
        "colab_type": "text"
      },
      "source": [
        "<a href=\"https://colab.research.google.com/github/mcewenar/Google_colab/blob/master/check_perfect_number.ipynb\" target=\"_parent\"><img src=\"https://colab.research.google.com/assets/colab-badge.svg\" alt=\"Open In Colab\"/></a>"
      ]
    },
    {
      "cell_type": "code",
      "execution_count": 2,
      "metadata": {
        "colab": {
          "base_uri": "https://localhost:8080/"
        },
        "id": "Y6QDqW5AgaZv",
        "outputId": "f709a554-e9bd-4442-863c-e398b1a87d9c"
      },
      "outputs": [
        {
          "output_type": "stream",
          "name": "stdout",
          "text": [
            "Enter a number: 15\n",
            "divisor of 15 is : 1,3,5,\n",
            "\n",
            "15 is not perfect number\n"
          ]
        }
      ],
      "source": [
        "number = int(input(\"Enter a number: \"))\n",
        "sum = 0\n",
        "print(f\"divisor of {number} is : \", end=\"\")\n",
        "for i in range(1,number):\n",
        "  if number % i == 0:\n",
        "    print(i,end=\",\")\n",
        "    sum+=i\n",
        "\n",
        "print(\"\\n\")\n",
        "if sum == number:\n",
        "  print(f\"{number} is perfect number\")\n",
        "else:\n",
        "  print(f\"{number} is not perfect number\")"
      ]
    }
  ]
}