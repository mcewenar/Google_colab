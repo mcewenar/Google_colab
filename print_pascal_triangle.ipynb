{
  "nbformat": 4,
  "nbformat_minor": 0,
  "metadata": {
    "colab": {
      "provenance": [],
      "authorship_tag": "ABX9TyM9IAANK3Fmn6bpMozWhN1R",
      "include_colab_link": true
    },
    "kernelspec": {
      "name": "python3",
      "display_name": "Python 3"
    },
    "language_info": {
      "name": "python"
    }
  },
  "cells": [
    {
      "cell_type": "markdown",
      "metadata": {
        "id": "view-in-github",
        "colab_type": "text"
      },
      "source": [
        "<a href=\"https://colab.research.google.com/github/mcewenar/Google_colab/blob/master/print_pascal_triangle.ipynb\" target=\"_parent\"><img src=\"https://colab.research.google.com/assets/colab-badge.svg\" alt=\"Open In Colab\"/></a>"
      ]
    },
    {
      "cell_type": "code",
      "execution_count": 4,
      "metadata": {
        "colab": {
          "base_uri": "https://localhost:8080/"
        },
        "id": "kzFee6_CCu3I",
        "outputId": "03bc0736-5c59-49c9-97c7-19f84b3322e1"
      },
      "outputs": [
        {
          "output_type": "stream",
          "name": "stdout",
          "text": [
            "     1\n",
            "    1 1\n",
            "   1 2 1\n",
            "  1 3 3 1\n",
            " 1 4 6 4 1\n"
          ]
        }
      ],
      "source": [
        "def print_pascals_triangle(n):\n",
        "  triangle = [[1]]\n",
        "\n",
        "  for i in range(1,n):\n",
        "    previous_row = triangle[-1]\n",
        "    current_row = [1]\n",
        "\n",
        "    for j in range(1,len(previous_row)):\n",
        "      current_row.append(previous_row[j-1] + previous_row[j])\n",
        "\n",
        "    current_row.append(1)\n",
        "    triangle.append(current_row)\n",
        "\n",
        "  for row in triangle:\n",
        "    print(\" \" * (n - len(row)), \" \".join(map(str, row)))\n",
        "\n",
        "print_pascals_triangle(5)\n",
        "\n",
        "\n",
        "\"\"\"\n",
        "\n",
        "JAVA:\n",
        "public class PascalsTriangle {\n",
        "    public static void printPascalsTriangle(int n) {\n",
        "        int[][] triangle = new int[n][];\n",
        "\n",
        "        for (int i = 0; i < n; i++) {\n",
        "            triangle[i] = new int[i + 1];\n",
        "            triangle[i][0] = 1;\n",
        "            triangle[i][i] = 1;\n",
        "\n",
        "            for (int j = 1; j < i; j++) {\n",
        "                triangle[i][j] = triangle[i - 1][j - 1] + triangle[i - 1][j];\n",
        "            }\n",
        "        }\n",
        "\n",
        "        for (int i = 0; i < n; i++) {\n",
        "            for (int j = 0; j < n - i; j++) {\n",
        "                System.out.print(\" \");\n",
        "            }\n",
        "            for (int j = 0; j < triangle[i].length; j++) {\n",
        "                System.out.print(triangle[i][j] + \" \");\n",
        "            }\n",
        "            System.out.println();\n",
        "        }\n",
        "    }\n",
        "\n",
        "    public static void main(String[] args) {\n",
        "        printPascalsTriangle(5);\n",
        "    }\n",
        "}\n",
        "\n",
        "\"\"\""
      ]
    }
  ]
}