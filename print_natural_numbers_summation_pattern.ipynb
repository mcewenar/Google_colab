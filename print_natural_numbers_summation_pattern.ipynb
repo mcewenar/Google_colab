{
  "nbformat": 4,
  "nbformat_minor": 0,
  "metadata": {
    "colab": {
      "provenance": [],
      "authorship_tag": "ABX9TyMvr3yxfC42kKC29y1ajb8B",
      "include_colab_link": true
    },
    "kernelspec": {
      "name": "python3",
      "display_name": "Python 3"
    },
    "language_info": {
      "name": "python"
    }
  },
  "cells": [
    {
      "cell_type": "markdown",
      "metadata": {
        "id": "view-in-github",
        "colab_type": "text"
      },
      "source": [
        "<a href=\"https://colab.research.google.com/github/mcewenar/Google_colab/blob/master/print_natural_numbers_summation_pattern.ipynb\" target=\"_parent\"><img src=\"https://colab.research.google.com/assets/colab-badge.svg\" alt=\"Open In Colab\"/></a>"
      ]
    },
    {
      "cell_type": "code",
      "execution_count": 25,
      "metadata": {
        "colab": {
          "base_uri": "https://localhost:8080/"
        },
        "id": "KnHFAToMxGG-",
        "outputId": "b39c128d-3539-4d33-acca-c5121e4df069"
      },
      "outputs": [
        {
          "output_type": "stream",
          "name": "stdout",
          "text": [
            "Enter a number: 6\n",
            "1\n",
            "1+2\n",
            "1+2+3\n",
            "1+2+3+4\n",
            "1+2+3+4+5\n",
            "1+2+3+4+5+6\n"
          ]
        }
      ],
      "source": [
        "def print_summation_pattern(n):\n",
        "  for i in range(1, n + 1):\n",
        "    print(\"+\".join([str(x) for x in range(1, i +1)]))\n",
        "\n",
        "n = int(input(\"Enter a number: \"))\n",
        "print_summation_pattern(n)"
      ]
    },
    {
      "cell_type": "code",
      "source": [
        "def print_summation_pattern(n):\n",
        "  for i in range(1, n + 1):\n",
        "    list_summ = []\n",
        "    for j in range(1, i+1):\n",
        "      list_summ.append(str(j))\n",
        "    print(\"+\".join(list_summ))\n",
        "\n",
        "n = int(input(\"Enter a number: \"))\n",
        "print_summation_pattern(n)"
      ],
      "metadata": {
        "colab": {
          "base_uri": "https://localhost:8080/"
        },
        "id": "LnhJlOkd0F1k",
        "outputId": "71f8be40-f2cb-410f-8553-0c6fb38f7f21"
      },
      "execution_count": 36,
      "outputs": [
        {
          "output_type": "stream",
          "name": "stdout",
          "text": [
            "Enter a number: 5\n",
            "1\n",
            "1+2\n",
            "1+2+3\n",
            "1+2+3+4\n",
            "1+2+3+4+5\n"
          ]
        }
      ]
    },
    {
      "cell_type": "code",
      "source": [
        "# Inputing Natural Number with sum\n",
        "number = int(input(\"Enter the Natural Number: \"))\n",
        "\n",
        "# j ranges from 1 to n\n",
        "for j in range(1, number+1):\n",
        "    # Initializing List\n",
        "    a = []\n",
        "    # i loop ranges from 1 to j\n",
        "    for i in range(1, j+1):\n",
        "        print(i, sep=\" \", end=\" \")\n",
        "        #This prevents \"+\" from being added in the the initial and final iteration\n",
        "        if(i < j):\n",
        "          print(\"+\", sep=\" \", end=\" \")\n",
        "        a.append(i)\n",
        "    print(\"=\", sum(a))\n",
        "\n",
        "print()"
      ],
      "metadata": {
        "colab": {
          "base_uri": "https://localhost:8080/"
        },
        "id": "9h-RdCFr-pzD",
        "outputId": "1b6d9dc0-bb8b-480f-f408-5460b378f1a2"
      },
      "execution_count": 37,
      "outputs": [
        {
          "output_type": "stream",
          "name": "stdout",
          "text": [
            "Enter the Natural Number: 6\n",
            "1 + = 1\n",
            "1 + 2 + = 3\n",
            "1 + 2 + 3 + = 6\n",
            "1 + 2 + 3 + 4 + = 10\n",
            "1 + 2 + 3 + 4 + 5 + = 15\n",
            "1 + 2 + 3 + 4 + 5 + 6 + = 21\n",
            "\n"
          ]
        }
      ]
    }
  ]
}