{
  "nbformat": 4,
  "nbformat_minor": 0,
  "metadata": {
    "colab": {
      "provenance": [],
      "authorship_tag": "ABX9TyPED/YAdjBCBy2rTWx+oUs0",
      "include_colab_link": true
    },
    "kernelspec": {
      "name": "python3",
      "display_name": "Python 3"
    },
    "language_info": {
      "name": "python"
    }
  },
  "cells": [
    {
      "cell_type": "markdown",
      "metadata": {
        "id": "view-in-github",
        "colab_type": "text"
      },
      "source": [
        "<a href=\"https://colab.research.google.com/github/mcewenar/Google_colab/blob/master/Depth_first_Search_(DFS).ipynb\" target=\"_parent\"><img src=\"https://colab.research.google.com/assets/colab-badge.svg\" alt=\"Open In Colab\"/></a>"
      ]
    },
    {
      "cell_type": "code",
      "execution_count": 4,
      "metadata": {
        "colab": {
          "base_uri": "https://localhost:8080/"
        },
        "id": "F26f0ADjGFSn",
        "outputId": "d7854d49-922c-4cc2-b865-6f2b1d088803"
      },
      "outputs": [
        {
          "output_type": "stream",
          "name": "stdout",
          "text": [
            "A B D E F C "
          ]
        }
      ],
      "source": [
        "def dfs(graph, start, visited=None):\n",
        "  if visited is None:\n",
        "    visited = set();\n",
        "  visited.add(start);\n",
        "  print(start, end= \" \") #Print the current node.\n",
        "  for neighbor in graph[start]:\n",
        "    if neighbor not in visited:\n",
        "      dfs(graph, neighbor, visited);\n",
        "\n",
        "\n",
        "#Example usage:\n",
        "graph = {\n",
        "    'A': ['B','C'],\n",
        "    'B':['D','E'],\n",
        "    'C':['F'],\n",
        "    'D':[],\n",
        "    'E':['F'],\n",
        "    'F':[]\n",
        "}\n",
        "dfs(graph,'A');"
      ]
    },
    {
      "cell_type": "code",
      "source": [],
      "metadata": {
        "id": "yVuwemHWKGG8"
      },
      "execution_count": null,
      "outputs": []
    }
  ]
}