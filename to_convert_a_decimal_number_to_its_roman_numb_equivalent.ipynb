{
  "nbformat": 4,
  "nbformat_minor": 0,
  "metadata": {
    "colab": {
      "provenance": [],
      "authorship_tag": "ABX9TyODP4saPP5WyWY3YyB08UpN",
      "include_colab_link": true
    },
    "kernelspec": {
      "name": "python3",
      "display_name": "Python 3"
    },
    "language_info": {
      "name": "python"
    }
  },
  "cells": [
    {
      "cell_type": "markdown",
      "metadata": {
        "id": "view-in-github",
        "colab_type": "text"
      },
      "source": [
        "<a href=\"https://colab.research.google.com/github/mcewenar/Google_colab/blob/master/to_convert_a_decimal_number_to_its_roman_numb_equivalent.ipynb\" target=\"_parent\"><img src=\"https://colab.research.google.com/assets/colab-badge.svg\" alt=\"Open In Colab\"/></a>"
      ]
    },
    {
      "cell_type": "code",
      "execution_count": 1,
      "metadata": {
        "colab": {
          "base_uri": "https://localhost:8080/"
        },
        "id": "NcZddw9JoxRr",
        "outputId": "b94ac783-fbd4-42e4-a558-0dfbc9401b70"
      },
      "outputs": [
        {
          "output_type": "stream",
          "name": "stdout",
          "text": [
            "Enter decimal number: 589\n",
            "Decimal number 589 is DLXXXIX in Roman numerals.\n"
          ]
        }
      ],
      "source": [
        "def decimal_to_roman(decimal):\n",
        "  roman_numerals = [\n",
        "      (1000, 'M'), (900, 'CM'), (500, 'D'), (400, 'CD'), (100, 'C'), (90, 'XC'),\n",
        "      (50, 'L'), (40, 'XL'), (10, 'X'), (9, 'IX'), (5, 'V'), (4, 'IV'), (1, 'I')\n",
        "  ]\n",
        "\n",
        "  roman = ''\n",
        "  for value, numeral in roman_numerals:\n",
        "    while decimal >= value:\n",
        "      roman += numeral\n",
        "      decimal -= value\n",
        "  return roman\n",
        "\n",
        "\n",
        "decimal_number = int(input(\"Enter decimal number: \"))\n",
        "roman_number = decimal_to_roman(decimal_number)\n",
        "print(f\"Decimal number {decimal_number} is \\\n",
        "{roman_number} in Roman numerals.\")\n"
      ]
    }
  ]
}