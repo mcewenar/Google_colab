{
  "nbformat": 4,
  "nbformat_minor": 0,
  "metadata": {
    "colab": {
      "provenance": [],
      "authorship_tag": "ABX9TyMfzbavtLI4toYZWnJznn+f",
      "include_colab_link": true
    },
    "kernelspec": {
      "name": "python3",
      "display_name": "Python 3"
    },
    "language_info": {
      "name": "python"
    }
  },
  "cells": [
    {
      "cell_type": "markdown",
      "metadata": {
        "id": "view-in-github",
        "colab_type": "text"
      },
      "source": [
        "<a href=\"https://colab.research.google.com/github/mcewenar/Google_colab/blob/master/built_in_function_vs_libraries.ipynb\" target=\"_parent\"><img src=\"https://colab.research.google.com/assets/colab-badge.svg\" alt=\"Open In Colab\"/></a>"
      ]
    },
    {
      "cell_type": "code",
      "execution_count": 2,
      "metadata": {
        "colab": {
          "base_uri": "https://localhost:8080/"
        },
        "id": "ACTcMdTV6sN6",
        "outputId": "b45e5173-0a13-4aa6-bf8c-1ba39b80badd"
      },
      "outputs": [
        {
          "output_type": "stream",
          "name": "stdout",
          "text": [
            "Custom sum time: 6.688030480999998\n",
            "Built-in sum time: 1.8084114979999981\n"
          ]
        }
      ],
      "source": [
        "#Python's built-in functions like sum(), len(), and libraries like itertools are optimized in C, making them faster\n",
        "#than custom implementations.\n",
        "\n",
        "import timeit\n",
        "\n",
        "#Custom implementation:\n",
        "def custom_sum(numbers):\n",
        "    total = 0\n",
        "    for num in numbers:\n",
        "        total += num\n",
        "    return total\n",
        "\n",
        "#Using built-in functions:\n",
        "def built_in_sum(numbers):\n",
        "    return sum(numbers)\n",
        "\n",
        "#Measure time:\n",
        "numbers = range(1000000)\n",
        "\n",
        "custom_time = timeit.timeit(lambda: custom_sum(numbers), number=100)\n",
        "built_in_time = timeit.timeit(lambda: built_in_sum(numbers), number=100)\n",
        "\n",
        "print(\"Custom sum time:\", custom_time)\n",
        "print(\"Built-in sum time:\", built_in_time)"
      ]
    }
  ]
}