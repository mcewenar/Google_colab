{
  "nbformat": 4,
  "nbformat_minor": 0,
  "metadata": {
    "colab": {
      "provenance": [],
      "authorship_tag": "ABX9TyNmoStTybg12l8wUu04ab4o",
      "include_colab_link": true
    },
    "kernelspec": {
      "name": "python3",
      "display_name": "Python 3"
    },
    "language_info": {
      "name": "python"
    }
  },
  "cells": [
    {
      "cell_type": "markdown",
      "metadata": {
        "id": "view-in-github",
        "colab_type": "text"
      },
      "source": [
        "<a href=\"https://colab.research.google.com/github/mcewenar/Google_colab/blob/master/fibonacci_without_recursion.ipynb\" target=\"_parent\"><img src=\"https://colab.research.google.com/assets/colab-badge.svg\" alt=\"Open In Colab\"/></a>"
      ]
    },
    {
      "cell_type": "code",
      "execution_count": null,
      "metadata": {
        "id": "yx4_dNff3x2A"
      },
      "outputs": [],
      "source": [
        "n = int(input(\"Enter number for series: \"))\n",
        "a = 0\n",
        "b = 1\n",
        "\n",
        "if n <= 0:\n",
        "  print(\"Enter valid number (>0)\")\n",
        "elif n == 1:\n",
        "  print(a)\n",
        "elif n == 2:\n",
        "  print(a,b)\n",
        "else:\n",
        "  print(a, end=\" \")\n",
        "  print(b, end=\" \")\n",
        "  i = 0\n",
        "  while i < n-2:\n",
        "    c = a + b\n",
        "    a=b\n",
        "    b=c\n",
        "    print(c, end = \" \")\n",
        "    i+=1"
      ]
    }
  ]
}