{
  "nbformat": 4,
  "nbformat_minor": 0,
  "metadata": {
    "colab": {
      "provenance": [],
      "authorship_tag": "ABX9TyPHmXNG8U9iYET8c5Ho+Jfl",
      "include_colab_link": true
    },
    "kernelspec": {
      "name": "python3",
      "display_name": "Python 3"
    },
    "language_info": {
      "name": "python"
    }
  },
  "cells": [
    {
      "cell_type": "markdown",
      "metadata": {
        "id": "view-in-github",
        "colab_type": "text"
      },
      "source": [
        "<a href=\"https://colab.research.google.com/github/mcewenar/Google_colab/blob/master/checking_if_FB_inst_is_down.ipynb\" target=\"_parent\"><img src=\"https://colab.research.google.com/assets/colab-badge.svg\" alt=\"Open In Colab\"/></a>"
      ]
    },
    {
      "cell_type": "code",
      "execution_count": 4,
      "metadata": {
        "colab": {
          "base_uri": "https://localhost:8080/"
        },
        "id": "MmEZJd14Nw9M",
        "outputId": "8cc4cfe3-0d54-4836-9f03-677ac05968e6"
      },
      "outputs": [
        {
          "output_type": "stream",
          "name": "stdout",
          "text": [
            "Instagram is up and running\n",
            "Facebook is up and running\n"
          ]
        }
      ],
      "source": [
        "import requests\n",
        "\n",
        "def is_instagram_down():\n",
        "  url = \"https://www.instagram.com/\"\n",
        "  response = requests.get(url)\n",
        "  return response.status_code != 200\n",
        "\n",
        "def is_facebook_down():\n",
        "  url = \"https://www.facebook.com/\"\n",
        "  response = requests.get(url)\n",
        "  return response.status_code != 200\n",
        "\n",
        "\n",
        "if __name__ == \"__main__\":\n",
        "  if is_instagram_down():\n",
        "    print(\"Instagram is down\")\n",
        "  else:\n",
        "    print(\"Instagram is up and running\")\n",
        "\n",
        "  if is_facebook_down():\n",
        "    print(\"Facebook is down\")\n",
        "  else:\n",
        "    print(\"Facebook is up and running\")"
      ]
    },
    {
      "cell_type": "code",
      "source": [],
      "metadata": {
        "id": "2--4PECXN7rR"
      },
      "execution_count": null,
      "outputs": []
    }
  ]
}