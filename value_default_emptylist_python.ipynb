{
  "nbformat": 4,
  "nbformat_minor": 0,
  "metadata": {
    "colab": {
      "provenance": [],
      "authorship_tag": "ABX9TyMZPkVquNStNrN8O+ZtZxkK",
      "include_colab_link": true
    },
    "kernelspec": {
      "name": "python3",
      "display_name": "Python 3"
    },
    "language_info": {
      "name": "python"
    }
  },
  "cells": [
    {
      "cell_type": "markdown",
      "metadata": {
        "id": "view-in-github",
        "colab_type": "text"
      },
      "source": [
        "<a href=\"https://colab.research.google.com/github/mcewenar/Google_colab/blob/master/value_default_emptylist_python.ipynb\" target=\"_parent\"><img src=\"https://colab.research.google.com/assets/colab-badge.svg\" alt=\"Open In Colab\"/></a>"
      ]
    },
    {
      "cell_type": "code",
      "execution_count": 9,
      "metadata": {
        "colab": {
          "base_uri": "https://localhost:8080/"
        },
        "id": "_c4WKf0W1RMh",
        "outputId": "fa50c6b7-4d26-46be-ce0b-ff62ed269aa4"
      },
      "outputs": [
        {
          "output_type": "stream",
          "name": "stdout",
          "text": [
            "[]\n",
            "without result\n"
          ]
        }
      ],
      "source": [
        "numbers = [1,2,3,4,5]\n",
        "result = list(filter(lambda n: n>5, numbers))\n",
        "print(result)\n",
        "\n",
        "if result:\n",
        "  print(result[0])\n",
        "else:\n",
        "  print(\"without result\")"
      ]
    }
  ]
}