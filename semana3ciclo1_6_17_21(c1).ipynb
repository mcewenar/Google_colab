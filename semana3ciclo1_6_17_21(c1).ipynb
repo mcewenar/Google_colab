{
  "nbformat": 4,
  "nbformat_minor": 0,
  "metadata": {
    "colab": {
      "name": "semana3ciclo1_6_17_21(c1).ipynb",
      "provenance": [],
      "collapsed_sections": [],
      "authorship_tag": "ABX9TyN17OomDk5oPbY7xsHu0mLM",
      "include_colab_link": true
    },
    "kernelspec": {
      "name": "python3",
      "display_name": "Python 3"
    },
    "language_info": {
      "name": "python"
    }
  },
  "cells": [
    {
      "cell_type": "markdown",
      "metadata": {
        "id": "view-in-github",
        "colab_type": "text"
      },
      "source": [
        "<a href=\"https://colab.research.google.com/github/mcewenar/Google_colab/blob/master/semana3ciclo1_6_17_21(c1).ipynb\" target=\"_parent\"><img src=\"https://colab.research.google.com/assets/colab-badge.svg\" alt=\"Open In Colab\"/></a>"
      ]
    },
    {
      "cell_type": "code",
      "metadata": {
        "id": "mhDyW0LATRMh"
      },
      "source": [
        "#FPV1  [  ) en lenguaje matematico\n",
        "n=100\n",
        "for i in range(1, n+1): #i la visitantdo o recorriendo c/u de los elementos de la coleccion\n",
        "  ii=i*i \n",
        "  print(i,' cuadrado: ', ii)"
      ],
      "execution_count": null,
      "outputs": []
    },
    {
      "cell_type": "code",
      "metadata": {
        "id": "W2hBSVIsVOjk"
      },
      "source": [
        "#P2 [) lenguaje matematico\n",
        "for i in range(1, 99+1, 2): #coleccion 1, 3, 5, 7, 9 ....99  impares\n",
        "  print('impar ', i) #i tome a su turno un valor de la coleccion\n",
        "for i in range(2, 100+1, 2):#2, 4 , 6, 8, ....100 pares\n",
        "  print('par: ',i)"
      ],
      "execution_count": null,
      "outputs": []
    },
    {
      "cell_type": "code",
      "metadata": {
        "id": "4fIR-yYqWbN8"
      },
      "source": [
        "#FPV3-numeros pares\n",
        "#Imprimir los numeros pares en forma descendente hasta 2 que son\n",
        "#menores o iguales a un numero natural n >= 2, dado.\n",
        "n=15\n",
        "#vs: npp    (numero par prox   14)\n",
        "if n % 2 !=0: # significa que n es impar; halla en numero impar <= n\n",
        "  npp = n-1\n",
        "else:  #n es par\n",
        "  npp=n #inicialice npp\n",
        "\n",
        "for i in range(npp, 1, -2):\n",
        "  print(i, end=' ')"
      ],
      "execution_count": null,
      "outputs": []
    },
    {
      "cell_type": "code",
      "metadata": {
        "id": "KGfyj-73Xm7v"
      },
      "source": [
        "#PF4, 5!  = 1 . 2 . 3 . 4 . 5 =120 ANALIZAR\n",
        "def facto(n):\n",
        "  f=1 #1 es el modulo de la multiplicacion\n",
        "  for i in range(1, n+1):\n",
        "    f = f * i \n",
        "  return f \n",
        "N=5\n",
        "for j in range(1, N+1): \n",
        "   print(j, ' factorial: ', facto(j))"
      ],
      "execution_count": null,
      "outputs": []
    },
    {
      "cell_type": "code",
      "metadata": {
        "id": "lCWcWo0AZfck"
      },
      "source": [
        "#FPV5-calcular 2 ** n, utilizando multiplicaciones sucesivas =2 . 2 . 2 .2 ....n veces\n",
        "def dosAlaN(n): #n es una var local\n",
        "  prod=1\n",
        "  for i in range(1, n+1): # la var i juega el papel de contar iteraciones\n",
        "    prod*=2  # range () genera la coleccion 1, 2, 3, 4, 5\n",
        "  return prod\n",
        "N=7 #es una var global\n",
        "print('2 elevado a la:', N,' = ', dosAlaN(N), sep='')"
      ],
      "execution_count": null,
      "outputs": []
    },
    {
      "cell_type": "code",
      "metadata": {
        "id": "BLldKpyXg_rx"
      },
      "source": [
        "#Operadores para comparar si dos cadenas son iguales (==)\n",
        "#orden lexicografico, se comparan de izquierda a derecha uno a uno los caracteres,\n",
        "#mientras sean iguales. \n",
        "# <, <=, >, >=, !=\n",
        "#En caso que no sean iguales, si el caracter de la primera cadena es menor que el de la segunda a la primer cadena se le\n",
        "#considera menor, \n",
        "#pero si es mayor, a la primer cadena se le considera mayor.\n",
        "#ca1='rojas'  =>ca1 < ca2\n",
        "#ca2='rosas'\n",
        "a = 'Rojas'\n",
        "#print('Rosas' > a) #\n",
        "b = \"Rojas\"\n",
        "#print(a == b) #True\n",
        "c = \"Ro\"\n",
        "a = 'Rojas'\n",
        "#print('Rosas' > a) #\n",
        "b = \"Rojas\"\n",
        "#print(a == b) #True\n",
        "c = \"Ro\" + \"jas\"  #  c guarda en mem ram, el resultado de \"Rojas\"\n",
        "#print(a == c) #True\n",
        "d = \"Ro\"\n",
        "e = \"jas\"\n",
        "f = d + e # f guarda las direcciones en mem \n",
        "#print(a == f) #True\n",
        "#print(b <'rojas') #True\n",
        "#El operador 'is' sirve para determinar si dos cadenas referencian al mismo objeto en la mem\n",
        "#print(a is b) #True\n",
        "#print(a is c) #True\n",
        "print(a is f) #False"
      ],
      "execution_count": null,
      "outputs": []
    },
    {
      "cell_type": "code",
      "metadata": {
        "id": "v3iWR1XZmN3I"
      },
      "source": [
        "#funcion slice, obtiene una subcadena de una cadena, notacion similar a range [ini:fin:inc]\n",
        "nombre = \"Minch9Yoda1\"  #La Y esta en posicion 6, 1 esta en pos 10\n",
        "print(nombre[7])\n",
        "#print(nombre[:5])\n",
        "#print(nombre[: 6+1]) #o esta en pos 7\n",
        "#print(nombre[6:10+1])\n",
        "#print(nombre[:])\n",
        "print(nombre[::-1]) #reversa la cadena o sea imprime en orden descendiente"
      ],
      "execution_count": null,
      "outputs": []
    },
    {
      "cell_type": "code",
      "metadata": {
        "id": "rkH7hmS9nlIn"
      },
      "source": [
        ""
      ],
      "execution_count": null,
      "outputs": []
    },
    {
      "cell_type": "code",
      "metadata": {
        "id": "H2cuxbQvjaR1"
      },
      "source": [
        "#Consultando: in, sirve para saber si una subcadena se encuentra presente en una cadena\n",
        "texto = 'cien anios de soledad'\n",
        "palabra='sien'\n",
        "if palabra in texto:   #operador in\n",
        "  print(palabra,' si es subcadena')\n",
        "else:\n",
        "  print(palabra, ' no es subcadena')"
      ],
      "execution_count": null,
      "outputs": []
    },
    {
      "cell_type": "code",
      "metadata": {
        "id": "ZzS6KFsAnm67"
      },
      "source": [
        "#El metodo count() obtiene el nro de veces que una subcadena se encuentra en una cadena \n",
        "#(o en parte de ella), un metodo es una funcion que pertenece a un objeto dado\n",
        "#invocacion: obj.count(subcadena, ini, fin) ini y fin hacen referencia a inicial y final en el objeto\n",
        "obj = \"The avengers\"\n",
        "#print(obj.count('e') ,end='; ') #3\n",
        "#print(obj.count('e', 0, 3),end='; ') #1  ---desde la T  hasta el 1er espacio en blanco\n",
        "print(obj.count('e', 4, len(obj)), end='; ')# 2 ---desde la letra a hasta el final\n",
        "cad = 'abcabcabcabcabc'\n",
        "print(cad.count('abc'))"
      ],
      "execution_count": null,
      "outputs": []
    },
    {
      "cell_type": "code",
      "metadata": {
        "id": "39RjXkO-oV8N"
      },
      "source": [
        "#El metodo find/rfind() retorna la posicion de la primera/ultima ocurrencia de una\n",
        "#subcadena en una cadena (o en una parte de ella). \n",
        "#Ejemplo: find/rfind(subcadena, inicio, fin)\n",
        "str2 = 'It is not despair, for despair is ' \\\n",
        "'only for those who see the end ' \\\n",
        "'beyond all doubt. We do not.'\n",
        "print('primera:', str2.find('despair'))\n",
        "print('ultima:', str2.rfind('despair'))"
      ],
      "execution_count": null,
      "outputs": []
    },
    {
      "cell_type": "code",
      "metadata": {
        "id": "F35cVmQKq9eO"
      },
      "source": [
        "#El metodo split divide una cadena de acuerdo a \n",
        "#un delimitador, dejando las partes separadas en una lista. \n",
        "#Ejemplo split(delimitador)\n",
        "sdate = \"01-06-2021\"\n",
        "lista= sdate.split(\"-\")  # diferente de slice - rebanada\n",
        "print(lista)\n",
        "print('dia:', lista[0], '- mes:', lista[1], '- agno:', lista[2])"
      ],
      "execution_count": null,
      "outputs": []
    },
    {
      "cell_type": "code",
      "metadata": {
        "id": "Wld0kE1trOAI"
      },
      "source": [
        "#Mayusculas y minusculas\n",
        "s = 'cien agnos de soledad en Macondo'\n",
        "print(s.lower()) # Muestra la cadena en minusculas\n",
        "print(s.upper()) # Muestra la cadena en mayusculas\n",
        "print(s.capitalize()) # Primer letra a mayuscula\n",
        "print(s.title()) # Primer letra cada palabra a may\u0013uscula\n",
        "print(s.swapcase()) # intercambia Mayusculas y minusculas"
      ],
      "execution_count": null,
      "outputs": []
    }
  ]
}