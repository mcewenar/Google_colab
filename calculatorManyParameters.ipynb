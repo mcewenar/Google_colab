{
  "nbformat": 4,
  "nbformat_minor": 0,
  "metadata": {
    "colab": {
      "provenance": [],
      "authorship_tag": "ABX9TyOsQ70XhKrgLSk4flGNvBKC",
      "include_colab_link": true
    },
    "kernelspec": {
      "name": "python3",
      "display_name": "Python 3"
    },
    "language_info": {
      "name": "python"
    }
  },
  "cells": [
    {
      "cell_type": "markdown",
      "metadata": {
        "id": "view-in-github",
        "colab_type": "text"
      },
      "source": [
        "<a href=\"https://colab.research.google.com/github/mcewenar/Google_colab/blob/master/calculatorManyParameters.ipynb\" target=\"_parent\"><img src=\"https://colab.research.google.com/assets/colab-badge.svg\" alt=\"Open In Colab\"/></a>"
      ]
    },
    {
      "cell_type": "code",
      "execution_count": 12,
      "metadata": {
        "colab": {
          "base_uri": "https://localhost:8080/"
        },
        "id": "ioP0BHRL0DSe",
        "outputId": "565132b3-42ba-4b85-9a9b-6e570a2152ca"
      },
      "outputs": [
        {
          "output_type": "stream",
          "name": "stdout",
          "text": [
            "15\n"
          ]
        }
      ],
      "source": [
        "def calcular_muchos(operation, *args):\n",
        "    \"\"\"Calculates the result of the specified binary operation on a variable number of arguments.\n",
        "\n",
        "    Args:\n",
        "        operation: The binary operation to perform (+, -, *, /).\n",
        "        *args: Variable number of arguments for the operation.\n",
        "\n",
        "    Returns:\n",
        "        The calculated result, or None if an error occurs.\n",
        "\n",
        "    Raises:\n",
        "        ValueError: If there are fewer than two arguments provided or the operation is not supported.\n",
        "    \"\"\"\n",
        "\n",
        "    if len(args) < 2:\n",
        "        raise ValueError(\"Cannot calculate with fewer than two numbers\")\n",
        "\n",
        "    try:\n",
        "        if operation in [\"+\", \"-\"]:\n",
        "            accum = 0\n",
        "            for arg in args:\n",
        "                accum = eval(f\"accum {operation} {arg}\")\n",
        "        elif operation in [\"*\", \"/\"]:\n",
        "            accum = 1\n",
        "            for arg in args:\n",
        "                if operation == \"/\" and (isinstance(accum, int) and arg == 0):\n",
        "                    raise ZeroDivisionError(\"Division by zero\")\n",
        "                accum = eval(f\"accum {operation} {arg}\")\n",
        "        else:\n",
        "            raise ValueError(\"Unsupported operation\")\n",
        "    except (ArithmeticError, TypeError) as e:\n",
        "        print(f\"Error: {e}\")\n",
        "        return None\n",
        "\n",
        "    return accum\n",
        "\n",
        "print(calcular_muchos(\"+\", 1, 2, 3, 4, 5))  # Output: 15"
      ]
    }
  ]
}