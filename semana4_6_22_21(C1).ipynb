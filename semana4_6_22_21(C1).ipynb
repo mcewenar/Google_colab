{
  "nbformat": 4,
  "nbformat_minor": 0,
  "metadata": {
    "colab": {
      "name": "semana4_6-22-21(C1).ipynb",
      "private_outputs": true,
      "provenance": [],
      "collapsed_sections": [],
      "include_colab_link": true
    },
    "kernelspec": {
      "name": "python3",
      "display_name": "Python 3"
    },
    "language_info": {
      "name": "python"
    }
  },
  "cells": [
    {
      "cell_type": "markdown",
      "metadata": {
        "id": "view-in-github",
        "colab_type": "text"
      },
      "source": [
        "<a href=\"https://colab.research.google.com/github/mcewenar/Google_colab/blob/master/semana4_6_22_21(C1).ipynb\" target=\"_parent\"><img src=\"https://colab.research.google.com/assets/colab-badge.svg\" alt=\"Open In Colab\"/></a>"
      ]
    },
    {
      "cell_type": "code",
      "metadata": {
        "id": "ukiug5jwLymz"
      },
      "source": [
        "#Una lista es una secuencia de elementos que puede almacenar datos\n",
        "#heterogeneos tales como: enteros, reales, cadenas, tuplas, diccionarios y\n",
        "#otros mas, inclusive otras listas. Una lista se escribe como la secuencia de\n",
        "#datos a mantener, separados por una coma (,), y delimitada por los\n",
        "#parentesis cuadrados [corchetes]. A diferencia de las cadenas y las tuplas,\n",
        "#las listas son mutables, esto es, se pueden modificar despues de definidas.\n",
        "x = [ ] #: Le asigna la lista vacia a la variable x.\n",
        "lista = [1, 2, 3, 4.5, 'hola', 'a', True]\n",
        "lista[1]='z'\n",
        "print(lista)\n",
        "a= [1, 2, 3]"
      ],
      "execution_count": null,
      "outputs": []
    },
    {
      "cell_type": "code",
      "metadata": {
        "id": "2DsE5uO7MS13"
      },
      "source": [
        "#listas anidadas\n",
        "lista1 = [0, 1, 2, 3]\n",
        "lista2 = ['A', 'B', 'C']\n",
        "lista3 = [lista1, lista2]\n",
        "print(lista3)\n",
        "\n",
        "print(lista3[0])\n",
        "print(lista3[1])\n",
        "print(lista3[1][0])"
      ],
      "execution_count": null,
      "outputs": []
    },
    {
      "cell_type": "code",
      "metadata": {
        "id": "_cNx7EVPMeqE"
      },
      "source": [
        "#concatenar listas (+)\n",
        "list1 = ['A', 'B', 'C', 'E']\n",
        "list2 = [1, 2, 3, 4, 5]\n",
        "list3 = list1 + list2\n",
        "print(list3)"
      ],
      "execution_count": null,
      "outputs": []
    },
    {
      "cell_type": "code",
      "metadata": {
        "id": "YjvvUG9EMied"
      },
      "source": [
        "#Agregar al final, metodo extend()\n",
        "#El metodo extend agrega una lista al final de otra lista, la operacion\n",
        "#afecta la lista invocante\n",
        "nombres = ['Antonio', 'Maria', 'Mabel']\n",
        "otros_nombres = ['Barry', 'John', 'Guttag']\n",
        "\n",
        "nombres.extend(otros_nombres)\n",
        "print(nombres)\n",
        "print(otros_nombres)"
      ],
      "execution_count": null,
      "outputs": []
    },
    {
      "cell_type": "code",
      "metadata": {
        "id": "vikQoOYUM2BM"
      },
      "source": [
        "#repetir (*)\n",
        "list1 = [1, 2, 3, 4, 5]\n",
        "list2 = list1 * 3\n",
        "print(list2)\n",
        "list3 = ['Abc', 'Bcd']\n",
        "list4 = list3 * 2\n",
        "print(list4)"
      ],
      "execution_count": null,
      "outputs": []
    },
    {
      "cell_type": "code",
      "metadata": {
        "id": "gh0aiQZfM9Y-"
      },
      "source": [
        "#operadores convencionales (<, <=, >, >=, ==, !=) para\n",
        "#comparar listas usando el orden lexicografico.\n",
        "print(['Rojas', 123] < ['Rosas', 123])\n",
        "print(['Rosas', 123] < ['rosas', 123])\n",
        "print(['Rosas', \"123\"] < ['Rosas', '23']) # orden lexicografico\n",
        "print(['Rosas', 123] > ['Rosas', 23])"
      ],
      "execution_count": null,
      "outputs": []
    },
    {
      "cell_type": "code",
      "metadata": {
        "id": "7N3xRDrmNPVd"
      },
      "source": [
        "#Comparar: operador is para determinar si dos listas referencian al\n",
        "#mismo objeto\n",
        "a = ['Rojas', 123]\n",
        "b = [\"Rojas\", 123]\n",
        "c = a\n",
        "#print(a == b) #True\n",
        "#print(a is b)#False\n",
        "#print(a == c) #True\n",
        "#print(a is c) #true\n",
        "print(b == c) #true\n",
        "print(b is c) #false\n",
        "print(id(a) == id(b)) #id() retorna la direccion fisica de una variable en mem ram\n",
        "print(id(a) == id(c)) #para ver si dos vars referencian al mismo objeto"
      ],
      "execution_count": null,
      "outputs": []
    },
    {
      "cell_type": "code",
      "metadata": {
        "id": "FejTHwg6NqGd"
      },
      "source": [
        "#SubIndice: Accede a los elementos de una lista, iniciando desde la posicion cero [0].\n",
        "#Si la posicion que se envia es negativa, lo considera desde el final. \n",
        "avengers = [\"Ironman\", \"Thor\", \"Ant-man\", \"Hulk\"]\n",
        "print(avengers[0])\n",
        "print(avengers[3])\n",
        "print(avengers[-1]) #orden de der a izq\n",
        "print(avengers[-3])"
      ],
      "execution_count": null,
      "outputs": []
    },
    {
      "cell_type": "code",
      "metadata": {
        "id": "SXzaTXeAOCMt"
      },
      "source": [
        "#consultando una lista, operador in\n",
        "text = ['cien', 'a~nos', 'de', 'soledad']\n",
        "pal='a~nos'\n",
        "if pal in text:\n",
        "  print(pal,'Si esta en la lista')\n",
        "else:\n",
        "  print(pal,'No esta en la lista')\n",
        "#Para determinar si un elemento NO esta en una lista\n",
        "c='sien'\n",
        "if c not in text:\n",
        "  print(c, 'No esta en la lista')\n",
        "else:\n",
        "  print(c, 'Esta en la lista')"
      ],
      "execution_count": null,
      "outputs": []
    },
    {
      "cell_type": "code",
      "metadata": {
        "id": "91h3BxlrOiIj"
      },
      "source": [
        "#Iterando una lista, visitar los componentes o recorrer la lista elemento a elemento (-----)\n",
        "#s1=(\"hola\", \"amigos\", \"mios\")# s1 es una tupla, la tupla es inmodificable inmutable\n",
        "#s1[0] ='bien'\n",
        "s = [\"hola\", \"amigos\", \"mios\"] # es una lista, es modificable\n",
        "s[0]='bien'\n",
        "print (s)\n",
        "for palabra in s: # para cada palabra de la lista\n",
        "  print(palabra, end = ' ')"
      ],
      "execution_count": null,
      "outputs": []
    },
    {
      "cell_type": "code",
      "metadata": {
        "id": "pJudxyQIOzvI"
      },
      "source": [
        "#Creando una lista (por el uso de corchetes) con un ciclo for  \n",
        "#Es posible asignarle una lista a una variable, usando la asignacion, el ciclo\n",
        "#for y el concepto de lista (secuencia de elementos separados por coma entre []) \n",
        "despl = 10\n",
        "\n",
        "desplazada = [despl + x for x in range(3+1)] #ini: 0; fin: 6-1 genero la coleccion 0, 1,2,3\n",
        "print(desplazada)\n",
        "#ejemplo2\n",
        "potencias = [3 ** x for x in range(2, 6)]   #2, 3, 4, 5\n",
        "print(potencias)"
      ],
      "execution_count": null,
      "outputs": []
    },
    {
      "cell_type": "code",
      "metadata": {
        "id": "myThIoklPlyu"
      },
      "source": [
        "#Asignando multiples variables desde una lista\n",
        "#Es posible asignarle los valores a un grupo de variables usando la\n",
        "#asignacion (desempacando) y el concepto de lista\n",
        "lista = [1, -2, 3]\n",
        "n=len(lista)\n",
        "print(n)\n",
        "a, c, b = lista # ----------\n",
        "print('a =', a, end=' ')\n",
        "print('b =', b, end=' ')\n",
        "print('c =', c)\n",
        "#---------------------------------\n",
        "lista9 = [11, 9, -2, 3, 8, 5]\n",
        "var1, var2, var3 = [lista9[i] for i in (0, 3, 5)] # coleccion 0,3,5 (tupla)\n",
        "print( var1,  var2,  var3, sep='\\t')\n",
        "#ejemplo3\n",
        "var1, var2, var3 = [lista9[i] for i in range(0, 6, 2)] #coleccion generada por range(0, 2, 4)\n",
        "print(\"var1 =\", var1, \", var2 =\", var2, \", var3 =\", var3)"
      ],
      "execution_count": null,
      "outputs": []
    },
    {
      "cell_type": "code",
      "metadata": {
        "id": "1mYk44KPQR-U"
      },
      "source": [
        "#Listas y funciones\n",
        "#Retornar mas de un valor en una funcion usando el concepto de lista.\n",
        "def minmax(a, b):\n",
        "  if a < b:\n",
        "    return [a, b]\n",
        "  else:\n",
        "    return [b, a]\n",
        "x, y = minmax(5, 13)\n",
        "print('min =', x, \",\", 'max =', y)\n",
        "x, y = minmax(12, -4)\n",
        "print('min =', x, \",\", 'max =', y)"
      ],
      "execution_count": null,
      "outputs": []
    },
    {
      "cell_type": "code",
      "metadata": {
        "id": "GsQSysJhQcG0"
      },
      "source": [
        "#funcion len() sobre listas\n",
        "lista = [1, 2, 3, 4]\n",
        "nombre = [\"Minch\", \"Yoda\"]\n",
        "trabajo = [\"Stars\", \"War\", \"Movie\"]\n",
        "empty = []\n",
        "print(len(lista), end=' ')\n",
        "print(len(nombre), end=' ')\n",
        "print(len(trabajo), end=' ')\n",
        "print(len(empty))"
      ],
      "execution_count": null,
      "outputs": []
    },
    {
      "cell_type": "code",
      "metadata": {
        "id": "ygKzaOYHQlyU"
      },
      "source": [
        "#Cambiando elementos en determinadas posiciones, en conclusion, la lista es modificable\n",
        "lista = ['E', 'l', 'm', 'e', 'j', 'o', 'r']\n",
        "lista[0] = 'e'\n",
        "print(lista)\n",
        "lista[4] = 'l' #'j'\n",
        "print(lista)\n",
        "lista[-1] = 's' #'r'\n",
        "print(lista)"
      ],
      "execution_count": null,
      "outputs": []
    },
    {
      "cell_type": "code",
      "metadata": {
        "id": "B5n7BHBxQyzj"
      },
      "source": [
        "#El metodo obj.append() permite agregar elementos al final de una lista.\n",
        "nombres = ['Antonio', 'Johan']\n",
        "nombres.append('Monica')\n",
        "print(nombres)\n",
        "nombres.append('Maria')\n",
        "print(nombres)\n",
        "nombres.append('Mabel')\n",
        "print(nombres)"
      ],
      "execution_count": null,
      "outputs": []
    },
    {
      "cell_type": "code",
      "metadata": {
        "id": "gmpZH2OLQ_u8"
      },
      "source": [
        "#El metodo insert permite insertar (agregar) elementos en una posicion\n",
        "#especifica de una lista\n",
        "nombres = ['Antonio', 'Johan', 'Maria']\n",
        "nombres.insert(0, 'Guttag')\n",
        "print(nombres)\n",
        "nombres.insert(2, 'Peter') #len()=5\n",
        "print(nombres)\n",
        "nombres.insert(len(nombres)//2, 10)\n",
        "print(nombres)"
      ],
      "execution_count": null,
      "outputs": []
    },
    {
      "cell_type": "code",
      "metadata": {
        "id": "XLnFYjU6RO1w"
      },
      "source": [
        "#eliminando elementos\n",
        "#El metodo remove permite eliminar la primera aparicion (de izquierda a\n",
        "#derecha) de un elemento de una lista\n",
        "lista = ['a', 'e', 'i', 'o', 'u', 'i', 'x']\n",
        "lista.remove('x')\n",
        "print(lista)\n",
        "lista.remove('i')\n",
        "print(lista)\n",
        "lista.remove('i')\n",
        "print(lista)"
      ],
      "execution_count": null,
      "outputs": []
    },
    {
      "cell_type": "code",
      "metadata": {
        "id": "N3G6_2QeRY6P"
      },
      "source": [
        "#Sublistas slice\n",
        "#La funcion slice obtiene una porcion (sublista) de una lista. La definicion\n",
        "#es igual a la funcion slice de tuplas [inicio:fin:incremento].\n",
        "avengers = [\"Ironman\", \"Thor\", \"Ant-man\", \"Hulk\"]\n",
        "print(avengers[:2])\n",
        "print(avengers[1:3])\n",
        "print(avengers[3:3])\n",
        "print(avengers[::-1])#reversar el orden de la lista"
      ],
      "execution_count": null,
      "outputs": []
    },
    {
      "cell_type": "code",
      "metadata": {
        "id": "oPPFBIHwRi_u"
      },
      "source": [
        "#Contando\n",
        "#El metodo obj.count() obtiene las veces que un elemento se encuentra en una lista\n",
        "lista = [4, 3, 8, 8, 2, 5, 4, 6, 8, 9]\n",
        "print(lista.count(2))\n",
        "print(lista.count(8))\n",
        "print(lista.count(5))\n",
        "print(lista.count(7))"
      ],
      "execution_count": null,
      "outputs": []
    },
    {
      "cell_type": "code",
      "metadata": {
        "id": "LXv96biORuoE"
      },
      "source": [
        "#Buscar\n",
        "#El metodo index retorna la posicion de la primera ocurrencia de un elemento en una lista.\n",
        "lista = [4, 3, 8, 8, 2, 5, 4, 6, 8, 9]\n",
        "print(lista.index(2)) #4\n",
        "print(lista.index(8))#2\n",
        "print(lista.index(5)) #5"
      ],
      "execution_count": null,
      "outputs": []
    },
    {
      "cell_type": "code",
      "metadata": {
        "id": "qL3gvQwSR3XM"
      },
      "source": [
        "#Maximo y minimo max() y min()\n",
        "t = [4, 5, -1, 6, 7]\n",
        "print(max(t))\n",
        "print(min(t))"
      ],
      "execution_count": null,
      "outputs": []
    },
    {
      "cell_type": "code",
      "metadata": {
        "id": "OtFN-itiSQF1"
      },
      "source": [
        "#metodo obj.sort()\n",
        "lista = [4, 5, -1, 6, 7]\n",
        "lista.sort() # De menor a mayor\n",
        "print(lista)\n",
        "lista.sort(reverse = True) # De mayor a menor\n",
        "print(lista)"
      ],
      "execution_count": null,
      "outputs": []
    },
    {
      "cell_type": "code",
      "metadata": {
        "id": "q_3mpNTTSbU9"
      },
      "source": [
        "#Convertir a lista \n",
        "#El metodo obj.list() se usa para crear listas a partir de otros objetos, \n",
        "#dos ejemplos: convertir una cadena de caracteres y una tupla a listas.\n",
        "magician = 'Dumbledore'\n",
        "lm = list(magician)\n",
        "print(lm)\n",
        "t = (1, 2, 3, 4)\n",
        "lt = list(t)\n",
        "print(lt)"
      ],
      "execution_count": null,
      "outputs": []
    },
    {
      "cell_type": "code",
      "metadata": {
        "id": "eL64K9MBSurO"
      },
      "source": [
        "#Remover de una lista, el elemento en una posicion\n",
        "#El metodo pop recibe como parametro la posicion del elemento a remover. \n",
        "#Las posiciones en las listas empiezan en cero. Si no se especifican \n",
        "#parametros, se remueve el ultimo elemento de la lista.\n",
        "nombres = ['Antonio','Johan','Monica','Maria','Mabel']\n",
        "nombres.pop(1) #remueve a Johan\n",
        "print(nombres)\n",
        "nombre_borrado = nombres.pop() # remueve a Mabel\n",
        "print(nombre_borrado + \" ha sido eliminada de la lista.\")\n",
        "print(nombres)"
      ],
      "execution_count": null,
      "outputs": []
    },
    {
      "cell_type": "code",
      "metadata": {
        "id": "JCeYWVjrTFw9"
      },
      "source": [
        "#P1 Determinar si en una lista no existen elementos repetidos --------16\n",
        "\n",
        "def sinRepetidos(lista1):\n",
        "  #VE:lista1\n",
        "  #VS: bandera: bool\n",
        "  nn=len(lista1)\n",
        "  bandera=True #No existen elementos repetidos; for i es el for externo\n",
        "  for i in range(nn-1): #i es un elemento de la coleccion generada con range, (0, 1, 2, 3, ..nn-2)\n",
        "    llave = lista1[i] #llave='a', 'g', b,r, ..c,\n",
        "    for j in range(i+1,nn): #for interno, hay 2 for anidados Coleccion j=(1, 2, 3, ... nn-1)\n",
        "      if lista1[j] == llave:\n",
        "        bandera = False\n",
        "        break\n",
        "  return bandera\n",
        "\n",
        "lis=['a', 'g','b','r','e','i','u','c','t','y','c','d']\n",
        "res=sinRepetidos(lis)\n",
        "print(res  )"
      ],
      "execution_count": null,
      "outputs": []
    },
    {
      "cell_type": "code",
      "metadata": {
        "id": "1rxgC-5wwmqh"
      },
      "source": [
        "#P2\"determinar si algun elemento de una lista es cadena palindrome, si existe, imprimala, sino muestre 'No existe'\n",
        "lista=[\"amor a roma\",\"anita atina\",\"al sur de Colombia\",\"anula las alas a la luna\", \\\n",
        "\"anulal a sala sal aluna\",\"la tele letal\"]\n",
        "flag=False\n",
        "for frase in lista:\n",
        "  res=esPalindrome(frase)\n",
        "  if res==True:\n",
        "    print(frase)\n",
        "    flag=True\n",
        "if not flag:\n",
        "  print('No existe')\n"
      ],
      "execution_count": null,
      "outputs": []
    },
    {
      "cell_type": "code",
      "metadata": {
        "id": "drQSL8AkG1EY"
      },
      "source": [
        "#P3-Desarrollar un programa que determine si en una lista se encuentra\n",
        "#una cadena de caracteres con dos o mas vocales. Si la cadena existe\n",
        "#debe imprimirla y si no existe debe imprimir 'No existe'.\n",
        "lista=[\"amor a roma\",\"anita atina\",\"al sur de Colombia\",'p@ssw0rd',\"anula las alas a la luna\", \\\n",
        "\"anulal a sala sal aluna\",\"la tele letal\",'@nit@']\n",
        "for frase in lista:\n",
        "  n=0\n",
        "  lis_vocales=['a', 'e', 'i', 'o','u']\n",
        "  for letra in lis_vocales:\n",
        "    n+=frase.count(letra)\n",
        "  print(n,end=' ')\n",
        "  if n>= 2:\n",
        "     print(frase)\n",
        "  else:\n",
        "       print('No existe')\n",
        "    "
      ],
      "execution_count": null,
      "outputs": []
    },
    {
      "cell_type": "code",
      "metadata": {
        "id": "_xN5_gybKbUH"
      },
      "source": [
        "#P4-Desarrollar un programa que determine si una lista es palindrome.\n",
        "#Una lista es palindrome si el elemento en la posicion i es el mismo de\n",
        "#la posicion n - 1 - i con n la longitud de la lista\n",
        "lista=['anita', 'luis', 'hugo', 'hugo', 'luis', 'anita']\n",
        "#lista=['anita', 'luis', 'hugo','paco', 'hugo', 'luis', 'anita']\n",
        "#lista=['anita', 'luis', 'hugo','paco', 'carl', 'luis', 'anita']\n",
        "N=len(lista)\n",
        "print(N)\n",
        "flag=True\n",
        "ini=0; fin=N//2;inc=1\n",
        "for i in range(ini, fin,inc):\n",
        "  if lista[i]!= lista[N-1-i]:\n",
        "    flag=False\n",
        "print(flag)"
      ],
      "execution_count": null,
      "outputs": []
    },
    {
      "cell_type": "code",
      "metadata": {
        "id": "DjVBdznOPQfy"
      },
      "source": [
        "#P5-Desarrollar un programa que a partir de dos listas, determine que\n",
        "# elementos tiene la primer lista que no tenga la segunda lista (dif)\n",
        "#VE: lista, lista2\n",
        "#VS: lista,   lista = lista dif lista2\n",
        "#lista=['anita', 'luis', 'hugo','paco', 'carl', 'luis', 'anita']\n",
        "#lista2=['luis', 'paco', 'hugo']\n",
        "lista=[1, 'Hola', -12.3, True]\n",
        "lista2=[11,-12.3,'Hola', False]\n",
        "for elem in lista2:\n",
        "  if elem in lista:\n",
        "    lista.remove(elem)\n",
        "print(lista)"
      ],
      "execution_count": null,
      "outputs": []
    },
    {
      "cell_type": "code",
      "metadata": {
        "id": "DklY1VzXSqfw"
      },
      "source": [
        "#P6 intersection, elementos comunes a lista1 y lista2\n",
        "#VE: lista1, lista2\n",
        "#VS: lista,   lista = lista1 interseccion lista2\n",
        "lista1=['anita', 'hugo','paco', 'carl', 'luis', 'jose','juan','sara','nora','lina']\n",
        "lista2=['luis', 'paco', 'hugo','pepito','jose','mery']\n",
        "lista=[]\n",
        "for elem in lista2:\n",
        "  if elem in lista1:\n",
        "    lista.append(elem)\n",
        "print(lista)"
      ],
      "execution_count": null,
      "outputs": []
    },
    {
      "cell_type": "code",
      "metadata": {
        "id": "6yJP_IhTNbDt"
      },
      "source": [
        "#P7 union de dos listas\n",
        "#VE: lista, lista1\n",
        "#VS: lista, lista= lista union lista1     (sin repeticiones)\n",
        "lista=['anita', 'hugo','paco', 'carl', 'luis', 'jose','juan','sara','nora','lina']\n",
        "lista1=['luis', 'paco', 'hugo','pepito','jose','mery']\n",
        "for elem in lista1:\n",
        "  if elem not in lista:\n",
        "    lista.append(elem)\n",
        "print(lista)"
      ],
      "execution_count": null,
      "outputs": []
    }
  ]
}