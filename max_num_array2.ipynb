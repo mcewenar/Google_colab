{
  "nbformat": 4,
  "nbformat_minor": 0,
  "metadata": {
    "colab": {
      "provenance": [],
      "authorship_tag": "ABX9TyNsPtnDvAR/pgEoU65YRRJ/",
      "include_colab_link": true
    },
    "kernelspec": {
      "name": "python3",
      "display_name": "Python 3"
    },
    "language_info": {
      "name": "python"
    }
  },
  "cells": [
    {
      "cell_type": "markdown",
      "metadata": {
        "id": "view-in-github",
        "colab_type": "text"
      },
      "source": [
        "<a href=\"https://colab.research.google.com/github/mcewenar/Google_colab/blob/master/max_num_array2.ipynb\" target=\"_parent\"><img src=\"https://colab.research.google.com/assets/colab-badge.svg\" alt=\"Open In Colab\"/></a>"
      ]
    },
    {
      "cell_type": "code",
      "execution_count": 6,
      "metadata": {
        "colab": {
          "base_uri": "https://localhost:8080/"
        },
        "id": "VZ8Q3QE2-i_X",
        "outputId": "f768a81f-dff5-41a1-a7d5-0f58fde8059f"
      },
      "outputs": [
        {
          "output_type": "stream",
          "name": "stdout",
          "text": [
            "745\n"
          ]
        }
      ],
      "source": [
        "array = [1,4,6,2,745,23,1,56,42,72,13,745,65,65]\n",
        "\n",
        "max = array[0]\n",
        "for i in array:\n",
        "    if i > max:\n",
        "        max = i\n",
        "print(max)\n"
      ]
    },
    {
      "cell_type": "code",
      "source": [],
      "metadata": {
        "id": "wuW-fGzE--ua"
      },
      "execution_count": null,
      "outputs": []
    }
  ]
}