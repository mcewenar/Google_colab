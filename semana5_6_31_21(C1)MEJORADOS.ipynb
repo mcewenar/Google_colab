{
  "nbformat": 4,
  "nbformat_minor": 0,
  "metadata": {
    "colab": {
      "name": "semana5_6-31-21(C1)MEJORADOS.ipynb",
      "provenance": [],
      "collapsed_sections": [],
      "include_colab_link": true
    },
    "kernelspec": {
      "name": "python3",
      "display_name": "Python 3"
    },
    "language_info": {
      "name": "python"
    }
  },
  "cells": [
    {
      "cell_type": "markdown",
      "metadata": {
        "id": "view-in-github",
        "colab_type": "text"
      },
      "source": [
        "<a href=\"https://colab.research.google.com/github/mcewenar/Google_colab/blob/master/semana5_6_31_21(C1)MEJORADOS.ipynb\" target=\"_parent\"><img src=\"https://colab.research.google.com/assets/colab-badge.svg\" alt=\"Open In Colab\"/></a>"
      ]
    },
    {
      "cell_type": "code",
      "metadata": {
        "id": "LVE9isUgVxWO",
        "colab": {
          "base_uri": "https://localhost:8080/"
        },
        "outputId": "7e6d5c63-2d25-44e7-e2fa-c1b149038b46"
      },
      "source": [
        "# diccionario: Una coleccion de parejas <clave-valor> relaciona un par de objetos, \n",
        "#con la clave se identifica o localiza a un objeto, y el valor es el objeto consultado.\n",
        "ejem={\n",
        "\"Nombre\": \"Douglas\",\n",
        "\"Apellido\": \"Crockford\",\n",
        "\"pasatiempos\": [\"trotar\", \"bucear\", \"cantar\"],\n",
        "\"edad\": 64,\n",
        "\"empleado\": False,\n",
        "'jefe': None,\n",
        "\"hijos\": [\n",
        "{\"Nombre\": \"Alice\", \"edad\": 16},\n",
        "{\"Nombre\": \"Bob\", \"edad\": 8}\n",
        "]\n",
        "}\n",
        "print(ejem)"
      ],
      "execution_count": null,
      "outputs": [
        {
          "output_type": "stream",
          "text": [
            "{'Nombre': 'Douglas', 'Apellido': 'Crockford', 'pasatiempos': ['trotar', 'bucear', 'cantar'], 'edad': 64, 'empleado': False, 'jefe': None, 'hijos': [{'Nombre': 'Alice', 'edad': 16}, {'Nombre': 'Bob', 'edad': 8}]}\n"
          ],
          "name": "stdout"
        }
      ]
    },
    {
      "cell_type": "code",
      "metadata": {
        "colab": {
          "base_uri": "https://localhost:8080/"
        },
        "id": "9JyHEG6a9_zF",
        "outputId": "f39480f7-5240-4110-f993-121a4e845759"
      },
      "source": [
        "#metodo dump(), Serializacion para escribir datos a un archivo\n",
        "import json\n",
        "def leerArch(path):\n",
        "  with open(path, 'r') as f:\n",
        "    data = f.read()\n",
        "  return data\n",
        "\n",
        "data = {\n",
        "\"cientifico\": {\n",
        "'nombre': \"Alan Mathison Turing\",\n",
        "'edad': None}\n",
        "}\n",
        "print(data)\n",
        "path=\"files/data_file2.json\"\n",
        "with open(path, \"w\") as wF:\n",
        "  json.dump(data, wF)\n",
        "#Comprobacion\n",
        "print(leerArch(path))"
      ],
      "execution_count": null,
      "outputs": [
        {
          "output_type": "stream",
          "text": [
            "{'cientifico': {'nombre': 'Alan Mathison Turing', 'edad': None}}\n",
            "{\"cientifico\": {\"nombre\": \"Alan Mathison Turing\", \"edad\": null}}\n"
          ],
          "name": "stdout"
        }
      ]
    },
    {
      "cell_type": "code",
      "metadata": {
        "colab": {
          "base_uri": "https://localhost:8080/"
        },
        "id": "7q4dYHOA9b3e",
        "outputId": "4048cfda-bb6e-45dd-e158-e8f0321474d8"
      },
      "source": [
        "#Serializacion a texto\n",
        "dato = {\n",
        "'cientifico': {\n",
        "\"nombre\": \"Alan Mathison Turing\",\n",
        "\"edad\": None\n",
        "}\n",
        "}\n",
        "print(type(dato))#diccionario\n",
        "json_string = json.dumps(dato)\n",
        "print( type(json_string),'\\n',json_string)"
      ],
      "execution_count": null,
      "outputs": [
        {
          "output_type": "stream",
          "text": [
            "<class 'dict'>\n",
            "<class 'str'> \n",
            " {\"cientifico\": {\"nombre\": \"Alan Mathison Turing\", \"edad\": null}}\n"
          ],
          "name": "stdout"
        }
      ]
    },
    {
      "cell_type": "code",
      "metadata": {
        "colab": {
          "base_uri": "https://localhost:8080/"
        },
        "id": "_o3TVeXrAiMk",
        "outputId": "4a191486-02cd-48b2-bdd1-20433276296c"
      },
      "source": [
        "#indent=4    Argumentos del metodo dump()\n",
        "data = {\n",
        "\"cientifico\": {\n",
        "\"nombre\": \"Alan Mathison Turing\",\n",
        "\"edad\": \"41\"\n",
        "}\n",
        "}\n",
        "json_string = json.dumps(data, indent=2)\n",
        "print(json_string)\n",
        "print(type(json_string))"
      ],
      "execution_count": null,
      "outputs": [
        {
          "output_type": "stream",
          "text": [
            "{\n",
            "  \"cientifico\": {\n",
            "    \"nombre\": \"Alan Mathison Turing\",\n",
            "    \"edad\": \"41\"\n",
            "  }\n",
            "}\n",
            "<class 'str'>\n"
          ],
          "name": "stdout"
        }
      ]
    },
    {
      "cell_type": "code",
      "metadata": {
        "colab": {
          "base_uri": "https://localhost:8080/"
        },
        "id": "RQM3D8FNAt4s",
        "outputId": "474e6023-5eb5-448b-ce50-b128e7eefcb1"
      },
      "source": [
        "#Deserializacion: Es cargar una estructura JSON desde un archivo \n",
        "with open(\"files/data_file2.json\", \"r\") as rF:\n",
        "  dato = json.load(rF) #load deserializa, diccionario\n",
        "print(dato[\"cientifico\"])"
      ],
      "execution_count": null,
      "outputs": [
        {
          "output_type": "stream",
          "text": [
            "{'nombre': 'Alan Mathison Turing', 'edad': None}\n"
          ],
          "name": "stdout"
        }
      ]
    },
    {
      "cell_type": "code",
      "metadata": {
        "colab": {
          "base_uri": "https://localhost:8080/"
        },
        "id": "qInhKwmXBdU1",
        "outputId": "12eea6b6-faa1-40ae-bdce-32d90498a82f"
      },
      "source": [
        "#Deserializacion desde texto loads()\n",
        "#Es posible cargar un archivo de JSON desde un string. \n",
        "# se crea un string (en dos lineas por espacio, para esto se encierra\n",
        "#entre tres comillas simples '''), \n",
        "#se carga el objeto JSON a la variable data \n",
        "json_string = '''{\"cientifico\":\n",
        "{\"nombre\":\"Alan Mathison Turing\", \"children\": null}}'''\n",
        "print(json_string)\n",
        "data = json.loads(json_string)\n",
        "print(data) #diferencias?"
      ],
      "execution_count": null,
      "outputs": [
        {
          "output_type": "stream",
          "text": [
            "{\"cientifico\":\n",
            "{\"nombre\":\"Alan Mathison Turing\", \"children\": null}}\n",
            "{'cientifico': {'nombre': 'Alan Mathison Turing', 'children': None}}\n"
          ],
          "name": "stdout"
        }
      ]
    },
    {
      "cell_type": "code",
      "metadata": {
        "colab": {
          "base_uri": "https://localhost:8080/"
        },
        "id": "llu7iTw3CIqO",
        "outputId": "5371c871-e53c-4d1e-f333-f322a45a15e8"
      },
      "source": [
        "#Conversion de objeto Json a estructura Python\n",
        "import json\n",
        "from pprint import pprint\n",
        "strjson = '''{\n",
        "\"boolean1\": null,\n",
        "\"dicciona\": {\"papa\": 2000, \"arroz\": 5000},\n",
        "\"intValue\": 0, \"myList\": [],\n",
        "\"myList2\":[\"info1\", \"info2\"],\n",
        "\"littleboolean\": false, \"myEmptyList\": null,\n",
        "\"text1\": null, \"text2\": \"hello\", \"value1\": null,\n",
        "\"value2\": null}'''\n",
        "data1 = json.loads(strjson)\n",
        "print(data1,'\\n')\n",
        "pprint(data1) #que hace pretty print?"
      ],
      "execution_count": null,
      "outputs": [
        {
          "output_type": "stream",
          "text": [
            "{'boolean1': None, 'dicciona': {'papa': 2000, 'arroz': 5000}, 'intValue': 0, 'myList': [], 'myList2': ['info1', 'info2'], 'littleboolean': False, 'myEmptyList': None, 'text1': None, 'text2': 'hello', 'value1': None, 'value2': None} \n",
            "\n",
            "{'boolean1': None,\n",
            " 'dicciona': {'arroz': 5000, 'papa': 2000},\n",
            " 'intValue': 0,\n",
            " 'littleboolean': False,\n",
            " 'myEmptyList': None,\n",
            " 'myList': [],\n",
            " 'myList2': ['info1', 'info2'],\n",
            " 'text1': None,\n",
            " 'text2': 'hello',\n",
            " 'value1': None,\n",
            " 'value2': None}\n"
          ],
          "name": "stdout"
        }
      ]
    },
    {
      "cell_type": "code",
      "metadata": {
        "id": "hQZFOFnBCZkc"
      },
      "source": [
        "#Consultas a la variable data1\n",
        "print(data1['text2'], '\\t',type(data1[\"text2\"])) #string\n",
        "print(data1[\"text1\"], type(data1[\"text1\"])) #None\n",
        "print(data1[\"intValue\"], type(data1[\"intValue\"])) #int\n",
        "print(data1[\"myList\"], type(data1[\"myList\"])) # list"
      ],
      "execution_count": null,
      "outputs": []
    },
    {
      "cell_type": "code",
      "metadata": {
        "colab": {
          "base_uri": "https://localhost:8080/"
        },
        "id": "oQyQoVtkoYcY",
        "outputId": "687c7bab-e3b0-4b1a-a06c-e95599410c70"
      },
      "source": [
        "print(data1[\"myList2\"], type(data1[\"myList2\"])) #list\n",
        "print(data1[\"dicciona\"], type(data1[\"dicciona\"])) #dict\n",
        "print(data1[\"myList2\"][1]) #str\n",
        "print(data1[\"dicciona\"][\"arroz\"]) #doble subindice"
      ],
      "execution_count": null,
      "outputs": [
        {
          "output_type": "stream",
          "text": [
            "['info1', 'info2'] <class 'list'>\n",
            "{'papa': 2000, 'arroz': 5000} <class 'dict'>\n",
            "info2\n",
            "5000\n"
          ],
          "name": "stdout"
        }
      ]
    },
    {
      "cell_type": "code",
      "metadata": {
        "id": "tNriDp90CiEF"
      },
      "source": [
        "#libreria requests para leer archivos JSON desde internet\n",
        "import json\n",
        "import requests\n",
        "from pprint import pprint\n",
        "url= \"https://jsonplaceholder.typicode.com/todos\"\n",
        "resp = requests.get(url)\n",
        "pendientes = json.loads(resp.text)\n",
        "#pprint(pendientes)"
      ],
      "execution_count": null,
      "outputs": []
    },
    {
      "cell_type": "code",
      "metadata": {
        "colab": {
          "base_uri": "https://localhost:8080/"
        },
        "id": "VdeX4GygDNf1",
        "outputId": "9e795af5-9fa7-468a-ffa5-91d74b31d058"
      },
      "source": [
        "#Analizando la estructura de un Json\n",
        "#pendientes[:2] #retorna una rebanada con las 2 primeras entradas\n",
        "pendientes[-2:] # retorna una rebanada con las 2 ultimas"
      ],
      "execution_count": null,
      "outputs": [
        {
          "output_type": "execute_result",
          "data": {
            "text/plain": [
              "[{'completed': True,\n",
              "  'id': 199,\n",
              "  'title': 'numquam repellendus a magnam',\n",
              "  'userId': 10},\n",
              " {'completed': False,\n",
              "  'id': 200,\n",
              "  'title': 'ipsam aperiam voluptates qui',\n",
              "  'userId': 10}]"
            ]
          },
          "metadata": {
            "tags": []
          },
          "execution_count": 17
        }
      ]
    },
    {
      "cell_type": "code",
      "metadata": {
        "id": "KbeaK31wHOpr"
      },
      "source": [
        "#Validacion de objetos con formato JSON en el sitio https://jsonlint.com/\n",
        "#slice, notacion [ini:fin:incr]  similar al range()"
      ],
      "execution_count": null,
      "outputs": []
    },
    {
      "cell_type": "code",
      "metadata": {
        "colab": {
          "base_uri": "https://localhost:8080/"
        },
        "id": "czmOvQ3kHaBe",
        "outputId": "b31354f2-7fba-4e3f-be1c-c8768e9f5768"
      },
      "source": [
        "#P1-Para el diccionario JSON con la estructura mostrada\n",
        "#cree un programa que lea de un archivo con estructura JSON e\n",
        "#imprima los nombres completos (nombre y apellidos) de las personas\n",
        "#que practican el deporte ingresado por el usuario.\n",
        "import json\n",
        "data={\n",
        "\"jadiazcoronado\":{\n",
        "\"nombres\": \"Juan Antonio\",\n",
        "\"apellidos\": \"Diaz Coronado\",\n",
        "\"edad\":19,\n",
        "\"colombiano\":True,\n",
        "\"deportes\":[\"Futbol\",\"Ajedrez\",\"Gimnasia\"]\n",
        "},\n",
        "\"dmlunasol\":{\n",
        "\"nombres\": \"Dorotea Maritza\",\n",
        "\"apellidos\": \"Luna Sol\",\n",
        "\"edad\":25,\n",
        "'colombiano':False,\n",
        "'deportes':[\"Baloncesto\",\"Ajedrez\",\"Gimnasia\"]}}\n",
        "\n",
        "path=\"files/data_file0.json\"\n",
        "#with open(path, \"w\") as wfile:\n",
        "#  json.dump(data, wfile)\n",
        "\n",
        "with open(path, \"r\") as rfile:\n",
        "  dat = json.load(rfile)\n",
        "deporte= input('Ingrese deporte: ')#Futbol, \"Ajedrez\" o 'Gimnasia' \"Baloncesto\"\n",
        "#estrategia: leer cada item del diccionario dat y voy a buscar 'Futbol' entre dat[deportes]\n",
        "#for kk, vv in dat.items(): #coleccion de 2 entradas y cada entrada es un dicci q tiene k, v\n",
        "a=dat.values()\n",
        "#print(type(a), a)\n",
        "for vv in dat.values():\n",
        "#  lis_deportes= vv['deportes']\n",
        "  lis_deportes= vv.get('deportes')\n",
        "  if deporte in lis_deportes:\n",
        "    print(vv['nombres'], vv['apellidos'])\n",
        "print('fin')\n",
        "# for vv in dat.values()\n",
        "# for kk in dat.keys()"
      ],
      "execution_count": null,
      "outputs": [
        {
          "output_type": "stream",
          "text": [
            "Ingrese deporte: Gimnasia\n",
            "Juan Antonio Diaz Coronado\n",
            "Dorotea Maritza Luna Sol\n",
            "fin\n"
          ],
          "name": "stdout"
        }
      ]
    },
    {
      "cell_type": "code",
      "metadata": {
        "colab": {
          "base_uri": "https://localhost:8080/"
        },
        "id": "OYl2n8I5H2sx",
        "outputId": "fc791f9a-c241-4ab1-c71f-2841f8cbf81a"
      },
      "source": [
        "#P2-Imprima los nombres completos (nombre y apellidos) de las personas\n",
        "#que esten en un rango de edades dado por el usuario.\n",
        "edadMin=int(input('Ingrese edad minima: '))\n",
        "edadMax=int(input('Ingrese edad Maxima: '))\n",
        "\n",
        "with open(path, \"r\") as rfile:\n",
        "  data = json.load(rfile) #load() deserializa\n",
        "\n",
        "for  v in data.values():\n",
        "  #vEdad= v['edad'] #25\n",
        "  vEdad = v.get('edad')\n",
        "  if edadMin <= vEdad <= edadMax:\n",
        "    #print(v['nombres'], v['apellidos']\n",
        "    print(v.get('nombres'),  v.get('apellidos'))"
      ],
      "execution_count": null,
      "outputs": [
        {
          "output_type": "stream",
          "text": [
            "Ingrese edad minima: 20\n",
            "Ingrese edad Maxima: 30\n",
            "Dorotea Maritza Luna Sol\n"
          ],
          "name": "stdout"
        }
      ]
    },
    {
      "cell_type": "code",
      "metadata": {
        "colab": {
          "base_uri": "https://localhost:8080/"
        },
        "id": "i9mGcB8PH9sI",
        "outputId": "80e90699-19f5-4ac8-8c1b-f60de30f822d"
      },
      "source": [
        "#P3-Cree un diccionario JSON de deportes como sigue:\n",
        "import json\n",
        "from pprint import pprint\n",
        "deporte1={\n",
        "  \"Ajedrez\":[\"gasparov\",\"fabioCasas\"],\n",
        "  \"Gimnasia\":[\"GilbertoSerna\",\"dmlunasol\"],\n",
        "  'Natacion':['LilianaObando', 'MarthaAcevedo', 'LorenaUribe'],\n",
        "  \"Ciclismo\":[\"LinaBuitrago\",\"Bibiana\",\"RubielMartinez\"]\n",
        "  }\n",
        "path=\"files/deportes1_file.json\"\n",
        "with open(path, \"w\") as wfile:\n",
        "  json.dump(deporte1, wfile)\n",
        "\n",
        "deporte2={\n",
        "  \"Ajedrez\":[\"gasparov\",'fabioCasas'],\n",
        "  \"Futbol\":[\"jadiazcoronado\",'RubenAmaya'],\n",
        "  'Ciclismo':['LinaBuitrago','julian','RubielMartinez'],\n",
        "  'Natacion':['LilianaObando', 'MarthaAcevedo', 'LorenaUribe']\n",
        "  }\n",
        "path2=\"files/deportes2_file.json\"\n",
        "with open(path2, \"w\") as wfile:\n",
        "  json.dump(deporte2, wfile)\n",
        "\n",
        "#Comprobacion\n",
        "print('arch1')\n",
        "with open(path, \"r\") as rfile:\n",
        "  deporte1=json.load( rfile)\n",
        "pprint(deporte1) #{'Ajedrez': ['jadiazcoronado', 'fabioCasas', 'dmlunasol'], 'Futbol': ['jadiazcoronado', 'RubenAmaya'], 'Gimnasia': ['GilbertoSerna', 'dmlunasol'], 'Ciclismo': ['ALU', 'LinaBuitrago', 'Bibiana', 'RubielMartinez'], 'Baloncesto': ['dmlunasol', 'plo', 'rFrancoA', 'OrlandoLuna', 'cza']}\n",
        "print('arch2')\n",
        "with open(path2, \"r\") as rfile:\n",
        "  deporte2=json.load( rfile)\n",
        "pprint(deporte2)"
      ],
      "execution_count": null,
      "outputs": [
        {
          "output_type": "stream",
          "text": [
            "arch1\n",
            "{'Ajedrez': ['gasparov', 'fabioCasas'],\n",
            " 'Ciclismo': ['LinaBuitrago', 'Bibiana', 'RubielMartinez'],\n",
            " 'Gimnasia': ['GilbertoSerna', 'dmlunasol'],\n",
            " 'Natacion': ['LilianaObando', 'MarthaAcevedo', 'LorenaUribe']}\n",
            "arch2\n",
            "{'Ajedrez': ['gasparov', 'fabioCasas'],\n",
            " 'Ciclismo': ['LinaBuitrago', 'julian', 'RubielMartinez'],\n",
            " 'Futbol': ['jadiazcoronado', 'RubenAmaya'],\n",
            " 'Natacion': ['LilianaObando', 'MarthaAcevedo', 'LorenaUribe']}\n"
          ],
          "name": "stdout"
        }
      ]
    },
    {
      "cell_type": "code",
      "metadata": {
        "colab": {
          "base_uri": "https://localhost:8080/"
        },
        "id": "an6HMN71IJ1c",
        "outputId": "42e8f5c9-aed9-4dc1-c0dc-c7d1f5f72e3f"
      },
      "source": [
        "#P4-Desarrolle un programa que lea dos archivos JSON, y encuentre los\n",
        "#componentes <clave:valor> que son iguales en ambos. Genere un nuevo\n",
        "#archivo JSON con las coincidencias exactas entre los dos archivos.\n",
        "path=\"files/deportes1_file.json\"\n",
        "with open(path, \"r\") as rf:\n",
        "  depor1=json.load(rf)\n",
        "\n",
        "path=\"files/deportes2_file.json\"\n",
        "with open(path, \"r\") as rfile:\n",
        "  depor2 = json.load(rfile)\n",
        "#Estrategia: recorrer depor2, extraer uno a uno sus items y irlos comparando contra \n",
        "#los items de depor1, primero comparo las llaves calzan, si es asi\n",
        "#empiezo a comparar sus respectivos valores, para esto requiero otro for .. int\n",
        "#si llaves y valores calzan, prendo una bandera hayCalce, que servira para indicar \n",
        "#que debo incluir ese item en la salida, que la construyo primero como una lista y al\n",
        "#final la convierto en diccionario y lo escribo al archivo json\n",
        "\n",
        "resp=[] #mi lista de salida\n",
        "for k2, v2 in depor2.items(): #for externo\n",
        "  if k2 in depor1: #las llaves de ambos diccionarios calzan\n",
        "    for nom2 in v2: #for int\n",
        "      if nom2 in depor1[k2]: #aqui verifico si los los nombres calzan tambien\n",
        "        hayCalce=True\n",
        "      else:\n",
        "        hayCalce=False\n",
        "        break #si algun nombre no calza, no verifica si los restantes nombres correspon a esa llave\n",
        "  else:\n",
        "    hayCalce=False #en caso que las llaves no calzan\n",
        "  if hayCalce:\n",
        "    coincidencia=[(k2,v2)]\n",
        "    resp.extend(coincidencia)#crea una entrada en la lista de salida\n",
        "salida=dict(resp)\n",
        "#print(salida)\n",
        "\n",
        "path=\"files/coincidencias.json\"\n",
        "with open(path, \"w\") as wfile:\n",
        "  json.dump(salida, wfile)\n",
        "#comprobacion\n",
        "with open(path, \"r\") as rfile:\n",
        "  aa=json.load( rfile)\n",
        "pprint(aa)\n"
      ],
      "execution_count": null,
      "outputs": [
        {
          "output_type": "stream",
          "text": [
            "{'Ajedrez': ['gasparov', 'fabioCasas'],\n",
            " 'Natacion': ['LilianaObando', 'MarthaAcevedo', 'LorenaUribe']}\n"
          ],
          "name": "stdout"
        }
      ]
    },
    {
      "cell_type": "code",
      "metadata": {
        "colab": {
          "base_uri": "https://localhost:8080/"
        },
        "id": "s0g5piIzIb7F",
        "outputId": "c4583875-0a35-441f-e036-5d4fe2414c73"
      },
      "source": [
        "#P5-Desarrolle un programa que lea un archivo JSON, en el cual se\n",
        "#encuentran las notas de los estudiantes del curso. Cada llave\n",
        "#corresponde al codigo de cada estudiante, y su valor es una lista con\n",
        "#las notas obtenidas en las actividades del curso. Se debe generar un\n",
        "#nuevo archivo JSON que para cada uno de los estudiantes solo guarde el\n",
        "#promedio de las notas obtenidas.\n",
        "notas={'b':[3.5, 3.8, 4.2],\n",
        "       'd':[3.1, 4.8, 4.0],\n",
        "       'a':[4.5, 4.8, 3.2],\n",
        "       'c':[3.3, 2.8, 3.2],\n",
        "       'g':[3.6, 3.4, 3.7]}\n",
        "def promedio(lNotas):\n",
        "  n=len(lNotas)\n",
        "  s=0\n",
        "  for x in lNotas:\n",
        "    s+=x\n",
        "  prom=s/n\n",
        "  return prom\n",
        "path='files/notasCurso.json'\n",
        "with open(path, \"w\") as wfile:\n",
        "  json.dump(notas, wfile)\n",
        "#-----------------------\n",
        "with open(path, \"r\") as rfile:\n",
        "  diccNotas=json.load( rfile) #diccNotas es un diccionario\n",
        "  #_______________\n",
        "lista=[]\n",
        "for id, lNotas in diccNotas.items():\n",
        "  prome = promedio(lNotas) #V es una lista\n",
        "  ll=[(id, prome)]\n",
        "  lista.extend(ll)\n",
        "dSalida = dict(lista)\n",
        "\n",
        "path1='files/promedioCurso.json'\n",
        "with open(path1, \"w\") as wfile:\n",
        "  json.dump(dSalida, wfile)\n",
        "#comprobacion\n",
        "with open(path1, \"r\") as rfile:\n",
        "  diccProme=json.load( rfile)\n",
        "pprint(diccProme) "
      ],
      "execution_count": null,
      "outputs": [
        {
          "output_type": "stream",
          "text": [
            "{'a': 4.166666666666667,\n",
            " 'b': 3.8333333333333335,\n",
            " 'c': 3.1,\n",
            " 'd': 3.966666666666667,\n",
            " 'g': 3.5666666666666664}\n"
          ],
          "name": "stdout"
        }
      ]
    },
    {
      "cell_type": "code",
      "metadata": {
        "colab": {
          "base_uri": "https://localhost:8080/"
        },
        "id": "5j9iJTCMIlWG",
        "outputId": "1acb23f9-8bba-40d0-e56c-9a3705053ec0"
      },
      "source": [
        "#P6-Desarrollar un programa que lea un archivo JSON que contiene una\n",
        "#serie de cadenas de caracteres en minuscula, cada una con su propia\n",
        "#llave. Estas llaves tienen una codificacion, a forma de encriptacion, en\n",
        "#donde las vocales estan descritas como otros simbolos: $ en vez de a,\n",
        "## en vez de e, * en vez de i, ¬ en vez de o, y + en vez de u. Una vez\n",
        "#leido el archivo, realice una desencriptacion de todas las cadenas, es\n",
        "#decir, convierta los simbolos a sus vocales correspondientes (si la\n",
        "#cadena de entrada es \"h¬l$\", la cadena resultante seria \"hola\"), y\n",
        "#guarde el resultado en un nuevo archivo JSON.\n",
        "import json\n",
        "equivale={'$':'a', '#':'e', '*':'i', '¬':'o', '+':'u'}\n",
        "encriptado={'n¬mbr#':['s$r$', 'm$r*n'],'#st+d*¬s':['s*c¬l¬g*$','n+tr*c*¬n'],'#mpr#s$s':['h¬sp*t$l','cl*n*c$'],'c+mpl#$ñ¬s':['#n#r¬','01']}\n",
        "path='files/encriptado.json'\n",
        "with open(path, \"w\") as wfile:\n",
        "  json.dump(encriptado, wfile)\n",
        "#------------\n",
        "with open(path, \"r\") as rfile:\n",
        "  leido=json.load(rfile)\n",
        "pprint(leido) #leido es un diccionario\n",
        "#----------------desencriptacion de vocales\n",
        "lista=[]\n",
        "for k, v in leido.items():  #k, v son string type, proceso un item encriptado\n",
        "  for kq, vq in equivale.items(): #for in leo diccoin equivalencias\n",
        "    k = k.replace(kq, vq) # desencripta las claves \n",
        "    for i in range(len(v)):#for mas int  ... 0, 1\n",
        "      v[i] = v[i].replace(kq,vq) #desencripta valores\n",
        "  n_item =[(k, v)]\n",
        "  lista.extend(n_item)\n",
        "sali=dict(lista)\n",
        "#------------- \n",
        "path2='files/desencriptado.json'\n",
        "with open(path2, \"w\") as wfi:\n",
        "  json.dump(sali, wfi)\n",
        "#comprobacion\n",
        "with open(path2, \"r\") as rfile:\n",
        "  leido2=json.load(rfile)\n",
        "print('\\n')\n",
        "pprint(leido2)\n"
      ],
      "execution_count": null,
      "outputs": [
        {
          "output_type": "stream",
          "text": [
            "{'#mpr#s$s': ['h¬sp*t$l', 'cl*n*c$'],\n",
            " '#st+d*¬s': ['s*c¬l¬g*$', 'n+tr*c*¬n'],\n",
            " 'c+mpl#$ñ¬s': ['#n#r¬', '01'],\n",
            " 'n¬mbr#': ['s$r$', 'm$r*n']}\n",
            "\n",
            "\n",
            "{'cumpleaños': ['enero', '01'],\n",
            " 'empresas': ['hospital', 'clinica'],\n",
            " 'estudios': ['sicologia', 'nutricion'],\n",
            " 'nombre': ['sara', 'marin']}\n"
          ],
          "name": "stdout"
        }
      ]
    },
    {
      "cell_type": "code",
      "metadata": {
        "colab": {
          "base_uri": "https://localhost:8080/"
        },
        "id": "1pGTAfx2E7we",
        "outputId": "be420a0f-61f2-4257-fae1-68d406529982"
      },
      "source": [
        "#Filtrar informacion, Saber cuantas tareas se han completado por cada usuario\n",
        "#Es posible observar que hay varios usuarios cada uno con un identificador\n",
        "#unico y cada tarea tiene un estado que indica si la tarea se completo o no.\n",
        "#Procesaremos este dicc \"pendientes\" para obtener:\n",
        "#cuantas tareas ha completado cada usuario y establecer los usuarios que mas tareas han completado.\n",
        "#plan: ....\n",
        "#1-Contar cuantas tareas ha completado cada usuario.\n",
        "#2- Ordenar el conteo de tareas pendientes que se han completado en orden descend\n",
        "#3 Escoger los usuarios que tienen el mismo numero de tareas maximo.\n",
        "pendientes_por_usuario= {} # dictionario: k=userId; v= contador\n",
        "# Lleva un conteo de los pendientes que ha completado cada usuario\n",
        "for pendiente in pendientes: # 200 items es un dicc\n",
        "  if pendiente[\"completed\"]==True: # si el valor de la llave completed es verdadero\n",
        "    if pendiente[\"userId\"] not in pendientes_por_usuario: #si ya lo inclui antes\n",
        "      pendientes_por_usuario[pendiente[\"userId\"]] = 1 #si no existe, crea la entrada, contador en 1\n",
        "    else:\n",
        "      pendientes_por_usuario[pendiente[\"userId\"]] += 1 #incr contador, modifica la entrada\n",
        "print('pendientes por usuario: ', pendientes_por_usuario)\n",
        "\n",
        "#2- ordenar dictionario en orden descend por valor (contador)\n",
        "items_ordenados = sorted(pendientes_por_usuario.items(),\n",
        "  key=lambda x: x[1], reverse=True)\n",
        "print('lista de tupas ordenadas x contador: ', items_ordenados[0:3])\n",
        "\n",
        "#3-Escoger los usuarios que tienen nro max de tareas\n",
        "usuarios = []\n",
        "maximas_tareas_completadas = items_ordenados[0][1] #de la primera entrada, obtenga el contador\n",
        "for usuario, num_tareas_completas in items_ordenados: #Coleccion:items_ordenados\n",
        "  if num_tareas_completas == maximas_tareas_completadas:\n",
        "    usuarios.append(str(usuario))\n",
        "  else:\n",
        "    break\n",
        "print('usuarios: ', usuarios)\n",
        "\n",
        "usuarios_con_max = \" y \".join(usuarios)\n",
        "print(\"los usuarios\", usuarios_con_max, end=' ')# 1a parte\n",
        "print(\"han completado \", maximas_tareas_completadas, \"tareas\") #continuacion"
      ],
      "execution_count": null,
      "outputs": [
        {
          "output_type": "stream",
          "text": [
            "pendientes por usuario:  {1: 11, 2: 8, 3: 7, 4: 6, 5: 12, 6: 6, 7: 9, 8: 11, 9: 8, 10: 12}\n",
            "lista de tupas ordenadas x contador:  [(5, 12), (10, 12), (1, 11)]\n",
            "usuarios:  ['5', '10']\n",
            "los usuarios 5 y 10 han completado  12 tareas\n"
          ],
          "name": "stdout"
        }
      ]
    },
    {
      "cell_type": "code",
      "metadata": {
        "colab": {
          "base_uri": "https://localhost:8080/"
        },
        "id": "UxsFZTAdGKwc",
        "outputId": "b68e347e-b6e1-4b4c-d098-19af73ede626"
      },
      "source": [
        "# Filtrar las tareas de los usuarios que han hecho la mayor cantidad\n",
        "#de pendientes completados [5 y 10] y escribirlas en un archivo json. \n",
        "#Nos apoyaremos de la funcion filter que determina a traves de una funcion\n",
        "#que retorna un booleano, si incluir al elemento en la lista de salida o no\n",
        "def filtro(pendientes):\n",
        "  esta_completa:bool = pendientes[\"completed\"]\n",
        "  esta_en_el_maximo_conteo:bool = str(pendientes[\"userId\"]) in usuarios #usuarios:  ['5', '10']\n",
        "  resp:bool= esta_completa and esta_en_el_maximo_conteo\n",
        "  return resp\n",
        "\n",
        "def leerArch(path):\n",
        "  modo='r'\n",
        "  with open(path, modo) as f:\n",
        "    data = f.read()\n",
        "  return data\n",
        "tareas_filtradas = list(filter(filtro, pendientes))#selecciona las pendientes q cumplen el filtro\n",
        "path=\"files/tareas_filtradas.json\"\n",
        "with open(path, \"w\") as archivo_salida:\n",
        "  json.dump(tareas_filtradas, archivo_salida, indent=2)\n",
        "print(leerArch(path))"
      ],
      "execution_count": null,
      "outputs": [
        {
          "output_type": "stream",
          "text": [
            "[\n",
            "  {\n",
            "    \"userId\": 5,\n",
            "    \"id\": 81,\n",
            "    \"title\": \"suscipit qui totam\",\n",
            "    \"completed\": true\n",
            "  },\n",
            "  {\n",
            "    \"userId\": 5,\n",
            "    \"id\": 83,\n",
            "    \"title\": \"quidem at rerum quis ex aut sit quam\",\n",
            "    \"completed\": true\n",
            "  },\n",
            "  {\n",
            "    \"userId\": 5,\n",
            "    \"id\": 85,\n",
            "    \"title\": \"et quia ad iste a\",\n",
            "    \"completed\": true\n",
            "  },\n",
            "  {\n",
            "    \"userId\": 5,\n",
            "    \"id\": 86,\n",
            "    \"title\": \"incidunt ut saepe autem\",\n",
            "    \"completed\": true\n",
            "  },\n",
            "  {\n",
            "    \"userId\": 5,\n",
            "    \"id\": 87,\n",
            "    \"title\": \"laudantium quae eligendi consequatur quia et vero autem\",\n",
            "    \"completed\": true\n",
            "  },\n",
            "  {\n",
            "    \"userId\": 5,\n",
            "    \"id\": 89,\n",
            "    \"title\": \"sequi ut omnis et\",\n",
            "    \"completed\": true\n",
            "  },\n",
            "  {\n",
            "    \"userId\": 5,\n",
            "    \"id\": 90,\n",
            "    \"title\": \"molestiae nisi accusantium tenetur dolorem et\",\n",
            "    \"completed\": true\n",
            "  },\n",
            "  {\n",
            "    \"userId\": 5,\n",
            "    \"id\": 91,\n",
            "    \"title\": \"nulla quis consequatur saepe qui id expedita\",\n",
            "    \"completed\": true\n",
            "  },\n",
            "  {\n",
            "    \"userId\": 5,\n",
            "    \"id\": 92,\n",
            "    \"title\": \"in omnis laboriosam\",\n",
            "    \"completed\": true\n",
            "  },\n",
            "  {\n",
            "    \"userId\": 5,\n",
            "    \"id\": 93,\n",
            "    \"title\": \"odio iure consequatur molestiae quibusdam necessitatibus quia sint\",\n",
            "    \"completed\": true\n",
            "  },\n",
            "  {\n",
            "    \"userId\": 5,\n",
            "    \"id\": 95,\n",
            "    \"title\": \"vel nihil et molestiae iusto assumenda nemo quo ut\",\n",
            "    \"completed\": true\n",
            "  },\n",
            "  {\n",
            "    \"userId\": 5,\n",
            "    \"id\": 98,\n",
            "    \"title\": \"debitis accusantium ut quo facilis nihil quis sapiente necessitatibus\",\n",
            "    \"completed\": true\n",
            "  },\n",
            "  {\n",
            "    \"userId\": 10,\n",
            "    \"id\": 182,\n",
            "    \"title\": \"inventore saepe cumque et aut illum enim\",\n",
            "    \"completed\": true\n",
            "  },\n",
            "  {\n",
            "    \"userId\": 10,\n",
            "    \"id\": 183,\n",
            "    \"title\": \"omnis nulla eum aliquam distinctio\",\n",
            "    \"completed\": true\n",
            "  },\n",
            "  {\n",
            "    \"userId\": 10,\n",
            "    \"id\": 188,\n",
            "    \"title\": \"vel non beatae est\",\n",
            "    \"completed\": true\n",
            "  },\n",
            "  {\n",
            "    \"userId\": 10,\n",
            "    \"id\": 189,\n",
            "    \"title\": \"culpa eius et voluptatem et\",\n",
            "    \"completed\": true\n",
            "  },\n",
            "  {\n",
            "    \"userId\": 10,\n",
            "    \"id\": 190,\n",
            "    \"title\": \"accusamus sint iusto et voluptatem exercitationem\",\n",
            "    \"completed\": true\n",
            "  },\n",
            "  {\n",
            "    \"userId\": 10,\n",
            "    \"id\": 191,\n",
            "    \"title\": \"temporibus atque distinctio omnis eius impedit tempore molestias pariatur\",\n",
            "    \"completed\": true\n",
            "  },\n",
            "  {\n",
            "    \"userId\": 10,\n",
            "    \"id\": 193,\n",
            "    \"title\": \"rerum debitis voluptatem qui eveniet tempora distinctio a\",\n",
            "    \"completed\": true\n",
            "  },\n",
            "  {\n",
            "    \"userId\": 10,\n",
            "    \"id\": 195,\n",
            "    \"title\": \"rerum ex veniam mollitia voluptatibus pariatur\",\n",
            "    \"completed\": true\n",
            "  },\n",
            "  {\n",
            "    \"userId\": 10,\n",
            "    \"id\": 196,\n",
            "    \"title\": \"consequuntur aut ut fugit similique\",\n",
            "    \"completed\": true\n",
            "  },\n",
            "  {\n",
            "    \"userId\": 10,\n",
            "    \"id\": 197,\n",
            "    \"title\": \"dignissimos quo nobis earum saepe\",\n",
            "    \"completed\": true\n",
            "  },\n",
            "  {\n",
            "    \"userId\": 10,\n",
            "    \"id\": 198,\n",
            "    \"title\": \"quis eius est sint explicabo\",\n",
            "    \"completed\": true\n",
            "  },\n",
            "  {\n",
            "    \"userId\": 10,\n",
            "    \"id\": 199,\n",
            "    \"title\": \"numquam repellendus a magnam\",\n",
            "    \"completed\": true\n",
            "  }\n",
            "]\n"
          ],
          "name": "stdout"
        }
      ]
    }
  ]
}