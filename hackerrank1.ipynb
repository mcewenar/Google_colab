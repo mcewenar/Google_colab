{
  "nbformat": 4,
  "nbformat_minor": 0,
  "metadata": {
    "colab": {
      "name": "hackerrank1.ipynb",
      "provenance": [],
      "collapsed_sections": [],
      "authorship_tag": "ABX9TyPvTkDh3hI98egPSk2OZHPY",
      "include_colab_link": true
    },
    "kernelspec": {
      "name": "python3",
      "display_name": "Python 3"
    },
    "language_info": {
      "name": "python"
    }
  },
  "cells": [
    {
      "cell_type": "markdown",
      "metadata": {
        "id": "view-in-github",
        "colab_type": "text"
      },
      "source": [
        "<a href=\"https://colab.research.google.com/github/mcewenar/Google_colab/blob/master/hackerrank1.ipynb\" target=\"_parent\"><img src=\"https://colab.research.google.com/assets/colab-badge.svg\" alt=\"Open In Colab\"/></a>"
      ]
    },
    {
      "cell_type": "code",
      "execution_count": 5,
      "metadata": {
        "colab": {
          "base_uri": "https://localhost:8080/"
        },
        "id": "yCxrYBNqnWhL",
        "outputId": "d511fe89-b9d3-46d0-ff7a-818732dde29e"
      },
      "outputs": [
        {
          "output_type": "stream",
          "name": "stdout",
          "text": [
            "0.5\n",
            "0.333333\n",
            "0.166667\n"
          ]
        }
      ],
      "source": [
        "def plusMinus(arr):\n",
        "    # Write your code here\n",
        "    zero = neg = pos = 0\n",
        "    for i in arr:\n",
        "        if i == 0:\n",
        "            zero+=1\n",
        "        if i < 0:\n",
        "            neg+=1\n",
        "        if i > 0:\n",
        "            pos+=1\n",
        "    length = len(arr)\n",
        "    print(round(pos/length,6))\n",
        "    print(round(neg/length,6))\n",
        "    print(round(zero/length,6))\n",
        "plusMinus([-4, 3, -9, 0, 4, 1])"
      ]
    }
  ]
}