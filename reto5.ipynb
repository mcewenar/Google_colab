{
  "nbformat": 4,
  "nbformat_minor": 0,
  "metadata": {
    "colab": {
      "name": "reto5.ipynb",
      "provenance": [],
      "collapsed_sections": [],
      "include_colab_link": true
    },
    "kernelspec": {
      "name": "python3",
      "display_name": "Python 3"
    },
    "language_info": {
      "name": "python"
    }
  },
  "cells": [
    {
      "cell_type": "markdown",
      "metadata": {
        "id": "view-in-github",
        "colab_type": "text"
      },
      "source": [
        "<a href=\"https://colab.research.google.com/github/mcewenar/Google_colab/blob/master/reto5.ipynb\" target=\"_parent\"><img src=\"https://colab.research.google.com/assets/colab-badge.svg\" alt=\"Open In Colab\"/></a>"
      ]
    },
    {
      "cell_type": "code",
      "metadata": {
        "id": "FEdYWnXAlvn5"
      },
      "source": [
        "P21: intercambio de libros entre bibliotecas\n",
        "Una biblioteca tiene libros que se identifican mediante números enteros, empezando desde 0. Obviamente, cada libro tiene un autor. La biblioteca tiene una lista de los libros que le hacen falta para completar la colección de libros de cada autor y otra lista de los libros repetidos que tienen para intercambiar con otras bibliotecas. Los libros de un autor se intercambian por otros libros del mismo autor. El trabajo consiste en: a) (vale 1 punto) crear una librería llamada “libros”, que conste como mínimo de las siguientes funciones: \n",
        "b). (Vale 1 punto) La función \"autores” , sirve para que, a partir de una lista de autores de toda la colección que se ambiciona tener, generar una lista de autores, sin repetición. \n",
        "Por ejemplo, si la colección completa tuviera diez libros, cada uno tiene su autor, como en la siguiente lista:\n",
        "['Shakespeare', 'Cervantes', ‘Shakespeare’, 'Gabo', 'Shakespeare', 'Gabo', 'Cervantes', 'Gabo', 'Gabo', 'Cervantes']\n",
        "La función debe retornar: [‘Shakespeare ', 'Cervantes', 'Gabo']  \n",
        "c) (Vale 1 punto). La función \"mefaltandeunautor\": Sirve para que a partir de la lista de números de los libros que hacen falta para completar la colección, la lista de los autores de las obras de la colección cuando esté completa y el nombre de un autor dado (en ese orden), retorne una lista de los libros de ese autor dado que hacen falta para completar la colección. Note que el número que identifica a un libro, apunta a su respectivo autor en la lista de autores.\n",
        "Ejemplo, al invocar la función con las listas: [2, 4, 5, 8],  \n",
        "['Shakespeare', 'Cervantes', ‘Shakespeare’, 'Gabo', 'Shakespeare', 'Gabo', 'Cervantes', 'Gabo', 'Gabo', 'Cervantes'], \n",
        "y la cadena con el nombre del autor ‘Gabo',   debe retornar la lista [5,8] \n",
        "d) La función \"losnecesito\": dada una lista de los libros disponibles para intercambio que tiene otra biblioteca y una lista de los libros repetidos que tiene mi biblioteca para intercambio, (en ese orden), retorna la lista con los libros que me interesan de la otra biblioteca. \n",
        "Por ejemplo, al invocar la función con las listas otrabiblioteca = [9, 3, 7, 10, 15, 16],   y mibibloteca= [2, 10, 3, 8] \n",
        "debe retornar la lista: [9, 7, 15, 16]\n",
        "e) Para simplificar la primera versión de la librería de funciones decidieron levantar la restricción que solo cambian libros que son de un mismo autor, y por lo tanto, ahora la lista que maneja cada biblioteca simplemente indica los números de los libros repetidos que tienen para intercambiar y aquellos números que no están en dicha lista son los que necesitan. De esta manera deben crear una función \"puedocambiar”, que reciba la lista de los libros repetidos que tiene la otra biblioteca y la lista de los libros repetidos que tiene mi biblioteca y que retorne la cantidad de libros que pueden cambiar. \n",
        "Por ejemplo, al invocar la función con las listas [13, 6, 17, 11, 15, 16] y  [4, 11, 6, 8]     debe retornar 2 \n",
        "Es decir, a la otra biblioteca solo le interesan dos libros que tiene mi biblioteca: [4,8], mientras que a mi biblioteca me interesan cuatro libros que tiene la otra biblioteca: [13,17,15,16], o sea que en total se pueden intercambiar solo 2 libros.\n"
      ],
      "execution_count": null,
      "outputs": []
    }
  ]
}