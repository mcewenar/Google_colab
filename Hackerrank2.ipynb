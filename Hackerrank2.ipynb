{
  "nbformat": 4,
  "nbformat_minor": 0,
  "metadata": {
    "colab": {
      "name": "Hackerrank2.ipynb",
      "provenance": [],
      "collapsed_sections": [],
      "authorship_tag": "ABX9TyNffH4rBXYA+yV9WoO0xhCg",
      "include_colab_link": true
    },
    "kernelspec": {
      "name": "python3",
      "display_name": "Python 3"
    },
    "language_info": {
      "name": "python"
    }
  },
  "cells": [
    {
      "cell_type": "markdown",
      "metadata": {
        "id": "view-in-github",
        "colab_type": "text"
      },
      "source": [
        "<a href=\"https://colab.research.google.com/github/mcewenar/Google_colab/blob/master/Hackerrank2.ipynb\" target=\"_parent\"><img src=\"https://colab.research.google.com/assets/colab-badge.svg\" alt=\"Open In Colab\"/></a>"
      ]
    },
    {
      "cell_type": "code",
      "execution_count": null,
      "metadata": {
        "id": "QjAq20TrWeWW"
      },
      "outputs": [],
      "source": [
        "#Given five positive integers, find the minimum and maximum values that can be calculated by summing exactly \n",
        "#four of the five integers. Then print the respective minimum and maximum values as a single line of two space-separated long integers.\n",
        "#\n",
        "#Example\n",
        "#\n",
        "#The minimum sum is  and the maximum sum is . The function prints\n",
        "#\n",
        "#16 24\n",
        "#Function Description\n",
        "#\n",
        "#Complete the miniMaxSum function in the editor below.\n",
        "#\n",
        "#miniMaxSum has the following parameter(s):\n",
        "#\n",
        "#arr: an array of  integers\n",
        "#Print\n",
        "#\n",
        "#Print two space-separated integers on one line: the minimum sum and the maximum sum of  of  elements.\n",
        "#\n",
        "#Input Format\n",
        "#\n",
        "#A single line of five space-separated integers.\n",
        "#\n",
        "#Constraints\n",
        "#\n",
        "#\n",
        "#Output Format\n",
        "#\n",
        "#Print two space-separated long integers denoting the respective minimum and maximum values that can be calculated by summing exactly four of the five integers. (The output can be greater than a 32 bit integer.)\n",
        "#\n",
        "#Sample Input\n",
        "#\n",
        "#1 2 3 4 5\n",
        "#Sample Output\n",
        "#\n",
        "#10 14\n",
        "#Explanation\n",
        "#\n",
        "#The numbers are , , , , and . Calculate the following sums using four of the five integers:\n",
        "#\n",
        "#Sum everything except , the sum is .\n",
        "#Sum everything except , the sum is .\n",
        "#Sum everything except , the sum is .\n",
        "#Sum everything except , the sum is .\n",
        "#Sum everything except , the sum is .\n",
        "#Hints: Beware of integer overflow! Use 64-bit Integer.\n",
        "#\n",
        "\n",
        "def miniMaxSum(arr):\n",
        "    list1=[]\n",
        "    for i in range(0,len(arr)):\n",
        "        sum=0\n",
        "        resta = arr[i]\n",
        "        for j in range(0,len(arr)):\n",
        "            sum+=arr[j]\n",
        "            #print(sum)\n",
        "        sum+=-resta\n",
        "        list1.append(sum)\n",
        "    print(min(list1),max(list1))\n",
        "            \n",
        "        \n",
        "        \n",
        "    \n",
        "\n",
        "if __name__ == '__main__':\n",
        "\n",
        "    arr = list(map(int, input().rstrip().split()))\n",
        "\n",
        "    miniMaxSum(arr)\n"
      ]
    }
  ]
}