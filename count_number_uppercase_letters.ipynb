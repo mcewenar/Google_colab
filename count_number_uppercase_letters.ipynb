{
  "nbformat": 4,
  "nbformat_minor": 0,
  "metadata": {
    "colab": {
      "provenance": [],
      "authorship_tag": "ABX9TyPGPSruH4n3o9tImhaKy0tz",
      "include_colab_link": true
    },
    "kernelspec": {
      "name": "python3",
      "display_name": "Python 3"
    },
    "language_info": {
      "name": "python"
    }
  },
  "cells": [
    {
      "cell_type": "markdown",
      "metadata": {
        "id": "view-in-github",
        "colab_type": "text"
      },
      "source": [
        "<a href=\"https://colab.research.google.com/github/mcewenar/Google_colab/blob/master/count_number_uppercase_letters.ipynb\" target=\"_parent\"><img src=\"https://colab.research.google.com/assets/colab-badge.svg\" alt=\"Open In Colab\"/></a>"
      ]
    },
    {
      "cell_type": "code",
      "execution_count": 3,
      "metadata": {
        "colab": {
          "base_uri": "https://localhost:8080/"
        },
        "id": "_mXzAUJIoenp",
        "outputId": "c6af6078-2ee7-481e-8f72-ab07fe033742"
      },
      "outputs": [
        {
          "output_type": "stream",
          "name": "stdout",
          "text": [
            "Enter a sentence\n",
            "Invalid input\n",
            "Enter a sentence\n",
            "Invalid input\n",
            "Enter a sentence7\n",
            "0\n"
          ]
        }
      ],
      "source": [
        "#Program to count number uppercase letters\n",
        "\n",
        "\n",
        "\n",
        "\n",
        "def validator():\n",
        "  string = input(\"Enter a sentence: \")\n",
        "  while(len(string) <= 0):\n",
        "    print(\"Invalid input\")\n",
        "    string = input(\"Enter a sentence\")\n",
        "  return uppercaseCount(string)\n",
        "\n",
        "\n",
        "def uppercaseCount(txt):\n",
        "  counter = 0\n",
        "  for i in txt:\n",
        "    if i.isupper():\n",
        "      counter += 1\n",
        "  return counter\n",
        "\n",
        "print(validator())\n"
      ]
    }
  ]
}