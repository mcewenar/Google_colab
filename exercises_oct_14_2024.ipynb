{
  "nbformat": 4,
  "nbformat_minor": 0,
  "metadata": {
    "colab": {
      "provenance": [],
      "authorship_tag": "ABX9TyOjdckmXx1ORxDgo9Sc2+Ag",
      "include_colab_link": true
    },
    "kernelspec": {
      "name": "python3",
      "display_name": "Python 3"
    },
    "language_info": {
      "name": "python"
    }
  },
  "cells": [
    {
      "cell_type": "markdown",
      "metadata": {
        "id": "view-in-github",
        "colab_type": "text"
      },
      "source": [
        "<a href=\"https://colab.research.google.com/github/mcewenar/Google_colab/blob/master/exercises_oct_14_2024.ipynb\" target=\"_parent\"><img src=\"https://colab.research.google.com/assets/colab-badge.svg\" alt=\"Open In Colab\"/></a>"
      ]
    },
    {
      "cell_type": "code",
      "execution_count": 4,
      "metadata": {
        "colab": {
          "base_uri": "https://localhost:8080/"
        },
        "id": "M8EUqGQeRDGp",
        "outputId": "3bc1db92-6f5d-4f1d-992b-6682e911c49b"
      },
      "outputs": [
        {
          "output_type": "stream",
          "name": "stdout",
          "text": [
            "Split string lowercase: ['big', 'black', 'bug', 'bit', 'a', 'big', 'black', 'dog', 'on', 'his', 'big', 'black', 'nose'] \n",
            "big\n",
            "black\n"
          ]
        }
      ],
      "source": [
        "#Write a function to find out duplicate words in a given string\n",
        "\n",
        "string = \"Big black bug bit a big black Dog on his big black nose\"\n",
        "split_lowercase = string.lower().split()\n",
        "print(f\"Split string lowercase: {split_lowercase} \")\n",
        "\n",
        "for i in range(len(split_lowercase)):\n",
        "    count = 0\n",
        "    for j in range(i+1,len(split_lowercase)-1):\n",
        "      if split_lowercase[i] == split_lowercase[j]:\n",
        "        count += 1\n",
        "        #Set split_lowercase[j] to avoid printing visited word\n",
        "        split_lowercase[j]=\"0\"\n",
        "\n",
        "    #Display the duplicate word if count is greater than 1:\n",
        "    if count > 0 and split_lowercase[i] != \"0\":\n",
        "      print(split_lowercase[i])\n",
        "\n",
        "\n",
        "\n"
      ]
    },
    {
      "cell_type": "code",
      "source": [
        "#Find the missing number in an array:\n",
        "\n",
        "numbers = [1,2,3,4,6,7]\n",
        "total = 7\n",
        "expected_sum = total * ((total + 1) // 2)\n",
        "num_sum = 0;\n",
        "\n",
        "for i in numbers:\n",
        "  num_sum += i\n",
        "\n",
        "print(f\"Expected number is {expected_sum - num_sum}\")"
      ],
      "metadata": {
        "id": "9zAACB_bZJhZ",
        "outputId": "333e5b8b-0149-432b-b1c6-1df22b7bc662",
        "colab": {
          "base_uri": "https://localhost:8080/"
        }
      },
      "execution_count": 6,
      "outputs": [
        {
          "output_type": "stream",
          "name": "stdout",
          "text": [
            "Expected number is 5\n"
          ]
        }
      ]
    },
    {
      "cell_type": "code",
      "source": [
        "#to generate random numbers between the given number:\n",
        "\n",
        "import random\n",
        "\n",
        "print(random.randint(1,10))"
      ],
      "metadata": {
        "id": "jLy7qTYkx1y6",
        "outputId": "31858df9-5a29-40a8-f626-66f2f05d80a9",
        "colab": {
          "base_uri": "https://localhost:8080/"
        }
      },
      "execution_count": 11,
      "outputs": [
        {
          "output_type": "stream",
          "name": "stdout",
          "text": [
            "4\n"
          ]
        }
      ]
    },
    {
      "cell_type": "code",
      "source": [
        "#Swap two strings variables without using temp variable\n",
        "\n",
        "first_str = \"hello\"\n",
        "second_str = \"world\"\n",
        "\n",
        "print(f\"Before swap: a={first_str}, b={second_str}\")\n",
        "\n",
        "first_str = first_str + second_str\n",
        "\n",
        "#Store initial string a in string b\n",
        "second_str = first_str[0:len(first_str)-len(second_str)]\n",
        "\n",
        "#store initial b in string a\n",
        "first_str = first_str[len(second_str):]\n",
        "\n",
        "print(f\"After swap: a={first_str}, b={second_str}\")\n",
        "\n"
      ],
      "metadata": {
        "id": "KMyOJC7vzYj6",
        "outputId": "443d7456-9251-4f33-aeb3-f56263833963",
        "colab": {
          "base_uri": "https://localhost:8080/"
        }
      },
      "execution_count": 12,
      "outputs": [
        {
          "output_type": "stream",
          "name": "stdout",
          "text": [
            "Before swap: a=hello, b=world\n",
            "After swap: a=world, b=hello\n"
          ]
        }
      ]
    },
    {
      "cell_type": "code",
      "source": [
        "#program to move all zeroes to end of array:\n",
        "\n",
        "array = [1,2,0,4,3,0,5,0,5,4,9,0] #Out: [1,2,4,3,5,0,0,0]\n",
        "\n",
        "#Way 2:\n",
        "count = 0 #Count of non-zero elements\n",
        "\n",
        "#Traverse the array. If elements encounteres is non zero,\n",
        "#then replace the element at index count with the element\n",
        "for i in range(len(array)):\n",
        "  if array[i] != 0:\n",
        "    count += 1\n",
        "    array[count-1] = array[i]\n",
        "\n",
        "\n",
        "#Now all non-zero elements have been shifted to\n",
        "#front and 'count' is set as index of first 0.\n",
        "#Make all elements 0 from count to end\n",
        "while count < len(array):\n",
        "  count += 1\n",
        "  array[count-1] = 0\n",
        "\n",
        "\n",
        "\n",
        "#Way 1:\n",
        "#for i in array:\n",
        "#  if i == 0:\n",
        "#    array.remove(i)\n",
        "#    array.append(i)\n",
        "\n",
        "print(array)"
      ],
      "metadata": {
        "id": "g2PLk6cH1gFD",
        "outputId": "ea64cde9-a9a8-498e-d24b-7f53550c0555",
        "colab": {
          "base_uri": "https://localhost:8080/"
        }
      },
      "execution_count": 26,
      "outputs": [
        {
          "output_type": "stream",
          "name": "stdout",
          "text": [
            "[1, 2, 4, 3, 5, 5, 4, 9, 0, 0, 0, 0]\n"
          ]
        }
      ]
    },
    {
      "cell_type": "code",
      "source": [
        "#Write a multi-threading program to print odd\n",
        "#number using one thread and even number using other\n",
        "\n",
        "\n",
        "#Made by Gemini\n",
        "import threading\n",
        "\n",
        "class TaskEvenOdd(threading.Thread):\n",
        "    def __init__(self, printer, max_num, is_even):\n",
        "        threading.Thread.__init__(self)\n",
        "        self.printer = printer\n",
        "        self.max_num = max_num\n",
        "        self.is_even = is_even\n",
        "\n",
        "    def run(self):\n",
        "        num = 2 if self.is_even else 1\n",
        "        while num <= self.max_num:\n",
        "            if self.is_even:\n",
        "                self.printer.print_even(num)\n",
        "            else:\n",
        "                self.printer.print_odd(num)\n",
        "            num += 2\n",
        "\n",
        "class Printer:\n",
        "    def __init__(self):\n",
        "        self.is_odd = False\n",
        "        self.condition = threading.Condition()\n",
        "\n",
        "    def print_even(self, number):\n",
        "        with self.condition:\n",
        "            while self.is_odd:\n",
        "                self.condition.wait()\n",
        "            print(f\"Thread Even: {threading.current_thread().name} - {number}\")\n",
        "            self.is_odd = True\n",
        "            self.condition.notify()\n",
        "\n",
        "    def print_odd(self, number):\n",
        "        with self.condition:\n",
        "            while not self.is_odd:\n",
        "                self.condition.wait()\n",
        "            print(f\"Thread Odd: {threading.current_thread().name} - {number}\")\n",
        "            self.is_odd = False\n",
        "            self.condition.notify()\n",
        "\n",
        "# Ejemplo de uso\n",
        "printer = Printer()\n",
        "t1 = TaskEvenOdd(printer, 10, True)  # Hilo para números pares\n",
        "t2 = TaskEvenOdd(printer, 10, False)  # Hilo para números impares\n",
        "t1.start()\n",
        "t2.start()"
      ],
      "metadata": {
        "id": "NV7PnaeM7lhJ",
        "outputId": "422799a9-438e-4ed3-d959-d4efd111649b",
        "colab": {
          "base_uri": "https://localhost:8080/"
        }
      },
      "execution_count": 27,
      "outputs": [
        {
          "output_type": "stream",
          "name": "stdout",
          "text": [
            "Thread Even: Thread-10 - 2\n",
            "Thread Odd: Thread-11 - 1\n",
            "Thread Even: Thread-10 - 4\n",
            "Thread Odd: Thread-11 - 3\n",
            "Thread Even: Thread-10 - 6\n",
            "Thread Odd: Thread-11 - 5\n",
            "Thread Even: Thread-10 - 8\n",
            "Thread Odd: Thread-11 - 7\n",
            "Thread Even: Thread-10 - 10\n",
            "Thread Odd: Thread-11 - 9\n"
          ]
        }
      ]
    },
    {
      "cell_type": "code",
      "source": [
        "#Print all permutation of a string:\n",
        "def permute(data, i, length):\n",
        "    if i==length:\n",
        "        print(''.join(data) )\n",
        "    else:\n",
        "        for j in range(i,length):\n",
        "            #swap\n",
        "            data[i], data[j] = data[j], data[i]\n",
        "            permute(data, i+1, length)\n",
        "            data[i], data[j] = data[j], data[i]\n",
        "\n",
        "\n",
        "string = \"ABC\"\n",
        "n = len(string)\n",
        "data = list(string)\n",
        "permute(data, 0, n)\n"
      ],
      "metadata": {
        "id": "dsTkSysO9FOp",
        "outputId": "e90cac69-00bd-4988-fbd2-b411f6663b2c",
        "colab": {
          "base_uri": "https://localhost:8080/"
        }
      },
      "execution_count": 28,
      "outputs": [
        {
          "output_type": "stream",
          "name": "stdout",
          "text": [
            "ABC\n",
            "ACB\n",
            "BAC\n",
            "BCA\n",
            "CBA\n",
            "CAB\n"
          ]
        }
      ]
    },
    {
      "cell_type": "code",
      "source": [
        "\n",
        "#program to reverse a string preserving spaces.\n",
        "#https://www.geeksforgeeks.org/reverse-string-preserving-space-positions/\n",
        "\n",
        "#WAY 1:\n",
        "# Function to reverse the string\n",
        "# and preserve the space position\n",
        "def reverses(st):\n",
        "    # Mark spaces in result\n",
        "    n = len(st)\n",
        "    result = [0] * n\n",
        "\n",
        "    for i in range(n):\n",
        "        if (st[i] == ' '):\n",
        "            result[i] = ' '\n",
        "\n",
        "    # Traverse input string from beginning\n",
        "    # and put characters in result from end\n",
        "    j = n - 1\n",
        "    for i in range(len(st)):\n",
        "\n",
        "        # Ignore spaces in input string\n",
        "        if (st[i] != ' '):\n",
        "\n",
        "            # Ignore spaces in result.\n",
        "            if (result[j] == ' '):\n",
        "                j -= 1\n",
        "\n",
        "            result[j] = st[i]\n",
        "            j -= 1\n",
        "\n",
        "    return ''.join(result)\n",
        "\n",
        "# Driver code\n",
        "if __name__ == \"__main__\":\n",
        "\n",
        "    st = \"internship at geeks for geeks\"\n",
        "    print(reverses(st))\n",
        "\n",
        "# This code is contributed by ukasp\n",
        "\n",
        "\n",
        "#WAY 2:\n",
        "#Time complexity: O(N):\n",
        "# Python3 program to implement\n",
        "# the above approach\n",
        "def preserveSpace(Str):\n",
        "\n",
        "    n = len(Str)\n",
        "    Str = list(Str)\n",
        "\n",
        "    # Initialize two pointers\n",
        "    # as two corners\n",
        "    start = 0\n",
        "    end = n - 1\n",
        "\n",
        "    # Move both pointers\n",
        "    # toward each other\n",
        "    while(start < end):\n",
        "\n",
        "        # If character at start\n",
        "        # or end is space,\n",
        "        # ignore it\n",
        "        if(Str[start] == ' '):\n",
        "            start += 1\n",
        "            continue\n",
        "        elif(Str[end] == ' '):\n",
        "            end -= 1\n",
        "            continue\n",
        "\n",
        "        # If both are not\n",
        "        # spaces, do swap\n",
        "        else:\n",
        "            Str[start], Str[end] = (Str[end],\n",
        "                                    Str[start])\n",
        "            start += 1\n",
        "            end -= 1\n",
        "    print(''.join(Str))\n",
        "\n",
        "# Driver code\n",
        "Str = \"internship at geeks for geeks\"\n",
        "preserveSpace(Str);\n",
        "\n",
        "# This code is contributed by avanitrachhadiya2155"
      ],
      "metadata": {
        "id": "jcUzqO73_i5Q",
        "outputId": "7999805a-99cc-4707-d949-c68ba1f0c5ac",
        "colab": {
          "base_uri": "https://localhost:8080/"
        }
      },
      "execution_count": 30,
      "outputs": [
        {
          "output_type": "stream",
          "name": "stdout",
          "text": [
            "skeegrofsk ee gtapi hsn retni\n",
            "skeegrofsk ee gtapi hsn retni\n"
          ]
        }
      ]
    },
    {
      "cell_type": "code",
      "source": [
        "#How do you find longest substring without repeating characters in a string:\n",
        "#https://www.geeksforgeeks.org/length-of-the-longest-substring-without-repeating-characters/\n",
        "\n",
        "#program to find the length of the longest\n",
        "# substring without repeating characters\n",
        "\n",
        "def longestUniqueSubstr(s):\n",
        "    n = len(s)\n",
        "    res = 0\n",
        "\n",
        "    for i in range(n):\n",
        "\n",
        "        # Initializing all characters as not visited\n",
        "        visited = [False] * 256\n",
        "\n",
        "        for j in range(i, n):\n",
        "\n",
        "            # If current character is visited\n",
        "            # Break the loop\n",
        "            if visited[ord(s[j])] == True:\n",
        "                break\n",
        "\n",
        "            # Else update the result if this window is larger,\n",
        "            # and mark current character as visited.\n",
        "            else:\n",
        "                res = max(res, j - i + 1)\n",
        "                visited[ord(s[j])] = True\n",
        "\n",
        "    return res\n",
        "\n",
        "if __name__ == \"__main__\":\n",
        "    s = \"geeksforgeeks\"\n",
        "    print(longestUniqueSubstr(s))"
      ],
      "metadata": {
        "id": "xCpyxdmBANlf",
        "outputId": "3ad9de52-fa55-4de9-b620-1380da18c1a0",
        "colab": {
          "base_uri": "https://localhost:8080/"
        }
      },
      "execution_count": 31,
      "outputs": [
        {
          "output_type": "stream",
          "name": "stdout",
          "text": [
            "7\n"
          ]
        }
      ]
    }
  ]
}