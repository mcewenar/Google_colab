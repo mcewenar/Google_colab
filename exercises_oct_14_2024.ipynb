{
  "nbformat": 4,
  "nbformat_minor": 0,
  "metadata": {
    "colab": {
      "provenance": [],
      "authorship_tag": "ABX9TyMe7rA+zmDTmnjsLjgRxhor",
      "include_colab_link": true
    },
    "kernelspec": {
      "name": "python3",
      "display_name": "Python 3"
    },
    "language_info": {
      "name": "python"
    }
  },
  "cells": [
    {
      "cell_type": "markdown",
      "metadata": {
        "id": "view-in-github",
        "colab_type": "text"
      },
      "source": [
        "<a href=\"https://colab.research.google.com/github/mcewenar/Google_colab/blob/master/exercises_oct_14_2024.ipynb\" target=\"_parent\"><img src=\"https://colab.research.google.com/assets/colab-badge.svg\" alt=\"Open In Colab\"/></a>"
      ]
    },
    {
      "cell_type": "code",
      "execution_count": 19,
      "metadata": {
        "colab": {
          "base_uri": "https://localhost:8080/"
        },
        "id": "M8EUqGQeRDGp",
        "outputId": "7b7648b0-3cae-4225-8b1e-05ed1cb07ae7"
      },
      "outputs": [
        {
          "output_type": "stream",
          "name": "stdout",
          "text": [
            "['big', 'black', 'bug', 'bit', 'a', 'big', 'black', 'dog', 'on', 'his', 'big', 'black', 'nose']\n",
            "big\n"
          ]
        }
      ],
      "source": [
        "#Write a function to find out duplicate words in a given string\n",
        "\n",
        "string = \"Big black bug bit a big black Dog on his big black nose\"\n",
        "split_lowercase = string.lower().split()\n",
        "print(split_lowercase)\n",
        "\n",
        "for i in range(len(split_lowercase)):\n",
        "    count = 1\n",
        "    for j in range(len(split_lowercase)-1):\n",
        "      if split_lowercase[i] == split_lowercase[j+1]:\n",
        "        count += 1\n",
        "        #Set split_lowercase[j] to avoid printing visited word\n",
        "        split_lowercase[j+1]=0\n",
        "\n",
        "    #Display the duplicate word if count is greater than 1:\n",
        "    if count > 1 and split_lowercase[i] != 0:\n",
        "      print(split_lowercase[i])\n",
        "\n",
        "\n",
        "\n"
      ]
    }
  ]
}