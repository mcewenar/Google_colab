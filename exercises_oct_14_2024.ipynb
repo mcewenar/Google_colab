{
  "nbformat": 4,
  "nbformat_minor": 0,
  "metadata": {
    "colab": {
      "provenance": [],
      "authorship_tag": "ABX9TyOcwyNwvwmKZqVQJhOA37PQ",
      "include_colab_link": true
    },
    "kernelspec": {
      "name": "python3",
      "display_name": "Python 3"
    },
    "language_info": {
      "name": "python"
    }
  },
  "cells": [
    {
      "cell_type": "markdown",
      "metadata": {
        "id": "view-in-github",
        "colab_type": "text"
      },
      "source": [
        "<a href=\"https://colab.research.google.com/github/mcewenar/Google_colab/blob/master/exercises_oct_14_2024.ipynb\" target=\"_parent\"><img src=\"https://colab.research.google.com/assets/colab-badge.svg\" alt=\"Open In Colab\"/></a>"
      ]
    },
    {
      "cell_type": "code",
      "execution_count": 22,
      "metadata": {
        "colab": {
          "base_uri": "https://localhost:8080/"
        },
        "id": "M8EUqGQeRDGp",
        "outputId": "1d75ae92-b266-42d2-bad2-a22a70e820b1"
      },
      "outputs": [
        {
          "output_type": "stream",
          "name": "stdout",
          "text": [
            "Split string lowercase: ['big', 'black', 'bug', 'bit', 'a', 'big', 'black', 'dog', 'on', 'his', 'big', 'black', 'nose'] \n",
            "big\n",
            "black\n"
          ]
        }
      ],
      "source": [
        "#Write a function to find out duplicate words in a given string\n",
        "\n",
        "string = \"Big black bug bit a big black Dog on his big black nose\"\n",
        "split_lowercase = string.lower().split()\n",
        "print(f\"Split string lowercase: {split_lowercase} \")\n",
        "\n",
        "for i in range(len(split_lowercase)):\n",
        "    count = 1\n",
        "    for j in range(i +1,len(split_lowercase)-1):\n",
        "      if split_lowercase[i] == split_lowercase[j]:\n",
        "        count += 1\n",
        "        #Set split_lowercase[j] to avoid printing visited word\n",
        "        split_lowercase[j]=\"0\"\n",
        "\n",
        "    #Display the duplicate word if count is greater than 1:\n",
        "    if count > 1 and split_lowercase[i] != \"0\":\n",
        "      print(split_lowercase[i])\n",
        "\n",
        "\n",
        "\n"
      ]
    }
  ]
}