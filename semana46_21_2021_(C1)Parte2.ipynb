{
  "nbformat": 4,
  "nbformat_minor": 0,
  "metadata": {
    "colab": {
      "name": "semana46-21_2021-(C1)Parte2.ipynb",
      "provenance": [],
      "collapsed_sections": [],
      "include_colab_link": true
    },
    "kernelspec": {
      "name": "python3",
      "display_name": "Python 3"
    },
    "language_info": {
      "name": "python"
    }
  },
  "cells": [
    {
      "cell_type": "markdown",
      "metadata": {
        "id": "view-in-github",
        "colab_type": "text"
      },
      "source": [
        "<a href=\"https://colab.research.google.com/github/mcewenar/Google_colab/blob/master/semana46_21_2021_(C1)Parte2.ipynb\" target=\"_parent\"><img src=\"https://colab.research.google.com/assets/colab-badge.svg\" alt=\"Open In Colab\"/></a>"
      ]
    },
    {
      "cell_type": "code",
      "metadata": {
        "id": "Yk4cl-4ls5j1",
        "colab": {
          "base_uri": "https://localhost:8080/"
        },
        "outputId": "ad82dedd-0078-479f-986b-a2eb7514658e"
      },
      "source": [
        "#Una tupla es una coleccion o secuencia de elementos que puede contener datos\n",
        "#heterogeneos: enteros, reales, cadenas, listas, diccionarios u otros, inclusive tuplas. \n",
        "#Una tupla se escribe como la secuencia de datos, entre parentesis, separados por una coma ( , ), \n",
        "#Como las cadenas de caracteres, las tuplas son inmutables, esto es, no se pueden modicar despues de definidas.\n",
        "#Ejemplo usando parentesis\n",
        "tup = (1, 2, 3, 4.5, 'hola', 'a')  #Contiene enteros, flotantes, caracteres y cadenas\n",
        "#print(tup)\n",
        "#Ejemplo declaracion de una tupla, sin parentesis, secuencia de datos separados por coma\n",
        "a= 1, 2, 3    #Asignacion de tupla a una variable \n",
        "#print(a)\n",
        "tuple1 = (0, 1, 2, 3)\n",
        "tuple2 = ('A', 'B', 'C')\n",
        "tuple3 = (tuple1, tuple2) #Tuplas que contienen tuplas internamente\n",
        "print(tuple3)\n",
        "#Accediendo a componentes de una tupla, uso de su posicion entre [pos]\n",
        "print(tuple3[0])\n",
        "print(tuple3[1])\n",
        "print(tuple3[1][0]) #tupla 1, elemento 0"
      ],
      "execution_count": null,
      "outputs": [
        {
          "output_type": "stream",
          "text": [
            "((0, 1, 2, 3), ('A', 'B', 'C'))\n",
            "(0, 1, 2, 3)\n",
            "('A', 'B', 'C')\n",
            "A\n"
          ],
          "name": "stdout"
        }
      ]
    },
    {
      "cell_type": "code",
      "metadata": {
        "colab": {
          "base_uri": "https://localhost:8080/",
          "height": 265
        },
        "id": "hIETqjKstguI",
        "outputId": "816a7e5b-8fab-4719-839b-1aedee8019f7"
      },
      "source": [
        "#Se usan los operadores convencionales (<, <=, >, >=, ==, !=) para\n",
        "#comparar tuplas usando el orden lexicograco, cuando es posible. En el\n",
        "#orden lexicograco, se tratan de comparar (si el operador < esta denido),\n",
        "#de izquierda a derecha uno a uno los elementos de la tupla, mientras sean\n",
        "#iguales. En el caso en el que no este definido el orden (por ejemplo entre\n",
        "#cadenas y numeros), la comparaci\u0013on genera un error. En el caso que no\n",
        "#sean iguales, si el elemento de la primera tupla es menor que el de la\n",
        "#segunda, la primer tupla se considera la menor, si el elemento es mayor la\n",
        "#primer tupla se considera la mayor. Si todos los elementos son iguales, se\n",
        "#consideran iguales a las tuplas.\n",
        "\n",
        "print((\"Rojas\", 123) < (\"Rosas\", 123))\n",
        "print((\"Rosas\", 123) == (\"rosas\", 123))\n",
        "print((\"Rosas\", 123) > (\"Rosas\", 23))\n",
        "print((\"Rojas\", \"123\") > (\"Rosas\", 23)) #Si el primer elemento no fuera diferente, el programa falla porque lee de elemento a elemento (izq-der)\n",
        "print((\"Rosas\", \"123\") > (\"Rosas\", 23)) #Genera error"
      ],
      "execution_count": 7,
      "outputs": [
        {
          "output_type": "stream",
          "text": [
            "True\n",
            "False\n",
            "True\n",
            "False\n"
          ],
          "name": "stdout"
        },
        {
          "output_type": "error",
          "ename": "TypeError",
          "evalue": "ignored",
          "traceback": [
            "\u001b[0;31m---------------------------------------------------------------------------\u001b[0m",
            "\u001b[0;31mTypeError\u001b[0m                                 Traceback (most recent call last)",
            "\u001b[0;32m<ipython-input-7-e69523573e56>\u001b[0m in \u001b[0;36m<module>\u001b[0;34m()\u001b[0m\n\u001b[1;32m     14\u001b[0m \u001b[0mprint\u001b[0m\u001b[0;34m(\u001b[0m\u001b[0;34m(\u001b[0m\u001b[0;34m\"Rosas\"\u001b[0m\u001b[0;34m,\u001b[0m \u001b[0;36m123\u001b[0m\u001b[0;34m)\u001b[0m \u001b[0;34m>\u001b[0m \u001b[0;34m(\u001b[0m\u001b[0;34m\"Rosas\"\u001b[0m\u001b[0;34m,\u001b[0m \u001b[0;36m23\u001b[0m\u001b[0;34m)\u001b[0m\u001b[0;34m)\u001b[0m\u001b[0;34m\u001b[0m\u001b[0;34m\u001b[0m\u001b[0m\n\u001b[1;32m     15\u001b[0m \u001b[0mprint\u001b[0m\u001b[0;34m(\u001b[0m\u001b[0;34m(\u001b[0m\u001b[0;34m\"Rojas\"\u001b[0m\u001b[0;34m,\u001b[0m \u001b[0;34m\"123\"\u001b[0m\u001b[0;34m)\u001b[0m \u001b[0;34m>\u001b[0m \u001b[0;34m(\u001b[0m\u001b[0;34m\"Rosas\"\u001b[0m\u001b[0;34m,\u001b[0m \u001b[0;36m23\u001b[0m\u001b[0;34m)\u001b[0m\u001b[0;34m)\u001b[0m \u001b[0;31m#Si el primer elemento no fuera diferente, el programa falla\u001b[0m\u001b[0;34m\u001b[0m\u001b[0;34m\u001b[0m\u001b[0m\n\u001b[0;32m---> 16\u001b[0;31m \u001b[0mprint\u001b[0m\u001b[0;34m(\u001b[0m\u001b[0;34m(\u001b[0m\u001b[0;34m\"Rosas\"\u001b[0m\u001b[0;34m,\u001b[0m \u001b[0;34m\"123\"\u001b[0m\u001b[0;34m)\u001b[0m \u001b[0;34m>\u001b[0m \u001b[0;34m(\u001b[0m\u001b[0;34m\"Rosas\"\u001b[0m\u001b[0;34m,\u001b[0m \u001b[0;36m23\u001b[0m\u001b[0;34m)\u001b[0m\u001b[0;34m)\u001b[0m\u001b[0;34m\u001b[0m\u001b[0;34m\u001b[0m\u001b[0m\n\u001b[0m",
            "\u001b[0;31mTypeError\u001b[0m: '>' not supported between instances of 'str' and 'int'"
          ]
        }
      ]
    },
    {
      "cell_type": "code",
      "metadata": {
        "colab": {
          "base_uri": "https://localhost:8080/"
        },
        "id": "CX-S9W1vtxB7",
        "outputId": "94be8c2b-955f-49d9-ff2c-151801efa361"
      },
      "source": [
        "#concatenar tuplas, operador +\n",
        "tup1 = ('A', 'B', 'C', 'E')\n",
        "tup2 = (1, 2, 3, 4, 5)\n",
        "tup3 = tup1 + tup2\n",
        "print(tup3)"
      ],
      "execution_count": null,
      "outputs": [
        {
          "output_type": "stream",
          "text": [
            "('A', 'B', 'C', 'E', 1, 2, 3, 4, 5)\n"
          ],
          "name": "stdout"
        }
      ]
    },
    {
      "cell_type": "code",
      "metadata": {
        "colab": {
          "base_uri": "https://localhost:8080/"
        },
        "id": "v7FpJsBLt4VE",
        "outputId": "1b461384-683e-40ca-bcfd-9cfed94bbe0e"
      },
      "source": [
        "#operador repetir *\n",
        "tup2 = (1, 2, 3, 4, 5)\n",
        "tup3 = tup2 * 3\n",
        "print(tup3)\n",
        "tup4 = ('Abc', 'Bcd')\n",
        "tup5 = tup4 * 2\n",
        "print(tup5)"
      ],
      "execution_count": null,
      "outputs": [
        {
          "output_type": "stream",
          "text": [
            "(1, 2, 3, 4, 5, 1, 2, 3, 4, 5, 1, 2, 3, 4, 5)\n",
            "('Abc', 'Bcd', 'Abc', 'Bcd')\n"
          ],
          "name": "stdout"
        }
      ]
    },
    {
      "cell_type": "code",
      "metadata": {
        "colab": {
          "base_uri": "https://localhost:8080/"
        },
        "id": "5r5Kz3jTt7rO",
        "outputId": "76cda2ec-fe91-474e-8454-12d61337a956"
      },
      "source": [
        "#comparando tuplas, orden lexicografico, operadores (<, <=, >, >=, ==, !=)\n",
        "print(('Rojas', 123) < ('Rosas', 123))\n",
        "print(('Rosas', 123) == ('rosas', 123))\n",
        "print(('Rosas', 123) > ('Rosas', 23))\n",
        "print(('Rosas', \"123\") > ('Rosas', '23'))"
      ],
      "execution_count": null,
      "outputs": [
        {
          "output_type": "stream",
          "text": [
            "True\n",
            "False\n",
            "True\n",
            "False\n"
          ],
          "name": "stdout"
        }
      ]
    },
    {
      "cell_type": "code",
      "metadata": {
        "colab": {
          "base_uri": "https://localhost:8080/"
        },
        "id": "119AByr2uGeC",
        "outputId": "a9c07fdc-90ba-464b-d1ad-4ed051654be3"
      },
      "source": [
        "#Operador is, sirve opara determinar si dos tuplas referencian al mismo objeto en mem ram\n",
        "a = ('Rojas', 123)\n",
        "b = (\"Rojas\", 123)\n",
        "c = ('Rojas',)\n",
        "d = (123,)\n",
        "e = c + d\n",
        "#print(a == b) #True\n",
        "#print(a is b) # False en colab, True en repl.it\n",
        "#print(a == e)#True\n",
        "#print(a is e)#False\n",
        "print(id(a)) #id() retorna la dir en mem Ram donde se almacena el objeto\n",
        "print(id(b))"
      ],
      "execution_count": null,
      "outputs": [
        {
          "output_type": "stream",
          "text": [
            "140662510146736\n",
            "140662510927376\n"
          ],
          "name": "stdout"
        }
      ]
    },
    {
      "cell_type": "code",
      "metadata": {
        "colab": {
          "base_uri": "https://localhost:8080/"
        },
        "id": "Z6NLSPHeuRnp",
        "outputId": "e365cb5e-60d7-4c97-b63f-b7688a3830f8"
      },
      "source": [
        "#Accede los elementos de la tupla, usando subindices entre [], una pos negativa se considera recorrido desde el final\n",
        "avengers = (\"Ironman\", \"Thor\", \"Ant-man\", \"Hulk\")# las posiciones empiezan en [0]\n",
        "print(avengers[0])\n",
        "print(avengers[3])\n",
        "print(avengers[-1]) #recorrido de der a izq\n",
        "print(avengers[-3])"
      ],
      "execution_count": null,
      "outputs": [
        {
          "output_type": "stream",
          "text": [
            "Ironman\n",
            "Hulk\n",
            "Hulk\n",
            "Thor\n"
          ],
          "name": "stdout"
        }
      ]
    },
    {
      "cell_type": "code",
      "metadata": {
        "colab": {
          "base_uri": "https://localhost:8080/"
        },
        "id": "9f_qtE_duVhd",
        "outputId": "809102a1-cda9-4d20-da56-be901225e787"
      },
      "source": [
        "#Operador in / not in : Consulta si un elemento se encuentra en una tupla\n",
        "text = ('cien', 'a~nos', 'de', 'soledad') #esto es una tupla\n",
        "a='a~nos'\n",
        "if a in text:\n",
        "  print(a,'Si esta en la tupla')\n",
        "else:\n",
        "  print(a, 'No esta en la tupla')\n",
        "#---------------------\n",
        "b='solo'\n",
        "if b not in text:\n",
        "  print(b,'NO esta en la tupla')\n",
        "else:\n",
        "  print(b,'SI esta en la tupla')"
      ],
      "execution_count": null,
      "outputs": [
        {
          "output_type": "stream",
          "text": [
            "a~nos Si esta en la tupla\n",
            "solo NO esta en la tupla\n"
          ],
          "name": "stdout"
        }
      ]
    },
    {
      "cell_type": "code",
      "metadata": {
        "colab": {
          "base_uri": "https://localhost:8080/"
        },
        "id": "NA4vsBE6u0vQ",
        "outputId": "d1125c3e-f58f-4d5c-c56d-88b4e1c6d760"
      },
      "source": [
        "#Iterando una tupla usando el ciclo for, iterar significa recorrer, visitar los componentes de una coleccion\n",
        "s = (\"hola\", \"amigos\", \"mios\")\n",
        "for palabra in s: # para cada palabra de la coleccion s, que es una tupla\n",
        "  print(palabra, end = ', ')"
      ],
      "execution_count": null,
      "outputs": [
        {
          "output_type": "stream",
          "text": [
            "hola, amigos, mios, "
          ],
          "name": "stdout"
        }
      ]
    },
    {
      "cell_type": "code",
      "metadata": {
        "id": "fhiezc2ju-Xb",
        "colab": {
          "base_uri": "https://localhost:8080/"
        },
        "outputId": "a73de926-8a53-454e-d924-c73fa9627e65"
      },
      "source": [
        "#asignado multiples variables\n",
        "tupla = 1, -2, 5, 3\n",
        "print(len(tupla))\n",
        "\n",
        "a, b, c, d = tupla #Note, una variable por cada elemento de la tupla\n",
        "print('a =', a, end='; ')\n",
        "print('b =', b,end='; ')\n",
        "print('c =', c,end='; ')\n",
        "print('d =', d,end='; ')"
      ],
      "execution_count": null,
      "outputs": [
        {
          "output_type": "stream",
          "text": [
            "4\n",
            "a = 1; b = -2; c = 5; d = 3; "
          ],
          "name": "stdout"
        }
      ]
    },
    {
      "cell_type": "code",
      "metadata": {
        "colab": {
          "base_uri": "https://localhost:8080/"
        },
        "id": "Z1XRe_Q5wiuF",
        "outputId": "bbe415aa-9f79-4aa3-d0b2-150f67ee96ac"
      },
      "source": [
        "#Intercambiando variables, aprovechando la  asignacion multiple\n",
        "a = 1   # tem=a; a=b; b=tem\n",
        "b = 3\n",
        "\n",
        "a, b = b, a #concepto de tupla\n",
        "print('Intercambiando variables')\n",
        "print('a =', a)\n",
        "print('b =', b)"
      ],
      "execution_count": null,
      "outputs": [
        {
          "output_type": "stream",
          "text": [
            "Intercambiando variables\n",
            "a = 3\n",
            "b = 1\n"
          ],
          "name": "stdout"
        }
      ]
    },
    {
      "cell_type": "code",
      "metadata": {
        "colab": {
          "base_uri": "https://localhost:8080/"
        },
        "id": "_ghepL0rwrEa",
        "outputId": "fbc1bfb4-8093-4767-c8ae-155091991f61"
      },
      "source": [
        "#Asignando multiples variables desde una tupla, usando el ciclo for, dos opciones\n",
        "tupla = (11, 9, -2, 3, 8, 5) #tiene 6 componentes\n",
        "a, b, c, d = [tupla[i] for i in (1, 2, 4, 3)] \n",
        "#1) for i in () genera una coleccion utilizando los elementos enumerados entre parentesis (literalmente)\n",
        "#print(\"var1 =\", a, \", var2 =\", b, \", var3 =\", c,'var4: ',d)\n",
        "\n",
        "#2) for in in range(), genera una coleccion, aqui sus elementos empiezan en pos:0, termina en pos:5, inc: 2\n",
        "a, b, c = [tupla[i] for i in range(0, 5+1 , 2)] #11, -2, 8\n",
        "print(\"var1 =\", a, \", var2 =\", b, \", var3 =\", c)"
      ],
      "execution_count": null,
      "outputs": [
        {
          "output_type": "stream",
          "text": [
            "var1 = 11 , var2 = -2 , var3 = 8\n"
          ],
          "name": "stdout"
        }
      ]
    },
    {
      "cell_type": "code",
      "metadata": {
        "colab": {
          "base_uri": "https://localhost:8080/"
        },
        "id": "6NRvMhNXwzZd",
        "outputId": "460572be-1779-49c5-dfab-119b30a15dfb"
      },
      "source": [
        "#funciones y tuplas: Retornar mas de un valor en una funcion usando el concepto de tupla.\n",
        "def minmax(a, b):\n",
        "  if a < b:\n",
        "    return a, b #Retorno 2 valores\n",
        "  else:\n",
        "    return b, a #Retorno 2 valores \n",
        "\n",
        "x, y = minmax(5, 13)\n",
        "print('min =', x, \",\", 'max =', y)\n",
        "x, y = minmax(12, -4)\n",
        "print('min =', x, \",\", 'max =', y)"
      ],
      "execution_count": null,
      "outputs": [
        {
          "output_type": "stream",
          "text": [
            "min = 5 , max = 13\n",
            "min = -4 , max = 12\n"
          ],
          "name": "stdout"
        }
      ]
    },
    {
      "cell_type": "code",
      "metadata": {
        "colab": {
          "base_uri": "https://localhost:8080/"
        },
        "id": "FykBz2MmxEuh",
        "outputId": "46fb328f-7746-4f53-89e2-7a7dde57667c"
      },
      "source": [
        "#funcion len()\n",
        "tup = (1, 2, 3, 4)\n",
        "nombre = (\"Minch\", \"Yoda\")\n",
        "trabajo = (\"Stars\", \"War\", \"Movie\")\n",
        "empty = ()\n",
        "print(len(tup))\n",
        "print(len(nombre))\n",
        "print(len(trabajo))\n",
        "print(len(empty))"
      ],
      "execution_count": null,
      "outputs": [
        {
          "output_type": "stream",
          "text": [
            "4\n",
            "2\n",
            "3\n",
            "1\n"
          ],
          "name": "stdout"
        }
      ]
    },
    {
      "cell_type": "code",
      "metadata": {
        "colab": {
          "base_uri": "https://localhost:8080/"
        },
        "id": "bT-hR00CxJ1E",
        "outputId": "69c37148-a131-425a-8ccd-d2dd8b796e6b"
      },
      "source": [
        "#funcion slice [ini,fin,inc], retorna una sub-tupla \n",
        "avengers = (\"Ironman\", \"Thor\", \"Ant-man\", \"Hulk\")\n",
        "print(avengers[:2]) #incluye elementos 0 y 1 solamente, excluye el elemento 2\n",
        "print(avengers[1:2])#incluye el elemento 1 solamente\n",
        "print(avengers[3:3]) #vacio, ya que no incluye el elemento 3\n",
        "print(avengers[::-1]) #presenta en orden descendente, de dere a izq"
      ],
      "execution_count": null,
      "outputs": [
        {
          "output_type": "stream",
          "text": [
            "('Ironman', 'Thor')\n",
            "('Thor',)\n",
            "()\n",
            "('Hulk', 'Ant-man', 'Thor', 'Ironman')\n"
          ],
          "name": "stdout"
        }
      ]
    },
    {
      "cell_type": "code",
      "metadata": {
        "colab": {
          "base_uri": "https://localhost:8080/"
        },
        "id": "o7DaB5bpxQB7",
        "outputId": "ff94b509-5295-488d-b9ec-c009d8d49244"
      },
      "source": [
        "#metodo obj.count(elemento)\n",
        "tupla = (4, 3, 8, 8, 2, 5, 4, 6, 8, 9)\n",
        "print(tupla.count(2),end='\\t')\n",
        "print(tupla.count(8),end='\\t')\n",
        "print(tupla.count(5),end='\\t')\n",
        "print(tupla.count(7))"
      ],
      "execution_count": null,
      "outputs": [
        {
          "output_type": "stream",
          "text": [
            "1\t3\t1\t0\n"
          ],
          "name": "stdout"
        }
      ]
    },
    {
      "cell_type": "code",
      "metadata": {
        "id": "QozuGc5ixdCD",
        "colab": {
          "base_uri": "https://localhost:8080/"
        },
        "outputId": "2e729f79-5aa0-4cd1-c29d-d1f9dcbee4d7"
      },
      "source": [
        "#Metodo obj.index(),retorna la posicion de la primera ocurrencia de un elemento en una tupla\n",
        "tupla = (4, 3, 8, 8, 2, 5, 4, 6, 8, 9)\n",
        "print(tupla.index(2),end='\\t') #4\n",
        "print(tupla.index(8),end='\\t') # 2\n",
        "print(tupla.index(5),end=' ') # 5"
      ],
      "execution_count": null,
      "outputs": [
        {
          "output_type": "stream",
          "text": [
            "4\t2\t5 "
          ],
          "name": "stdout"
        }
      ]
    },
    {
      "cell_type": "code",
      "metadata": {
        "id": "orLCqJYOxeEW",
        "colab": {
          "base_uri": "https://localhost:8080/"
        },
        "outputId": "788cec02-289f-4dfa-fc76-fdd203091e4d"
      },
      "source": [
        "#funciones min()   max()\n",
        "t = (4, 5, -1, 6, 7)\n",
        "print(max(t),end='\\t')\n",
        "t=('b', 'a', 'c')\n",
        "print(min(t))"
      ],
      "execution_count": null,
      "outputs": [
        {
          "output_type": "stream",
          "text": [
            "7\ta\n"
          ],
          "name": "stdout"
        }
      ]
    },
    {
      "cell_type": "code",
      "metadata": {
        "id": "uDyUw4dAxij7",
        "colab": {
          "base_uri": "https://localhost:8080/"
        },
        "outputId": "a4b5c997-4648-47e1-fb66-572559f44a78"
      },
      "source": [
        "#funcion tuple(), sirve para crear tuplas a partir de otros objetos o para convertir a tupla otros objs\n",
        "magician = 'Dumbledore' #cadena\n",
        "tm = tuple(magician)\n",
        "print(tm)"
      ],
      "execution_count": null,
      "outputs": [
        {
          "output_type": "stream",
          "text": [
            "('D', 'u', 'm', 'b', 'l', 'e', 'd', 'o', 'r', 'e')\n"
          ],
          "name": "stdout"
        }
      ]
    },
    {
      "cell_type": "code",
      "metadata": {
        "id": "8IE5TME7xm--",
        "colab": {
          "base_uri": "https://localhost:8080/"
        },
        "outputId": "d214c0a7-0967-4a55-ebd0-2f51c710d50a"
      },
      "source": [
        "#Desempacar el contenido de una tupla\n",
        "tup1 = (1, 2, 3, 6)\n",
        "print('longitud: ', len(tup1)) \n",
        "#el nro de variables debe concordar con la len(tup1)\n",
        "a, b, c, d = tup1 #extrae uno a uno los elementos de la tupla\n",
        "print('a:', a, '\\tb:', b, '\\tc:', c,'\\td:', d )"
      ],
      "execution_count": null,
      "outputs": [
        {
          "output_type": "stream",
          "text": [
            "longitud:  4\n",
            "a: 1 \tb: 2 \tc: 3 \td: 6\n"
          ],
          "name": "stdout"
        }
      ]
    },
    {
      "cell_type": "code",
      "metadata": {
        "id": "otKJkV4kxr1l",
        "colab": {
          "base_uri": "https://localhost:8080/"
        },
        "outputId": "b393ac4d-94b1-44c1-aee4-a6a688557ade"
      },
      "source": [
        "#funcion map(): Ejecuta una funcion map() para c/u de los valores de una tupla,\n",
        "#int() convierte a int los valores leidos, \n",
        "#tuple() crea una tupla con tales valores\n",
        "delimitador =' '\n",
        "t = tuple(map(int, input('digite numeros separados por espacio:').split(delimitador))) \n",
        "print(t)\n",
        "print('suma primeros 2 elementos: ', t[0] + t[1])"
      ],
      "execution_count": null,
      "outputs": [
        {
          "output_type": "stream",
          "text": [
            "digite numeros separados por espacio:12 23 5 66\n",
            "(12, 23, 5, 66)\n",
            "suma primeros 2 elementos:  35\n"
          ],
          "name": "stdout"
        }
      ]
    }
  ]
}