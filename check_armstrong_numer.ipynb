{
  "nbformat": 4,
  "nbformat_minor": 0,
  "metadata": {
    "colab": {
      "provenance": [],
      "authorship_tag": "ABX9TyPCGkxXLLN/Axyp5Edhmsgp",
      "include_colab_link": true
    },
    "kernelspec": {
      "name": "python3",
      "display_name": "Python 3"
    },
    "language_info": {
      "name": "python"
    }
  },
  "cells": [
    {
      "cell_type": "markdown",
      "metadata": {
        "id": "view-in-github",
        "colab_type": "text"
      },
      "source": [
        "<a href=\"https://colab.research.google.com/github/mcewenar/Google_colab/blob/master/check_armstrong_numer.ipynb\" target=\"_parent\"><img src=\"https://colab.research.google.com/assets/colab-badge.svg\" alt=\"Open In Colab\"/></a>"
      ]
    },
    {
      "cell_type": "code",
      "execution_count": 2,
      "metadata": {
        "colab": {
          "base_uri": "https://localhost:8080/"
        },
        "id": "gNU5kYgsp4SF",
        "outputId": "cfdad9ee-4604-4b50-eeb2-a5218cdd24a8"
      },
      "outputs": [
        {
          "output_type": "stream",
          "name": "stdout",
          "text": [
            "Enter a number: 153\n",
            "153 is Armstrong number\n"
          ]
        }
      ],
      "source": [
        "my_num = int(input(\"Enter a number: \"))\n",
        "power_of_num = len(str(my_num))\n",
        "\n",
        "total = 0\n",
        "i = my_num\n",
        "\n",
        "while i > 0:\n",
        "  remainder = i%10\n",
        "  total += remainder**power_of_num\n",
        "  i = i // 10\n",
        "\n",
        "if total == my_num:\n",
        "  print(f'{my_num} is Armstrong number')\n",
        "else:\n",
        "  print(f'{my_num} is not Armstrong number')"
      ]
    }
  ]
}