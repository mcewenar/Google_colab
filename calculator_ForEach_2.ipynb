{
  "nbformat": 4,
  "nbformat_minor": 0,
  "metadata": {
    "colab": {
      "provenance": [],
      "authorship_tag": "ABX9TyOi2q5v61q+hJAUEdaCL8sT",
      "include_colab_link": true
    },
    "kernelspec": {
      "name": "python3",
      "display_name": "Python 3"
    },
    "language_info": {
      "name": "python"
    }
  },
  "cells": [
    {
      "cell_type": "markdown",
      "metadata": {
        "id": "view-in-github",
        "colab_type": "text"
      },
      "source": [
        "<a href=\"https://colab.research.google.com/github/mcewenar/Google_colab/blob/master/calculator_ForEach_2.ipynb\" target=\"_parent\"><img src=\"https://colab.research.google.com/assets/colab-badge.svg\" alt=\"Open In Colab\"/></a>"
      ]
    },
    {
      "cell_type": "code",
      "execution_count": 18,
      "metadata": {
        "colab": {
          "base_uri": "https://localhost:8080/"
        },
        "id": "ioP0BHRL0DSe",
        "outputId": "fcaf8efc-6ab4-48a9-bf53-3eafcfbb8d0d"
      },
      "outputs": [
        {
          "output_type": "stream",
          "name": "stdout",
          "text": [
            "0.008333333333333333\n"
          ]
        }
      ],
      "source": [
        "def calcular_muchos(operation, *args):\n",
        "    \"\"\"Calculates the result of the specified binary operation on a variable number of arguments.\n",
        "\n",
        "    Args:\n",
        "        operation: The binary operation to perform (+, -, *, /).\n",
        "        *args: Variable number of arguments for the operation.\n",
        "\n",
        "    Returns:\n",
        "        The calculated result, or None if an error occurs.\n",
        "\n",
        "    Raises:\n",
        "        ValueError: If there are fewer than two arguments provided or the operation is not supported.\n",
        "    \"\"\"\n",
        "\n",
        "    if len(args) < 2:\n",
        "        raise ValueError(\"Cannot calculate with fewer than two numbers\")\n",
        "\n",
        "    try:\n",
        "        if operation in [\"+\", \"-\"]:\n",
        "            accum = 0\n",
        "            for arg in args:\n",
        "                accum = eval(f\"{accum} {operation} {arg}\")\n",
        "        elif operation in [\"*\", \"/\"]:\n",
        "            accum = 1\n",
        "            for arg in args:\n",
        "                if operation == \"/\" and (isinstance(accum, int) and arg == 0):\n",
        "                    raise ZeroDivisionError(\"Division by zero\")\n",
        "                accum = eval(f\"{accum} {operation} {arg}\")\n",
        "        else:\n",
        "            raise ValueError(\"Unsupported operation\")\n",
        "    except (ArithmeticError, TypeError) as e:\n",
        "        print(f\"Error: {e}\")\n",
        "        return None\n",
        "\n",
        "    return accum\n",
        "\n",
        "print(calcular_muchos(\"/\", 1, 2, 3, 4, 5))"
      ]
    }
  ]
}