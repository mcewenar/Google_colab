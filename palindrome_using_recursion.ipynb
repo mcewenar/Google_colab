{
  "nbformat": 4,
  "nbformat_minor": 0,
  "metadata": {
    "colab": {
      "provenance": [],
      "authorship_tag": "ABX9TyNvjl0oR2wqWkLsrtoAQCml",
      "include_colab_link": true
    },
    "kernelspec": {
      "name": "python3",
      "display_name": "Python 3"
    },
    "language_info": {
      "name": "python"
    }
  },
  "cells": [
    {
      "cell_type": "markdown",
      "metadata": {
        "id": "view-in-github",
        "colab_type": "text"
      },
      "source": [
        "<a href=\"https://colab.research.google.com/github/mcewenar/Google_colab/blob/master/palindrome_using_recursion.ipynb\" target=\"_parent\"><img src=\"https://colab.research.google.com/assets/colab-badge.svg\" alt=\"Open In Colab\"/></a>"
      ]
    },
    {
      "cell_type": "code",
      "execution_count": 1,
      "metadata": {
        "colab": {
          "base_uri": "https://localhost:8080/"
        },
        "id": "8oQd8rXU-9R_",
        "outputId": "92522025-17fe-46c7-9f48-7ca8adb66d60"
      },
      "outputs": [
        {
          "output_type": "stream",
          "name": "stdout",
          "text": [
            "Enter your string: anitalavalatina\n",
            "anitalavalatina is palindrome\n"
          ]
        }
      ],
      "source": [
        "def is_palindrome(l,r,S):\n",
        "  if l>=r:\n",
        "    return True;\n",
        "  if S[l] != S[r]:\n",
        "    return False\n",
        "  return is_palindrome(l+1,r-1,S)\n",
        "\n",
        "my_str = input(\"Enter your string: \")\n",
        "l = 0\n",
        "r = len(my_str)-1\n",
        "\n",
        "check = is_palindrome(l,r,my_str)\n",
        "\n",
        "if check:\n",
        "  print(f\"{my_str} is palindrome\")\n",
        "else:\n",
        "  print(f\"{my_str} is not palindrome\")"
      ]
    }
  ]
}