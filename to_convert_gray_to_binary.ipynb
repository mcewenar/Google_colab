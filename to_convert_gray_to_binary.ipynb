{
  "nbformat": 4,
  "nbformat_minor": 0,
  "metadata": {
    "colab": {
      "provenance": [],
      "authorship_tag": "ABX9TyOgDxLzcqoOfFhBjjJs0YwD",
      "include_colab_link": true
    },
    "kernelspec": {
      "name": "python3",
      "display_name": "Python 3"
    },
    "language_info": {
      "name": "python"
    }
  },
  "cells": [
    {
      "cell_type": "markdown",
      "metadata": {
        "id": "view-in-github",
        "colab_type": "text"
      },
      "source": [
        "<a href=\"https://colab.research.google.com/github/mcewenar/Google_colab/blob/master/to_convert_gray_to_binary.ipynb\" target=\"_parent\"><img src=\"https://colab.research.google.com/assets/colab-badge.svg\" alt=\"Open In Colab\"/></a>"
      ]
    },
    {
      "cell_type": "code",
      "execution_count": null,
      "metadata": {
        "id": "qEjdS0R98uNb"
      },
      "outputs": [],
      "source": [
        "def gray_to_binary(gray_str):\n",
        "  \"\"\"\n",
        "  Function to convert a gray code to its equivalent binary code.\n",
        "  :param gray_str: The input gray code string.\n",
        "  :return: the converted binary code string\n",
        "  \"\"\"\n",
        "  binary_code = gray_str[0]\n",
        "  for i in range(1, len(gray_str)):\n",
        "    binary_bit = str(int(binary_code[i - 1]) ^ int(gray_str[i]))\n",
        "    binary_code += binary_bit\n",
        "  return binary_code\n",
        "\n",
        "  if __name__ == \"__main__\":\n",
        "    gray_input = input(\"Enter a gray code to convert into binary code: \")\n",
        "\n",
        "    if all(bit in \"01\" for bit in gray_input):\n",
        "      binary_output = gray_to_binary(gray_input)\n",
        "      print(f\"The binary equivalent of {gray_input} is {binary_output}.\")\n",
        "    else:\n",
        "      print(\"Invalid input. Please enter a valid gray code consisting only of 0's and 1's.\")"
      ]
    }
  ]
}