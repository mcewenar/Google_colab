{
  "nbformat": 4,
  "nbformat_minor": 0,
  "metadata": {
    "colab": {
      "provenance": [],
      "authorship_tag": "ABX9TyN0m9Z97s9W5Gmppsi6FQef",
      "include_colab_link": true
    },
    "kernelspec": {
      "name": "python3",
      "display_name": "Python 3"
    },
    "language_info": {
      "name": "python"
    }
  },
  "cells": [
    {
      "cell_type": "markdown",
      "metadata": {
        "id": "view-in-github",
        "colab_type": "text"
      },
      "source": [
        "<a href=\"https://colab.research.google.com/github/mcewenar/Google_colab/blob/master/decimalToOctalConvertion.ipynb\" target=\"_parent\"><img src=\"https://colab.research.google.com/assets/colab-badge.svg\" alt=\"Open In Colab\"/></a>"
      ]
    },
    {
      "cell_type": "code",
      "execution_count": 3,
      "metadata": {
        "colab": {
          "base_uri": "https://localhost:8080/"
        },
        "id": "0jWUGEN1uSQX",
        "outputId": "3ca4f0d5-3c6b-41e0-9f5c-55cd8a3afd59"
      },
      "outputs": [
        {
          "output_type": "stream",
          "name": "stdout",
          "text": [
            "Enter a number: 100\n",
            "Octal of given number is 144"
          ]
        }
      ],
      "source": [
        "#Input\n",
        "num = int(input(\"Enter a number: \"))\n",
        "\n",
        "#Empty list to store octal numbers\n",
        "octal_num = []\n",
        "\n",
        "while num != 0:\n",
        "  rem = num % 8\n",
        "  octal_num.append(rem)\n",
        "  num = num//8\n",
        "\n",
        "#reversing list:\n",
        "octal_num = octal_num[::-1]\n",
        "\n",
        "print(\"Octal of given number is \", end='')\n",
        "for i in octal_num:\n",
        "  print(i,end=\"\")\n",
        "\n"
      ]
    },
    {
      "cell_type": "code",
      "source": [],
      "metadata": {
        "id": "ZBaEgQB_umwI"
      },
      "execution_count": null,
      "outputs": []
    }
  ]
}