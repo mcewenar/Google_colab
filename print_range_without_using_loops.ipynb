{
  "nbformat": 4,
  "nbformat_minor": 0,
  "metadata": {
    "colab": {
      "provenance": [],
      "authorship_tag": "ABX9TyPgSgOYuc6zosvRHcXLoDUt",
      "include_colab_link": true
    },
    "kernelspec": {
      "name": "python3",
      "display_name": "Python 3"
    },
    "language_info": {
      "name": "python"
    }
  },
  "cells": [
    {
      "cell_type": "markdown",
      "metadata": {
        "id": "view-in-github",
        "colab_type": "text"
      },
      "source": [
        "<a href=\"https://colab.research.google.com/github/mcewenar/Google_colab/blob/master/print_range_without_using_loops.ipynb\" target=\"_parent\"><img src=\"https://colab.research.google.com/assets/colab-badge.svg\" alt=\"Open In Colab\"/></a>"
      ]
    },
    {
      "cell_type": "code",
      "execution_count": 1,
      "metadata": {
        "colab": {
          "base_uri": "https://localhost:8080/"
        },
        "id": "rnaABjCpUvG_",
        "outputId": "1201f89e-f434-43e7-8ea9-e5fd9fdb95d1"
      },
      "outputs": [
        {
          "output_type": "stream",
          "name": "stdout",
          "text": [
            "Enter the starint number: 3\n",
            "Enter the ending number: 8\n",
            "3\n",
            "4\n",
            "5\n",
            "6\n",
            "7\n",
            "8\n"
          ]
        }
      ],
      "source": [
        "#Recursivity\n",
        "def print_range(start, end):\n",
        "  if start > end:\n",
        "    return\n",
        "  print(start)\n",
        "  print_range(start + 1, end)\n",
        "\n",
        "start = int(input(\"Enter the starint number: \"))\n",
        "end = int(input(\"Enter the ending number: \"))\n",
        "print_range(start, end)"
      ]
    }
  ]
}