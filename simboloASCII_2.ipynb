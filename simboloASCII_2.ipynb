{
  "nbformat": 4,
  "nbformat_minor": 0,
  "metadata": {
    "colab": {
      "name": "simboloASCII_2.ipynb",
      "provenance": [],
      "collapsed_sections": [],
      "authorship_tag": "ABX9TyOtv+aRHzn3VwdKeVJc8I0M",
      "include_colab_link": true
    },
    "kernelspec": {
      "name": "python3",
      "display_name": "Python 3"
    },
    "language_info": {
      "name": "python"
    }
  },
  "cells": [
    {
      "cell_type": "markdown",
      "metadata": {
        "id": "view-in-github",
        "colab_type": "text"
      },
      "source": [
        "<a href=\"https://colab.research.google.com/github/mcewenar/Google_colab/blob/master/simboloASCII_2.ipynb\" target=\"_parent\"><img src=\"https://colab.research.google.com/assets/colab-badge.svg\" alt=\"Open In Colab\"/></a>"
      ]
    },
    {
      "cell_type": "code",
      "metadata": {
        "id": "Q42XaiRVRv0x"
      },
      "source": [
        "#ingresar un simbolo, obtenga el codigo ascii de dicho caracter, lo muestre, pare is es mayuscula\n",
        "simbolo='a'\n",
        "#la funcion 'ord' retorna el codigo ascii de un simbolo\n",
        "codigo= ord(simbolo) # el codigo es un entero entre 0 y 255, donde hay caracteres imprimibles y no imprimibles\n",
        "while 0 <= codigo <= 64 or 91 <=codigo <=255: #condicion de terminacion\n",
        "  print(codigo)  # --------------\n",
        "  simbolo=input('ingrese un simbolo (letra, numero, signo de puntuacion), sale con Mayuscula: ')\n",
        "  codigo= ord(simbolo)"
      ],
      "execution_count": null,
      "outputs": []
    }
  ]
}