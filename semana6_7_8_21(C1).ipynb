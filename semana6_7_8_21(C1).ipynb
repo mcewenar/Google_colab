{
  "nbformat": 4,
  "nbformat_minor": 0,
  "metadata": {
    "colab": {
      "name": "semana6_7-8-21(C1).ipynb",
      "provenance": [],
      "collapsed_sections": [],
      "include_colab_link": true
    },
    "kernelspec": {
      "name": "python3",
      "display_name": "Python 3"
    },
    "language_info": {
      "name": "python"
    }
  },
  "cells": [
    {
      "cell_type": "markdown",
      "metadata": {
        "id": "view-in-github",
        "colab_type": "text"
      },
      "source": [
        "<a href=\"https://colab.research.google.com/github/mcewenar/Google_colab/blob/master/semana6_7_8_21(C1).ipynb\" target=\"_parent\"><img src=\"https://colab.research.google.com/assets/colab-badge.svg\" alt=\"Open In Colab\"/></a>"
      ]
    },
    {
      "cell_type": "code",
      "metadata": {
        "colab": {
          "base_uri": "https://localhost:8080/"
        },
        "id": "mSYEgRDApuNE",
        "outputId": "ee5f4a3b-4c83-4fb8-a01d-6cf9b5b8efce"
      },
      "source": [
        "# funcion sin argumentos y sin retorno\n",
        "def saludar():\n",
        "  nombre = input('su nombre: ')\n",
        "  print(\"Hola\", nombre)\n",
        "saludar()"
      ],
      "execution_count": null,
      "outputs": [
        {
          "output_type": "stream",
          "text": [
            "su nombre: zeus\n",
            "Hola zeus\n"
          ],
          "name": "stdout"
        }
      ]
    },
    {
      "cell_type": "code",
      "metadata": {
        "colab": {
          "base_uri": "https://localhost:8080/"
        },
        "id": "QUP6s-3LqVQN",
        "outputId": "909eccf0-4423-42ed-9b5f-78fe73cb59d3"
      },
      "source": [
        "#funcion con argumento sin retorno\n",
        "def saludar(nombre):\n",
        "  print('Hola', nombre)\n",
        "nombre = input('su nombre:')\n",
        "saludar(nombre)"
      ],
      "execution_count": null,
      "outputs": [
        {
          "output_type": "stream",
          "text": [
            "su nombre:titan\n",
            "Hola titan\n"
          ],
          "name": "stdout"
        }
      ]
    },
    {
      "cell_type": "code",
      "metadata": {
        "colab": {
          "base_uri": "https://localhost:8080/"
        },
        "id": "fEMIfFl0qtgu",
        "outputId": "eaa77999-0f3d-4dce-c16e-4e53e4d3af6a"
      },
      "source": [
        "#funcion con argumento y con retorno\n",
        "def saludar(nombre): #se declaran las variables de entrada\n",
        "  return ('Hola ' + nombre) #en el return, se declaran las v de salida\n",
        "nombre = input('su nombre: ')\n",
        "print(saludar(nombre))"
      ],
      "execution_count": null,
      "outputs": [
        {
          "output_type": "stream",
          "text": [
            "su nombre: atenea\n",
            "Hola atenea\n"
          ],
          "name": "stdout"
        }
      ]
    },
    {
      "cell_type": "code",
      "metadata": {
        "colab": {
          "base_uri": "https://localhost:8080/"
        },
        "id": "PeDVdoV4rDZ-",
        "outputId": "938bb563-ba11-4c36-af4a-63e3a868a7fa"
      },
      "source": [
        "#funcion con argumento por defecto\n",
        "def log_entero(num, base=2): #define los parametros formales\n",
        "  cont = 0\n",
        "  while num >= base: #pot= b x b x b =b**3\n",
        "    cont+=1\n",
        "    num /= base\n",
        "  return cont\n",
        "print(log_entero(9,3))\n",
        "print(log_entero(1000,10)) #parametros actuales \n",
        "print(log_entero(1024))# paso los parametros actuales\n",
        "print(2**10)\n",
        "\n"
      ],
      "execution_count": null,
      "outputs": [
        {
          "output_type": "stream",
          "text": [
            "2\n",
            "3\n",
            "10\n",
            "1024\n"
          ],
          "name": "stdout"
        }
      ]
    },
    {
      "cell_type": "code",
      "metadata": {
        "colab": {
          "base_uri": "https://localhost:8080/"
        },
        "id": "EhP3CVCcrQfI",
        "outputId": "32136456-01e1-4d96-814c-d8ed193d9825"
      },
      "source": [
        "#paso de parametros en cantidad variable (un * antecede al parametro formal, es una tupla)\n",
        "def variable_argumento(var1, *vari): #parametros formales\n",
        "  print('salida: '+ str(var1))\n",
        "  for var in vari:\n",
        "    print(var)\n",
        "variable_argumento(11) #regla: cant, tipo, orden\n",
        "variable_argumento(100, 90, 67, 23, 10,99) #parametros actuales, argumentos"
      ],
      "execution_count": null,
      "outputs": [
        {
          "output_type": "stream",
          "text": [
            "salida: 11\n",
            "salida: 100\n",
            "90\n",
            "67\n",
            "23\n",
            "10\n",
            "99\n"
          ],
          "name": "stdout"
        }
      ]
    },
    {
      "cell_type": "code",
      "metadata": {
        "colab": {
          "base_uri": "https://localhost:8080/"
        },
        "id": "AFcShFCPrt_-",
        "outputId": "e7d501dd-bdcc-4d46-e171-86dff473f3e2"
      },
      "source": [
        "#paso de parametros x coleccion: diccionario (** anteceden a la variable)\n",
        "from pprint import pprint\n",
        "def informar(**var):\n",
        "  pprint(var)\n",
        "  for k, v in var.items():\n",
        "    pprint(\"%s : %s\" %(k,v))\n",
        "\n",
        "informar(nombre=\"Poseidon\",edad=6000,ciudad=\"Olimpo\")"
      ],
      "execution_count": null,
      "outputs": [
        {
          "output_type": "stream",
          "text": [
            "{'ciudad': 'Olimpo', 'edad': 6000, 'nombre': 'Poseidon'}\n",
            "'nombre : Poseidon'\n",
            "'edad : 6000'\n",
            "'ciudad : Olimpo'\n"
          ],
          "name": "stdout"
        }
      ]
    },
    {
      "cell_type": "code",
      "metadata": {
        "colab": {
          "base_uri": "https://localhost:8080/"
        },
        "id": "Z5ujOk8PtD59",
        "outputId": "2eee36d3-17ff-4a4f-a239-5a01d8902310"
      },
      "source": [
        "#paso de parametros individuales: por  por referencia\n",
        "def func(a):\n",
        "  print('En la funcion 1 a=', a, id(a))\n",
        "  a *= 10 #al modificar la variable se crea una copia de ella\n",
        "  print('En la funcion 2 a=', a, id(a))\n",
        "\n",
        "a = 45\n",
        "func(a)\n",
        "print('En el progr ppal a=', a, id(a))"
      ],
      "execution_count": null,
      "outputs": [
        {
          "output_type": "stream",
          "text": [
            "En la funcion 1 a= 45 94230091435904\n",
            "En la funcion 2 a= 450 139726691658448\n",
            "En el progr ppal a= 45 94230091435904\n"
          ],
          "name": "stdout"
        }
      ]
    },
    {
      "cell_type": "code",
      "metadata": {
        "colab": {
          "base_uri": "https://localhost:8080/"
        },
        "id": "pBQnativIVa6",
        "outputId": "a51981ea-ac63-48d3-94d7-a1e813377fbd"
      },
      "source": [
        "#paso de param tipo cadena, por referencia es pasar la direccion de la variable en mem ram\n",
        "def fun0(a):\n",
        "  print('dentro1:', a, id(a))\n",
        "  a='hola tu' #modifico la var a, automaticamente se crea una copia de a\n",
        "  print('dentro2:', a, id(a))\n",
        "\n",
        "a='cadena111' #tabla de simbolos\n",
        "print('fuera1:', a, id(a))\n",
        "fun0(a)\n",
        "print('fuera2:',a)"
      ],
      "execution_count": null,
      "outputs": [
        {
          "output_type": "stream",
          "text": [
            "fuera1: cadena111 139726691566128\n",
            "dentro1: cadena111 139726691566128\n",
            "dentro2: hola tu 139726691676848\n",
            "fuera2: cadena111\n"
          ],
          "name": "stdout"
        }
      ]
    },
    {
      "cell_type": "code",
      "metadata": {
        "colab": {
          "base_uri": "https://localhost:8080/"
        },
        "id": "kKrliyieIDAi",
        "outputId": "23a9a4c3-57d7-4af9-c348-4aaf12a06bcb"
      },
      "source": [
        "#paso de parametros por referencia: listas, paso la direcc en mem donde esta el contenido de la lista\n",
        "def fun1(a):\n",
        "  a[0]='saludo'# al modificar no se crea la copia de la variable\n",
        "  print('dentro:', a, id(a))\n",
        "\n",
        "a=['hola', 22, 99.9]\n",
        "print('fuera1:', a, id(a))\n",
        "fun1(a)\n",
        "print('fuera2:',a)"
      ],
      "execution_count": null,
      "outputs": [
        {
          "output_type": "stream",
          "text": [
            "fuera1: ['hola', 22, 99.9] 139726691486928\n",
            "dentro: ['saludo', 22, 99.9] 139726691486928\n",
            "fuera2: ['saludo', 22, 99.9]\n"
          ],
          "name": "stdout"
        }
      ]
    },
    {
      "cell_type": "code",
      "metadata": {
        "colab": {
          "base_uri": "https://localhost:8080/"
        },
        "id": "qc8s01N_sMXg",
        "outputId": "6ed5730a-3b7c-493c-e2c6-a0399e8a0708"
      },
      "source": [
        "#paso de parametros: las colecciones se pasan por referencia\n",
        "def unir_listas(lista1, lista2):\n",
        "  lista1.extend(lista2)\n",
        "  print('dentro: ', id(lista1))\n",
        "\n",
        "avengers = ['Tony', 'Natalia', 'Steve']\n",
        "nuevos_avengers = ['Thor', 'Peter']\n",
        "unir_listas(avengers, nuevos_avengers)\n",
        "print('fuera',avengers, id(avengers))"
      ],
      "execution_count": null,
      "outputs": [
        {
          "output_type": "stream",
          "text": [
            "dentro:  139991510325440\n",
            "fuera ['Tony', 'Natalia', 'Steve', 'Thor', 'Peter'] 139991510325440\n"
          ],
          "name": "stdout"
        }
      ]
    },
    {
      "cell_type": "code",
      "metadata": {
        "colab": {
          "base_uri": "https://localhost:8080/"
        },
        "id": "s4tEoreXuFJX",
        "outputId": "5279ad66-8dbb-4e00-c213-8f966f49ab14"
      },
      "source": [
        "#paso de parametros, coleccion por referencia\n",
        "def no_limpia_lista(lista):\n",
        "  print('dentro1:', id(lista))\n",
        "  lista = [] #si modifica la lista => crea otra copia de lista en mem ram\n",
        "  print('dentro2:',lista,id(lista))\n",
        "  return lista\n",
        "\n",
        "avengers = ['Tony', 'Natalia', 'Steve']\n",
        "aa = no_limpia_lista(avengers)\n",
        "print('afuera1 avengers:', avengers, id(avengers))\n",
        "print('afuera2: aa', aa, id(aa))"
      ],
      "execution_count": null,
      "outputs": [
        {
          "output_type": "stream",
          "text": [
            "dentro1: 139931152953904\n",
            "dentro2: [] 139931091659344\n",
            "afuera1 avengers: ['Tony', 'Natalia', 'Steve'] 139931152953904\n",
            "afuera2: aa [] 139931091659344\n"
          ],
          "name": "stdout"
        }
      ]
    },
    {
      "cell_type": "code",
      "metadata": {
        "colab": {
          "base_uri": "https://localhost:8080/"
        },
        "id": "fO904kW0ygTM",
        "outputId": "82abea69-3bcb-4533-97a3-1d998a4c335c"
      },
      "source": [
        "#paso de param tipo diccionario, por referencia\n",
        "def fun3(dd):\n",
        "  dd[21]='ftp'# si existe k, cambia v; sino existe, lo inserta\n",
        "  print('dentro:', dd, id(dd))\n",
        "\n",
        "dict_ports1 = {22: \"SSH\", 23: \"telnet\", 80: \"Http\"}\n",
        "print('afuera1:',list(dict_ports1.items()), id(dict_ports1))\n",
        "fun3(dict_ports1)\n",
        "print('afuera2:',list(dict_ports1.items()))"
      ],
      "execution_count": null,
      "outputs": [
        {
          "output_type": "stream",
          "text": [
            "afuera1: [(22, 'SSH'), (23, 'telnet'), (80, 'Http')] 139726691233376\n",
            "dentro: {22: 'SSH', 23: 'telnet', 80: 'Http', 21: 'ftp'} 139726691233376\n",
            "afuera2: [(22, 'SSH'), (23, 'telnet'), (80, 'Http'), (21, 'ftp')]\n"
          ],
          "name": "stdout"
        }
      ]
    },
    {
      "cell_type": "code",
      "metadata": {
        "colab": {
          "base_uri": "https://localhost:8080/"
        },
        "id": "-aM8P5rtujxu",
        "outputId": "53f24730-001f-4271-824f-b46293c829f4"
      },
      "source": [
        "#alcance de las variables (local y global), \n",
        "def func(): \n",
        "  h=2021 #local  ambito alcance local (vale solo en la ciudad)\n",
        "  print('dentro h:', h)\n",
        "  global g #crea una copia\n",
        "  g+=1 # se visualiza globalmente, de consulta, no de escritura\n",
        "  print('dentro:', g, id(g))\n",
        "g=10 #      global (simil: vale en todo el territorio o pais)\n",
        "print ('afuera1:',g, id(g))\n",
        "func()\n",
        "#print('fuera:',h)\n",
        "print ('afuera2:',g, id(g))"
      ],
      "execution_count": null,
      "outputs": [
        {
          "output_type": "stream",
          "text": [
            "afuera1: 10 94859604437792\n",
            "dentro h: 2021\n",
            "dentro: 11 94859604437824\n",
            "afuera2: 11 94859604437824\n"
          ],
          "name": "stdout"
        }
      ]
    },
    {
      "cell_type": "code",
      "metadata": {
        "colab": {
          "base_uri": "https://localhost:8080/"
        },
        "id": "YXq8xHmRvIgo",
        "outputId": "e1cd6ee4-5461-47f5-a926-5eed0dee8792"
      },
      "source": [
        "#alcance de las variables (local y global), \n",
        "k = 4 #k es var global\n",
        "def main1():\n",
        "  lista = [] #lista es local en main1() con alcance global en add()\n",
        "  def add():\n",
        "    for x in range(k):\n",
        "      lista.append(x)\n",
        "    print('adentro:',lista, id(lista))\n",
        "  add()\n",
        "  print('afuera: ',lista, id(lista))\n",
        "main1()\n",
        "#print(lista)"
      ],
      "execution_count": null,
      "outputs": [
        {
          "output_type": "stream",
          "text": [
            "adentro: [0, 1, 2, 3] 140625207570752\n",
            "afuera:  [0, 1, 2, 3] 140625207570752\n"
          ],
          "name": "stdout"
        }
      ]
    },
    {
      "cell_type": "code",
      "metadata": {
        "colab": {
          "base_uri": "https://localhost:8080/"
        },
        "id": "cPsazuKFwE3x",
        "outputId": "ac82a136-a8a4-476e-abee-6bc41bafa372"
      },
      "source": [
        "#alcance de las variables (local y global), \n",
        "k=5\n",
        "def func():\n",
        "  global k #se declara global para modificarla\n",
        "  k=k+7\n",
        "  print(\"La variable k tiene alcance global:\",k)\n",
        "func()\n",
        "print (\"Valor de la variable global k fuera de la funcion:\",k)"
      ],
      "execution_count": null,
      "outputs": [
        {
          "output_type": "stream",
          "text": [
            "La variable k tiene alcance global: 12\n",
            "Valor de la variable global k fuera de la funcion: 12\n"
          ],
          "name": "stdout"
        }
      ]
    },
    {
      "cell_type": "code",
      "metadata": {
        "colab": {
          "base_uri": "https://localhost:8080/"
        },
        "id": "mDn-Ph1zw1U9",
        "outputId": "de1c2946-c417-4a21-92ae-e095ea80c741"
      },
      "source": [
        "#alcance de las variables (local y global), \n",
        "cade = \"sorprendente\"\n",
        "def myfunc():\n",
        "  global cade\n",
        "  cade = \"fantastico\" #crea una copia, porque modifique el contenido de cade\n",
        "  print(id(cade))\n",
        "print(\"Antes Python era \" + cade, id(cade))\n",
        "myfunc()\n",
        "print(\"Ahora Python es \" + cade, id(cade)) #se ha creado una copia?"
      ],
      "execution_count": null,
      "outputs": [
        {
          "output_type": "stream",
          "text": [
            "Antes Python era sorprendente 139725632964208\n",
            "139725632965040\n",
            "Ahora Python es fantastico 139725632965040\n"
          ],
          "name": "stdout"
        }
      ]
    },
    {
      "cell_type": "code",
      "metadata": {
        "colab": {
          "base_uri": "https://localhost:8080/"
        },
        "id": "6dV33HdWxKc8",
        "outputId": "1fe7c46b-6411-4db1-b4cc-9fc954a52d75"
      },
      "source": [
        "#Consultar los metodos que tiene un modulo determinado\n",
        "import numpy\n",
        "dd=dir(numpy)\n",
        "for d in dd:\n",
        "  print(d)"
      ],
      "execution_count": null,
      "outputs": [
        {
          "output_type": "stream",
          "text": [
            "ALLOW_THREADS\n",
            "AxisError\n",
            "BUFSIZE\n",
            "CLIP\n",
            "ComplexWarning\n",
            "DataSource\n",
            "ERR_CALL\n",
            "ERR_DEFAULT\n",
            "ERR_IGNORE\n",
            "ERR_LOG\n",
            "ERR_PRINT\n",
            "ERR_RAISE\n",
            "ERR_WARN\n",
            "FLOATING_POINT_SUPPORT\n",
            "FPE_DIVIDEBYZERO\n",
            "FPE_INVALID\n",
            "FPE_OVERFLOW\n",
            "FPE_UNDERFLOW\n",
            "False_\n",
            "Inf\n",
            "Infinity\n",
            "MAXDIMS\n",
            "MAY_SHARE_BOUNDS\n",
            "MAY_SHARE_EXACT\n",
            "MachAr\n",
            "ModuleDeprecationWarning\n",
            "NAN\n",
            "NINF\n",
            "NZERO\n",
            "NaN\n",
            "PINF\n",
            "PZERO\n",
            "RAISE\n",
            "RankWarning\n",
            "SHIFT_DIVIDEBYZERO\n",
            "SHIFT_INVALID\n",
            "SHIFT_OVERFLOW\n",
            "SHIFT_UNDERFLOW\n",
            "ScalarType\n",
            "Tester\n",
            "TooHardError\n",
            "True_\n",
            "UFUNC_BUFSIZE_DEFAULT\n",
            "UFUNC_PYVALS_NAME\n",
            "VisibleDeprecationWarning\n",
            "WRAP\n",
            "_NoValue\n",
            "_UFUNC_API\n",
            "__NUMPY_SETUP__\n",
            "__all__\n",
            "__builtins__\n",
            "__cached__\n",
            "__config__\n",
            "__dir__\n",
            "__doc__\n",
            "__file__\n",
            "__getattr__\n",
            "__git_revision__\n",
            "__loader__\n",
            "__name__\n",
            "__package__\n",
            "__path__\n",
            "__spec__\n",
            "__version__\n",
            "_add_newdoc_ufunc\n",
            "_distributor_init\n",
            "_globals\n",
            "_mat\n",
            "_pytesttester\n",
            "abs\n",
            "absolute\n",
            "add\n",
            "add_docstring\n",
            "add_newdoc\n",
            "add_newdoc_ufunc\n",
            "alen\n",
            "all\n",
            "allclose\n",
            "alltrue\n",
            "amax\n",
            "amin\n",
            "angle\n",
            "any\n",
            "append\n",
            "apply_along_axis\n",
            "apply_over_axes\n",
            "arange\n",
            "arccos\n",
            "arccosh\n",
            "arcsin\n",
            "arcsinh\n",
            "arctan\n",
            "arctan2\n",
            "arctanh\n",
            "argmax\n",
            "argmin\n",
            "argpartition\n",
            "argsort\n",
            "argwhere\n",
            "around\n",
            "array\n",
            "array2string\n",
            "array_equal\n",
            "array_equiv\n",
            "array_repr\n",
            "array_split\n",
            "array_str\n",
            "asanyarray\n",
            "asarray\n",
            "asarray_chkfinite\n",
            "ascontiguousarray\n",
            "asfarray\n",
            "asfortranarray\n",
            "asmatrix\n",
            "asscalar\n",
            "atleast_1d\n",
            "atleast_2d\n",
            "atleast_3d\n",
            "average\n",
            "bartlett\n",
            "base_repr\n",
            "binary_repr\n",
            "bincount\n",
            "bitwise_and\n",
            "bitwise_not\n",
            "bitwise_or\n",
            "bitwise_xor\n",
            "blackman\n",
            "block\n",
            "bmat\n",
            "bool\n",
            "bool8\n",
            "bool_\n",
            "broadcast\n",
            "broadcast_arrays\n",
            "broadcast_to\n",
            "busday_count\n",
            "busday_offset\n",
            "busdaycalendar\n",
            "byte\n",
            "byte_bounds\n",
            "bytes0\n",
            "bytes_\n",
            "c_\n",
            "can_cast\n",
            "cast\n",
            "cbrt\n",
            "cdouble\n",
            "ceil\n",
            "cfloat\n",
            "char\n",
            "character\n",
            "chararray\n",
            "choose\n",
            "clip\n",
            "clongdouble\n",
            "clongfloat\n",
            "column_stack\n",
            "common_type\n",
            "compare_chararrays\n",
            "compat\n",
            "complex\n",
            "complex128\n",
            "complex256\n",
            "complex64\n",
            "complex_\n",
            "complexfloating\n",
            "compress\n",
            "concatenate\n",
            "conj\n",
            "conjugate\n",
            "convolve\n",
            "copy\n",
            "copysign\n",
            "copyto\n",
            "core\n",
            "corrcoef\n",
            "correlate\n",
            "cos\n",
            "cosh\n",
            "count_nonzero\n",
            "cov\n",
            "cross\n",
            "csingle\n",
            "ctypeslib\n",
            "cumprod\n",
            "cumproduct\n",
            "cumsum\n",
            "datetime64\n",
            "datetime_as_string\n",
            "datetime_data\n",
            "deg2rad\n",
            "degrees\n",
            "delete\n",
            "deprecate\n",
            "deprecate_with_doc\n",
            "diag\n",
            "diag_indices\n",
            "diag_indices_from\n",
            "diagflat\n",
            "diagonal\n",
            "diff\n",
            "digitize\n",
            "disp\n",
            "divide\n",
            "divmod\n",
            "dot\n",
            "double\n",
            "dsplit\n",
            "dstack\n",
            "dtype\n",
            "e\n",
            "ediff1d\n",
            "einsum\n",
            "einsum_path\n",
            "emath\n",
            "empty\n",
            "empty_like\n",
            "equal\n",
            "errstate\n",
            "euler_gamma\n",
            "exp\n",
            "exp2\n",
            "expand_dims\n",
            "expm1\n",
            "extract\n",
            "eye\n",
            "fabs\n",
            "fastCopyAndTranspose\n",
            "fft\n",
            "fill_diagonal\n",
            "find_common_type\n",
            "finfo\n",
            "fix\n",
            "flatiter\n",
            "flatnonzero\n",
            "flexible\n",
            "flip\n",
            "fliplr\n",
            "flipud\n",
            "float\n",
            "float128\n",
            "float16\n",
            "float32\n",
            "float64\n",
            "float_\n",
            "float_power\n",
            "floating\n",
            "floor\n",
            "floor_divide\n",
            "fmax\n",
            "fmin\n",
            "fmod\n",
            "format_float_positional\n",
            "format_float_scientific\n",
            "format_parser\n",
            "frexp\n",
            "frombuffer\n",
            "fromfile\n",
            "fromfunction\n",
            "fromiter\n",
            "frompyfunc\n",
            "fromregex\n",
            "fromstring\n",
            "full\n",
            "full_like\n",
            "fv\n",
            "gcd\n",
            "generic\n",
            "genfromtxt\n",
            "geomspace\n",
            "get_array_wrap\n",
            "get_include\n",
            "get_printoptions\n",
            "getbufsize\n",
            "geterr\n",
            "geterrcall\n",
            "geterrobj\n",
            "gradient\n",
            "greater\n",
            "greater_equal\n",
            "half\n",
            "hamming\n",
            "hanning\n",
            "heaviside\n",
            "histogram\n",
            "histogram2d\n",
            "histogram_bin_edges\n",
            "histogramdd\n",
            "hsplit\n",
            "hstack\n",
            "hypot\n",
            "i0\n",
            "identity\n",
            "iinfo\n",
            "imag\n",
            "in1d\n",
            "index_exp\n",
            "indices\n",
            "inexact\n",
            "inf\n",
            "info\n",
            "infty\n",
            "inner\n",
            "insert\n",
            "int\n",
            "int0\n",
            "int16\n",
            "int32\n",
            "int64\n",
            "int8\n",
            "int_\n",
            "intc\n",
            "integer\n",
            "interp\n",
            "intersect1d\n",
            "intp\n",
            "invert\n",
            "ipmt\n",
            "irr\n",
            "is_busday\n",
            "isclose\n",
            "iscomplex\n",
            "iscomplexobj\n",
            "isfinite\n",
            "isfortran\n",
            "isin\n",
            "isinf\n",
            "isnan\n",
            "isnat\n",
            "isneginf\n",
            "isposinf\n",
            "isreal\n",
            "isrealobj\n",
            "isscalar\n",
            "issctype\n",
            "issubclass_\n",
            "issubdtype\n",
            "issubsctype\n",
            "iterable\n",
            "ix_\n",
            "kaiser\n",
            "kernel_version\n",
            "kron\n",
            "lcm\n",
            "ldexp\n",
            "left_shift\n",
            "less\n",
            "less_equal\n",
            "lexsort\n",
            "lib\n",
            "linalg\n",
            "linspace\n",
            "little_endian\n",
            "load\n",
            "loads\n",
            "loadtxt\n",
            "log\n",
            "log10\n",
            "log1p\n",
            "log2\n",
            "logaddexp\n",
            "logaddexp2\n",
            "logical_and\n",
            "logical_not\n",
            "logical_or\n",
            "logical_xor\n",
            "logspace\n",
            "long\n",
            "longcomplex\n",
            "longdouble\n",
            "longfloat\n",
            "longlong\n",
            "lookfor\n",
            "ma\n",
            "mafromtxt\n",
            "mask_indices\n",
            "mat\n",
            "math\n",
            "matmul\n",
            "matrix\n",
            "matrixlib\n",
            "max\n",
            "maximum\n",
            "maximum_sctype\n",
            "may_share_memory\n",
            "mean\n",
            "median\n",
            "memmap\n",
            "meshgrid\n",
            "mgrid\n",
            "min\n",
            "min_scalar_type\n",
            "minimum\n",
            "mintypecode\n",
            "mirr\n",
            "mod\n",
            "modf\n",
            "moveaxis\n",
            "msort\n",
            "multiply\n",
            "nan\n",
            "nan_to_num\n",
            "nanargmax\n",
            "nanargmin\n",
            "nancumprod\n",
            "nancumsum\n",
            "nanmax\n",
            "nanmean\n",
            "nanmedian\n",
            "nanmin\n",
            "nanpercentile\n",
            "nanprod\n",
            "nanquantile\n",
            "nanstd\n",
            "nansum\n",
            "nanvar\n",
            "nbytes\n",
            "ndarray\n",
            "ndenumerate\n",
            "ndfromtxt\n",
            "ndim\n",
            "ndindex\n",
            "nditer\n",
            "negative\n",
            "nested_iters\n",
            "newaxis\n",
            "nextafter\n",
            "nonzero\n",
            "not_equal\n",
            "nper\n",
            "npv\n",
            "numarray\n",
            "number\n",
            "obj2sctype\n",
            "object\n",
            "object0\n",
            "object_\n",
            "ogrid\n",
            "oldnumeric\n",
            "ones\n",
            "ones_like\n",
            "os\n",
            "outer\n",
            "packbits\n",
            "pad\n",
            "partition\n",
            "percentile\n",
            "pi\n",
            "piecewise\n",
            "place\n",
            "pmt\n",
            "poly\n",
            "poly1d\n",
            "polyadd\n",
            "polyder\n",
            "polydiv\n",
            "polyfit\n",
            "polyint\n",
            "polymul\n",
            "polynomial\n",
            "polysub\n",
            "polyval\n",
            "positive\n",
            "power\n",
            "ppmt\n",
            "printoptions\n",
            "prod\n",
            "product\n",
            "promote_types\n",
            "ptp\n",
            "put\n",
            "put_along_axis\n",
            "putmask\n",
            "pv\n",
            "quantile\n",
            "r_\n",
            "rad2deg\n",
            "radians\n",
            "random\n",
            "rate\n",
            "ravel\n",
            "ravel_multi_index\n",
            "real\n",
            "real_if_close\n",
            "rec\n",
            "recarray\n",
            "recfromcsv\n",
            "recfromtxt\n",
            "reciprocal\n",
            "record\n",
            "remainder\n",
            "repeat\n",
            "require\n",
            "reshape\n",
            "resize\n",
            "result_type\n",
            "right_shift\n",
            "rint\n",
            "roll\n",
            "rollaxis\n",
            "roots\n",
            "rot90\n",
            "round\n",
            "round_\n",
            "row_stack\n",
            "s_\n",
            "safe_eval\n",
            "save\n",
            "savetxt\n",
            "savez\n",
            "savez_compressed\n",
            "sctype2char\n",
            "sctypeDict\n",
            "sctypeNA\n",
            "sctypes\n",
            "searchsorted\n",
            "select\n",
            "set_numeric_ops\n",
            "set_printoptions\n",
            "set_string_function\n",
            "setbufsize\n",
            "setdiff1d\n",
            "seterr\n",
            "seterrcall\n",
            "seterrobj\n",
            "setxor1d\n",
            "shape\n",
            "shares_memory\n",
            "short\n",
            "show_config\n",
            "sign\n",
            "signbit\n",
            "signedinteger\n",
            "sin\n",
            "sinc\n",
            "single\n",
            "singlecomplex\n",
            "sinh\n",
            "size\n",
            "sometrue\n",
            "sort\n",
            "sort_complex\n",
            "source\n",
            "spacing\n",
            "split\n",
            "sqrt\n",
            "square\n",
            "squeeze\n",
            "stack\n",
            "std\n",
            "str\n",
            "str0\n",
            "str_\n",
            "string_\n",
            "subtract\n",
            "sum\n",
            "swapaxes\n",
            "sys\n",
            "take\n",
            "take_along_axis\n",
            "tan\n",
            "tanh\n",
            "tensordot\n",
            "test\n",
            "testing\n",
            "tile\n",
            "timedelta64\n",
            "trace\n",
            "tracemalloc_domain\n",
            "transpose\n",
            "trapz\n",
            "tri\n",
            "tril\n",
            "tril_indices\n",
            "tril_indices_from\n",
            "trim_zeros\n",
            "triu\n",
            "triu_indices\n",
            "triu_indices_from\n",
            "true_divide\n",
            "trunc\n",
            "typeDict\n",
            "typeNA\n",
            "typecodes\n",
            "typename\n",
            "ubyte\n",
            "ufunc\n",
            "uint\n",
            "uint0\n",
            "uint16\n",
            "uint32\n",
            "uint64\n",
            "uint8\n",
            "uintc\n",
            "uintp\n",
            "ulonglong\n",
            "unicode\n",
            "unicode_\n",
            "union1d\n",
            "unique\n",
            "unpackbits\n",
            "unravel_index\n",
            "unsignedinteger\n",
            "unwrap\n",
            "use_hugepage\n",
            "ushort\n",
            "vander\n",
            "var\n",
            "vdot\n",
            "vectorize\n",
            "version\n",
            "void\n",
            "void0\n",
            "vsplit\n",
            "vstack\n",
            "warnings\n",
            "where\n",
            "who\n",
            "zeros\n",
            "zeros_like\n"
          ],
          "name": "stdout"
        }
      ]
    },
    {
      "cell_type": "code",
      "metadata": {
        "colab": {
          "base_uri": "https://localhost:8080/"
        },
        "id": "XVLZ--RgyJS-",
        "outputId": "41f61966-04d5-46de-aabd-0ba1505b43e7"
      },
      "source": [
        "#localizacion de modulos en Python\n",
        "import sys\n",
        "for p in sys.path:\n",
        "  print(p)"
      ],
      "execution_count": null,
      "outputs": [
        {
          "output_type": "stream",
          "text": [
            "\n",
            "/content\n",
            "/env/python\n",
            "/usr/lib/python37.zip\n",
            "/usr/lib/python3.7\n",
            "/usr/lib/python3.7/lib-dynload\n",
            "/usr/local/lib/python3.7/dist-packages\n",
            "/usr/lib/python3/dist-packages\n",
            "/usr/local/lib/python3.7/dist-packages/IPython/extensions\n",
            "/root/.ipython\n"
          ],
          "name": "stdout"
        }
      ]
    }
  ]
}