{
  "nbformat": 4,
  "nbformat_minor": 0,
  "metadata": {
    "colab": {
      "provenance": [],
      "authorship_tag": "ABX9TyPuAKPaeC6cOOrBjcaRJcvO",
      "include_colab_link": true
    },
    "kernelspec": {
      "name": "python3",
      "display_name": "Python 3"
    },
    "language_info": {
      "name": "python"
    }
  },
  "cells": [
    {
      "cell_type": "markdown",
      "metadata": {
        "id": "view-in-github",
        "colab_type": "text"
      },
      "source": [
        "<a href=\"https://colab.research.google.com/github/mcewenar/Google_colab/blob/master/search_many_users_by_ids.ipynb\" target=\"_parent\"><img src=\"https://colab.research.google.com/assets/colab-badge.svg\" alt=\"Open In Colab\"/></a>"
      ]
    },
    {
      "cell_type": "code",
      "execution_count": 2,
      "metadata": {
        "colab": {
          "base_uri": "https://localhost:8080/",
          "height": 87
        },
        "id": "MRQgtud5RbB6",
        "outputId": "fbb1fbe3-26f3-4e56-8e0d-a0db00373e72"
      },
      "outputs": [
        {
          "output_type": "stream",
          "name": "stdout",
          "text": [
            "['David', 'Juan', 'Guts']\n"
          ]
        },
        {
          "output_type": "execute_result",
          "data": {
            "text/plain": [
              "'\\nJAVASCRIPT:\\n\\n//2. Función que busca N usuarios por el id del usuario\\nfunction nUsersById(usersArray, ids) {\\n  return usersArray\\n  .filter(element => ids.includes(element.id))\\n  .map(user => user.name)\\n}\\n\\n\\n\\nconst users = [\\n  { id: 1, name: \"David\" },\\n  { id: 2, name: \"Anna\" },\\n  { id: 3, name: \"Juan\" },\\n  { id: 4, name: \"Ricardo\" },\\n  { id: 5, name: \"Alonso\" },\\n  { id: 6, name: \"Guts\" },\\n  { id: 7, name: \"Guille\" },\\n];\\n\\nconst IdUsers = [1,3,6]\\n\\n\\nconsole.log(nUsersById(users,IdUsers))\\n\\n'"
            ],
            "application/vnd.google.colaboratory.intrinsic+json": {
              "type": "string"
            }
          },
          "metadata": {},
          "execution_count": 2
        }
      ],
      "source": [
        "#2. Función que busca N usuarios por el id del usuario\n",
        "\n",
        "def n_users_by_id(users_array, ids):\n",
        "    return [user['name'] for user in users_array if user['id'] in ids]\n",
        "\n",
        "users = [\n",
        "    { 'id': 1, 'name': \"David\" },\n",
        "    { 'id': 2, 'name': \"Anna\" },\n",
        "    { 'id': 3, 'name': \"Juan\" },\n",
        "    { 'id': 4, 'name': \"Ricardo\" },\n",
        "    { 'id': 5, 'name': \"Alonso\" },\n",
        "    { 'id': 6, 'name': \"Guts\" },\n",
        "    { 'id': 7, 'name': \"Guille\" },\n",
        "]\n",
        "\n",
        "id_users = [1, 3, 6]\n",
        "print(n_users_by_id(users, id_users))\n",
        "\n",
        "\n",
        "\n",
        "\"\"\"\n",
        "JAVASCRIPT:\n",
        "\n",
        "//2. Función que busca N usuarios por el id del usuario\n",
        "function nUsersById(usersArray, ids) {\n",
        "  return usersArray\n",
        "  .filter(element => ids.includes(element.id))\n",
        "  .map(user => user.name)\n",
        "}\n",
        "\n",
        "\n",
        "\n",
        "const users = [\n",
        "  { id: 1, name: \"David\" },\n",
        "  { id: 2, name: \"Anna\" },\n",
        "  { id: 3, name: \"Juan\" },\n",
        "  { id: 4, name: \"Ricardo\" },\n",
        "  { id: 5, name: \"Alonso\" },\n",
        "  { id: 6, name: \"Guts\" },\n",
        "  { id: 7, name: \"Guille\" },\n",
        "];\n",
        "\n",
        "const IdUsers = [1,3,6]\n",
        "\n",
        "\n",
        "console.log(nUsersById(users,IdUsers))\n",
        "\n",
        "\"\"\""
      ]
    }
  ]
}