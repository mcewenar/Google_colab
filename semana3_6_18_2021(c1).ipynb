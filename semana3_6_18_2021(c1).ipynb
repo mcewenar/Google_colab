{
  "nbformat": 4,
  "nbformat_minor": 0,
  "metadata": {
    "colab": {
      "name": "semana3_6-18-2021(c1).ipynb",
      "provenance": [],
      "collapsed_sections": [],
      "authorship_tag": "ABX9TyMc9RDsaH1oPXfiNi/vdExa",
      "include_colab_link": true
    },
    "kernelspec": {
      "name": "python3",
      "display_name": "Python 3"
    },
    "language_info": {
      "name": "python"
    }
  },
  "cells": [
    {
      "cell_type": "markdown",
      "metadata": {
        "id": "view-in-github",
        "colab_type": "text"
      },
      "source": [
        "<a href=\"https://colab.research.google.com/github/mcewenar/Google_colab/blob/master/semana3_6_18_2021(c1).ipynb\" target=\"_parent\"><img src=\"https://colab.research.google.com/assets/colab-badge.svg\" alt=\"Open In Colab\"/></a>"
      ]
    },
    {
      "cell_type": "code",
      "metadata": {
        "id": "sdD47J4Delkq"
      },
      "source": [
        "#El metodo split divide una cadena de acuerdo a \n",
        "#un delimitador, dejando las partes separadas en una lista. \n",
        "#Ejemplo split(delimitador)\n",
        "sdate = \"01-06-2021\"\n",
        "lista= sdate.split(\"-\")  # diferente de slice - rebanada\n",
        "print(lista)\n",
        "print('dia:', lista[0], '- mes:', lista[1], '- agno:', lista[2])"
      ],
      "execution_count": null,
      "outputs": []
    },
    {
      "cell_type": "code",
      "metadata": {
        "colab": {
          "base_uri": "https://localhost:8080/"
        },
        "id": "l3_35P07TTs2",
        "outputId": "2c497d88-f2fa-45ff-a48d-d914ce446181"
      },
      "source": [
        "s = \"---++---cien anos de soledad en Macondo---++---\"\n",
        "print(s.strip(\"-+\"))\n",
        "print(s.lstrip(\"-+\"))\n",
        "print(s.rstrip(\"-+\"))"
      ],
      "execution_count": null,
      "outputs": [
        {
          "output_type": "stream",
          "text": [
            "cien anos de soledad en Macondo\n",
            "cien anos de soledad en Macondo---++---\n",
            "---++---cien anos de soledad en Macondo\n"
          ],
          "name": "stdout"
        }
      ]
    },
    {
      "cell_type": "code",
      "metadata": {
        "id": "16T_Wxqm2687"
      },
      "source": [
        "#funcion seno de x en rads alrededor de 0, utilizando los primeros n terminos Serie de McLaurin\n",
        "from math import pi \n",
        "def seno(x,n):\n",
        "  acum=0. ; sig=1. \n",
        "  for i in range(n+1): #i=0,1,2,3,4,5,6,7,8,9,10\n",
        "    num=x**(2*i+1)\n",
        "    den=facto(2*i+1)\n",
        "    ter=sig*num/den\n",
        "    acum += ter  #--\n",
        "    sig=sig*(-1) # 1, -1, 1, -1, 1 , -1 ....\n",
        "  return acum \n",
        "ang= float(input(\"Seno: Ingrese angulo en grados y punto: \"))# angulo en grados, se convierte a radianes\n",
        "rad=ang*pi/180.\n",
        "res=seno(rad,10)\n",
        "print(res)"
      ],
      "execution_count": null,
      "outputs": []
    },
    {
      "cell_type": "code",
      "metadata": {
        "id": "y-PZ5YbSet9V"
      },
      "source": [
        "#Justificacion de cadenas\n",
        "str1 = 'Bogota'\n",
        "print(str1.ljust(15, \"-\"))\n",
        "print(str1.rjust(15, \"-\"))\n",
        "print(str1.center(15, \"-\"))\n",
        "account = '123456789'\n",
        "print(account.zfill(15))"
      ],
      "execution_count": null,
      "outputs": []
    },
    {
      "cell_type": "code",
      "metadata": {
        "id": "VKEGJx3yfUun"
      },
      "source": [
        "#Metodo replace: Reemplaza una subcadena x otra, \n",
        "#ejemplo: objeto.replace(anterior, nueva)\n",
        "str1 = 'cien agnos de soledad'\n",
        "print(str1)\n",
        "rep = str1.replace('cien', 'setenta')\n",
        "print(rep)\n",
        "rep = rep.replace('agnos', 'dias')\n",
        "print(rep)\n",
        "rep = rep.replace('soledad', 'clases sincronicas!')\n",
        "print(rep)\n",
        "rep = rep.replace('a', '#')\n",
        "print(rep)"
      ],
      "execution_count": null,
      "outputs": []
    },
    {
      "cell_type": "code",
      "metadata": {
        "id": "WvJQNwLsgTZd"
      },
      "source": [
        "str1='Bogota';    str2='2345.'\n",
        "#print(str1.endswith('.')) # Determinar si una cadena termina con.\n",
        "#print(str1.startswith('B')) #: Determinar si una cadena empieza con.\n",
        "#print(str1.isalpha())# : Determinar si una cadena contiene letras unicamente.\n",
        "#isalnum : Determinar si una cadena contiene numeros y letras unicamente (alfanumerico)\n",
        "#print(str2.isdigit())# : Determinar si una cadena contiene solo digitos.\n",
        "#isspace() : Determinar si una cadena contiene solo espacios.\n",
        "#istitle : Determinar si una "
      ],
      "execution_count": null,
      "outputs": []
    },
    {
      "cell_type": "code",
      "metadata": {
        "id": "UockBLEFg2oU"
      },
      "source": [
        "#dada una cadena, determine si el codigo ascii del 1er caracter de la cadena es par o no\n",
        "c='bogota'#input(\"ingrese una cadena: \")\n",
        "d=ord(c[0])  # ord(char)\n",
        "print(d)\n",
        "es_par= d%2 == 0\n",
        "print(es_par)"
      ],
      "execution_count": null,
      "outputs": []
    },
    {
      "cell_type": "code",
      "metadata": {
        "id": "2URCVik9hX4m"
      },
      "source": [
        "#determinar si un caracter corresponde un numero o no\n",
        "#Los numeros corresponden al ord() del 48 al 57 en la tabla ascii\n",
        "codigo= ord(input(\"ingrese un solo caracter: \"))\n",
        "print(codigo)\n",
        "bandera: bool = 48<=codigo<=57 #O USANDO EL MÉTODO .isdigit()\n",
        "print(bandera)"
      ],
      "execution_count": null,
      "outputs": []
    },
    {
      "cell_type": "code",
      "metadata": {
        "id": "eJOGuXLOh7eu"
      },
      "source": [
        "#determinar si un nro entero corresponde a una vocal minuscula, consultar tabla ASCII\n",
        "d=int(input(\"numero entero: \")) # input lee caracteres\n",
        "if (d == 97 or d==101 or d==105 or d==111 or d==117):\n",
        "  bandera=True\n",
        "else:\n",
        "  bandera=False\n",
        "print(bandera, ' ', chr (d))"
      ],
      "execution_count": null,
      "outputs": []
    },
    {
      "cell_type": "code",
      "metadata": {
        "id": "nvt1Er8IjvNj"
      },
      "source": [
        "#PW1 Imprima el cuadrado del nro que el usr ingresa, mientras que el nro sea no negativo\n",
        "while True:\n",
        "  nro=int(input('ingrese nro entero, -1 para terminar: '))\n",
        "  if nro <0: break\n",
        "  else:print('cuadrado: ', nro**2)\n",
        "print('fin')"
      ],
      "execution_count": null,
      "outputs": []
    },
    {
      "cell_type": "code",
      "metadata": {
        "id": "JPo0hOgmk3GV",
        "colab": {
          "base_uri": "https://localhost:8080/"
        },
        "outputId": "e52a0d30-8853-4c8f-ea16-36ea9a8b4e70"
      },
      "source": [
        "#W2-Desarrollar un programa que dado un numero entero positivo n\n",
        "#calcule e imprima (separados por espacios) n/2 si es par o 3*n +1 si es\n",
        "#impar. El programa debe repetir este proceso con el numero resultado\n",
        "#de la operacion anterior mientras este sea diferente de 1. Por ejemplo para\n",
        "#el numero 3 debe imprimir 10 5 16 8 4 2 1.\n",
        "def seriee(N):\n",
        "  n=N\n",
        "  while n != 1:\n",
        "    if n % 2 == 0: \n",
        "      n= n//2\n",
        "    else: \n",
        "      n = 3*n+1\n",
        "    print(n,end=' ')\n",
        "  #return n\n",
        "N=5\n",
        "seriee(N)"
      ],
      "execution_count": 5,
      "outputs": [
        {
          "output_type": "stream",
          "text": [
            "16 8 4 2 1 "
          ],
          "name": "stdout"
        }
      ]
    },
    {
      "cell_type": "code",
      "metadata": {
        "id": "gMlf8fCJoD_K"
      },
      "source": [
        "#PV3, RB: 5!  = 1 . 2 . 3 . 4 . 5 =120\n",
        "def facto(n): #var local\n",
        "  f=1    #1 es el modulo de la multiplicacion\n",
        "  for i in range(1, n+1): # lenguaje matematico [1, 10) = [1, 9]\n",
        "    f *=  i #f = f*i\n",
        "  return f \n",
        "N=5 #N es var global\n",
        "for j in range(1, N+1): # 1, 2, 3, 4, 5\n",
        "   print(j, ' factorial: ', facto(j))\n",
        "print('fin')"
      ],
      "execution_count": null,
      "outputs": []
    },
    {
      "cell_type": "code",
      "metadata": {
        "id": "cGuR8oTpvi9w"
      },
      "source": [
        "#FPV6-Implementar la funcion potencia sin utilizar el operador **, ni la funcion logaritmo \n",
        "#v entrada: x, n\n",
        "#v salida: p\n",
        "#p= x**n\n",
        "# p = x . x . x .....x (n veces) -------Hay 3 casos 1) n>0;  2) n =0;  3) n<0\n",
        "#pero si n es == 0  ... que significa?\n",
        "\n",
        "# en general p = x**m / x**k =  x**(m-k)  \n",
        "# 1)si (m - k) == 0 , =>   p= x**m / x**k = 1     => x**0=1\n",
        "# 2) si (m - k) > 0, p=x**(m-k) = x . x . x . x ... (m-k) veces\n",
        "# 3) si (m - k) < 0,  p= 1 / x **(|m-k|) => p = 1/ (x . x . x. ...(k-m) veces)\n",
        "def pote(x,n): #x E Reales, n E enteros\n",
        "  if n==0: # 1er caso\n",
        "    p= 1\n",
        "  elif n>0: #caso2 p= x . x. x. ... n veces\n",
        "    p=1      # en 1 por ser el modulo de la multiplicacion\n",
        "    for i in range(1, n+1): #i =(1, 2, 3, 4, ... n)\n",
        "      p *=x #p= p*x, p= 1.x, x.x, x.x.x, x.x.x.x, x.x.x.x.x\n",
        "  else: # caso n <0   p=1/(x .x . x ... n veces)\n",
        "    p=1\n",
        "    for i in range(1, -n+1): #(1, 2, 3, 4)\n",
        "      p *= x         # x .x . x ... n veces\n",
        "    p = 1/p\n",
        "  return p\n",
        "y=3.; m=-3\n",
        "res=pote(y,m) #param actuales, coinc\n"
      ],
      "execution_count": null,
      "outputs": []
    },
    {
      "cell_type": "code",
      "metadata": {
        "id": "2-K-9m6uxeWw"
      },
      "source": [
        "#ANALIZAR DETALLADAMENTE\n",
        "\n",
        "#FPV7-generar las tablas de multiplicar del 1 al 9\n",
        "print(\"Tablas del multiplicar de 1 al 9\")\n",
        "#utiliza dos for anidados\n",
        "for i in range(1, 9+1):  #for externo, i indica cual tabla voy a generar\n",
        "  print(i,\":\", end=\"\") \n",
        "  for j in range(1, 9+1): #for interno, por cada valor de i, la j toma los valores de 1 a 9\n",
        "    prod = i * j  \n",
        "    print (\"\\t\", prod, end=\"\") #aqui termina el for interno, despues de esta instruccion ingreso al for i por debajo\n",
        "  print(\"\", end ='\\n') # aqui termina el for externo, es"
      ],
      "execution_count": null,
      "outputs": []
    },
    {
      "cell_type": "code",
      "metadata": {
        "id": "WIjfI7VezrQj"
      },
      "source": [
        "i=0 #contador de iteraciones\n",
        "act=1\n",
        "while  act > 0: #condicion de parada cuando act se trunque a 0\n",
        "  ant = act\n",
        "  i+=1 # i es  para prox iteracion\n",
        "  act=  1 / 2 * ant   #actualizacion \n",
        "eps=ant\n",
        "i=i-1 #ajusto el contador porque me pase una iteracion, en la ultima iteracion act se trunco\n",
        "print(i, eps)  #respuesta\n",
        "#------#verificacion---------\n",
        "eps=1/2**(i) \n",
        "truncado=eps/2\n",
        "print(i+1,' iteraciones valor truncado a: ', truncado)"
      ],
      "execution_count": null,
      "outputs": []
    },
    {
      "cell_type": "code",
      "metadata": {
        "id": "B84swdxO2SSl"
      },
      "source": [
        "#funcion seno de x en rads alrededor de 0, utilizando los primeros n terminos Serie de McLaurin\n",
        "from math import pi \n",
        "def seno(x,n):\n",
        "  acum=0. ; sig=1. \n",
        "  for i in range(n+1): #i=0,1,2,3,4,5,6,7,8,9,10\n",
        "    num=x**(2*i+1)\n",
        "    den=facto(2*i+1)\n",
        "    ter=sig*num/den\n",
        "    acum += ter  #--\n",
        "    sig=sig*(-1) # 1, -1, 1, -1, 1 , -1 ....\n",
        "  return acum \n",
        "ang= float(input(\"Seno: Ingrese angulo en grados y punto: \"))# angulo en grados, se convierte a radianes\n",
        "rad=ang*pi/180.\n",
        "res=seno(rad,10)\n",
        "print(res)"
      ],
      "execution_count": null,
      "outputs": []
    }
  ]
}