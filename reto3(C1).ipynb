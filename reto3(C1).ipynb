{
  "nbformat": 4,
  "nbformat_minor": 0,
  "metadata": {
    "colab": {
      "name": "reto3(C1).ipynb",
      "provenance": [],
      "collapsed_sections": [],
      "authorship_tag": "ABX9TyPAVOOJkm9WufgAE633AGG6",
      "include_colab_link": true
    },
    "kernelspec": {
      "name": "python3",
      "display_name": "Python 3"
    },
    "language_info": {
      "name": "python"
    }
  },
  "cells": [
    {
      "cell_type": "markdown",
      "metadata": {
        "id": "view-in-github",
        "colab_type": "text"
      },
      "source": [
        "<a href=\"https://colab.research.google.com/github/mcewenar/Google_colab/blob/master/reto3(C1).ipynb\" target=\"_parent\"><img src=\"https://colab.research.google.com/assets/colab-badge.svg\" alt=\"Open In Colab\"/></a>"
      ]
    },
    {
      "cell_type": "code",
      "metadata": {
        "id": "UA0rwvVuOygc",
        "colab": {
          "base_uri": "https://localhost:8080/"
        },
        "outputId": "866eb4b4-9779-4196-f8fd-0b23decfe641"
      },
      "source": [
        "#Una tienda de celulares, va a determinar el modelo estrella, definido como aquel que se vende más veces de forma \n",
        "#seguida en un período de una semana. Para el efecto identifican con un número de un solo dígito, a 10 modelos preferidos. \n",
        "#En el sistema se registra el número que identifica a los modelos que se ha vendido, y en el orden que ocurren \n",
        "#(los números quedan separados por un espacio en blanco).\n",
        "#\n",
        "#Su tarea es hacer el programa para el conteo de modelos vendidos, es decir, muestre en un renglón los datos de la entrada, \n",
        "#separados por un espacio (cuando un modelo se vende varias veces en forma seguida, se muestra el número del modelo una sola vez) \n",
        "#y en el segundo renglón muestre el número de veces seguidas que ocurrieron las ventas de ese modelo.\n",
        "\n",
        "#Entrada: 4 4 0 4 5 5 5 7\n",
        "#Salida:  4 0 4 5 7\n",
        "#         2 1 1 3 1\n",
        "lista1=[]\n",
        "lista2=[]\n",
        "cont=1\n",
        "sgnt = 1\n",
        "lista_sep = input(\"Ingresa lista: \").split()\n",
        "for i in lista_sep:\n",
        "  if i == lista_sep[sgnt]:\n",
        "    cont+=1\n",
        "  else:\n",
        "    lista1.append(i)\n",
        "    lista2.append(cont)\n",
        "    cont=1\n",
        "  sgnt += 1\n",
        "  if sgnt == len(lista_sep):\n",
        "    break\n",
        "\n",
        "lista1.append(lista_sep[sgnt-1])\n",
        "lista2.append(cont)\n",
        "for j in lista1:\n",
        "  print(j,end=\" \")\n",
        "print()\n",
        "for i in lista2:\n",
        "  print(i,end=\" \")"
      ],
      "execution_count": null,
      "outputs": [
        {
          "output_type": "stream",
          "text": [
            "Ingresa lista: 4 4 0 4 5 5 5 7\n",
            "1 7\n",
            "4 0 4 5 7 \n",
            "2 1 1 3 1 "
          ],
          "name": "stdout"
        }
      ]
    },
    {
      "cell_type": "code",
      "metadata": {
        "id": "UQVqI7lvCRMP"
      },
      "source": [
        "ant=\"\"\n",
        "n=1\n",
        "lista2=[]\n",
        "lista1=[]\n",
        "lista_sep = input(\"Ingrese lista separada por espacios: \").split()\n",
        "for act in lista_sep:\n",
        "    if act == ant:\n",
        "        n+=1\n",
        "        lista2.pop()\n",
        "        lista2.append(n)\n",
        "    else:\n",
        "        n=1\n",
        "        lista1.append(act)\n",
        "        lista2.append(n)\n",
        "    ant=act\n",
        "print(*lista1,sep=\" \")\n",
        "print(*lista2,sep=\" \")"
      ],
      "execution_count": null,
      "outputs": []
    }
  ]
}