{
  "nbformat": 4,
  "nbformat_minor": 0,
  "metadata": {
    "colab": {
      "provenance": [],
      "authorship_tag": "ABX9TyOxKdmZeclL2qFTf+evaYRu",
      "include_colab_link": true
    },
    "kernelspec": {
      "name": "python3",
      "display_name": "Python 3"
    },
    "language_info": {
      "name": "python"
    }
  },
  "cells": [
    {
      "cell_type": "markdown",
      "metadata": {
        "id": "view-in-github",
        "colab_type": "text"
      },
      "source": [
        "<a href=\"https://colab.research.google.com/github/mcewenar/Google_colab/blob/master/binarySearch.ipynb\" target=\"_parent\"><img src=\"https://colab.research.google.com/assets/colab-badge.svg\" alt=\"Open In Colab\"/></a>"
      ]
    },
    {
      "cell_type": "code",
      "execution_count": 3,
      "metadata": {
        "colab": {
          "base_uri": "https://localhost:8080/"
        },
        "id": "UjRMaNg9x4i2",
        "outputId": "0162e4de-558f-47b9-d120-834d4593c540"
      },
      "outputs": [
        {
          "output_type": "stream",
          "name": "stdout",
          "text": [
            "Index is 4\n"
          ]
        }
      ],
      "source": [
        "def binary_search(array, target):\n",
        "    first_index = 0\n",
        "    last_index = len(array) - 1\n",
        "\n",
        "    while first_index <= last_index:\n",
        "        middle_index = (first_index + last_index) // 2\n",
        "\n",
        "        if array[middle_index] == target:\n",
        "            return f\"Index is {middle_index}\"\n",
        "\n",
        "        if array[middle_index] > target:\n",
        "            last_index = middle_index - 1\n",
        "        else:\n",
        "            first_index = middle_index + 1\n",
        "\n",
        "    return -1\n",
        "\n",
        "score = [12, 22, 45, 67, 96]\n",
        "print(binary_search(score, 96))"
      ]
    }
  ]
}