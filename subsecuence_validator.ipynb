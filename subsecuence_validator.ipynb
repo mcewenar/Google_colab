{
  "nbformat": 4,
  "nbformat_minor": 0,
  "metadata": {
    "colab": {
      "provenance": [],
      "authorship_tag": "ABX9TyMwb8mmmYW0CIwlOLF/mAWp",
      "include_colab_link": true
    },
    "kernelspec": {
      "name": "python3",
      "display_name": "Python 3"
    },
    "language_info": {
      "name": "python"
    }
  },
  "cells": [
    {
      "cell_type": "markdown",
      "metadata": {
        "id": "view-in-github",
        "colab_type": "text"
      },
      "source": [
        "<a href=\"https://colab.research.google.com/github/mcewenar/Google_colab/blob/master/subsecuence_validator.ipynb\" target=\"_parent\"><img src=\"https://colab.research.google.com/assets/colab-badge.svg\" alt=\"Open In Colab\"/></a>"
      ]
    },
    {
      "cell_type": "code",
      "execution_count": 18,
      "metadata": {
        "colab": {
          "base_uri": "https://localhost:8080/"
        },
        "id": "uaQPBnX7cHjN",
        "outputId": "1e79c191-6db0-4cc0-c0ab-d936f8638dcb"
      },
      "outputs": [
        {
          "output_type": "stream",
          "name": "stdout",
          "text": [
            "True\n"
          ]
        }
      ],
      "source": [
        "\"\"\"Given 2 integers arrays not empty, write a function that validate if the first one is a subsecuence the other one.\n",
        "\n",
        "The array's subsecuence is a numbers set that not necessarily must adyacent in the array, but it's the same order of the main array.\n",
        "For example: [1,3,4] is a subsecuence of [1,2,3,4] like the same way [2,4].\n",
        "\n",
        "array = [5,1,22,25,6,-1,8,10]\n",
        "\n",
        "subsecuence = [1,6,-1,10]\n",
        "\n",
        "\"\"\"\n",
        "\n",
        "\n",
        "def is_subsecuence(array, subsecuence):\n",
        "  array_numbers_included = []\n",
        "  for i in array:\n",
        "    if i in subsecuence:\n",
        "      array_numbers_included.append(i)\n",
        "  #print(array_numbers_included)\n",
        "  #print(subsecuence)\n",
        "  if array_numbers_included == subsecuence:\n",
        "    return True\n",
        "  return False\n",
        "\n",
        "\n",
        "\n",
        "\n",
        "print(is_subsecuence([5,1,22,25,6,-1,8,10], [1,6,-1,10]))"
      ]
    }
  ]
}