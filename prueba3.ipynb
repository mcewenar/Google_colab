{
  "nbformat": 4,
  "nbformat_minor": 0,
  "metadata": {
    "colab": {
      "provenance": [],
      "authorship_tag": "ABX9TyNMUQlHdbx10C9iXeytOs+i",
      "include_colab_link": true
    },
    "kernelspec": {
      "name": "python3",
      "display_name": "Python 3"
    },
    "language_info": {
      "name": "python"
    }
  },
  "cells": [
    {
      "cell_type": "markdown",
      "metadata": {
        "id": "view-in-github",
        "colab_type": "text"
      },
      "source": [
        "<a href=\"https://colab.research.google.com/github/mcewenar/Google_colab/blob/master/prueba3.ipynb\" target=\"_parent\"><img src=\"https://colab.research.google.com/assets/colab-badge.svg\" alt=\"Open In Colab\"/></a>"
      ]
    },
    {
      "cell_type": "code",
      "execution_count": 19,
      "metadata": {
        "colab": {
          "base_uri": "https://localhost:8080/"
        },
        "id": "dUJNAAfRFgn1",
        "outputId": "23806bfc-a763-41fe-90cb-fb5ab366a104"
      },
      "outputs": [
        {
          "output_type": "stream",
          "name": "stdout",
          "text": [
            "brand           : Ford\n",
            "model           : Mustang\n",
            "year            : 1964\n",
            "\n",
            "Ford-Volvo-BMW\n"
          ]
        }
      ],
      "source": [
        "#you must pretty iterate hashmap in Python\n",
        "\n",
        "thisdict = {\n",
        "  \"brand\": \"Ford\",\n",
        "  \"model\": \"Mustang\",\n",
        "  \"year\": 1964\n",
        "}\n",
        "\n",
        "#1. Items functions return a view object. The view object contains the key-value pairs of the dictionary,\n",
        "#as tuples in a list. The view object will reflect any changes done to the dictionary\n",
        "#2. Compressed list\n",
        "#3. key:<15 align the key to left with a min anchor % -15s\n",
        "def pretty_dictionary(thisdict):\n",
        "  return \"\\n\".join([f\"{key:<15} : {value}\" for key, value in thisdict.items()])\n",
        "print(pretty_dictionary(thisdict),end = '\\n\\n');\n",
        "\n",
        "#Example:\n",
        "list_cars = [\"Ford\", \"Volvo\", \"BMW\"]\n",
        "\n",
        "print(\"-\".join(list_cars));\n"
      ]
    }
  ]
}