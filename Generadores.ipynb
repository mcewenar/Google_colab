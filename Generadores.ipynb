{
  "nbformat": 4,
  "nbformat_minor": 0,
  "metadata": {
    "colab": {
      "provenance": [],
      "include_colab_link": true
    },
    "kernelspec": {
      "name": "python3",
      "display_name": "Python 3"
    },
    "language_info": {
      "name": "python"
    }
  },
  "cells": [
    {
      "cell_type": "markdown",
      "metadata": {
        "id": "view-in-github",
        "colab_type": "text"
      },
      "source": [
        "<a href=\"https://colab.research.google.com/github/mcewenar/Google_colab/blob/master/Generadores.ipynb\" target=\"_parent\"><img src=\"https://colab.research.google.com/assets/colab-badge.svg\" alt=\"Open In Colab\"/></a>"
      ]
    },
    {
      "cell_type": "markdown",
      "source": [
        "# Generadores"
      ],
      "metadata": {
        "id": "yTPL9pGS83zw"
      }
    },
    {
      "cell_type": "code",
      "source": [
        "generador = (x for x in range(10))\n",
        "print(generador)"
      ],
      "metadata": {
        "colab": {
          "base_uri": "https://localhost:8080/"
        },
        "id": "CwcviKyw876P",
        "outputId": "0048f034-bcd9-4e9f-9dd1-09a7234b4b80"
      },
      "execution_count": null,
      "outputs": [
        {
          "output_type": "stream",
          "name": "stdout",
          "text": [
            "<generator object <genexpr> at 0x7f6550460250>\n"
          ]
        }
      ]
    },
    {
      "cell_type": "code",
      "source": [
        "def cuadrado(lista):\n",
        "\tfor n in lista:\n",
        "\t\tyield n + n\n",
        "\n",
        "gen_cuadrados = cuadrado([1,2,3,4,5])\n",
        "print(gen_cuadrados)"
      ],
      "metadata": {
        "colab": {
          "base_uri": "https://localhost:8080/"
        },
        "id": "MXXHSeOa878d",
        "outputId": "def37d46-75a7-4977-8607-4d3f0f9b402a"
      },
      "execution_count": null,
      "outputs": [
        {
          "output_type": "stream",
          "name": "stdout",
          "text": [
            "<generator object cuadrado at 0x7f654f931750>\n"
          ]
        }
      ]
    },
    {
      "cell_type": "markdown",
      "source": [
        "**Return vs Yield**"
      ],
      "metadata": {
        "id": "-57Pjy8K80pX"
      }
    },
    {
      "cell_type": "code",
      "source": [
        "def cuadrado_y(lista):\n",
        "\tfor i in lista:\n",
        "\t\tyield(i*i)\n",
        "\n",
        "\n",
        "def cuadrado_r(lista):\n",
        "\tlist = []\n",
        "\tfor i in lista:\n",
        "\t\tlist.append(i*i)\n",
        "\treturn list\n",
        "\n",
        "gen_cuadrados_y = cuadrado_y([1,2,3,4,5])\n",
        "print(gen_cuadrados_y)\n",
        "\n",
        "gen_cuadrados = cuadrado_r([1,2,3,4,5])\n",
        "print(gen_cuadrados)\n"
      ],
      "metadata": {
        "colab": {
          "base_uri": "https://localhost:8080/"
        },
        "id": "9-WmNSnB87_M",
        "outputId": "150f4efd-e381-4335-832a-8505ea139e45"
      },
      "execution_count": null,
      "outputs": [
        {
          "output_type": "stream",
          "name": "stdout",
          "text": [
            "<generator object cuadrado_y at 0x7f654f8c4050>\n",
            "[1, 4, 9, 16, 25]\n"
          ]
        }
      ]
    },
    {
      "cell_type": "code",
      "source": [
        "print(next(gen_cuadrados_y))\n",
        "print(gen_cuadrados_y.__next__())"
      ],
      "metadata": {
        "colab": {
          "base_uri": "https://localhost:8080/"
        },
        "id": "CVW7mf-q88Bg",
        "outputId": "b77c4e2c-30cb-4265-d63d-dda975d7271e"
      },
      "execution_count": null,
      "outputs": [
        {
          "output_type": "stream",
          "name": "stdout",
          "text": [
            "1\n",
            "4\n"
          ]
        }
      ]
    },
    {
      "cell_type": "markdown",
      "source": [
        "**Return vs Yield**"
      ],
      "metadata": {
        "id": "83PCMOKb8-OT"
      }
    },
    {
      "cell_type": "code",
      "source": [
        "import sys \n",
        "\n",
        "lista_r = [i**2 for i in range(10000)]\n",
        "print(\"Memoria usada\",sys.getsizeof(lista_r),\"bytes\")\n",
        "\n",
        "lista_y = (i**2 for i in range(10000))\n",
        "print(\"Memoria usada\",sys.getsizeof(lista_y),\"bytes\")"
      ],
      "metadata": {
        "colab": {
          "base_uri": "https://localhost:8080/"
        },
        "id": "9q7kbcpjsx6E",
        "outputId": "244bffb1-8bd3-4c88-c61d-f4983be57bb8"
      },
      "execution_count": null,
      "outputs": [
        {
          "output_type": "stream",
          "name": "stdout",
          "text": [
            "Memoria usada 87632 bytes\n",
            "Memoria usada 128 bytes\n"
          ]
        }
      ]
    }
  ]
}