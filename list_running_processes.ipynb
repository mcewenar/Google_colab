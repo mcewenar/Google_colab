{
  "nbformat": 4,
  "nbformat_minor": 0,
  "metadata": {
    "colab": {
      "provenance": [],
      "authorship_tag": "ABX9TyNQx5RWKS6JcAZf8WI1QzNh",
      "include_colab_link": true
    },
    "kernelspec": {
      "name": "python3",
      "display_name": "Python 3"
    },
    "language_info": {
      "name": "python"
    }
  },
  "cells": [
    {
      "cell_type": "markdown",
      "metadata": {
        "id": "view-in-github",
        "colab_type": "text"
      },
      "source": [
        "<a href=\"https://colab.research.google.com/github/mcewenar/Google_colab/blob/master/list_running_processes.ipynb\" target=\"_parent\"><img src=\"https://colab.research.google.com/assets/colab-badge.svg\" alt=\"Open In Colab\"/></a>"
      ]
    },
    {
      "cell_type": "code",
      "execution_count": 1,
      "metadata": {
        "colab": {
          "base_uri": "https://localhost:8080/"
        },
        "id": "0e2aKhGJZ1wZ",
        "outputId": "982a5754-e24b-400a-eb79-7135f71ae4ca"
      },
      "outputs": [
        {
          "output_type": "stream",
          "name": "stdout",
          "text": [
            "PID        Name                      Status          Username            \n",
            "----------------------------------------------------------------------\n",
            "1          docker-init               sleeping        root                \n",
            "7          node                      sleeping        root                \n",
            "22         oom_monitor.sh            sleeping        root                \n",
            "24         run.sh                    sleeping        root                \n",
            "26         kernel_manager_proxy      sleeping        root                \n",
            "28         tail                      sleeping        root                \n",
            "48         tail                      sleeping        root                \n",
            "69         python3                   zombie          root                \n",
            "70         colab-fileshim.           sleeping        root                \n",
            "91         jupyter-noteboo           sleeping        root                \n",
            "92         dap_multiplexer           sleeping        root                \n",
            "701        python3                   running         root                \n",
            "740        python3                   sleeping        root                \n",
            "744        sleep                     sleeping        root                \n"
          ]
        }
      ],
      "source": [
        "import psutil\n",
        "\n",
        "#List all running processes\n",
        "print(f\"{'PID':<10} {'Name':<25} {'Status':<15} {'Username':<20}\")\n",
        "print(\"-\"*70)\n",
        "\n",
        "for proc in psutil.process_iter(['pid','name', 'status', 'username']):\n",
        "    try:\n",
        "        pid = proc.info['pid']\n",
        "        name = proc.info['name']\n",
        "        status = proc.info['status']\n",
        "        username = proc.info['username']\n",
        "\n",
        "        print(f\"{pid:<10} {name:<25} {status:<15} {username:<20}\")\n",
        "    except (psutil.NoSuchProcess, psutil.AccessDenied):\n",
        "      pass"
      ]
    }
  ]
}