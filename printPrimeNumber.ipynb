{
  "nbformat": 4,
  "nbformat_minor": 0,
  "metadata": {
    "colab": {
      "provenance": [],
      "collapsed_sections": [],
      "authorship_tag": "ABX9TyODEUNMGVdAAdaa0vZbjkxi",
      "include_colab_link": true
    },
    "kernelspec": {
      "name": "python3",
      "display_name": "Python 3"
    },
    "language_info": {
      "name": "python"
    }
  },
  "cells": [
    {
      "cell_type": "markdown",
      "metadata": {
        "id": "view-in-github",
        "colab_type": "text"
      },
      "source": [
        "<a href=\"https://colab.research.google.com/github/mcewenar/Google_colab/blob/master/printPrimeNumber.ipynb\" target=\"_parent\"><img src=\"https://colab.research.google.com/assets/colab-badge.svg\" alt=\"Open In Colab\"/></a>"
      ]
    },
    {
      "cell_type": "code",
      "execution_count": null,
      "metadata": {
        "id": "hN5hXOWocCWJ"
      },
      "outputs": [],
      "source": [
        "#printing prime numbers in a range\n",
        "lower = 100\n",
        "upper 200\n",
        "for num in range(lower, upper + 1) :\n",
        "   if num > 1 :\n",
        "       for i in range(2, num) :\n",
        "           if num % i == 0 :\n",
        "               break\n",
        "       else :\n",
        "           print(num) #prime"
      ]
    }
  ]
}