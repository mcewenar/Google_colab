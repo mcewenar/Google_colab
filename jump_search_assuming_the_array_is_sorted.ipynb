{
  "nbformat": 4,
  "nbformat_minor": 0,
  "metadata": {
    "colab": {
      "provenance": [],
      "authorship_tag": "ABX9TyMw6rWGTRlqUWvfPeqc7MKj",
      "include_colab_link": true
    },
    "kernelspec": {
      "name": "python3",
      "display_name": "Python 3"
    },
    "language_info": {
      "name": "python"
    }
  },
  "cells": [
    {
      "cell_type": "markdown",
      "metadata": {
        "id": "view-in-github",
        "colab_type": "text"
      },
      "source": [
        "<a href=\"https://colab.research.google.com/github/mcewenar/Google_colab/blob/master/jump_search_assuming_the_array_is_sorted.ipynb\" target=\"_parent\"><img src=\"https://colab.research.google.com/assets/colab-badge.svg\" alt=\"Open In Colab\"/></a>"
      ]
    },
    {
      "cell_type": "code",
      "execution_count": 3,
      "metadata": {
        "colab": {
          "base_uri": "https://localhost:8080/"
        },
        "id": "XxUihql2QX0C",
        "outputId": "f1a324af-7ef6-4550-f96c-47ee4a890afb"
      },
      "outputs": [
        {
          "output_type": "stream",
          "name": "stdout",
          "text": [
            "Element 7 found at index 6\n"
          ]
        }
      ],
      "source": [
        "import math;\n",
        "\n",
        "def jump_search(arr, target):\n",
        "  n = len(arr);\n",
        "  step = int(math.sqrt(n));\n",
        "  prev = 0;\n",
        "  while arr[min(step,n)-1] < target:\n",
        "    prev = step;\n",
        "    step += int(math.sqrt(n));\n",
        "    if prev >= n:\n",
        "      return -1;\n",
        "  while arr[prev] < target:\n",
        "    prev += 1;\n",
        "    if prev == min(step, n):\n",
        "      return -1;\n",
        "  if arr[prev] == target:\n",
        "    return prev;\n",
        "  return -1;\n",
        "\n",
        "#Example usage:\n",
        "arr = [1,2,3,4,5,6,7,8,9,10];\n",
        "target = 7;\n",
        "result = jump_search(arr, target);\n",
        "if result != -1:\n",
        "  print(f\"Element {target} found at index {result}\");\n",
        "else:\n",
        "  print(\"Element not found\");\n"
      ]
    }
  ]
}