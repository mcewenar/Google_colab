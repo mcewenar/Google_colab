{
  "nbformat": 4,
  "nbformat_minor": 0,
  "metadata": {
    "colab": {
      "name": "ejerciciosWhileSemana3.ipynb",
      "provenance": [],
      "collapsed_sections": [],
      "authorship_tag": "ABX9TyO9GDXZeI89HfZVf36oNBLm",
      "include_colab_link": true
    },
    "kernelspec": {
      "name": "python3",
      "display_name": "Python 3"
    },
    "language_info": {
      "name": "python"
    }
  },
  "cells": [
    {
      "cell_type": "markdown",
      "metadata": {
        "id": "view-in-github",
        "colab_type": "text"
      },
      "source": [
        "<a href=\"https://colab.research.google.com/github/mcewenar/Google_colab/blob/master/ejerciciosWhileSemana3.ipynb\" target=\"_parent\"><img src=\"https://colab.research.google.com/assets/colab-badge.svg\" alt=\"Open In Colab\"/></a>"
      ]
    },
    {
      "cell_type": "code",
      "metadata": {
        "id": "l66NuOuDQdqj"
      },
      "source": [
        "#2 Imprimir un listado con los n\u0013umeros impares desde 1 hasta 999 y\n",
        "#seguidamente otro listado con los n\u0013umeros pares desde 2 hasta 1000.\n",
        "i=1  #inicialice\n",
        "N=99\n",
        "while i<= N  : #el intervalo incluye a la N\n",
        "  print(i, 'impar')\n",
        "  i+=2  #actualizacion 1, 3, 5, 7,9 ...\n",
        "i=2\n",
        "N=100\n",
        "while i<= N:\n",
        "  print(i, 'par')\n",
        "  i+=2 # 2, 4, 6, 8 ..."
      ],
      "execution_count": null,
      "outputs": []
    },
    {
      "cell_type": "code",
      "metadata": {
        "id": "CCTuo93aMjAI"
      },
      "source": [
        "#Mucho más compacto. 1 SÓLA LÍNEA DE CÓDIGO\n",
        "\n",
        "def triangulo(a,b,c):\n",
        "    return \"Se puede construir un triángulo\" if a+b > c and  a + c > b and b + c > a else \"No se puede construir un triángulo\"\n",
        "\n",
        "print(triangulo(float(input(\"Ingrese lado a: \")),float(input(\"Ingrese lado b: \")),float(input(\"Ingrese lado c: \"))))\n"
      ],
      "execution_count": null,
      "outputs": []
    },
    {
      "cell_type": "code",
      "metadata": {
        "id": "tKuThgs9_eMX"
      },
      "source": [
        "#Compactación de un código en PY, hecho por mí.\n",
        "#Dadas tres longitudes positivas, determinar si con esas longitudes se\n",
        "#puede construir un tri\u0013angulo.\n",
        "\n",
        "def triangulo(a,b,c):\n",
        "    bo: bool = a+b > c and  a + c > b and b + c > a\n",
        "    return \"Se puede construir un triángulo\" if bo else \"No se puede construir un triángulo\"\n",
        "\n",
        "print(triangulo(float(input(\"Ingrese lado a: \")),float(input(\"Ingrese lado b: \")),float(input(\"Ingrese lado c: \"))))"
      ],
      "execution_count": null,
      "outputs": []
    },
    {
      "cell_type": "code",
      "metadata": {
        "id": "BTa7mJTmR_eU"
      },
      "source": [
        "Imprimir los numeros pares en forma descendente hasta 2 que son\n",
        "#menores o iguales a un numero natural n >= 2 dado.\n",
        "#n=8 , (8, 6, 4, 2)        n=7 (6, 4, 2)\n",
        "n=9\n",
        "#npp:nro entero par mas prox por la izq\n",
        "\n",
        "if (n % 2 !=0): #halla en numero impar <= n\n",
        "  npp = n-1 #inicializ \n",
        "else:\n",
        "  npp=n  #inicializacion\n",
        "\n",
        "while npp >=2:\n",
        "  print('numeros pares: ', npp)\n",
        "  npp-=2 #actualizacion\n",
        "print(npp) #solo por curiosidad"
      ],
      "execution_count": null,
      "outputs": []
    },
    {
      "cell_type": "code",
      "metadata": {
        "id": "R8dqAnkiUfvF"
      },
      "source": [
        "#ve: Pia, Pib, ta, tb\n",
        "#vs: n (n es el agno cuando Pb> Pa)\n",
        "Pia=25.E6;   Pib=18.9E6; \n",
        "ta=2./100;  tb=3./100; \n",
        "n=0\n",
        "Pa=Pia;   Pb=Pib #inicializacion\n",
        "while Pa > Pb:\n",
        "  incrA=Pa*ta\n",
        "  incrB=Pb*tb\n",
        "  Pa += incrA # cuerpo\n",
        "  Pb += incrB  \n",
        "  n+=1\n",
        "print(n, Pa, Pb, sep='\\t\\t')"
      ],
      "execution_count": null,
      "outputs": []
    },
    {
      "cell_type": "code",
      "metadata": {
        "id": "XC9BoCM3Xzxa"
      },
      "source": [
        "#vs: epsilon\n",
        "#posCondicion: 1+2**-i != 1+2**-(i+1), para i in range(0,10000)\n",
        "i=1\n",
        "ant=1\n",
        "nuevo=1/2\n",
        "while  nuevo < ant: #condicion de parada cuando nuevo y ant sean iguales, porque se truncaron a un valor=0\n",
        "  pen=ant\n",
        "  ant=nuevo\n",
        "  i+=1 # i es  para prox iteracion\n",
        "  nuevo= 1 / 2**i   #actualizacion \n",
        "\n",
        "print(i-2, pen) #pen tiene la respuesta\n",
        "#---------------\n",
        "eps=1/2**(i-2) #verificacion\n",
        "eps1=eps/2\n",
        "print(i-1,' epsilon: ', eps1)"
      ],
      "execution_count": null,
      "outputs": []
    },
    {
      "cell_type": "code",
      "metadata": {
        "id": "2L_AW6Bii_-8"
      },
      "source": [
        "def sumaF(n):  #1,2,3,4,5,6\n",
        "  s = 0\n",
        "  for i in range(1, n + 1): # coleccion: range(1, n + 1)\n",
        "    s += i\n",
        "  return s\n",
        "n=6\n",
        "print(sumaF(n))"
      ],
      "execution_count": null,
      "outputs": []
    },
    {
      "cell_type": "code",
      "metadata": {
        "id": "djZ8zjjDjgfm"
      },
      "source": [
        "#sume los 1eros n numeros naturales utilizando while\n",
        "def sumaW(n): #1, 2, 3, 4, 5, 6, ...n\n",
        "  s = 0  \n",
        "  i = 0  \n",
        "  while(i <= n):\n",
        "    s += i  # ------variable tipo acumuladora\n",
        "    i += 1  #-------variable tipo contadora, actualizo\n",
        "  return s\n",
        "n=6\n",
        "print(sumaW(n))\n",
        "verif= n*(n+1)/2\n",
        "print('verificacion: ',verif)"
      ],
      "execution_count": null,
      "outputs": []
    }
  ]
}