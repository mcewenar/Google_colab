{
  "nbformat": 4,
  "nbformat_minor": 0,
  "metadata": {
    "colab": {
      "provenance": [],
      "authorship_tag": "ABX9TyOhkByXjA2L5vR2j2PDnDOn",
      "include_colab_link": true
    },
    "kernelspec": {
      "name": "python3",
      "display_name": "Python 3"
    },
    "language_info": {
      "name": "python"
    }
  },
  "cells": [
    {
      "cell_type": "markdown",
      "metadata": {
        "id": "view-in-github",
        "colab_type": "text"
      },
      "source": [
        "<a href=\"https://colab.research.google.com/github/mcewenar/Google_colab/blob/master/create_zip.ipynb\" target=\"_parent\"><img src=\"https://colab.research.google.com/assets/colab-badge.svg\" alt=\"Open In Colab\"/></a>"
      ]
    },
    {
      "cell_type": "code",
      "execution_count": null,
      "metadata": {
        "id": "21XHBnw61Y5o"
      },
      "outputs": [],
      "source": [
        "import zipfile\n",
        "\n",
        "files = ['file1.txt','file2.txt','file3.txt']\n",
        "\n",
        "with zipfile.ZipFile('archive.zip','w') as zipf:\n",
        "    for file in files:\n",
        "        zipf.write(file)\n",
        "\n",
        "print(\"Zip created\")"
      ]
    }
  ]
}