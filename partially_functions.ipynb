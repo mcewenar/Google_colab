{
  "nbformat": 4,
  "nbformat_minor": 0,
  "metadata": {
    "colab": {
      "provenance": [],
      "authorship_tag": "ABX9TyPU7RnxvMui22cZhJ3VphXj",
      "include_colab_link": true
    },
    "kernelspec": {
      "name": "python3",
      "display_name": "Python 3"
    },
    "language_info": {
      "name": "python"
    }
  },
  "cells": [
    {
      "cell_type": "markdown",
      "metadata": {
        "id": "view-in-github",
        "colab_type": "text"
      },
      "source": [
        "<a href=\"https://colab.research.google.com/github/mcewenar/Google_colab/blob/master/partially_functions.ipynb\" target=\"_parent\"><img src=\"https://colab.research.google.com/assets/colab-badge.svg\" alt=\"Open In Colab\"/></a>"
      ]
    },
    {
      "cell_type": "code",
      "execution_count": 2,
      "metadata": {
        "colab": {
          "base_uri": "https://localhost:8080/"
        },
        "id": "AcquZjTGrZrv",
        "outputId": "b3e7c7e9-6889-4234-e4ac-55d046cc1a74"
      },
      "outputs": [
        {
          "output_type": "stream",
          "name": "stdout",
          "text": [
            "9\n"
          ]
        }
      ],
      "source": [
        "\"\"\"\n",
        " FUNCIONES QUE SE APLICAN DE FORMA PARCIAL.\n",
        "Partially applied functions: pasar algunos parámetros o algunos de los argumentos que requiera\n",
        "una función, pero no todos. El resto de los argumentos demorarlos para más tarde.\n",
        "\n",
        "El concepto de \"funciones parcialmente aplicadas\" o partial functions en Python permite fijar uno o más argumentos de una función y generar una nueva\n",
        "función con esos argumentos \"predefinidos\". Esto es útil cuando queremos crear una función con algunos parámetros preestablecidos\n",
        "y reutilizarla en diferentes contextos.\n",
        "\n",
        "¿Cómo funcionan las funciones partial?\n",
        "Una función parcialmente aplicada es esencialmente una nueva función que se genera al predefinir uno o más argumentos de una función existente.\n",
        "La nueva función puede ser llamada con los argumentos restantes.\n",
        "\n",
        "\"\"\"\n",
        "\n",
        "#Exercise1\n",
        "from functools import partial\n",
        "\n",
        "def calculate(n1,n2,n3):\n",
        "  return n1 + n2 + n3\n",
        "\n",
        "# Crear una nueva función que siempre sume por 2\n",
        "partially_funct = partial(calculate, 2)\n",
        "# Ahora podemos llamar a partially_funct_2 con los valores de b y c\n",
        "print(partially_funct(3, 4))  # Output: 9 (equivalente a 2 + 3 + 4)\n",
        "\n"
      ]
    },
    {
      "cell_type": "code",
      "source": [
        "from functools import partial\n",
        "\n",
        "#Exercise2:\n",
        "def apply_discount(price, discount):\n",
        "    return price - (price * discount)\n",
        "\n",
        "# Crear una función para aplicar un 10% de descuento\n",
        "apply_10_percent_discount = partial(apply_discount, discount=0.10)\n",
        "\n",
        "# Crear una función para aplicar un 20% de descuento\n",
        "apply_20_percent_discount = partial(apply_discount, discount=0.20)\n",
        "\n",
        "# Ahora podemos usar estas funciones con diferentes precios\n",
        "price_1 = apply_10_percent_discount(100)\n",
        "price_2 = apply_20_percent_discount(200)\n",
        "\n",
        "print(f\"Precio con 10% de descuento: {price_1}\")  # Output: 90.0\n",
        "print(f\"Precio con 20% de descuento: {price_2}\")  # Output: 160.0\n",
        "\n",
        "\n",
        "\n",
        "\"\"\"\n",
        "Explicación del ejercicio:\n",
        "apply_discount(price, discount): Esta función toma el precio original y el porcentaje de descuento, y devuelve el precio con el descuento aplicado.\n",
        "\n",
        "partial(apply_discount, discount=0.10): Usamos partial para crear una nueva función donde el descuento sea siempre del 10%.\n",
        "Esta nueva función se llama apply_10_percent_discount, y solo necesitamos pasar el precio cuando la llamemos.\n",
        "\n",
        "partial(apply_discount, discount=0.20): De forma similar, creamos otra función para aplicar un descuento del 20%, llamada apply_20_percent_discount.\n",
        "\n",
        "Uso de las funciones parciales: Podemos reutilizar estas funciones parciales para aplicar los descuentos a diferentes precios.\n",
        "\"\"\""
      ],
      "metadata": {
        "id": "iVZcyBhhtWgc"
      },
      "execution_count": null,
      "outputs": []
    },
    {
      "cell_type": "code",
      "source": [],
      "metadata": {
        "id": "VTGmgEfFuB39"
      },
      "execution_count": null,
      "outputs": []
    },
    {
      "cell_type": "code",
      "source": [
        "\"\"\"\n",
        "Conclusión:\n",
        "Las funciones parciales (partial) en Python son una herramienta útil cuando quieres predefinir algunos argumentos de una función y reutilizarla sin tener\n",
        "que volver a pasar esos argumentos.\n",
        "Esto es particularmente útil en situaciones donde tienes funciones generales que quieres especializar para casos específicos.\n",
        "\"\"\"\n",
        "#Exercise3:\n",
        "from functools import partial\n",
        "\n",
        "# Crear una nueva función que siempre imprima con el prefijo \"INFO:\"\n",
        "print_info = partial(print, \"INFO:\")\n",
        "\n",
        "# Usar la función parcial para imprimir mensajes con el prefijo\n",
        "print_info(\"El sistema está funcionando correctamente.\")\n",
        "print_info(\"Se ha completado la operación.\")"
      ],
      "metadata": {
        "colab": {
          "base_uri": "https://localhost:8080/"
        },
        "id": "Y3RxNBxLuHP6",
        "outputId": "0d49a947-47b9-42e5-82d3-13d366923de4"
      },
      "execution_count": 5,
      "outputs": [
        {
          "output_type": "stream",
          "name": "stdout",
          "text": [
            "INFO: El sistema está funcionando correctamente.\n",
            "INFO: Se ha completado la operación.\n"
          ]
        }
      ]
    },
    {
      "cell_type": "code",
      "source": [],
      "metadata": {
        "id": "GfKK6uO_uI3l"
      },
      "execution_count": null,
      "outputs": []
    }
  ]
}