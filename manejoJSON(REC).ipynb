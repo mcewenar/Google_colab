{
  "nbformat": 4,
  "nbformat_minor": 0,
  "metadata": {
    "colab": {
      "name": "manejoJSON(REC).ipynb",
      "provenance": [],
      "collapsed_sections": [],
      "authorship_tag": "ABX9TyP0isbfjeGafE+40AQnVNzV",
      "include_colab_link": true
    },
    "kernelspec": {
      "name": "python3",
      "display_name": "Python 3"
    },
    "language_info": {
      "name": "python"
    }
  },
  "cells": [
    {
      "cell_type": "markdown",
      "metadata": {
        "id": "view-in-github",
        "colab_type": "text"
      },
      "source": [
        "<a href=\"https://colab.research.google.com/github/mcewenar/Google_colab/blob/master/manejoJSON(REC).ipynb\" target=\"_parent\"><img src=\"https://colab.research.google.com/assets/colab-badge.svg\" alt=\"Open In Colab\"/></a>"
      ]
    },
    {
      "cell_type": "code",
      "metadata": {
        "id": "FIsH1vJV7WCJ"
      },
      "source": [
        "#IMPORTANTE. EJERCICIO PARA RECORDAR\n",
        "\n",
        "#P1-Para el diccionario JSON con la estructura mostrada\n",
        "#cree un programa que lea de un archivo con estructura JSON e\n",
        "#imprima los nombres completos (nombre y apellidos) de las personas\n",
        "#que practican el deporte ingresado por el usuario.\n",
        "\n",
        "\n",
        "import json\n",
        "data=\"\"\"{\"jadiazcoronado\":{\n",
        "        \"nombres\": \"Juan Antonio\",\n",
        "        \"apellidos\": \"Díaz Coronado\",\n",
        "        \"edad\":19,\n",
        "        \"colombiano\":true,\n",
        "        \"deportes\":[\"Fútbol\",\"Ajedrez\",\"Gimnasia\"]\n",
        "        },\n",
        "        \"dmlunasol\":{\n",
        "        \"nombres\": \"Dorotea Maritza\",\n",
        "        \"apellidos\": \"Luna Sol\",\n",
        "        \"edad\":25,\n",
        "        \"colombiano\":false,\n",
        "        \"deportes\":[\"Baloncesto\",\"Ajedrez\",\"Gimnasia\"]\n",
        "        },\n",
        "        \"dmcewena\":{\n",
        "        \"nombres\": \"David McEwen\",\n",
        "        \"apellidos\": \"McEwen Arango\",\n",
        "        \"edad\":26,\n",
        "        \"colombiano\":true,\n",
        "        \"deportes\":[\"Baloncesto\",\"Ajedrez\",\"Gimnasia\"]}}\"\"\"\n",
        "\n",
        "#IMPORTANTÍSIMO:\n",
        "path=\"C:\\\\Users\\\\dmcew\\\\proy_programacion\\\\Mision_TIC\\\\ciclo_1\\\\ejercicios_basicos\\\\Manejo_Archivos\\\\files\\\\Semana5Exercise-json.json\"\n",
        "with open(path, \"w\",encoding=\"utf-8\") as write_file:\n",
        "    json.dump(data,write_file) #Dumps asigna a un string y lo convierte a JSON\n",
        "    #Para asignar a un string: .dumps (!= a dump)\n",
        "\n",
        "with open(path,\"r\",encoding=\"utf-8\") as read_file:\n",
        "    json_string=json.load(read_file)\n",
        "#    #data2=json.loads(data1) #.Load deserializa el objeto .json guardado\n",
        "#    #data2=json.loads(data1)\n",
        "data1=json.loads(json_string)\n",
        "print(data1) #Deserializado el archivo, tipo . Lo convierte a Python\n",
        "\n",
        "deportes=input(\"Enter sport: \")\n",
        "for i in data1:\n",
        "    if deportes in data1[i].get(\"deportes\"):\n",
        "        print(data1[i].get(\"nombres\"),data1[i].get(\"apellidos\"))\n",
        "\n",
        "#ESTRATEGIA DEL PROFESOR:\n",
        "#estrategia: leer cada item del diccionario dat y voy a buscar 'Futbol' entre dat[deportes]\n",
        "#for kk, vv in dat.items(): #coleccion de 2 entradas y cada entrada es un dicci q tiene k, v\n",
        "#a=dat.values()\n",
        "##print(type(a), a)\n",
        "#for vv in dat.values():\n",
        "##  lis_deportes= vv['deportes']\n",
        "#  lis_deportes= vv.get('deportes')\n",
        "#  if deporte in lis_deportes:\n",
        "#    print(vv['nombres'], vv['apellidos'])\n",
        "#print('fin')\n",
        "# for vv in dat.values()\n",
        "# for kk in dat.keys()"
      ],
      "execution_count": null,
      "outputs": []
    }
  ]
}