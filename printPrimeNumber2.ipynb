{
  "nbformat": 4,
  "nbformat_minor": 0,
  "metadata": {
    "colab": {
      "provenance": [],
      "collapsed_sections": [],
      "authorship_tag": "ABX9TyMlIhEZJxatU/YiLhnRGkaC",
      "include_colab_link": true
    },
    "kernelspec": {
      "name": "python3",
      "display_name": "Python 3"
    },
    "language_info": {
      "name": "python"
    }
  },
  "cells": [
    {
      "cell_type": "markdown",
      "metadata": {
        "id": "view-in-github",
        "colab_type": "text"
      },
      "source": [
        "<a href=\"https://colab.research.google.com/github/mcewenar/Google_colab/blob/master/printPrimeNumber2.ipynb\" target=\"_parent\"><img src=\"https://colab.research.google.com/assets/colab-badge.svg\" alt=\"Open In Colab\"/></a>"
      ]
    },
    {
      "cell_type": "code",
      "execution_count": null,
      "metadata": {
        "id": "hN5hXOWocCWJ"
      },
      "outputs": [],
      "source": [
        "#printing prime numbers in a range\n",
        "lower = 100\n",
        "upper 200\n",
        "for num in range(lower, upper + 1):\n",
        "   if num > 1:\n",
        "       for i in range(2, num):\n",
        "           if num % i == 0:\n",
        "               break\n",
        "       else:\n",
        "           print(num) #prime"
      ]
    },
    {
      "cell_type": "code",
      "source": [
        "# check for prime number\n",
        "int(input(\" enter a number : \"))\n",
        "if num < 1:\n",
        "   print(\" not a prime number \")\n",
        "else:\n",
        "   for i in range (2 , num):\n",
        "       if num % i == 0:\n",
        "   else:\n",
        "          print(\" not a prime number \")\n",
        "          break\n",
        "       print(\" it is prime number \")"
      ],
      "metadata": {
        "id": "tpgwlZ2Pc62k"
      },
      "execution_count": null,
      "outputs": []
    }
  ]
}