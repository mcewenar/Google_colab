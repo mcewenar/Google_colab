{
  "nbformat": 4,
  "nbformat_minor": 0,
  "metadata": {
    "colab": {
      "provenance": [],
      "authorship_tag": "ABX9TyM+/XSMpxSC2+y9kcxdP8e/",
      "include_colab_link": true
    },
    "kernelspec": {
      "name": "python3",
      "display_name": "Python 3"
    },
    "language_info": {
      "name": "python"
    }
  },
  "cells": [
    {
      "cell_type": "markdown",
      "metadata": {
        "id": "view-in-github",
        "colab_type": "text"
      },
      "source": [
        "<a href=\"https://colab.research.google.com/github/mcewenar/Google_colab/blob/master/differents_pryramid_types2.ipynb\" target=\"_parent\"><img src=\"https://colab.research.google.com/assets/colab-badge.svg\" alt=\"Open In Colab\"/></a>"
      ]
    },
    {
      "cell_type": "code",
      "execution_count": 2,
      "metadata": {
        "colab": {
          "base_uri": "https://localhost:8080/"
        },
        "id": "PkTUvQvJQeey",
        "outputId": "16cf1b7d-491d-4a7f-c90c-fdaa4555dec9"
      },
      "outputs": [
        {
          "output_type": "stream",
          "name": "stdout",
          "text": [
            "\n",
            "1 \n",
            "2 2 \n",
            "3 3 3 \n",
            "4 4 4 4 \n",
            "5 5 5 5 5 \n"
          ]
        }
      ],
      "source": [
        "rows = 6\n",
        "for i in range(rows):\n",
        "  for j in range(i):\n",
        "    print(i, end=' ')\n",
        "  print('')"
      ]
    },
    {
      "cell_type": "code",
      "source": [
        "rows = 5\n",
        "b = 0\n",
        "for i in range(rows, 0, -1):\n",
        "  b += 1\n",
        "  for j in range(1, i + 1):\n",
        "    print(b, end=' ')\n",
        "  print('\\r')\n"
      ],
      "metadata": {
        "colab": {
          "base_uri": "https://localhost:8080/"
        },
        "id": "WSBH_vDAQ7RG",
        "outputId": "a8836d4e-f6f0-4470-cd72-422168b70540"
      },
      "execution_count": 3,
      "outputs": [
        {
          "output_type": "stream",
          "name": "stdout",
          "text": [
            "1 1 1 1 1 \r\n",
            "2 2 2 2 \r\n",
            "3 3 3 \r\n",
            "4 4 \r\n",
            "5 \r\n"
          ]
        }
      ]
    },
    {
      "cell_type": "code",
      "source": [
        "rows = 5\n",
        "k = 2 * rows - 2\n",
        "for i in range(rows, -1, -1):\n",
        "  for j in range(k, 0, -1):\n",
        "    print(end=\" \")\n",
        "  k = k + 1\n",
        "  for j in range(0, i + 1):\n",
        "    print(\"*\", end = \" \")\n",
        "  print(\"\")"
      ],
      "metadata": {
        "colab": {
          "base_uri": "https://localhost:8080/"
        },
        "id": "1qxsmaXaRY67",
        "outputId": "6b06affc-16d3-4937-b74a-4a2f2041c117"
      },
      "execution_count": 6,
      "outputs": [
        {
          "output_type": "stream",
          "name": "stdout",
          "text": [
            "        * * * * * * \n",
            "         * * * * * \n",
            "          * * * * \n",
            "           * * * \n",
            "            * * \n",
            "             * \n"
          ]
        }
      ]
    },
    {
      "cell_type": "code",
      "source": [],
      "metadata": {
        "id": "dP381ZL7SGhs"
      },
      "execution_count": null,
      "outputs": []
    }
  ]
}