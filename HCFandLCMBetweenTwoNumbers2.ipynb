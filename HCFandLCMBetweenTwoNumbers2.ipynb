{
  "nbformat": 4,
  "nbformat_minor": 0,
  "metadata": {
    "colab": {
      "provenance": [],
      "collapsed_sections": [],
      "authorship_tag": "ABX9TyMryzDd2Af6MC6niQb7cx3y",
      "include_colab_link": true
    },
    "kernelspec": {
      "name": "python3",
      "display_name": "Python 3"
    },
    "language_info": {
      "name": "python"
    }
  },
  "cells": [
    {
      "cell_type": "markdown",
      "metadata": {
        "id": "view-in-github",
        "colab_type": "text"
      },
      "source": [
        "<a href=\"https://colab.research.google.com/github/mcewenar/Google_colab/blob/master/HCFandLCMBetweenTwoNumbers2.ipynb\" target=\"_parent\"><img src=\"https://colab.research.google.com/assets/colab-badge.svg\" alt=\"Open In Colab\"/></a>"
      ]
    },
    {
      "cell_type": "code",
      "execution_count": 4,
      "metadata": {
        "colab": {
          "base_uri": "https://localhost:8080/"
        },
        "id": "qvqz4j0VhMVn",
        "outputId": "67216448-bdaf-4ad0-efd3-d6dc44334319"
      },
      "outputs": [
        {
          "output_type": "stream",
          "name": "stdout",
          "text": [
            "hcf = 6\n"
          ]
        }
      ],
      "source": [
        "# HCF or GCD of two numbers\n",
        "def hcf(num1 , num2):\n",
        "   if num1 > num2:\n",
        "       smaller = num2\n",
        "   else:\n",
        "       smaller = num1\n",
        "   for i in range(1 , smaller + 1):\n",
        "       if (num1 % i == 0) and (num2 % i == 0):\n",
        "           factor = i\n",
        "   return factor\n",
        "print(f'hcf = {hcf(54, 24 )}')"
      ]
    },
    {
      "cell_type": "code",
      "source": [
        "# To find LCM of two numbers\n",
        "def lcm(num1,num2):\n",
        "   if num1 > num2:\n",
        "       greater = num1\n",
        "   else:\n",
        "     greater = num2\n",
        "   while True :\n",
        "       if (greater % num1 == 0) and (greater % num2 == 0):\n",
        "           break\n",
        "       greater += 1\n",
        "   return greater\n",
        "print(f'lcm = {lcm(12 , 14)}')\n",
        "                           "
      ],
      "metadata": {
        "colab": {
          "base_uri": "https://localhost:8080/"
        },
        "id": "4HjpoG6pjtRk",
        "outputId": "291c486a-3eb3-40ed-829e-f8b5ddc0d12a"
      },
      "execution_count": 3,
      "outputs": [
        {
          "output_type": "stream",
          "name": "stdout",
          "text": [
            "lcm = 84\n"
          ]
        }
      ]
    }
  ]
}