{
  "nbformat": 4,
  "nbformat_minor": 0,
  "metadata": {
    "colab": {
      "provenance": [],
      "authorship_tag": "ABX9TyOcEjA7fhvYAiRcmW1n9Cb2",
      "include_colab_link": true
    },
    "kernelspec": {
      "name": "python3",
      "display_name": "Python 3"
    },
    "language_info": {
      "name": "python"
    }
  },
  "cells": [
    {
      "cell_type": "markdown",
      "metadata": {
        "id": "view-in-github",
        "colab_type": "text"
      },
      "source": [
        "<a href=\"https://colab.research.google.com/github/mcewenar/Google_colab/blob/master/scala_array_coincidencias_dinamico.ipynb\" target=\"_parent\"><img src=\"https://colab.research.google.com/assets/colab-badge.svg\" alt=\"Open In Colab\"/></a>"
      ]
    },
    {
      "cell_type": "code",
      "execution_count": 56,
      "metadata": {
        "colab": {
          "base_uri": "https://localhost:8080/"
        },
        "id": "VdMH6UYQ82aN",
        "outputId": "4813cf2c-a76e-4069-9fa5-4e961a134d5f"
      },
      "outputs": [
        {
          "output_type": "stream",
          "name": "stdout",
          "text": [
            "1: ********\n",
            "2: ***\n",
            "3: ***\n",
            "4: *\n",
            "26: *\n",
            "9: *\n",
            "0: *\n"
          ]
        }
      ],
      "source": [
        "def calcular_frecuencias(numeros):\n",
        "    \"\"\"\n",
        "    Calcula las frecuencias de cada número en una lista.\n",
        "\n",
        "    Args:\n",
        "        numeros (list): Lista de números.\n",
        "\n",
        "    Returns:\n",
        "        dict: Diccionario con las frecuencias de cada número.\n",
        "    \"\"\"\n",
        "    frecuencias = {}\n",
        "    for num in numeros:\n",
        "        if num not in frecuencias:\n",
        "            frecuencias[num] = 0\n",
        "        frecuencias[num] += 1\n",
        "    return frecuencias\n",
        "\n",
        "\n",
        "def imprimir_histograma(frecuencias):\n",
        "    \"\"\"\n",
        "    Imprime un histograma a partir de un diccionario de frecuencias.\n",
        "\n",
        "    Args:\n",
        "        frecuencias (dict): Diccionario con las frecuencias de cada número.\n",
        "    \"\"\"\n",
        "    for num, frecuencia in frecuencias.items():\n",
        "        print(f\"{num}: {'*' * frecuencia}\", end=\"\\n\")\n",
        "\n",
        "\n",
        "my_array = [1, 2, 3, 4, 1, 2, 1, 2, 3, 3, 1, 1, 1, 1, 1, 26, 9, 0]\n",
        "\n",
        "# Calcular las frecuencias\n",
        "frecuencias = calcular_frecuencias(my_array)\n",
        "\n",
        "# Imprimir el histograma\n",
        "imprimir_histograma(frecuencias)"
      ]
    },
    {
      "cell_type": "code",
      "source": [],
      "metadata": {
        "id": "1-kLnO84DOD5"
      },
      "execution_count": null,
      "outputs": []
    }
  ]
}