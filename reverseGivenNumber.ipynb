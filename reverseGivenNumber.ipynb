{
  "nbformat": 4,
  "nbformat_minor": 0,
  "metadata": {
    "colab": {
      "provenance": [],
      "authorship_tag": "ABX9TyPgatUn+yBLduf9a+bOEmf1",
      "include_colab_link": true
    },
    "kernelspec": {
      "name": "python3",
      "display_name": "Python 3"
    },
    "language_info": {
      "name": "python"
    }
  },
  "cells": [
    {
      "cell_type": "markdown",
      "metadata": {
        "id": "view-in-github",
        "colab_type": "text"
      },
      "source": [
        "<a href=\"https://colab.research.google.com/github/mcewenar/Google_colab/blob/master/reverseGivenNumber.ipynb\" target=\"_parent\"><img src=\"https://colab.research.google.com/assets/colab-badge.svg\" alt=\"Open In Colab\"/></a>"
      ]
    },
    {
      "cell_type": "code",
      "execution_count": 2,
      "metadata": {
        "colab": {
          "base_uri": "https://localhost:8080/"
        },
        "id": "4FVTSUHzfb7Y",
        "outputId": "c15c3a85-a2bc-4feb-e7bc-063addc5f1a5"
      },
      "outputs": [
        {
          "output_type": "stream",
          "name": "stdout",
          "text": [
            "reverse of the given number is 98765\n"
          ]
        }
      ],
      "source": [
        "#reversing a given number\n",
        "def rev_num(num):\n",
        "   rev = 0\n",
        "   while num > 0:\n",
        "       reminder = num % 10\n",
        "       rev = (rev*10) + reminder\n",
        "       num = num // 10\n",
        "   return rev\n",
        "print(f\"reverse of the given number is {rev_num ( 56789 )}\")"
      ]
    }
  ]
}