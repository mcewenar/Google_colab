{
  "nbformat": 4,
  "nbformat_minor": 0,
  "metadata": {
    "colab": {
      "name": "semana5_7-1-21(C1).ipynb",
      "provenance": [],
      "collapsed_sections": [],
      "include_colab_link": true
    },
    "kernelspec": {
      "name": "python3",
      "display_name": "Python 3"
    },
    "language_info": {
      "name": "python"
    }
  },
  "cells": [
    {
      "cell_type": "markdown",
      "metadata": {
        "id": "view-in-github",
        "colab_type": "text"
      },
      "source": [
        "<a href=\"https://colab.research.google.com/github/mcewenar/Google_colab/blob/master/semana5_7_1_21(C1).ipynb\" target=\"_parent\"><img src=\"https://colab.research.google.com/assets/colab-badge.svg\" alt=\"Open In Colab\"/></a>"
      ]
    },
    {
      "cell_type": "code",
      "metadata": {
        "id": "2LkKbct7v3WE"
      },
      "source": [
        "#situaciones excepcionales\n",
        "def division(a, b):\n",
        "  coc = a//b\n",
        "  res = a % b\n",
        "  return (coc, res)\n",
        "print(division(4,5))\n",
        "print(division(10, 0))\n",
        "print(division(1024, 10))"
      ],
      "execution_count": null,
      "outputs": []
    },
    {
      "cell_type": "code",
      "metadata": {
        "id": "nMBEqUSYwRGT"
      },
      "source": [
        "#sintaxis de una excepcion   (try,   except,    else)\n",
        "try:\n",
        "#  codigo que puede generar alguna excepcion a manejar\n",
        "except Exception_name1: # Primer tipo de excepcion\n",
        "# .... codigo que maneja la excepcion Exception_name1\n",
        "except Exception_name2: # Segundo tipo de excepci\u0013on (opcional)\n",
        "#codigo que maneja la excepci\u0013on Exception_name2\n",
        "#...\n",
        "except Exception_nameN: # N-\u0013esimo tipo de excepci\u0013on (opcional)\n",
        "#c\u0013odigo que maneja la excepci\u0013on Exception_nameN\n",
        "else: #opcional\n",
        "#.....codigo extra por si no se presenta una excepci\u0013on"
      ],
      "execution_count": null,
      "outputs": []
    },
    {
      "cell_type": "code",
      "metadata": {
        "colab": {
          "base_uri": "https://localhost:8080/"
        },
        "id": "I2sanOmpwpux",
        "outputId": "0723a93e-a864-4cf9-d33d-a5e0a058b057"
      },
      "source": [
        "#manejo de la excepcion generada por la division entre 0\n",
        "def division(a, b):\n",
        "  try:\n",
        "    coc = a // b\n",
        "    res = a % b\n",
        "    return (coc, res)\n",
        "  except:\n",
        "    return \"Error en la division de \"+ str(a) + \" entre \"+ str(b)\n",
        "print(division(10, 0))\n",
        "print(division(1024, 10))"
      ],
      "execution_count": null,
      "outputs": [
        {
          "output_type": "stream",
          "text": [
            "Error en la division de 10 entre 0\n",
            "(102, 4)\n"
          ],
          "name": "stdout"
        }
      ]
    },
    {
      "cell_type": "code",
      "metadata": {
        "colab": {
          "base_uri": "https://localhost:8080/"
        },
        "id": "Zpzyg2m6xwTh",
        "outputId": "f402b087-46d7-4804-ffb0-7b716166b92d"
      },
      "source": [
        "#Valor no apropiado\n",
        "def division(a, b):\n",
        "  try:\n",
        "    coc = a//b\n",
        "    res = a % b\n",
        "    return (coc, res)\n",
        "  except:\n",
        "    print(\"Error en la division de\", a, \"entre\", b)\n",
        "def main():\n",
        "  num = int(input(\"digite el dividendo: \")) #digite el dividendo hola\n",
        "  div = int(input(\"digite el divisor nro entero: \"))\n",
        "  print(division(num, div))\n",
        "main()"
      ],
      "execution_count": null,
      "outputs": [
        {
          "output_type": "stream",
          "text": [
            "digite el dividendo: 300\n",
            "digite el divisor nro entero: 0\n",
            "Error en la division de 300 entre 0\n",
            "None\n"
          ],
          "name": "stdout"
        }
      ]
    },
    {
      "cell_type": "code",
      "metadata": {
        "colab": {
          "base_uri": "https://localhost:8080/"
        },
        "id": "qS_S7lp4yiVw",
        "outputId": "5e5b82ce-4888-490c-b995-572ccc1470f1"
      },
      "source": [
        "#excepcion por un valor no apropiado\n",
        "def main():\n",
        "  try:\n",
        "    num = int(input(\"digite el dividendo: \"))\n",
        "    div = int(input(\"digite el divisor: \"))\n",
        "    print(division(num, div))\n",
        "  except ValueError:\n",
        "    print(\"Error: el valor digitado debe ser un numero entero.\")\n",
        "main()"
      ],
      "execution_count": null,
      "outputs": [
        {
          "output_type": "stream",
          "text": [
            "digite el dividendo: a\n",
            "Error: el valor digitado debe ser un numero entero.\n"
          ],
          "name": "stdout"
        }
      ]
    },
    {
      "cell_type": "code",
      "metadata": {
        "id": "FKTZxWx3zRRn"
      },
      "source": [
        "#Bloque finally\n",
        "#Se especifica el bloque: finally, para determinar acciones que se deben\n",
        "#ejecutar sin importar si se produce una excepci\u0013on o no\n",
        "try:\n",
        "  #Codigo que podria generar alguna excepcion a manejar\n",
        "except:\n",
        "  # Manejo de excepciones (pueden ser varias)\n",
        "finally:\n",
        "  #Codigo que se ejecuta al final si o si\n",
        "#El orden de ejecucion de las excepciones es el siguiente:\n",
        "          try => except => else => finally"
      ],
      "execution_count": null,
      "outputs": []
    },
    {
      "cell_type": "code",
      "metadata": {
        "colab": {
          "base_uri": "https://localhost:8080/"
        },
        "id": "VWoHfvKKz4cA",
        "outputId": "276bd571-45fc-447a-e31d-a7fb67dd3f0a"
      },
      "source": [
        "#ejemplo bloque finally\n",
        "try:\n",
        "  den = int(input(\"Ingrese un numero entero: \")) #por ej ingrese un nro flotante\n",
        "  re = 100/den\n",
        "except:\n",
        "  print(\"Error: Algo esta mal\")\n",
        "else:\n",
        "  print(\"El resultado es: \", re)\n",
        "finally:\n",
        "  print(\"El programa termina!\")"
      ],
      "execution_count": null,
      "outputs": [
        {
          "output_type": "stream",
          "text": [
            "Ingrese un numero entero: 2.2\n",
            "Error: Algo esta mal\n",
            "El programa termina!\n"
          ],
          "name": "stdout"
        }
      ]
    },
    {
      "cell_type": "code",
      "metadata": {
        "colab": {
          "base_uri": "https://localhost:8080/"
        },
        "id": "UQqbLruo1JW5",
        "outputId": "7aecb3b1-a142-46c3-852a-6bd0994592b8"
      },
      "source": [
        "#Capturar e identificar varios tipos de excepciones\n",
        "try:\n",
        "  den = int(input(\"Ingrese un numero: \"))\n",
        "  re = 100/den # Generar excepcion si se digito 0\n",
        "  print(re)\n",
        "except Exception as ex:\n",
        "  print(ex, \"\\n\", type(ex))"
      ],
      "execution_count": null,
      "outputs": [
        {
          "output_type": "stream",
          "text": [
            "Ingrese un numero: a\n",
            "invalid literal for int() with base 10: 'a' \n",
            " <class 'ValueError'>\n"
          ],
          "name": "stdout"
        }
      ]
    },
    {
      "cell_type": "code",
      "metadata": {
        "colab": {
          "base_uri": "https://localhost:8080/"
        },
        "id": "NK4eJYW61dkl",
        "outputId": "72278208-9ec5-476c-a493-d25f2df3ed89"
      },
      "source": [
        "#raise: Lanza una excepcion y luego la atrapa\n",
        "def division(a, b):\n",
        "  if b == 0:\n",
        "    raise ValueError(\"Error: division entre cero ....\")\n",
        "  else:\n",
        "    coc = a // b\n",
        "    res = a % b\n",
        "    return (coc, res)\n",
        "\n",
        "try:\n",
        "  print(division(10, 0))\n",
        "except Exception as ex:\n",
        "  print(ex, \"\\n\", type(ex))"
      ],
      "execution_count": null,
      "outputs": [
        {
          "output_type": "stream",
          "text": [
            "Error: division entre cero .... \n",
            " <class 'ValueError'>\n"
          ],
          "name": "stdout"
        }
      ]
    },
    {
      "cell_type": "code",
      "metadata": {
        "colab": {
          "base_uri": "https://localhost:8080/"
        },
        "id": "ajPaumU52954",
        "outputId": "edf401e9-083a-4eab-e098-bd061ab1ccc1"
      },
      "source": [
        "#P1-Capture la excepcion que evita que el usuario acceda a posiciones que\n",
        "#no se encuentran definidas en la lista dada y muestre el mensaje\n",
        "#Intenta acceder a una posicion que no esta en la lista:\n",
        "def funcArreglo(lista, indice):\n",
        "  if indice >= len(lista):\n",
        "    raise IndexError('Error: Intenta acceder a una posicion que no esta en la lista')\n",
        "  else:\n",
        "    return lista[indice]\n",
        "\n",
        "lista = [1, 2, 3, 4, 6]\n",
        "pos=5\n",
        "try:\n",
        "  resp = funcArreglo(lista, pos)\n",
        "  print('dato:',resp)\n",
        "except Exception as ex:\n",
        "  print(ex, \"\\n\", type(ex))"
      ],
      "execution_count": null,
      "outputs": [
        {
          "output_type": "stream",
          "text": [
            "Error: Intenta acceder a una posicion que no esta en la lista \n",
            " <class 'IndexError'>\n"
          ],
          "name": "stdout"
        }
      ]
    },
    {
      "cell_type": "code",
      "metadata": {
        "colab": {
          "base_uri": "https://localhost:8080/",
          "height": 334
        },
        "id": "mCGdfUs33mYu",
        "outputId": "2e834369-4a0f-459d-e147-5c5afd977a6b"
      },
      "source": [
        "#P2- Capture la excepcion para evitar que un programador sume una\n",
        "#cadena de texto a un numero y muestre un mensaje: '...'\n",
        "#hint: para verificar si la variable b es una cadena utilice type(b) == str \n",
        " \n",
        "def operar(a, b):\n",
        "  if  type(b) == str:\n",
        "    raise TypeError('Error: Tipos de datos no compatibles para la operacion...')\n",
        "  else:\n",
        "    return a+b\n",
        "\n",
        "def main():\n",
        "  a = int(input('ingrese un nro: '))\n",
        "  b = \"hola\"\n",
        "  try:\n",
        "    print(operar(a,b))\n",
        "  except Exception as ex:\n",
        "    print(ex, \"\\n\", type(ex))\n",
        "main()\n"
      ],
      "execution_count": null,
      "outputs": [
        {
          "output_type": "stream",
          "text": [
            "ingrese un nro: 6.5\n"
          ],
          "name": "stdout"
        },
        {
          "output_type": "error",
          "ename": "ValueError",
          "evalue": "ignored",
          "traceback": [
            "\u001b[0;31m---------------------------------------------------------------------------\u001b[0m",
            "\u001b[0;31mValueError\u001b[0m                                Traceback (most recent call last)",
            "\u001b[0;32m<ipython-input-43-7d81bf1418d7>\u001b[0m in \u001b[0;36m<module>\u001b[0;34m()\u001b[0m\n\u001b[1;32m     16\u001b[0m   \u001b[0;32mexcept\u001b[0m \u001b[0mException\u001b[0m \u001b[0;32mas\u001b[0m \u001b[0mex\u001b[0m\u001b[0;34m:\u001b[0m\u001b[0;34m\u001b[0m\u001b[0;34m\u001b[0m\u001b[0m\n\u001b[1;32m     17\u001b[0m     \u001b[0mprint\u001b[0m\u001b[0;34m(\u001b[0m\u001b[0mex\u001b[0m\u001b[0;34m,\u001b[0m \u001b[0;34m\"\\n\"\u001b[0m\u001b[0;34m,\u001b[0m \u001b[0mtype\u001b[0m\u001b[0;34m(\u001b[0m\u001b[0mex\u001b[0m\u001b[0;34m)\u001b[0m\u001b[0;34m)\u001b[0m\u001b[0;34m\u001b[0m\u001b[0;34m\u001b[0m\u001b[0m\n\u001b[0;32m---> 18\u001b[0;31m \u001b[0mmain\u001b[0m\u001b[0;34m(\u001b[0m\u001b[0;34m)\u001b[0m\u001b[0;34m\u001b[0m\u001b[0;34m\u001b[0m\u001b[0m\n\u001b[0m",
            "\u001b[0;32m<ipython-input-43-7d81bf1418d7>\u001b[0m in \u001b[0;36mmain\u001b[0;34m()\u001b[0m\n\u001b[1;32m     10\u001b[0m \u001b[0;34m\u001b[0m\u001b[0m\n\u001b[1;32m     11\u001b[0m \u001b[0;32mdef\u001b[0m \u001b[0mmain\u001b[0m\u001b[0;34m(\u001b[0m\u001b[0;34m)\u001b[0m\u001b[0;34m:\u001b[0m\u001b[0;34m\u001b[0m\u001b[0;34m\u001b[0m\u001b[0m\n\u001b[0;32m---> 12\u001b[0;31m   \u001b[0ma\u001b[0m \u001b[0;34m=\u001b[0m \u001b[0mint\u001b[0m\u001b[0;34m(\u001b[0m\u001b[0minput\u001b[0m\u001b[0;34m(\u001b[0m\u001b[0;34m'ingrese un nro: '\u001b[0m\u001b[0;34m)\u001b[0m\u001b[0;34m)\u001b[0m\u001b[0;34m\u001b[0m\u001b[0;34m\u001b[0m\u001b[0m\n\u001b[0m\u001b[1;32m     13\u001b[0m   \u001b[0mb\u001b[0m \u001b[0;34m=\u001b[0m \u001b[0;34m\"hola\"\u001b[0m\u001b[0;34m\u001b[0m\u001b[0;34m\u001b[0m\u001b[0m\n\u001b[1;32m     14\u001b[0m   \u001b[0;32mtry\u001b[0m\u001b[0;34m:\u001b[0m\u001b[0;34m\u001b[0m\u001b[0;34m\u001b[0m\u001b[0m\n",
            "\u001b[0;31mValueError\u001b[0m: invalid literal for int() with base 10: '6.5'"
          ]
        }
      ]
    },
    {
      "cell_type": "code",
      "metadata": {
        "colab": {
          "base_uri": "https://localhost:8080/"
        },
        "id": "GNPbHxu18wqr",
        "outputId": "f253136f-01da-4d67-cc78-12ce5795745c"
      },
      "source": [
        "#P3-Capture la excepcion cuando se trata de obtener un valor con una llave que no se\n",
        "#encuentra en un diccionario y muestre el mensaje correspondiente\n",
        "\n",
        "def func1(llave, dicti):\n",
        "  if llave not in dicti:\n",
        "    raise KeyError(\"Error:Intenta acceder una llave inexistente\")\n",
        "  else:\n",
        "    return dicti[llave]\n",
        "def main(llave):\n",
        "  dicti = {\"James\":\"Java\", \"Dennis\":\"C\", \"Das\":\"Python\"}\n",
        "  try:\n",
        "    print(func1(llave, dicti))\n",
        "  except Exception as ex:\n",
        "    print(ex, \"\\n\", type(ex))\n",
        "main('Das')"
      ],
      "execution_count": null,
      "outputs": [
        {
          "output_type": "stream",
          "text": [
            "Python\n"
          ],
          "name": "stdout"
        }
      ]
    }
  ]
}