{
  "nbformat": 4,
  "nbformat_minor": 0,
  "metadata": {
    "colab": {
      "provenance": [],
      "authorship_tag": "ABX9TyPBECleYFKGvguIZDy6ao+f",
      "include_colab_link": true
    },
    "kernelspec": {
      "name": "python3",
      "display_name": "Python 3"
    },
    "language_info": {
      "name": "python"
    }
  },
  "cells": [
    {
      "cell_type": "markdown",
      "metadata": {
        "id": "view-in-github",
        "colab_type": "text"
      },
      "source": [
        "<a href=\"https://colab.research.google.com/github/mcewenar/Google_colab/blob/master/images_to_PDF.ipynb\" target=\"_parent\"><img src=\"https://colab.research.google.com/assets/colab-badge.svg\" alt=\"Open In Colab\"/></a>"
      ]
    },
    {
      "cell_type": "code",
      "execution_count": null,
      "metadata": {
        "id": "4cNz2RaX-WmF"
      },
      "outputs": [],
      "source": [
        "!pip install fpdf\n",
        "\n",
        "pdf = FPDF()\n",
        "pdf.add_page()\n",
        "\n",
        "pdf.image(\"example.png\", x=10, y=10, w=100)\n",
        "\n",
        "pdf.set_font(\"Arial\", size=12)\n",
        "pdf.ln(60)\n",
        "pdf.cell(200, 10, txt=\"Image to the PDF\", ln=1, align=\"C\")\n",
        "\n",
        "pdf.output(\"test.pdf\")\n",
        "\n",
        "print(\"Created/modified files during execution: \")\n",
        "print(\"image_pdf.pdf\")"
      ]
    }
  ]
}