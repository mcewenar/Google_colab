{
  "nbformat": 4,
  "nbformat_minor": 0,
  "metadata": {
    "colab": {
      "provenance": [],
      "authorship_tag": "ABX9TyPG1vA7yX3k3UdL7KKZsAIw",
      "include_colab_link": true
    },
    "kernelspec": {
      "name": "python3",
      "display_name": "Python 3"
    },
    "language_info": {
      "name": "python"
    }
  },
  "cells": [
    {
      "cell_type": "markdown",
      "metadata": {
        "id": "view-in-github",
        "colab_type": "text"
      },
      "source": [
        "<a href=\"https://colab.research.google.com/github/mcewenar/Google_colab/blob/master/execute_command_system_remote_server_made_js.ipynb\" target=\"_parent\"><img src=\"https://colab.research.google.com/assets/colab-badge.svg\" alt=\"Open In Colab\"/></a>"
      ]
    },
    {
      "cell_type": "code",
      "execution_count": 1,
      "metadata": {
        "colab": {
          "base_uri": "https://localhost:8080/",
          "height": 373
        },
        "id": "tJ3DHSTs5JkS",
        "outputId": "e7f8b264-d2ef-4f71-d4b4-b9def3d7c0b0"
      },
      "outputs": [
        {
          "output_type": "stream",
          "name": "stdout",
          "text": [
            "Server running in http://localhost:3000/\n"
          ]
        },
        {
          "output_type": "error",
          "ename": "KeyboardInterrupt",
          "evalue": "",
          "traceback": [
            "\u001b[0;31m---------------------------------------------------------------------------\u001b[0m",
            "\u001b[0;31mKeyboardInterrupt\u001b[0m                         Traceback (most recent call last)",
            "\u001b[0;32m<ipython-input-1-b264316f2b03>\u001b[0m in \u001b[0;36m<cell line: 0>\u001b[0;34m()\u001b[0m\n\u001b[1;32m     42\u001b[0m \u001b[0;34m\u001b[0m\u001b[0m\n\u001b[1;32m     43\u001b[0m \u001b[0;32mif\u001b[0m \u001b[0m__name__\u001b[0m \u001b[0;34m==\u001b[0m \u001b[0;34m'__main__'\u001b[0m\u001b[0;34m:\u001b[0m\u001b[0;34m\u001b[0m\u001b[0;34m\u001b[0m\u001b[0m\n\u001b[0;32m---> 44\u001b[0;31m     \u001b[0mrun\u001b[0m\u001b[0;34m(\u001b[0m\u001b[0;34m)\u001b[0m\u001b[0;34m\u001b[0m\u001b[0;34m\u001b[0m\u001b[0m\n\u001b[0m\u001b[1;32m     45\u001b[0m \u001b[0;34m\u001b[0m\u001b[0m\n\u001b[1;32m     46\u001b[0m \u001b[0;34m\u001b[0m\u001b[0m\n",
            "\u001b[0;32m<ipython-input-1-b264316f2b03>\u001b[0m in \u001b[0;36mrun\u001b[0;34m()\u001b[0m\n\u001b[1;32m     39\u001b[0m     \u001b[0mhttpd\u001b[0m \u001b[0;34m=\u001b[0m \u001b[0mHTTPServer\u001b[0m\u001b[0;34m(\u001b[0m\u001b[0mserver_address\u001b[0m\u001b[0;34m,\u001b[0m \u001b[0mMyHandler\u001b[0m\u001b[0;34m)\u001b[0m\u001b[0;34m\u001b[0m\u001b[0;34m\u001b[0m\u001b[0m\n\u001b[1;32m     40\u001b[0m     \u001b[0mprint\u001b[0m\u001b[0;34m(\u001b[0m\u001b[0;34mf\"Server running in http://localhost:{port}/\"\u001b[0m\u001b[0;34m)\u001b[0m\u001b[0;34m\u001b[0m\u001b[0;34m\u001b[0m\u001b[0m\n\u001b[0;32m---> 41\u001b[0;31m     \u001b[0mhttpd\u001b[0m\u001b[0;34m.\u001b[0m\u001b[0mserve_forever\u001b[0m\u001b[0;34m(\u001b[0m\u001b[0;34m)\u001b[0m\u001b[0;34m\u001b[0m\u001b[0;34m\u001b[0m\u001b[0m\n\u001b[0m\u001b[1;32m     42\u001b[0m \u001b[0;34m\u001b[0m\u001b[0m\n\u001b[1;32m     43\u001b[0m \u001b[0;32mif\u001b[0m \u001b[0m__name__\u001b[0m \u001b[0;34m==\u001b[0m \u001b[0;34m'__main__'\u001b[0m\u001b[0;34m:\u001b[0m\u001b[0;34m\u001b[0m\u001b[0;34m\u001b[0m\u001b[0m\n",
            "\u001b[0;32m/usr/lib/python3.11/socketserver.py\u001b[0m in \u001b[0;36mserve_forever\u001b[0;34m(self, poll_interval)\u001b[0m\n\u001b[1;32m    231\u001b[0m \u001b[0;34m\u001b[0m\u001b[0m\n\u001b[1;32m    232\u001b[0m                 \u001b[0;32mwhile\u001b[0m \u001b[0;32mnot\u001b[0m \u001b[0mself\u001b[0m\u001b[0;34m.\u001b[0m\u001b[0m__shutdown_request\u001b[0m\u001b[0;34m:\u001b[0m\u001b[0;34m\u001b[0m\u001b[0;34m\u001b[0m\u001b[0m\n\u001b[0;32m--> 233\u001b[0;31m                     \u001b[0mready\u001b[0m \u001b[0;34m=\u001b[0m \u001b[0mselector\u001b[0m\u001b[0;34m.\u001b[0m\u001b[0mselect\u001b[0m\u001b[0;34m(\u001b[0m\u001b[0mpoll_interval\u001b[0m\u001b[0;34m)\u001b[0m\u001b[0;34m\u001b[0m\u001b[0;34m\u001b[0m\u001b[0m\n\u001b[0m\u001b[1;32m    234\u001b[0m                     \u001b[0;31m# bpo-35017: shutdown() called during select(), exit immediately.\u001b[0m\u001b[0;34m\u001b[0m\u001b[0;34m\u001b[0m\u001b[0m\n\u001b[1;32m    235\u001b[0m                     \u001b[0;32mif\u001b[0m \u001b[0mself\u001b[0m\u001b[0;34m.\u001b[0m\u001b[0m__shutdown_request\u001b[0m\u001b[0;34m:\u001b[0m\u001b[0;34m\u001b[0m\u001b[0;34m\u001b[0m\u001b[0m\n",
            "\u001b[0;32m/usr/lib/python3.11/selectors.py\u001b[0m in \u001b[0;36mselect\u001b[0;34m(self, timeout)\u001b[0m\n\u001b[1;32m    413\u001b[0m         \u001b[0mready\u001b[0m \u001b[0;34m=\u001b[0m \u001b[0;34m[\u001b[0m\u001b[0;34m]\u001b[0m\u001b[0;34m\u001b[0m\u001b[0;34m\u001b[0m\u001b[0m\n\u001b[1;32m    414\u001b[0m         \u001b[0;32mtry\u001b[0m\u001b[0;34m:\u001b[0m\u001b[0;34m\u001b[0m\u001b[0;34m\u001b[0m\u001b[0m\n\u001b[0;32m--> 415\u001b[0;31m             \u001b[0mfd_event_list\u001b[0m \u001b[0;34m=\u001b[0m \u001b[0mself\u001b[0m\u001b[0;34m.\u001b[0m\u001b[0m_selector\u001b[0m\u001b[0;34m.\u001b[0m\u001b[0mpoll\u001b[0m\u001b[0;34m(\u001b[0m\u001b[0mtimeout\u001b[0m\u001b[0;34m)\u001b[0m\u001b[0;34m\u001b[0m\u001b[0;34m\u001b[0m\u001b[0m\n\u001b[0m\u001b[1;32m    416\u001b[0m         \u001b[0;32mexcept\u001b[0m \u001b[0mInterruptedError\u001b[0m\u001b[0;34m:\u001b[0m\u001b[0;34m\u001b[0m\u001b[0;34m\u001b[0m\u001b[0m\n\u001b[1;32m    417\u001b[0m             \u001b[0;32mreturn\u001b[0m \u001b[0mready\u001b[0m\u001b[0;34m\u001b[0m\u001b[0;34m\u001b[0m\u001b[0m\n",
            "\u001b[0;31mKeyboardInterrupt\u001b[0m: "
          ]
        }
      ],
      "source": [
        "from http.server import BaseHTTPRequestHandler, HTTPServer\n",
        "import subprocess\n",
        "\n",
        "class MyHandler(BaseHTTPRequestHandler):\n",
        "    def do_GET(self):\n",
        "        # Get OS:\n",
        "        try:\n",
        "            operating_system = subprocess.check_output(['uname']).decode().strip()\n",
        "        except subprocess.CalledProcessError as e:\n",
        "            operating_system = 'Unknown'\n",
        "            print(f\"Error executing command: {e}\")\n",
        "\n",
        "        # Get hostname:\n",
        "        try:\n",
        "            hostname = subprocess.check_output(['uname', '-n']).decode().strip()\n",
        "        except subprocess.CalledProcessError as e:\n",
        "            hostname = 'Unknown'\n",
        "            print(f\"Error executing command: {e}\")\n",
        "\n",
        "        # Get user: (se usa shell para interpretar $USER)\n",
        "        try:\n",
        "            user = subprocess.check_output('echo $USER', shell=True).decode().strip()\n",
        "        except subprocess.CalledProcessError as e:\n",
        "            user = 'Unknown'\n",
        "            print(f\"Error executing command: {e}\")\n",
        "\n",
        "        # Output message:\n",
        "        message = f\"Hello world from {operating_system} {hostname}. Greet you {user}\"\n",
        "\n",
        "        # http responde config:\n",
        "        self.send_response(200)\n",
        "        self.send_header('Content-Type', 'text/plain; charset=utf-8')\n",
        "        self.end_headers()\n",
        "        self.wfile.write(message.encode('utf-8'))\n",
        "\n",
        "def run():\n",
        "    port = 3000\n",
        "    server_address = ('', port)\n",
        "    httpd = HTTPServer(server_address, MyHandler)\n",
        "    print(f\"Server running in http://localhost:{port}/\")\n",
        "    httpd.serve_forever()\n",
        "\n",
        "if __name__ == '__main__':\n",
        "    run()\n",
        "\n",
        "\n",
        "\"\"\"\n",
        "CODE MADE IN NODEJS:\n",
        "const http = require('http');\n",
        "const { exec } = require('child_process') //Access to OS resources\n",
        "\n",
        "function executeCommand(command, callback) {\n",
        "        exec(command, (error, stdout, stderr) => {\n",
        "                if(error) {\n",
        "                        console.log(`Error executing command ${error.message}`)\n",
        "                        callback('Unknown')\n",
        "                        return;\n",
        "                }\n",
        "                if(stderr) {\n",
        "                        console.error(`Error in the output command ${stderr}`)\n",
        "                        callback('Unknown')\n",
        "                        return;\n",
        "                }\n",
        "                callback(stdout.trim());\n",
        "\n",
        "\n",
        "        });\n",
        "\n",
        "}\n",
        "\n",
        "\n",
        "const server = http.createServer((req, res) => {\n",
        "        executeCommand('uname', (OperatingSystem) => {\n",
        "                executeCommand('uname -n', (hostName) => {\n",
        "                        executeCommand('echo $USER', (user) => {\n",
        "                                const message = `Hello world from ${OperatingSystem} ${nameHost}. Greet you ${user}`;\n",
        "\n",
        "                                res.statusCode = 200\n",
        "                                res.setHeader('Content-Type', 'text/plain; charset=utf-8')\n",
        "                                res.end(message);\n",
        "                        });\n",
        "\n",
        "                });\n",
        "        });\n",
        "})\n",
        "\n",
        "const PORT = 3000;\n",
        "server.listen(PORT, () => {\n",
        "        console.log(`Server running in http://localhost:${PORT}/`)\n",
        "})\n",
        "\n",
        "\"\"\""
      ]
    }
  ]
}