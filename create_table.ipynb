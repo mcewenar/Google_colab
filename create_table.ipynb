{
  "nbformat": 4,
  "nbformat_minor": 0,
  "metadata": {
    "colab": {
      "provenance": [],
      "authorship_tag": "ABX9TyOghSJxcOoNEAmnv7Bw3i5j",
      "include_colab_link": true
    },
    "kernelspec": {
      "name": "python3",
      "display_name": "Python 3"
    },
    "language_info": {
      "name": "python"
    }
  },
  "cells": [
    {
      "cell_type": "markdown",
      "metadata": {
        "id": "view-in-github",
        "colab_type": "text"
      },
      "source": [
        "<a href=\"https://colab.research.google.com/github/mcewenar/Google_colab/blob/master/create_table.ipynb\" target=\"_parent\"><img src=\"https://colab.research.google.com/assets/colab-badge.svg\" alt=\"Open In Colab\"/></a>"
      ]
    },
    {
      "cell_type": "code",
      "execution_count": 2,
      "metadata": {
        "colab": {
          "base_uri": "https://localhost:8080/",
          "height": 153
        },
        "id": "3RBkX__PQErE",
        "outputId": "8f605689-2e64-47c6-c994-8a0630c16ae2"
      },
      "outputs": [
        {
          "output_type": "display_data",
          "data": {
            "text/plain": [
              "\u001b[3m        User Data        \u001b[0m\n",
              "┏━━━━┳━━━━━━━━━━━━┳━━━━━┓\n",
              "┃\u001b[1m \u001b[0m\u001b[1mID\u001b[0m\u001b[1m \u001b[0m┃\u001b[1m \u001b[0m\u001b[1mName      \u001b[0m\u001b[1m \u001b[0m┃\u001b[1m \u001b[0m\u001b[1mAge\u001b[0m\u001b[1m \u001b[0m┃\n",
              "┡━━━━╇━━━━━━━━━━━━╇━━━━━┩\n",
              "│\u001b[36m \u001b[0m\u001b[36m 1\u001b[0m\u001b[36m \u001b[0m│\u001b[35m \u001b[0m\u001b[35mJohn Doe  \u001b[0m\u001b[35m \u001b[0m│\u001b[32m \u001b[0m\u001b[32m 25\u001b[0m\u001b[32m \u001b[0m│\n",
              "│\u001b[36m \u001b[0m\u001b[36m 2\u001b[0m\u001b[36m \u001b[0m│\u001b[35m \u001b[0m\u001b[35mJane Smith\u001b[0m\u001b[35m \u001b[0m│\u001b[32m \u001b[0m\u001b[32m 30\u001b[0m\u001b[32m \u001b[0m│\n",
              "│\u001b[36m \u001b[0m\u001b[36m 3\u001b[0m\u001b[36m \u001b[0m│\u001b[35m \u001b[0m\u001b[35mMike Tower\u001b[0m\u001b[35m \u001b[0m│\u001b[32m \u001b[0m\u001b[32m 35\u001b[0m\u001b[32m \u001b[0m│\n",
              "└────┴────────────┴─────┘\n"
            ],
            "text/html": [
              "<pre style=\"white-space:pre;overflow-x:auto;line-height:normal;font-family:Menlo,'DejaVu Sans Mono',consolas,'Courier New',monospace\"><span style=\"font-style: italic\">        User Data        </span>\n",
              "┏━━━━┳━━━━━━━━━━━━┳━━━━━┓\n",
              "┃<span style=\"font-weight: bold\"> ID </span>┃<span style=\"font-weight: bold\"> Name       </span>┃<span style=\"font-weight: bold\"> Age </span>┃\n",
              "┡━━━━╇━━━━━━━━━━━━╇━━━━━┩\n",
              "│<span style=\"color: #008080; text-decoration-color: #008080\">  1 </span>│<span style=\"color: #800080; text-decoration-color: #800080\"> John Doe   </span>│<span style=\"color: #008000; text-decoration-color: #008000\">  25 </span>│\n",
              "│<span style=\"color: #008080; text-decoration-color: #008080\">  2 </span>│<span style=\"color: #800080; text-decoration-color: #800080\"> Jane Smith </span>│<span style=\"color: #008000; text-decoration-color: #008000\">  30 </span>│\n",
              "│<span style=\"color: #008080; text-decoration-color: #008080\">  3 </span>│<span style=\"color: #800080; text-decoration-color: #800080\"> Mike Tower </span>│<span style=\"color: #008000; text-decoration-color: #008000\">  35 </span>│\n",
              "└────┴────────────┴─────┘\n",
              "</pre>\n"
            ]
          },
          "metadata": {}
        }
      ],
      "source": [
        "from rich.table import Table\n",
        "from rich.console import Console\n",
        "\n",
        "console = Console()\n",
        "table = Table(title=\"User Data\")\n",
        "\n",
        "table.add_column(\"ID\", justify=\"right\", style=\"cyan\", no_wrap=True)\n",
        "table.add_column(\"Name\", style=\"magenta\")\n",
        "table.add_column(\"Age\", justify=\"right\", style=\"green\")\n",
        "\n",
        "\n",
        "table.add_row(\"1\", \"John Doe\", \"25\")\n",
        "table.add_row(\"2\", \"Jane Smith\", \"30\")\n",
        "table.add_row(\"3\", \"Mike Tower\", \"35\")\n",
        "\n",
        "console.print(table)"
      ]
    }
  ]
}