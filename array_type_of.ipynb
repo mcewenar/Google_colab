{
  "nbformat": 4,
  "nbformat_minor": 0,
  "metadata": {
    "colab": {
      "provenance": [],
      "authorship_tag": "ABX9TyMd11t5ddLRt5kt/fNQVdS/",
      "include_colab_link": true
    },
    "kernelspec": {
      "name": "python3",
      "display_name": "Python 3"
    },
    "language_info": {
      "name": "python"
    }
  },
  "cells": [
    {
      "cell_type": "markdown",
      "metadata": {
        "id": "view-in-github",
        "colab_type": "text"
      },
      "source": [
        "<a href=\"https://colab.research.google.com/github/mcewenar/Google_colab/blob/master/array_type_of.ipynb\" target=\"_parent\"><img src=\"https://colab.research.google.com/assets/colab-badge.svg\" alt=\"Open In Colab\"/></a>"
      ]
    },
    {
      "cell_type": "code",
      "execution_count": 1,
      "metadata": {
        "colab": {
          "base_uri": "https://localhost:8080/"
        },
        "id": "5KH_4aSVAjEs",
        "outputId": "db85b463-26cb-42c7-d929-5aa033737f08"
      },
      "outputs": [
        {
          "output_type": "stream",
          "name": "stdout",
          "text": [
            "6\n"
          ]
        }
      ],
      "source": [
        "def sum(arr):\n",
        "  \"\"\"Calculates the sum of numbers in a list, ignoring non-numeric elements.\n",
        "  Args:\n",
        "      arr: A list of elements.\n",
        "  Returns:\n",
        "      The sum of all numeric elements in the list.\n",
        "  \"\"\"\n",
        "  total = 0\n",
        "  for item in arr:\n",
        "    if isinstance(item, (int, float)):  # Check for both int and float types\n",
        "      total += item\n",
        "  return total\n",
        "\n",
        "# Test case\n",
        "test_arr = [1, 2, 3, None, \"x\"]\n",
        "result = sum(test_arr)\n",
        "print(result)"
      ]
    }
  ]
}