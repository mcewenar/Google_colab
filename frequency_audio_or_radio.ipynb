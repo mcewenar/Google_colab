{
  "nbformat": 4,
  "nbformat_minor": 0,
  "metadata": {
    "colab": {
      "provenance": [],
      "authorship_tag": "ABX9TyNhV5JY4AcoN8ZDovJqoySD",
      "include_colab_link": true
    },
    "kernelspec": {
      "name": "python3",
      "display_name": "Python 3"
    },
    "language_info": {
      "name": "python"
    }
  },
  "cells": [
    {
      "cell_type": "markdown",
      "metadata": {
        "id": "view-in-github",
        "colab_type": "text"
      },
      "source": [
        "<a href=\"https://colab.research.google.com/github/mcewenar/Google_colab/blob/master/frequency_audio_or_radio.ipynb\" target=\"_parent\"><img src=\"https://colab.research.google.com/assets/colab-badge.svg\" alt=\"Open In Colab\"/></a>"
      ]
    },
    {
      "cell_type": "code",
      "execution_count": 3,
      "metadata": {
        "colab": {
          "base_uri": "https://localhost:8080/"
        },
        "id": "i75vlXjVRoo_",
        "outputId": "cca3bf45-2882-46b1-b444-adbdfba640b9"
      },
      "outputs": [
        {
          "output_type": "stream",
          "name": "stdout",
          "text": [
            "Enter the frequency in Hz:400000\n",
            "Radio frequency\n",
            "Program is executed. See you later\n"
          ]
        }
      ],
      "source": [
        "#This program to check if a frequency is audio or radio\n",
        "\n",
        "def check_frequency(frequency):\n",
        "  if 20 <= frequency <= 20000:\n",
        "    return \"Audio frequency\"\n",
        "  elif 30000 <= frequency <= 300000000000:\n",
        "    return \"Radio frequency\"\n",
        "  else:\n",
        "    return \"Neither Audio nor Radio Frequency\"\n",
        "\n",
        "\n",
        "#User input:\n",
        "def user_input():\n",
        "  try:\n",
        "    freq = float(input(\"Enter the frequency in Hz:\"))\n",
        "    print(check_frequency(freq))\n",
        "  except ValueError:\n",
        "    print(\"Invalid input. Please enter a valid frequency.\")\n",
        "  finally:\n",
        "    print(\"Program is executed. See you later\")\n",
        "user_input();"
      ]
    }
  ]
}