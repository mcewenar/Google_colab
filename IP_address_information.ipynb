{
  "nbformat": 4,
  "nbformat_minor": 0,
  "metadata": {
    "colab": {
      "provenance": [],
      "authorship_tag": "ABX9TyMEFKPni8qrOhUowsD/52/O",
      "include_colab_link": true
    },
    "kernelspec": {
      "name": "python3",
      "display_name": "Python 3"
    },
    "language_info": {
      "name": "python"
    }
  },
  "cells": [
    {
      "cell_type": "markdown",
      "metadata": {
        "id": "view-in-github",
        "colab_type": "text"
      },
      "source": [
        "<a href=\"https://colab.research.google.com/github/mcewenar/Google_colab/blob/master/IP_address_information.ipynb\" target=\"_parent\"><img src=\"https://colab.research.google.com/assets/colab-badge.svg\" alt=\"Open In Colab\"/></a>"
      ]
    },
    {
      "cell_type": "code",
      "execution_count": null,
      "metadata": {
        "colab": {
          "base_uri": "https://localhost:8080/"
        },
        "id": "5YTUkhMlT1xB",
        "outputId": "148ba6b2-7b40-4c75-ef78-d875e54155ec"
      },
      "outputs": [
        {
          "output_type": "stream",
          "name": "stdout",
          "text": [
            "What's your target IP: 69.89.31.226\n",
            "IP 69.89.31.226\n",
            "City Provo\n",
            "ISP Unified Layer\n",
            "Country United States\n",
            "Timezone America/Denver\n"
          ]
        }
      ],
      "source": [
        "import os\n",
        "import urllib.request as urllib2\n",
        "import json\n",
        "\n",
        "while True:\n",
        "  IP_LOCAL = os.system(\"ipconfig\")\n",
        "  ip = input(\"What's your target IP: \")\n",
        "  url = \"http://ip-api.com/json/\" + ip\n",
        "  response = urllib2.urlopen(url)\n",
        "  #data1 = json.loads(response.read())\n",
        "  #print(f\"Json IP {data1}\")\n",
        "\n",
        "  data = response.read()\n",
        "  values = json.loads(data)\n",
        "\n",
        "  #print(f\"json.loads(response.read())\")\n",
        "  print(f\"IP {values['query']}\")\n",
        "  print(f\"City {values['city']}\")\n",
        "  print(f\"ISP {values['isp']}\")\n",
        "  print(f\"Country {values['country']}\")\n",
        "  print(f\"Timezone {values['timezone']}\")"
      ]
    }
  ]
}