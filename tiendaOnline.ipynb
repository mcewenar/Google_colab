{
  "nbformat": 4,
  "nbformat_minor": 0,
  "metadata": {
    "colab": {
      "name": "Untitled3.ipynb",
      "provenance": [],
      "authorship_tag": "ABX9TyOH/t2LdgfjQDugNc30SM4/",
      "include_colab_link": true
    },
    "kernelspec": {
      "name": "python3",
      "display_name": "Python 3"
    },
    "language_info": {
      "name": "python"
    }
  },
  "cells": [
    {
      "cell_type": "markdown",
      "metadata": {
        "id": "view-in-github",
        "colab_type": "text"
      },
      "source": [
        "<a href=\"https://colab.research.google.com/github/mcewenar/Google_colab/blob/master/tiendaOnline.ipynb\" target=\"_parent\"><img src=\"https://colab.research.google.com/assets/colab-badge.svg\" alt=\"Open In Colab\"/></a>"
      ]
    },
    {
      "cell_type": "code",
      "metadata": {
        "id": "SXfh55UFYMoS"
      },
      "source": [
        "def tienda(dinero: int):\n",
        "    pedido=0\n",
        "    lista=[]\n",
        "    productos = {\"panes\":300, \"bolsas de leche\":3300, \"huevos\":350, \"Butifarras\":400}\n",
        "    for i in range(len(productos)):\n",
        "        objeto = int(input(\"Elige la cantidad de \"+ str(list(productos.keys())[i])+\": \")) #Convierte en lista y la indexa\n",
        "        pedido += productos.get(list(productos.keys())[i])*objeto\n",
        "        lista.append(productos.get(list(productos.keys())[i])*objeto)\n",
        "    lista.append(dinero - pedido)\n",
        "    return lista\n",
        "\n",
        "while True:\n",
        "    try:\n",
        "        dinero = int(input(\"Ingresa dinero disponible: \"))\n",
        "        saldo=tienda(dinero)\n",
        "        if saldo[len(saldo)-1] < 0:\n",
        "            print(\"Fondos insuficientes. Inténtelo de nuevo.\")\n",
        "        else:\n",
        "            print(\"Usted compró\",str(saldo[0])+\" pesos en panes,\",str(saldo[1])+\" pesos en bolsas de leche,\",str(saldo[2])+\" pesos en huevos,\",str(saldo[3])+\" pesos en butifarras\")\n",
        "            print(\"Saldo restante:\",str(saldo[4])+\" pesos\")\n",
        "            print(\"\\nVuelva pronto\")\n",
        "    except ValueError:\n",
        "        print(\"Dato erróneo\")\n"
      ],
      "execution_count": null,
      "outputs": []
    }
  ]
}