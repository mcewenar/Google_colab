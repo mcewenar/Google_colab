{
  "nbformat": 4,
  "nbformat_minor": 0,
  "metadata": {
    "colab": {
      "name": "switchCase.ipynb",
      "provenance": [],
      "authorship_tag": "ABX9TyOeiPtJ6Os7i5Hfv+X7P+vE",
      "include_colab_link": true
    },
    "kernelspec": {
      "name": "python3",
      "display_name": "Python 3"
    },
    "language_info": {
      "name": "python"
    }
  },
  "cells": [
    {
      "cell_type": "markdown",
      "metadata": {
        "id": "view-in-github",
        "colab_type": "text"
      },
      "source": [
        "<a href=\"https://colab.research.google.com/github/mcewenar/Google_colab/blob/master/switchCase.ipynb\" target=\"_parent\"><img src=\"https://colab.research.google.com/assets/colab-badge.svg\" alt=\"Open In Colab\"/></a>"
      ]
    },
    {
      "cell_type": "code",
      "execution_count": 1,
      "metadata": {
        "colab": {
          "base_uri": "https://localhost:8080/",
          "height": 130
        },
        "id": "5rm4EodhCETv",
        "outputId": "b130a61b-5422-4f0d-a58b-1bcb0fa7669c"
      },
      "outputs": [
        {
          "output_type": "error",
          "ename": "SyntaxError",
          "evalue": "ignored",
          "traceback": [
            "\u001b[0;36m  File \u001b[0;32m\"<ipython-input-1-eeafc89fa7ed>\"\u001b[0;36m, line \u001b[0;32m4\u001b[0m\n\u001b[0;31m    match note:\u001b[0m\n\u001b[0m             ^\u001b[0m\n\u001b[0;31mSyntaxError\u001b[0m\u001b[0;31m:\u001b[0m invalid syntax\n"
          ]
        }
      ],
      "source": [
        "nombre = input(\"Escribe tu nombre: \")\n",
        "def estrato(note):\n",
        "    tarifa = 0\n",
        "    match note:\n",
        "        case 1:\n",
        "            tarifa=10000\n",
        "        case 2:\n",
        "            tarifa = 15000\n",
        "        case 3:\n",
        "            tarifa = 30000\n",
        "        case 4:\n",
        "            tarifa = 50000\n",
        "        case 5:\n",
        "            tarifa = 65000\n",
        "        case _:\n",
        "            return None\n",
        "    return tarifa\n",
        "result = estrato(int(input(\"what is the result: \")))\n",
        "final = \"NO VÁLIDA. FAVOR INTENTARLO DE NUEVO\" if result == None else result\n",
        "print(f\"El usuario {nombre} tiene una tarifa básica {final}\")"
      ]
    }
  ]
}