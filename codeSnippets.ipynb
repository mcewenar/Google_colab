{
  "nbformat": 4,
  "nbformat_minor": 0,
  "metadata": {
    "colab": {
      "provenance": [],
      "authorship_tag": "ABX9TyNFu6b4wGGE7J+JuFrMPUMn",
      "include_colab_link": true
    },
    "kernelspec": {
      "name": "python3",
      "display_name": "Python 3"
    },
    "language_info": {
      "name": "python"
    }
  },
  "cells": [
    {
      "cell_type": "markdown",
      "metadata": {
        "id": "view-in-github",
        "colab_type": "text"
      },
      "source": [
        "<a href=\"https://colab.research.google.com/github/mcewenar/Google_colab/blob/master/codeSnippets.ipynb\" target=\"_parent\"><img src=\"https://colab.research.google.com/assets/colab-badge.svg\" alt=\"Open In Colab\"/></a>"
      ]
    },
    {
      "cell_type": "code",
      "execution_count": null,
      "metadata": {
        "colab": {
          "base_uri": "https://localhost:8080/"
        },
        "id": "-IuzRSlVZHOx",
        "outputId": "ba6da258-444b-45a4-fe35-a4f88e09c32e"
      },
      "outputs": [
        {
          "output_type": "stream",
          "name": "stdout",
          "text": [
            "dlrow olleh\n"
          ]
        }
      ],
      "source": [
        "#Reversing string:\n",
        "string = \"hello world\"\n",
        "reversed_string = string[::-1]\n",
        "print(reversed_string)"
      ]
    },
    {
      "cell_type": "code",
      "source": [
        "#Checking if a string contains a substring:\n",
        "string = \"hello world\"\n",
        "substring = \"world\"\n",
        "if substring in string:\n",
        "  print(\"Substring found\")"
      ],
      "metadata": {
        "colab": {
          "base_uri": "https://localhost:8080/"
        },
        "id": "hn0t2dncZPTE",
        "outputId": "60df434f-2de7-457a-dc6c-d38c20d72822"
      },
      "execution_count": null,
      "outputs": [
        {
          "output_type": "stream",
          "name": "stdout",
          "text": [
            "Substring found\n"
          ]
        }
      ]
    },
    {
      "cell_type": "code",
      "source": [
        "#Finding maximum value in a list:\n",
        "my_list = [1,5,3,7,2]\n",
        "max_value = max(my_list)\n",
        "print(max_value)"
      ],
      "metadata": {
        "colab": {
          "base_uri": "https://localhost:8080/"
        },
        "id": "VVWHECRyaMJs",
        "outputId": "fb7f12a7-f095-4140-c05d-dcc526081009"
      },
      "execution_count": null,
      "outputs": [
        {
          "output_type": "stream",
          "name": "stdout",
          "text": [
            "7\n"
          ]
        }
      ]
    },
    {
      "cell_type": "code",
      "source": [
        "#Finding the index of the maximum value in a list:\n",
        "my_list = [1,5,3,9,2]\n",
        "max_index = my_list.index(max(my_list))\n",
        "print(max_index)"
      ],
      "metadata": {
        "colab": {
          "base_uri": "https://localhost:8080/"
        },
        "id": "fEeOcPLma3Bi",
        "outputId": "9415bfe6-26f9-45d6-a127-189e1b998d06"
      },
      "execution_count": null,
      "outputs": [
        {
          "output_type": "stream",
          "name": "stdout",
          "text": [
            "3\n"
          ]
        }
      ]
    },
    {
      "cell_type": "code",
      "source": [
        "#Reversing a list:\n",
        "my_list = [1,5,3,9,2]\n",
        "reversed_list = my_list[::-1]\n",
        "print(reversed_list)"
      ],
      "metadata": {
        "colab": {
          "base_uri": "https://localhost:8080/"
        },
        "id": "0iJ9u6W4l1ez",
        "outputId": "3b1affca-dd36-4c53-f952-8046938374ae"
      },
      "execution_count": null,
      "outputs": [
        {
          "output_type": "stream",
          "name": "stdout",
          "text": [
            "[2, 9, 3, 5, 1]\n"
          ]
        }
      ]
    },
    {
      "cell_type": "code",
      "source": [
        "#Removing duplicates from a list:\n",
        "my_list = [1,2,3,2,1,4,5,4]\n",
        "my_list = list(set(my_list))\n",
        "print(my_list)"
      ],
      "metadata": {
        "colab": {
          "base_uri": "https://localhost:8080/"
        },
        "id": "ixRuaEcXmJ22",
        "outputId": "ab8528c1-829d-429c-b883-678198357fa3"
      },
      "execution_count": null,
      "outputs": [
        {
          "output_type": "stream",
          "name": "stdout",
          "text": [
            "[1, 2, 3, 4, 5]\n"
          ]
        }
      ]
    },
    {
      "cell_type": "code",
      "source": [
        "#Checking if a list is empty:\n",
        "my_list = []\n",
        "if not my_list:\n",
        "  print(\"List is empty\")"
      ],
      "metadata": {
        "colab": {
          "base_uri": "https://localhost:8080/"
        },
        "id": "0F-KtjOWpeo0",
        "outputId": "3bd963e7-280d-4097-fe20-bc80763882ba"
      },
      "execution_count": null,
      "outputs": [
        {
          "output_type": "stream",
          "name": "stdout",
          "text": [
            "List is empty\n"
          ]
        }
      ]
    },
    {
      "cell_type": "code",
      "source": [
        "#Converting a string to a list:\n",
        "string = \"hello world\"\n",
        "my_list = list(string)\n",
        "print(my_list)"
      ],
      "metadata": {
        "colab": {
          "base_uri": "https://localhost:8080/"
        },
        "id": "qRA7OVEBr-NC",
        "outputId": "83cbcd44-4807-45c9-8906-6637da63cf8c"
      },
      "execution_count": null,
      "outputs": [
        {
          "output_type": "stream",
          "name": "stdout",
          "text": [
            "['h', 'e', 'l', 'l', 'o', ' ', 'w', 'o', 'r', 'l', 'd']\n"
          ]
        }
      ]
    },
    {
      "cell_type": "code",
      "source": [
        "#Sorting a dictionary by value:\n",
        "my_dict = {'apple':3,'banana':1,'orange':2}\n",
        "sorted_dict = {k: v for k,v in sorted(my_dict.items(), key=lambda item: item[1])}\n",
        "print(sorted_dict)"
      ],
      "metadata": {
        "colab": {
          "base_uri": "https://localhost:8080/"
        },
        "id": "IS3cgQZKsV77",
        "outputId": "29bce6c3-d6bf-4757-bce5-868e5573d307"
      },
      "execution_count": null,
      "outputs": [
        {
          "output_type": "stream",
          "name": "stdout",
          "text": [
            "{'banana': 1, 'orange': 2, 'apple': 3}\n"
          ]
        }
      ]
    },
    {
      "cell_type": "code",
      "source": [
        "from genericpath import isfile\n",
        "#checking if a file exist:\n",
        "import os\n",
        "if os.path.isfile('file_name.txt'):\n",
        "  print(\"Exist\")\n"
      ],
      "metadata": {
        "id": "rm1a5cxItKSw"
      },
      "execution_count": null,
      "outputs": []
    },
    {
      "cell_type": "code",
      "source": [
        "#Counting ocurrences of an item in a list:\n",
        "my_list = [1,2,3,2,1,4,5]\n",
        "count = my_list.count(2)\n",
        "print(count)"
      ],
      "metadata": {
        "colab": {
          "base_uri": "https://localhost:8080/"
        },
        "id": "fNYNVjVKuk5r",
        "outputId": "3704a7a8-2a11-41d8-8875-dac67b2660c8"
      },
      "execution_count": null,
      "outputs": [
        {
          "output_type": "stream",
          "name": "stdout",
          "text": [
            "2\n"
          ]
        }
      ]
    },
    {
      "cell_type": "code",
      "source": [
        "#Cheking if all elements in a list are unique:\n",
        "my_list = [1,2,3,4,5]\n",
        "if len(my_list) == len(set(my_list)):\n",
        "  print(\"all are unique\")"
      ],
      "metadata": {
        "colab": {
          "base_uri": "https://localhost:8080/"
        },
        "id": "_m1CybdyxjU7",
        "outputId": "29f112b8-82d7-4c17-87b2-0155c2d9ad1f"
      },
      "execution_count": null,
      "outputs": [
        {
          "output_type": "stream",
          "name": "stdout",
          "text": [
            "all are unique\n"
          ]
        }
      ]
    },
    {
      "cell_type": "code",
      "source": [
        "#Removing all occurences of an item from a list:\n",
        "my_list = [1,2,3,2,1,4,5,4]\n",
        "item = 2\n",
        "my_list = [x for x in my_list if x != item]\n",
        "print(my_list)"
      ],
      "metadata": {
        "id": "apetb1e71qRy"
      },
      "execution_count": null,
      "outputs": []
    },
    {
      "cell_type": "code",
      "source": [
        "my_list = [[1,2],[3,4],[5,6]]\n",
        "flattened_list = [x for sublist in my_list for x in sublist]\n",
        "print(flattened_list)"
      ],
      "metadata": {
        "id": "x89DSQo_1ugd"
      },
      "execution_count": null,
      "outputs": []
    },
    {
      "cell_type": "code",
      "source": [
        "#Merging two dictionaries\n",
        "dict1 = {\"apple\":3,\"banana\":1}\n",
        "dict2 = {\"orange\":2,\"pear\":4}\n",
        "merged_dict = {**dict1, **dict2}\n",
        "print(merged_dict)"
      ],
      "metadata": {
        "id": "Gqyh4uiw8IYI"
      },
      "execution_count": null,
      "outputs": []
    },
    {
      "cell_type": "code",
      "source": [
        "#Removing all whitespace from a string:\n",
        "string = \"   hello world   \"\n",
        "new_string = \"\".join(string.split())\n",
        "print(new_string)"
      ],
      "metadata": {
        "colab": {
          "base_uri": "https://localhost:8080/"
        },
        "id": "glq_-DU8-V1H",
        "outputId": "9fa25ea4-f95c-4efa-cdb6-8ba2cbff6dc9"
      },
      "execution_count": null,
      "outputs": [
        {
          "output_type": "stream",
          "name": "stdout",
          "text": [
            "helloworld\n"
          ]
        }
      ]
    },
    {
      "cell_type": "code",
      "source": [
        "#checking is a string is a palindrome:\n",
        "string = \"anitalavalatina\"\n",
        "if string == string[::-1]:\n",
        "  print(\"is a palindrome\")\n"
      ],
      "metadata": {
        "colab": {
          "base_uri": "https://localhost:8080/"
        },
        "id": "xEW8BCD_-rp1",
        "outputId": "7c918167-9b5f-4660-a437-6368cd9c2332"
      },
      "execution_count": null,
      "outputs": [
        {
          "output_type": "stream",
          "name": "stdout",
          "text": [
            "is a palindrome\n"
          ]
        }
      ]
    },
    {
      "cell_type": "code",
      "source": [
        "#removing duplicates from a string:\n",
        "string = \"hello world\"\n",
        "new_string = \"\".join(set(string))\n",
        "print(new_string)"
      ],
      "metadata": {
        "colab": {
          "base_uri": "https://localhost:8080/"
        },
        "id": "TdeVcQQ0AhEA",
        "outputId": "afd258eb-e35d-40a5-9eed-26c6a9d4c89e"
      },
      "execution_count": null,
      "outputs": [
        {
          "output_type": "stream",
          "name": "stdout",
          "text": [
            "olr ewdh\n"
          ]
        }
      ]
    },
    {
      "cell_type": "code",
      "source": [
        "#Counting the number of words in a string:\n",
        "string = \"hello world\"\n",
        "word_count = len(string.split())\n",
        "print(word_count)\n"
      ],
      "metadata": {
        "colab": {
          "base_uri": "https://localhost:8080/"
        },
        "id": "8pONYNMrA2lq",
        "outputId": "ba3851b6-a461-4af3-b977-1e4a58f18e25"
      },
      "execution_count": null,
      "outputs": [
        {
          "output_type": "stream",
          "name": "stdout",
          "text": [
            "2\n"
          ]
        }
      ]
    },
    {
      "cell_type": "code",
      "source": [
        "#Generating a random integer\n",
        "import random\n",
        "random_number = random.randint(1,10)\n",
        "print(random_number)"
      ],
      "metadata": {
        "colab": {
          "base_uri": "https://localhost:8080/"
        },
        "id": "KeNNMWq7D2e7",
        "outputId": "e1a56eb0-513c-48c8-c588-ee31aff52c62"
      },
      "execution_count": null,
      "outputs": [
        {
          "output_type": "stream",
          "name": "stdout",
          "text": [
            "8\n"
          ]
        }
      ]
    }
  ]
}