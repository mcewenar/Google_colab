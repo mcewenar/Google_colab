{
  "nbformat": 4,
  "nbformat_minor": 0,
  "metadata": {
    "colab": {
      "name": "simboloASCII3.ipynb",
      "provenance": [],
      "collapsed_sections": [],
      "authorship_tag": "ABX9TyN2kgyBv7hU92dyEpuYVgy2",
      "include_colab_link": true
    },
    "kernelspec": {
      "name": "python3",
      "display_name": "Python 3"
    },
    "language_info": {
      "name": "python"
    }
  },
  "cells": [
    {
      "cell_type": "markdown",
      "metadata": {
        "id": "view-in-github",
        "colab_type": "text"
      },
      "source": [
        "<a href=\"https://colab.research.google.com/github/mcewenar/Google_colab/blob/master/simboloASCII3.ipynb\" target=\"_parent\"><img src=\"https://colab.research.google.com/assets/colab-badge.svg\" alt=\"Open In Colab\"/></a>"
      ]
    },
    {
      "cell_type": "code",
      "metadata": {
        "id": "laqfDUsHVq_m"
      },
      "source": [
        "def min_maquina():\n",
        "  Xi = 1.0 # Valor inicial\n",
        "  Xo = Xi # ejecuto el bloque que mas adelante se va a repetir, hay por lo menos una iteracion\n",
        "  Xi = Xo / 2.0\n",
        "  i=1\n",
        "  while(Xi > 0.0):\n",
        "    i+=1   # i=i+1  numero de terminos de la progresion geometrica, cuya razon es 1/2\n",
        "    Xo = Xi     #bloque\n",
        "    Xi = Xo / 2.0 #actualiza la var involucrada en la condicion de parada\n",
        "  return Xo\n",
        "print(\"El minimo numero positivo\", end = \" \")\n",
        "print(\"en esta maquina es:\", min_maquina())\n",
        "print(i)"
      ],
      "execution_count": null,
      "outputs": []
    }
  ]
}