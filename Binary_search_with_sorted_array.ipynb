{
  "nbformat": 4,
  "nbformat_minor": 0,
  "metadata": {
    "colab": {
      "provenance": [],
      "authorship_tag": "ABX9TyMMAg2jIAAZMm+lLLyrgd8J",
      "include_colab_link": true
    },
    "kernelspec": {
      "name": "python3",
      "display_name": "Python 3"
    },
    "language_info": {
      "name": "python"
    }
  },
  "cells": [
    {
      "cell_type": "markdown",
      "metadata": {
        "id": "view-in-github",
        "colab_type": "text"
      },
      "source": [
        "<a href=\"https://colab.research.google.com/github/mcewenar/Google_colab/blob/master/Binary_search_with_sorted_array.ipynb\" target=\"_parent\"><img src=\"https://colab.research.google.com/assets/colab-badge.svg\" alt=\"Open In Colab\"/></a>"
      ]
    },
    {
      "cell_type": "code",
      "execution_count": 1,
      "metadata": {
        "colab": {
          "base_uri": "https://localhost:8080/"
        },
        "id": "lkS2-L26LbxX",
        "outputId": "59c50540-e688-4a98-9a87-6d4566de2584"
      },
      "outputs": [
        {
          "output_type": "stream",
          "name": "stdout",
          "text": [
            "Element 5 found at index 2\n"
          ]
        }
      ],
      "source": [
        "def binary_search(arr, target):\n",
        "  low, high = 0, len(arr) -1;\n",
        "  while low <= high:\n",
        "    mid = (low + high) // 2;\n",
        "    if arr[mid] == target:\n",
        "      return mid; #Return the index of the target element\n",
        "    elif arr[mid] < target:\n",
        "      low = mid + 1;\n",
        "    else:\n",
        "      high = mid - 1;\n",
        "  return -1; #Return -1 if target is not found\n",
        "\n",
        "#Example usage:\n",
        "arr = [2,3,5,7,8]\n",
        "target = 5;\n",
        "result = binary_search(arr,target);\n",
        "if result != -1:\n",
        "  print(f\"Element {target} found at index {result}\");\n",
        "else:\n",
        "  print(\"Element not found\");"
      ]
    }
  ]
}