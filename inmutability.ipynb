{
  "nbformat": 4,
  "nbformat_minor": 0,
  "metadata": {
    "colab": {
      "name": "inmutability.ipynb",
      "provenance": [],
      "authorship_tag": "ABX9TyNv2OcwnA+m3OvENc4U3/LZ",
      "include_colab_link": true
    },
    "kernelspec": {
      "name": "python3",
      "display_name": "Python 3"
    },
    "language_info": {
      "name": "python"
    }
  },
  "cells": [
    {
      "cell_type": "markdown",
      "metadata": {
        "id": "view-in-github",
        "colab_type": "text"
      },
      "source": [
        "<a href=\"https://colab.research.google.com/github/mcewenar/Google_colab/blob/master/inmutability.ipynb\" target=\"_parent\"><img src=\"https://colab.research.google.com/assets/colab-badge.svg\" alt=\"Open In Colab\"/></a>"
      ]
    },
    {
      "cell_type": "code",
      "execution_count": null,
      "metadata": {
        "colab": {
          "base_uri": "https://localhost:8080/"
        },
        "id": "_xHVEKpVtjHW",
        "outputId": "0f8617b9-979d-4cc5-f056-1789f84e478a"
      },
      "outputs": [
        {
          "output_type": "stream",
          "name": "stdout",
          "text": [
            "139852954742960\n",
            "139852954938672\n",
            "holamundo\n"
          ]
        }
      ],
      "source": [
        "h = \"hola\"\n",
        "print(id(h))\n",
        "print(h)\n",
        "h = h + \"mundo\"\n",
        "print(id(h))\n",
        "print(h)"
      ]
    }
  ]
}