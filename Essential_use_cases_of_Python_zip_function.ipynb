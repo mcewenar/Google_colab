{
  "nbformat": 4,
  "nbformat_minor": 0,
  "metadata": {
    "colab": {
      "provenance": [],
      "authorship_tag": "ABX9TyNrDWODlQ5f1fTzKjlR/JbH",
      "include_colab_link": true
    },
    "kernelspec": {
      "name": "python3",
      "display_name": "Python 3"
    },
    "language_info": {
      "name": "python"
    }
  },
  "cells": [
    {
      "cell_type": "markdown",
      "metadata": {
        "id": "view-in-github",
        "colab_type": "text"
      },
      "source": [
        "<a href=\"https://colab.research.google.com/github/mcewenar/Google_colab/blob/master/Essential_use_cases_of_Python_zip_function.ipynb\" target=\"_parent\"><img src=\"https://colab.research.google.com/assets/colab-badge.svg\" alt=\"Open In Colab\"/></a>"
      ]
    },
    {
      "cell_type": "code",
      "execution_count": 3,
      "metadata": {
        "colab": {
          "base_uri": "https://localhost:8080/"
        },
        "id": "OIYQ5jRWVgPS",
        "outputId": "9c777a2b-c3a2-45c7-a9cf-9b0ce468d38c"
      },
      "outputs": [
        {
          "output_type": "stream",
          "name": "stdout",
          "text": [
            "[('Alice', 25), ('Bob', 30), ('Charlie', 35)]\n"
          ]
        }
      ],
      "source": [
        "#Merge two lists\n",
        "names = [\"Alice\", \"Bob\", \"Charlie\"]\n",
        "ages = [25, 30, 35]\n",
        "\n",
        "combined = list(zip(names, ages))\n",
        "print(combined)"
      ]
    },
    {
      "cell_type": "code",
      "source": [
        "#Uzipping lists: splitting paired data into separate lists:\n",
        "\n",
        "combined = [('Alice', 25), ('Bob', 30), ('Charlie', 35)]\n",
        "\n",
        "names, ages = zip(*combined)\n",
        "\n",
        "print(names)\n",
        "print(ages)"
      ],
      "metadata": {
        "colab": {
          "base_uri": "https://localhost:8080/"
        },
        "id": "D9YVIN11V9BO",
        "outputId": "57d31188-7086-4eda-ae3c-162ccdb66d11"
      },
      "execution_count": 5,
      "outputs": [
        {
          "output_type": "stream",
          "name": "stdout",
          "text": [
            "('Alice', 'Bob', 'Charlie')\n",
            "(25, 30, 35)\n"
          ]
        }
      ]
    },
    {
      "cell_type": "code",
      "source": [
        "#Iterating over multiple lists simultaneosly: useful when you need to iterate through multiple lists at he same time:\n",
        "subjects = ['Math', 'Science', 'English']\n",
        "scores = [88, 92, 85]\n",
        "\n",
        "for subject, score in zip(subjects, scores):\n",
        "    print(f\"{subject}: {score}\")"
      ],
      "metadata": {
        "colab": {
          "base_uri": "https://localhost:8080/"
        },
        "id": "OpnSrWATVwTq",
        "outputId": "46580f23-ae08-4890-9e11-ad64fe31b2d4"
      },
      "execution_count": 7,
      "outputs": [
        {
          "output_type": "stream",
          "name": "stdout",
          "text": [
            "Math: 88\n",
            "Science: 92\n",
            "English: 85\n"
          ]
        }
      ]
    },
    {
      "cell_type": "code",
      "source": [
        "#Creating dictionaries: from two lists. One for keys and one for values.\n",
        "keys = ['name', 'age', 'city']\n",
        "values = ['Alice', 25, \"New York\"]\n",
        "\n",
        "dictionary = dict(zip(keys, values))\n",
        "\n",
        "print(dictionary)"
      ],
      "metadata": {
        "colab": {
          "base_uri": "https://localhost:8080/"
        },
        "id": "Uk2FqTSuY4Kd",
        "outputId": "74ef43a8-3049-4bcc-d420-c2ec2a90f084"
      },
      "execution_count": 9,
      "outputs": [
        {
          "output_type": "stream",
          "name": "stdout",
          "text": [
            "{'name': 'Alice', 'age': 25, 'city': 'New York'}\n"
          ]
        }
      ]
    },
    {
      "cell_type": "code",
      "source": [
        "#Combining multiple lists: zipping more than two lists together.\n",
        "list1 = [1, 2, 3]\n",
        "list2 = ['a', 'b', 'c']\n",
        "list3 = [True, False, True]\n",
        "\n",
        "combined = list(zip(list1, list2, list3))\n",
        "print(combined)"
      ],
      "metadata": {
        "colab": {
          "base_uri": "https://localhost:8080/"
        },
        "id": "ywC0f3aiZhNQ",
        "outputId": "40da708c-900e-4797-8d16-4565b566a50e"
      },
      "execution_count": 11,
      "outputs": [
        {
          "output_type": "stream",
          "name": "stdout",
          "text": [
            "[(1, 'a', True), (2, 'b', False), (3, 'c', True)]\n"
          ]
        }
      ]
    },
    {
      "cell_type": "code",
      "source": [
        "#Handling different length iterables: when lists have different lengths, zip() stops at the shortest one.\n",
        "list1 = [1, 2, 3]\n",
        "list2 = ['a', 'b']\n",
        "\n",
        "combined = list(zip(list1, list2))\n",
        "print(combined)"
      ],
      "metadata": {
        "colab": {
          "base_uri": "https://localhost:8080/"
        },
        "id": "eJa95eIdamtw",
        "outputId": "da122438-8b5a-4140-eb4d-2b77172e2f10"
      },
      "execution_count": 13,
      "outputs": [
        {
          "output_type": "stream",
          "name": "stdout",
          "text": [
            "[(1, 'a'), (2, 'b')]\n"
          ]
        }
      ]
    },
    {
      "cell_type": "code",
      "source": [
        "#Working with ranges zipping together ranges or sequences:\n",
        "numbers = range(1, 4)\n",
        "letters = ['a', 'b', 'c']\n",
        "\n",
        "result = list(zip(numbers, letters))\n",
        "print(result)"
      ],
      "metadata": {
        "colab": {
          "base_uri": "https://localhost:8080/"
        },
        "id": "daSyWthIatur",
        "outputId": "65e0cde0-b1b7-41f9-bc69-0e4faa5f156c"
      },
      "execution_count": 14,
      "outputs": [
        {
          "output_type": "stream",
          "name": "stdout",
          "text": [
            "[(1, 'a'), (2, 'b'), (3, 'c')]\n"
          ]
        }
      ]
    },
    {
      "cell_type": "code",
      "source": [
        "#Comparing elements of two lists. Zipping two lists to compare elements.\n",
        "list1 = [1, 2, 3]\n",
        "list2 = [1, 4, 3]\n",
        "\n",
        "comparison = [a == b for a, b in zip(list1, list2)]\n",
        "print(comparison)"
      ],
      "metadata": {
        "colab": {
          "base_uri": "https://localhost:8080/"
        },
        "id": "eDt3jr8Cbi3Q",
        "outputId": "2b0016a8-8be1-4402-e89a-3fe7cabdb27e"
      },
      "execution_count": 16,
      "outputs": [
        {
          "output_type": "stream",
          "name": "stdout",
          "text": [
            "[True, False, True]\n"
          ]
        }
      ]
    },
    {
      "cell_type": "code",
      "source": [
        "#Transpose a matrix. Use zip() to transpose rows and columns of a 2D matrix\n",
        "matrix = [\n",
        "    [1, 2, 3],\n",
        "    [4, 5, 6],\n",
        "    [7, 8, 9]\n",
        "]\n",
        "transposed = list(zip(*matrix))\n",
        "print(transposed)"
      ],
      "metadata": {
        "colab": {
          "base_uri": "https://localhost:8080/"
        },
        "id": "nG_yA2PLb3_a",
        "outputId": "4e12dd3e-e278-4923-9a80-3eb8686f9869"
      },
      "execution_count": 17,
      "outputs": [
        {
          "output_type": "stream",
          "name": "stdout",
          "text": [
            "[(1, 4, 7), (2, 5, 8), (3, 6, 9)]\n"
          ]
        }
      ]
    },
    {
      "cell_type": "code",
      "source": [
        "#ZIPPING WITH ENUMERATE. Zipping with an enumerated list for indexed pairings\n",
        "data = ['apple', 'banana', 'cherry']\n",
        "indexed_data = list(zip(range(1, len(data) + 1), data))\n",
        "print(indexed_data)"
      ],
      "metadata": {
        "colab": {
          "base_uri": "https://localhost:8080/"
        },
        "id": "roSd85kfdD-H",
        "outputId": "26b78f3f-dce8-471a-fc89-49fb19658655"
      },
      "execution_count": 18,
      "outputs": [
        {
          "output_type": "stream",
          "name": "stdout",
          "text": [
            "[(1, 'apple'), (2, 'banana'), (3, 'cherry')]\n"
          ]
        }
      ]
    },
    {
      "cell_type": "code",
      "source": [],
      "metadata": {
        "id": "L8_JYBPSdGIi"
      },
      "execution_count": null,
      "outputs": []
    }
  ]
}