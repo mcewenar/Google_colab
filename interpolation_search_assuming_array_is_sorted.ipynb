{
  "nbformat": 4,
  "nbformat_minor": 0,
  "metadata": {
    "colab": {
      "provenance": [],
      "authorship_tag": "ABX9TyOQk80gl9Bgv5oFLAkBHNW0",
      "include_colab_link": true
    },
    "kernelspec": {
      "name": "python3",
      "display_name": "Python 3"
    },
    "language_info": {
      "name": "python"
    }
  },
  "cells": [
    {
      "cell_type": "markdown",
      "metadata": {
        "id": "view-in-github",
        "colab_type": "text"
      },
      "source": [
        "<a href=\"https://colab.research.google.com/github/mcewenar/Google_colab/blob/master/interpolation_search_assuming_array_is_sorted.ipynb\" target=\"_parent\"><img src=\"https://colab.research.google.com/assets/colab-badge.svg\" alt=\"Open In Colab\"/></a>"
      ]
    },
    {
      "cell_type": "code",
      "execution_count": 3,
      "metadata": {
        "id": "H2sQUA0qUCg4"
      },
      "outputs": [],
      "source": [
        "def interpolation_search(arr, target):\n",
        "  low, high = 0, len(arr) - 1;\n",
        "  while low <= high and arr[low] <= target <= arr[high]:\n",
        "    pos = low + ((high - low) // (arr[high] - arr[low])) * (target - arr[low]);\n",
        "    if arr[pos] == target:\n",
        "      return pos;\n",
        "    elif arr[pos] < target:\n",
        "      low = pos + 1;\n",
        "    else:\n",
        "      high = pos - 1;\n",
        "  return -1;\n",
        "\n",
        "  #Example usage:\n",
        "  arr = [1,2,3,4,5,6,7,8,9,10];\n",
        "  target = 7;\n",
        "  result = interpolation_search(arr,target);\n",
        "  if result != -1:\n",
        "    print(f\"Element {target} found at index {result}\");\n",
        "  else:\n",
        "    print(\"Element not found\");\n"
      ]
    },
    {
      "cell_type": "code",
      "source": [],
      "metadata": {
        "id": "QkOONiOYU5CO"
      },
      "execution_count": null,
      "outputs": []
    }
  ]
}