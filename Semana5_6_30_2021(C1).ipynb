{
  "nbformat": 4,
  "nbformat_minor": 0,
  "metadata": {
    "colab": {
      "name": "Semana5_6-30-2021(C1).ipynb",
      "provenance": [],
      "collapsed_sections": [],
      "include_colab_link": true
    },
    "kernelspec": {
      "name": "python3",
      "display_name": "Python 3"
    },
    "language_info": {
      "name": "python"
    }
  },
  "cells": [
    {
      "cell_type": "markdown",
      "metadata": {
        "id": "view-in-github",
        "colab_type": "text"
      },
      "source": [
        "<a href=\"https://colab.research.google.com/github/mcewenar/Google_colab/blob/master/Semana5_6_30_2021(C1).ipynb\" target=\"_parent\"><img src=\"https://colab.research.google.com/assets/colab-badge.svg\" alt=\"Open In Colab\"/></a>"
      ]
    },
    {
      "cell_type": "code",
      "metadata": {
        "id": "LVE9isUgVxWO",
        "colab": {
          "base_uri": "https://localhost:8080/"
        },
        "outputId": "7e6d5c63-2d25-44e7-e2fa-c1b149038b46"
      },
      "source": [
        "# diccionario: Una coleccion de parejas <clave-valor> relaciona un par de objetos, \n",
        "#con la clave se identifica o localiza a un objeto, y el valor es el objeto consultado.\n",
        "ejem={\n",
        "\"Nombre\": \"Douglas\",\n",
        "\"Apellido\": \"Crockford\",\n",
        "\"pasatiempos\": [\"trotar\", \"bucear\", \"cantar\"],\n",
        "\"edad\": 64,\n",
        "\"empleado\": False,\n",
        "\"jefe\": None,\n",
        "\"hijos\": [\n",
        "{\"Nombre\": \"Alice\", \"edad\": 16},\n",
        "{\"Nombre\": \"Bob\", \"edad\": 8}\n",
        "]\n",
        "}\n",
        "print(ejem)"
      ],
      "execution_count": null,
      "outputs": [
        {
          "output_type": "stream",
          "text": [
            "{'Nombre': 'Douglas', 'Apellido': 'Crockford', 'pasatiempos': ['trotar', 'bucear', 'cantar'], 'edad': 64, 'empleado': False, 'jefe': None, 'hijos': [{'Nombre': 'Alice', 'edad': 16}, {'Nombre': 'Bob', 'edad': 8}]}\n"
          ],
          "name": "stdout"
        }
      ]
    },
    {
      "cell_type": "code",
      "metadata": {
        "colab": {
          "base_uri": "https://localhost:8080/"
        },
        "id": "9JyHEG6a9_zF",
        "outputId": "53d99878-b8ac-4a81-e095-bdd332aea88b"
      },
      "source": [
        "#metodo dump(), Serializacion para escribir datos a un archivo\n",
        "import json\n",
        "def leerArch(path):\n",
        "  with open(path, 'r') as f:\n",
        "    data = f.read()\n",
        "  return data\n",
        "\n",
        "data = {\n",
        "\"cientifico\": {\n",
        "\"nombre\": \"Alan Mathison Turing\",\n",
        "\"edad\": 41\n",
        "}\n",
        "}\n",
        "print(data)\n",
        "path=\"files/data_file2.json\"\n",
        "with open(path, \"w\") as wF:\n",
        "  json.dump(data, wF,  indent=2)\n",
        "#Comprobacion\n",
        "print(leerArch(path))"
      ],
      "execution_count": null,
      "outputs": [
        {
          "output_type": "stream",
          "text": [
            "{'cientifico': {'nombre': 'Alan Mathison Turing', 'edad': 41}}\n",
            "{\n",
            "  \"cientifico\": {\n",
            "    \"nombre\": \"Alan Mathison Turing\",\n",
            "    \"edad\": 41\n",
            "  }\n",
            "}\n"
          ],
          "name": "stdout"
        }
      ]
    },
    {
      "cell_type": "code",
      "metadata": {
        "colab": {
          "base_uri": "https://localhost:8080/"
        },
        "id": "7q4dYHOA9b3e",
        "outputId": "ea05e02d-1a8a-419e-94a2-53d890478670"
      },
      "source": [
        "#Serializacion a texto\n",
        "dato = {\n",
        "'cientifico': {\n",
        "\"nombre\": \"Alan Mathison Turing\",\n",
        "\"edad\": '41'\n",
        "}\n",
        "}\n",
        "print(type(dato))#diccionario\n",
        "json_string = json.dumps(dato)\n",
        "print(json_string,'\\n', type(json_string))"
      ],
      "execution_count": null,
      "outputs": [
        {
          "output_type": "stream",
          "text": [
            "<class 'dict'>\n",
            "{\"cientifico\": {\"nombre\": \"Alan Mathison Turing\", \"edad\": \"41\"}} \n",
            " <class 'str'>\n"
          ],
          "name": "stdout"
        }
      ]
    },
    {
      "cell_type": "code",
      "metadata": {
        "colab": {
          "base_uri": "https://localhost:8080/"
        },
        "id": "_o3TVeXrAiMk",
        "outputId": "6b68091c-b801-410c-cb98-53fcb7ceb572"
      },
      "source": [
        "#indent=4    Argumentos del metodo dump()\n",
        "data = {\n",
        "\"cientifico\": {\n",
        "\"nombre\": \"Alan Mathison Turing\",\n",
        "\"edad\": \"41\"\n",
        "}\n",
        "}\n",
        "json_string = json.dumps(data, indent=1)\n",
        "print(json_string)\n",
        "print(type(json_string))"
      ],
      "execution_count": null,
      "outputs": [
        {
          "output_type": "stream",
          "text": [
            "{\n",
            " \"cientifico\": {\n",
            "  \"nombre\": \"Alan Mathison Turing\",\n",
            "  \"edad\": \"41\"\n",
            " }\n",
            "}\n",
            "<class 'str'>\n"
          ],
          "name": "stdout"
        }
      ]
    },
    {
      "cell_type": "code",
      "metadata": {
        "colab": {
          "base_uri": "https://localhost:8080/"
        },
        "id": "RQM3D8FNAt4s",
        "outputId": "f4f91df0-c6c0-4ec0-db9a-1ad4d386c744"
      },
      "source": [
        "#Deserializacion: Es cargar una estructura JSON desde un archivo \n",
        "with open(\"files/data_file2.json\", \"r\") as rF:\n",
        "  dato = json.load(rF) #diccionario\n",
        "print(dato[\"cientifico\"])"
      ],
      "execution_count": null,
      "outputs": [
        {
          "output_type": "stream",
          "text": [
            "{'nombre': 'Alan Mathison Turing', 'edad': 41}\n"
          ],
          "name": "stdout"
        }
      ]
    },
    {
      "cell_type": "code",
      "metadata": {
        "colab": {
          "base_uri": "https://localhost:8080/"
        },
        "id": "qInhKwmXBdU1",
        "outputId": "bd9a1d02-db23-4778-b4d4-43c41f4cd07b"
      },
      "source": [
        "#Deserializacion desde texto\n",
        "#Es posible cargar un archivo de JSON desde un string. \n",
        "# se crea un string (en dos lineas por espacio, para esto se encierra\n",
        "#entre tres comillas simples '''), \n",
        "#se carga el objeto JSON a la variable data \n",
        "json_string = '''{\"cientifico\":\n",
        "{\"nombre\":\"Alan Mathison Turing\", \"children\": null}}'''\n",
        "print(json_string)\n",
        "data = json.loads(json_string)\n",
        "print(data) #diferencias?"
      ],
      "execution_count": null,
      "outputs": [
        {
          "output_type": "stream",
          "text": [
            "{\"cientifico\":\n",
            "{\"nombre\":\"Alan Mathison Turing\", \"children\": null}}\n",
            "{'cientifico': {'nombre': 'Alan Mathison Turing', 'children': None}}\n"
          ],
          "name": "stdout"
        }
      ]
    },
    {
      "cell_type": "code",
      "metadata": {
        "id": "llu7iTw3CIqO"
      },
      "source": [
        "#Conversion de objeto Json a estructura Python\n",
        "import json\n",
        "from pprint import pprint\n",
        "strjson = '''{\n",
        "\"boolean1\": null,\n",
        "\"dicciona\": {\"papa\": 2000, \"arroz\": 5000},\n",
        "\"intValue\": 0, \"myList\": [],\n",
        "\"myList2\":[\"info1\", \"info2\"],\n",
        "\"littleboolean\": false, \"myEmptyList\": null,\n",
        "\"text1\": null, \"text2\": \"hello\", \"value1\": null,\n",
        "\"value2\": null}'''\n",
        "data1 = json.loads(strjson)\n",
        "print(data1,'\\n')\n",
        "pprint(data1) #que hace pretty print?"
      ],
      "execution_count": null,
      "outputs": []
    },
    {
      "cell_type": "code",
      "metadata": {
        "colab": {
          "base_uri": "https://localhost:8080/"
        },
        "id": "hQZFOFnBCZkc",
        "outputId": "5a2b5bd3-7dee-46d9-fc58-6eb0f8318c05"
      },
      "source": [
        "#Consultas a la variable data1\n",
        "#print(data1['text2'], '\\t',type(data1[\"text2\"])) #string\n",
        "#print(data1[\"text1\"], type(data1[\"text1\"])) #None\n",
        "#print(data1[\"intValue\"], type(data1[\"intValue\"])) #int\n",
        "#print(data1[\"myList\"], type(data1[\"myList\"])) # list\n",
        "#print(data1[\"myList2\"], type(data1[\"myList2\"])) #list\n",
        "#print(data1[\"dicciona\"], type(data1[\"dicciona\"])) #dict\n",
        "print(data1[\"myList2\"][1]) #str\n",
        "print(data1[\"dicciona\"][\"arroz\"]) #doble subindice"
      ],
      "execution_count": null,
      "outputs": [
        {
          "output_type": "stream",
          "text": [
            "info2\n",
            "5000\n"
          ],
          "name": "stdout"
        }
      ]
    },
    {
      "cell_type": "code",
      "metadata": {
        "id": "tNriDp90CiEF"
      },
      "source": [
        "#libreria requests para leer archivos JSON desde internet\n",
        "import json\n",
        "import requests\n",
        "from pprint import pprint\n",
        "url= \"https://jsonplaceholder.typicode.com/todos\"\n",
        "resp = requests.get(url)\n",
        "pendientes = json.loads(resp.text)\n",
        "pprint(pendientes)"
      ],
      "execution_count": null,
      "outputs": []
    },
    {
      "cell_type": "code",
      "metadata": {
        "colab": {
          "base_uri": "https://localhost:8080/"
        },
        "id": "VdeX4GygDNf1",
        "outputId": "51ec7157-277f-4eab-99f2-a8b971c2812e"
      },
      "source": [
        "#Analizando la estructura de un Json\n",
        "#pendientes[:2] #retorna una rebanada con las 2 primeras entradas\n",
        "pendientes[-2:] # retorna "
      ],
      "execution_count": null,
      "outputs": [
        {
          "output_type": "execute_result",
          "data": {
            "text/plain": [
              "[{'completed': True,\n",
              "  'id': 199,\n",
              "  'title': 'numquam repellendus a magnam',\n",
              "  'userId': 10},\n",
              " {'completed': False,\n",
              "  'id': 200,\n",
              "  'title': 'ipsam aperiam voluptates qui',\n",
              "  'userId': 10}]"
            ]
          },
          "metadata": {
            "tags": []
          },
          "execution_count": 75
        }
      ]
    },
    {
      "cell_type": "code",
      "metadata": {
        "id": "KbeaK31wHOpr"
      },
      "source": [
        "#Validacion de objetos con formato JSON en el sitio https://jsonlint.com/"
      ],
      "execution_count": null,
      "outputs": []
    },
    {
      "cell_type": "code",
      "metadata": {
        "colab": {
          "base_uri": "https://localhost:8080/"
        },
        "id": "czmOvQ3kHaBe",
        "outputId": "bc5462b5-9c9c-45f5-b068-306071a6f22e"
      },
      "source": [
        "#P1-Para el diccionario JSON con la estructura mostrada\n",
        "#Cree un programa que lea de un archivo con estructura JSON \n",
        "#Imprimir los nombres completos (nombre y apellidos) de las personas\n",
        "#que practican el deporte ingresado por el usuario.\n",
        "import json\n",
        "data={\n",
        "\"jadiazcoronado\":{\n",
        "\"nombres\": \"Juan Antonio\",\n",
        "\"apellidos\": \"Diaz Coronado\",\n",
        "\"edad\":19,\n",
        "\"colombiano\":True,\n",
        "\"deportes\":[\"Futbol\",\"Ajedrez\",\"Gimnasia\"]\n",
        "},\n",
        "\"dmlunasol\":{\n",
        "\"nombres\": \"Dorotea Maritza\",\n",
        "\"apellidos\": \"Luna Sol\",\n",
        "\"edad\":25,\n",
        "'colombiano':False,\n",
        "'deportes':[\"Baloncesto\",\"Ajedrez\",\"Gimnasia\"]}}\n",
        "\n",
        "path=\"files/data_file5.json\"\n",
        "with open(path, \"w\") as wfile:\n",
        "  json.dump(data, wfile)\n",
        "\n",
        "deporte= input('Ingrese deporte: ')#\"Ajedrez\" o 'Gimnasia' \"Baloncesto\"\n",
        "with open(path, \"r\") as rfile:\n",
        "  dat = json.load(rfile)\n",
        "\n",
        "for k, v in dat.items(): #coleccion de 2 entradas y cada entrada es un dicci q tiene k, v\n",
        "  lis_deportes= v['deportes']\n",
        "  if deporte in lis_deportes:\n",
        "    print(v['nombres'], v['apellidos'])\n",
        "print('fin')"
      ],
      "execution_count": null,
      "outputs": [
        {
          "output_type": "stream",
          "text": [
            "Ingrese deporte: Ciclismo\n",
            "fin\n"
          ],
          "name": "stdout"
        }
      ]
    },
    {
      "cell_type": "code",
      "metadata": {
        "colab": {
          "base_uri": "https://localhost:8080/"
        },
        "id": "OYl2n8I5H2sx",
        "outputId": "882ad426-fe0a-4751-e609-58c3545ef72a"
      },
      "source": [
        "#P2-Imprima los nombres completos (nombre y apellidos) de las personas\n",
        "#que esten en un rango de edades dado por el usuario.\n",
        "edadMin=int(input('Ingrese edad minima: '))\n",
        "edadMax=int(input('Ingrese edad Maxima: '))\n",
        "with open(path, \"r\") as rfile:\n",
        "  data = json.load(rfile) #load() deserializa\n",
        "\n",
        "for k, v in data.items():\n",
        "  #vEdad= v['edad'] #25\n",
        "  vEdad=v.get('edad')\n",
        "  if edadMin <= vEdad <= edadMax:\n",
        "    print(v['nombres'], v['apellidos'],type(v))"
      ],
      "execution_count": null,
      "outputs": [
        {
          "output_type": "stream",
          "text": [
            "Ingrese edad minima: 20\n",
            "Ingrese edad Maxima: 30\n",
            "Dorotea Maritza Luna Sol <class 'dict'>\n"
          ],
          "name": "stdout"
        }
      ]
    },
    {
      "cell_type": "code",
      "metadata": {
        "colab": {
          "base_uri": "https://localhost:8080/"
        },
        "id": "i9mGcB8PH9sI",
        "outputId": "d516c767-daff-4483-e558-21ba1a4ae9c1"
      },
      "source": [
        "#P3-Cree un diccionario JSON de deportes como sigue:\n",
        "import json\n",
        "deporte1={\n",
        "  \"Ajedrez\":[\"gasparov\",\"fabioCasas\",\"dmlunasol\"],\n",
        "  \"Futbol\":[\"jadiazcoronado\",\"RubenAmaya\"],\n",
        "  \"Gimnasia\":[\"GilbertoSerna\",\"dmlunasol\"],\n",
        "  \"Ciclismo\":[\"ALU\",\"LinaBuitrago\",\"Bibiana\",\"RubielMartinez\"],\n",
        "  \"Baloncesto\":['plo','rFrancoA','OrlandoLuna','cza']\n",
        "  }\n",
        "\n",
        "path=\"files/deportes1_file.json\"\n",
        "with open(path, \"w\") as wfile:\n",
        "  json.dump(deporte1, wfile)\n",
        "\n",
        "deporte2={\"pingpon\":['abc', 'xyz', 'pqr', 'rst'],\n",
        "  \"Ajedrez\":[\"jadiazcoronado\",'fabioCasas',\"dmlunasol\"],\n",
        "  \"Futbol\":[\"jadiazcoronado\",'RubenAmaya'],\n",
        "  \"Gimnasia\":['GilbertoSerna',\"dmlunasol\"],\n",
        "  'Ciclismo':['ALU','LinaBuitrago','Bibiana','RubielMartinez'],\n",
        "  \"Baloncesto\":[\"dmlunasol\",'plo','rFrancoA','OrlandoLuna']\n",
        "  }\n",
        "\n",
        "path2=\"files/deportes2_file.json\"\n",
        "with open(path, \"w\") as wfile:\n",
        "  json.dump(deporte2, wfile)\n",
        "\n",
        "#Comprobacion\n",
        "print('arch1')\n",
        "with open(path, \"r\") as rfile:\n",
        "  deporte1=json.load( rfile)\n",
        "pprint(deporte1) #{'Ajedrez': ['jadiazcoronado', 'fabioCasas', 'dmlunasol'], 'Futbol': ['jadiazcoronado', 'RubenAmaya'], 'Gimnasia': ['GilbertoSerna', 'dmlunasol'], 'Ciclismo': ['ALU', 'LinaBuitrago', 'Bibiana', 'RubielMartinez'], 'Baloncesto': ['dmlunasol', 'plo', 'rFrancoA', 'OrlandoLuna', 'cza']}\n",
        "print('arch2')\n",
        "with open(path2, \"r\") as rfile:\n",
        "  deporte2=json.load( rfile)\n",
        "pprint(deporte2)"
      ],
      "execution_count": null,
      "outputs": [
        {
          "output_type": "stream",
          "text": [
            "{'Ajedrez': ['jadiazcoronado', 'fabioCasas', 'dmlunasol'],\n",
            " 'Baloncesto': ['dmlunasol', 'plo', 'rFrancoA', 'OrlandoLuna'],\n",
            " 'Ciclismo': ['ALU', 'LinaBuitrago', 'Bibiana', 'RubielMartinez'],\n",
            " 'Futbol': ['jadiazcoronado', 'RubenAmaya'],\n",
            " 'Gimnasia': ['GilbertoSerna', 'dmlunasol'],\n",
            " 'pingpon': ['abc', 'xyz', 'pqr', 'rst']}\n",
            "separacion\n",
            "{'Ajedrez': ['jadiazcoronado', 'fabioCasas', 'dmlunasol'],\n",
            " 'Baloncesto': ['dmlunasol', 'plo', 'rFrancoA', 'OrlandoLuna'],\n",
            " 'Ciclismo': ['ALU', 'LinaBuitrago', 'Bibiana', 'RubielMartinez'],\n",
            " 'Futbol': ['jadiazcoronado', 'RubenAmaya'],\n",
            " 'Gimnasia': ['GilbertoSerna', 'dmlunasol']}\n"
          ],
          "name": "stdout"
        }
      ]
    },
    {
      "cell_type": "code",
      "metadata": {
        "colab": {
          "base_uri": "https://localhost:8080/"
        },
        "id": "an6HMN71IJ1c",
        "outputId": "91124d11-2bcc-470b-ee32-7adbeda4df0d"
      },
      "source": [
        "#P4-Desarrolle un programa que lea dos archivos JSON, y encuentre los\n",
        "#componentes <clave:valor> que son iguales en ambos. Genere un nuevo\n",
        "#archivo JSON con las coincidencias exactas entre los dos archivos.\n",
        "\n",
        "path=\"files/deportes1_file.json\"\n",
        "with open(path, \"r\") as rfile:\n",
        "  depor1=json.load(rfile)\n",
        "\n",
        "path=\"files/deportes2_file.json\"\n",
        "with open(path, \"r\") as rfile:\n",
        "  depor2=json.load(rfile)\n",
        "\n",
        "miLista=[]\n",
        "for k1, v1 in depor1.items():\n",
        "  #print(k1)\n",
        "  hayCalce:bool=False\n",
        "  if k1 in depor2 : #las llaves cazan\n",
        "    #print(depor2[k1])\n",
        "    for nomb1 in v1: #itero sobre una lista\n",
        "        if nomb1 in depor2[k1]:  #los nombres (valores) tambien calzan\n",
        "          #print(nomb1)\n",
        "          hayCalce=True\n",
        "        else:\n",
        "          hayCalce=False\n",
        "          break # se sale del for int ?\n",
        "  else:\n",
        "    hayCalce=False \n",
        "  if hayCalce:\n",
        "    coincidencia=[(k1, v1)]\n",
        "    miLista.extend(coincidencia)\n",
        "ddSalida=dict(miLista)\n",
        "#print(ddSalida)\n",
        "path=\"files/deportesCalzanfile.json\"\n",
        "with open(path, \"w\") as wfile:\n",
        "  json.dump(ddSalida, wfile)\n",
        "#Comprobacion\n",
        "with open(path, \"r\") as rfile:\n",
        "  ddcalzan=json.load(rfile)\n",
        "pprint(ddcalzan) #Revisar resultados, algo no anda mal\n",
        "#{'Futbol': ['jadiazcoronado', 'RubenAmaya'], 'Gimnasia': ['GilbertoSerna', 'dmlunasol'], 'Ciclismo': ['ALU', 'LinaBuitrago', 'Bibiana', 'RubielMartinez'], 'Baloncesto': ['cza', 'plo', 'rFrancoA', 'OrlandoLuna']}"
      ],
      "execution_count": null,
      "outputs": [
        {
          "output_type": "stream",
          "text": [
            "{'Ajedrez': ['jadiazcoronado', 'fabioCasas', 'dmlunasol'],\n",
            " 'Baloncesto': ['dmlunasol', 'plo', 'rFrancoA', 'OrlandoLuna'],\n",
            " 'Ciclismo': ['ALU', 'LinaBuitrago', 'Bibiana', 'RubielMartinez'],\n",
            " 'Futbol': ['jadiazcoronado', 'RubenAmaya'],\n",
            " 'Gimnasia': ['GilbertoSerna', 'dmlunasol']}\n"
          ],
          "name": "stdout"
        }
      ]
    },
    {
      "cell_type": "code",
      "metadata": {
        "colab": {
          "base_uri": "https://localhost:8080/"
        },
        "id": "s0g5piIzIb7F",
        "outputId": "93289600-c12a-4b46-ed2b-32a9b8e5d60a"
      },
      "source": [
        "#P5-Desarrolle un programa que lea un archivo JSON, en el cual se\n",
        "#encuentran las notas de los estudiantes del curso. Cada llave\n",
        "#corresponde al codigo de cada estudiante, y su valor es una lista con\n",
        "#las notas obtenidas en las actividades del curso. Se debe generar un\n",
        "#nuevo archivo JSON que para cada uno de los estudiantes solo guarde el\n",
        "#promedio de las notas obtenidas.\n",
        "notas={'b':[3.5, 3.8, 4.2],\n",
        "       'd':[3.1, 4.8, 4.0],\n",
        "       'a':[4.5, 4.8, 3.2],\n",
        "       'c':[3.3, 2.8, 3.2],\n",
        "       'g':[3.6, 3.4, 3.7]}\n",
        "def promedio(lNotas):\n",
        "  n=len(lNotas)\n",
        "  s=0\n",
        "  for x in lNotas:\n",
        "    s+=x\n",
        "  prom=s/n\n",
        "  return prom\n",
        "path='files/notasCurso.json'\n",
        "with open(path, \"w\") as wfile:\n",
        "  json.dump(notas, wfile)\n",
        "\n",
        "with open(path, \"r\") as rfile:\n",
        "  diccNotas=json.load( rfile) #diccNotas es un diccionario\n",
        "lista=[]\n",
        "for id, lNotas in diccNotas.items():\n",
        "  prome = promedio(lNotas) #V es una lista\n",
        "  ll=[(id, prome)]\n",
        "  lista.extend(ll)\n",
        "dSalida = dict(lista)\n",
        "\n",
        "path1='files/promedioCurso.json'\n",
        "with open(path1, \"w\") as wfile:\n",
        "  json.dump(dSalida, wfile)\n",
        "#comprobacion\n",
        "with open(path1, \"r\") as rfile:\n",
        "  diccProme=json.load( rfile)\n",
        "pprint(diccProme) #{'b': 3.8333333333333335, 'd': 3.966666666666667, 'a': 4.166666666666667, 'c': 3.1, 'g': 3.5666666666666664}"
      ],
      "execution_count": null,
      "outputs": [
        {
          "output_type": "stream",
          "text": [
            "{'a': 4.166666666666667,\n",
            " 'b': 3.8333333333333335,\n",
            " 'c': 3.1,\n",
            " 'd': 3.966666666666667,\n",
            " 'g': 3.5666666666666664}\n"
          ],
          "name": "stdout"
        }
      ]
    },
    {
      "cell_type": "code",
      "metadata": {
        "colab": {
          "base_uri": "https://localhost:8080/"
        },
        "id": "5j9iJTCMIlWG",
        "outputId": "4bf87917-a4c1-4d8e-ebae-9433e7953c3d"
      },
      "source": [
        "#P6-Desarrollar un programa que lea un archivo JSON que contiene una\n",
        "#serie de cadenas de caracteres en minuscula, cada una con su propia\n",
        "#llave. Estas llaves tienen una codificacion, a forma de encriptacion, en\n",
        "#donde las vocales estan descritas como otros simbolos: $ en vez de a,\n",
        "## en vez de e, * en vez de i, ¬ en vez de o, y + en vez de u. Una vez\n",
        "#leido el archivo, realice una desencriptacion de todas las cadenas, es\n",
        "#decir, convierta los simbolos a sus vocales correspondientes (si la\n",
        "#cadena de entrada es \"h¬l$\", la cadena resultante seria \"hola\"), y\n",
        "#guarde el resultado en un nuevo archivo JSON.\n",
        "\n",
        "equivale={'$':'a', '#':'e', '*':'i', '¬':'o', '+':'u'}\n",
        "encriptado={'n¬mbr#':['s$r$', 'm$r*n'],'#st+d*¬s':['s*c¬l¬g*$','n+tr*c*¬n'],'#mpr#s$s':['h¬sp*t$l','cl*n*c$'],'c+mpl#$ñ¬s':['#n#r¬','01']}\n",
        "path='files/encriptado.json'\n",
        "with open(path, \"w\") as wfile:\n",
        "  json.dump(encriptado, wfile)\n",
        "\n",
        "with open(path, \"r\") as rfile:\n",
        "  leido=json.load(rfile)\n",
        "pprint(leido) #leido es un diccionario\n",
        "lista=[]\n",
        "for k, v in leido.items():  #k, v son string type\n",
        "  for kq, vq in equivale.items(): #for \n",
        "    k = k.replace(kq, vq) # claves procesadas\n",
        "    for i in range(len(v)):#for int\n",
        "      v[i] = v[i].replace(kq,vq)\n",
        "  ll =[(k, v)]\n",
        "  lista.extend(ll)\n",
        "sali=dict(lista) \n",
        "path2='files/desencriptado.json'\n",
        "with open(path2, \"w\") as wfile:\n",
        "  json.dump(sali, wfile)\n",
        "#comprobacion\n",
        "with open(path2, \"r\") as rfile:\n",
        "  leido2=json.load(rfile)\n",
        "pprint(leido2)"
      ],
      "execution_count": null,
      "outputs": [
        {
          "output_type": "stream",
          "text": [
            "{'#mpr#s$s': ['h¬sp*t$l', 'cl*n*c$'],\n",
            " '#st+d*¬s': ['s*c¬l¬g*$', 'n+tr*c*¬n'],\n",
            " 'c+mpl#$ñ¬s': ['#n#r¬', '01'],\n",
            " 'n¬mbr#': ['s$r$', 'm$r*n']}\n",
            "{'cumpleaños': ['enero', '01'],\n",
            " 'empresas': ['hospital', 'clinica'],\n",
            " 'estudios': ['sicologia', 'nutricion'],\n",
            " 'nombre': ['sara', 'marin']}\n"
          ],
          "name": "stdout"
        }
      ]
    },
    {
      "cell_type": "code",
      "metadata": {
        "colab": {
          "base_uri": "https://localhost:8080/"
        },
        "id": "1pGTAfx2E7we",
        "outputId": "3772d057-fec0-43f4-ef5f-e0fa90ce4180"
      },
      "source": [
        "#Filtrar informacion\n",
        "#1Contar cuantas tareas han completado un usuario.\n",
        "#2 Ordenar el conteo de tareas pendientes que se han completado.\n",
        "#3 Escoger los usuarios que tienen el mismo numero de tareas maximo.\n",
        "pendientes_por_usuario= {} # dictionario: k=userId; v= contador\n",
        "# Lleva un conteo de los pendientes que ha completado cada usuario\n",
        "for pendiente in pendientes:\n",
        "  if pendiente[\"completed\"]: # si el valor de la llave completed es verdadero\n",
        "    if pendiente[\"userId\"] in pendientes_por_usuario: #si ya existe\n",
        "      pendientes_por_usuario[pendiente[\"userId\"]] += 1 #incr contador, modifica la entrada\n",
        "    else:\n",
        "      pendientes_por_usuario[pendiente[\"userId\"]] = 1 #si no existe, crea la entrada, contador en 1\n",
        "print('pendientes por usuario: ',pendientes_por_usuario)\n",
        "#2- ordena dictionario por id los usuarios\n",
        "items_ordenados = sorted(pendientes_por_usuario.items(),\n",
        "  key=lambda x: x[1], reverse=True)\n",
        "maximas_tareas_completadas = items_ordenados[0][1] #de la primera entrada, el contador\n",
        "print('lista de tupas ordenadas x contador: ', items_ordenados[0:3])\n",
        "\n",
        "#Escoger los usuarios que tienen nro max de tareas\n",
        "usuarios = []\n",
        "for usuario, num_tareas_completas in items_ordenados: #Coleccion:items_ordenados\n",
        "  if num_tareas_completas == maximas_tareas_completadas:\n",
        "    usuarios.append(str(usuario))\n",
        "  else:\n",
        "    break\n",
        "print('usuarios: ',usuarios)\n",
        "usuarios_con_max = \" y \".join(usuarios)\n",
        "print(\"los usuarios\", usuarios_con_max, end=' ')\n",
        "print(\"han completado \", maximas_tareas_completadas, \"tareas\")"
      ],
      "execution_count": null,
      "outputs": [
        {
          "output_type": "stream",
          "text": [
            "pendientes por usuario:  {1: 11, 2: 8, 3: 7, 4: 6, 5: 12, 6: 6, 7: 9, 8: 11, 9: 8, 10: 12}\n",
            "lista de tupas:  [(5, 12), (10, 12), (1, 11)]\n",
            "usuarios:  ['5', '10']\n",
            "los usuarios 5 y 10 han completado  12 tareas\n"
          ],
          "name": "stdout"
        }
      ]
    },
    {
      "cell_type": "code",
      "metadata": {
        "id": "UxsFZTAdGKwc"
      },
      "source": [
        "# Filtrar las tareas de los usuarios que han hecho la mayor cantidad\n",
        "#de pendientes completados [5 y 10] y escribirlas en un archivo json. \n",
        "#Nos apoyaremos de la funcion filter que determina a traves de una funcion\n",
        "#que retorna un booleano, si incluir al elemento en la lista de salida o no\n",
        "def filtro(pendiente):\n",
        "  esta_completa = pendiente[\"completed\"]\n",
        "  esta_en_el_maximo_conteo = str(pendiente[\"userId\"]) in usuarios #usuarios:  ['5', '10']\n",
        "  return esta_completa and esta_en_el_maximo_conteo\n",
        "\n",
        "path=\"/tareas_filtradas.json\"\n",
        "with open(path, \"w\") as archivo_salida:\n",
        "  tareas_filtradas = list(filter(filtro, pendientes))#selecciona las pendientes q cumplen el filtro\n",
        "  json.dump(tareas_filtradas, archivo_salida, indent=2)\n",
        "print(leerArch(path))"
      ],
      "execution_count": null,
      "outputs": []
    }
  ]
}