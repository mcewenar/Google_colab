{
  "nbformat": 4,
  "nbformat_minor": 0,
  "metadata": {
    "colab": {
      "provenance": [],
      "authorship_tag": "ABX9TyNFIB/rVKe3+tMehX9mM68a",
      "include_colab_link": true
    },
    "kernelspec": {
      "name": "python3",
      "display_name": "Python 3"
    },
    "language_info": {
      "name": "python"
    }
  },
  "cells": [
    {
      "cell_type": "markdown",
      "metadata": {
        "id": "view-in-github",
        "colab_type": "text"
      },
      "source": [
        "<a href=\"https://colab.research.google.com/github/mcewenar/Google_colab/blob/master/find_cast_movie.ipynb\" target=\"_parent\"><img src=\"https://colab.research.google.com/assets/colab-badge.svg\" alt=\"Open In Colab\"/></a>"
      ]
    },
    {
      "cell_type": "code",
      "execution_count": 11,
      "metadata": {
        "colab": {
          "base_uri": "https://localhost:8080/"
        },
        "id": "XHJaRkWg6QYD",
        "outputId": "33c83dd6-a499-423c-aaa1-48a700059151"
      },
      "outputs": [
        {
          "output_type": "stream",
          "name": "stdout",
          "text": [
            "Enter name of movieIntertellar\n",
            "The main cast of 'Intertellar' is:\n",
            " - Ellen Burstyn\n",
            " - Matthew McConaughey\n",
            " - Mackenzie Foy\n",
            " - John Lithgow\n",
            " - Timothée Chalamet\n",
            " - David Oyelowo\n",
            " - Collette Wolfe\n",
            " - Francis X. McCarthy\n",
            " - Bill Irwin\n",
            " - Anne Hathaway\n"
          ]
        }
      ],
      "source": [
        "\n",
        "#!pip install cinemagoer\n",
        "\n",
        "from imdb import IMDb\n",
        "\n",
        "def get_movie_cast(movie_name):\n",
        "  ia = IMDb()\n",
        "  movies = ia.search_movie(movie_name)\n",
        "\n",
        "  if movies:\n",
        "    movie = movies[0]\n",
        "    ia.update(movie)\n",
        "    cast = movie.get('cast', [])\n",
        "    if cast:\n",
        "      print(f\"The main cast of '{movie_name}' is:\")\n",
        "      for actor in cast[:10]:\n",
        "        print(F\" - {actor['name']}\")\n",
        "    else:\n",
        "      print(f\"No cast information found for '{movie_name}'.\")\n",
        "  else:\n",
        "    print(f\"No movie found with the name '{movie_name}'.\")\n",
        "\n",
        "\n",
        "movieChoice = input(\"Enter name of movie: \")\n",
        "get_movie_cast(movieChoice)"
      ]
    },
    {
      "cell_type": "code",
      "source": [],
      "metadata": {
        "id": "jPF7k3wY8zUP"
      },
      "execution_count": 8,
      "outputs": []
    }
  ]
}