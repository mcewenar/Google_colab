{
  "nbformat": 4,
  "nbformat_minor": 0,
  "metadata": {
    "colab": {
      "provenance": [],
      "authorship_tag": "ABX9TyMyQTsjCCdlyymdU2PObmIR",
      "include_colab_link": true
    },
    "kernelspec": {
      "name": "python3",
      "display_name": "Python 3"
    },
    "language_info": {
      "name": "python"
    }
  },
  "cells": [
    {
      "cell_type": "markdown",
      "metadata": {
        "id": "view-in-github",
        "colab_type": "text"
      },
      "source": [
        "<a href=\"https://colab.research.google.com/github/mcewenar/Google_colab/blob/master/regular_expression.ipynb\" target=\"_parent\"><img src=\"https://colab.research.google.com/assets/colab-badge.svg\" alt=\"Open In Colab\"/></a>"
      ]
    },
    {
      "cell_type": "code",
      "execution_count": 8,
      "metadata": {
        "colab": {
          "base_uri": "https://localhost:8080/"
        },
        "id": "UHSgI3RkBxtW",
        "outputId": "0ac51e18-b77f-4d67-a1d1-52346a1e38f4"
      },
      "outputs": [
        {
          "output_type": "stream",
          "name": "stdout",
          "text": [
            "user1@example.com is a valid email address.\n",
            "user2@domain is not a valid email address.\n",
            "name.surname@company.org is a valid email address.\n",
            "email@bad.-mail is not a valid email address.\n"
          ]
        }
      ],
      "source": [
        "import re\n",
        "#List of emails to validate:\n",
        "emails = [\n",
        "    \"user1@example.com\", \"user2@domain\",\n",
        "    \"name.surname@company.org\", \"email@bad.-mail\"]\n",
        "  #Pattern to validate email addresses:\n",
        "pattern = r\"^[a-zA-Z0-9._%+-]+@[a-zA-Z0-9.-]+\\.[a-zA-Z]{2,}$\"\n",
        "\n",
        "for email in emails:\n",
        "  match = re.match(pattern, email)\n",
        "  if match:\n",
        "    print(f\"{email} is a valid email address.\")\n",
        "    #print(f\"Username: {match.group(1)}\")\n",
        "    #print(f\"Domain: {match.group(2)}\")\n",
        "    #print(f\"TLD: {match.group(3)}\")\n",
        "  else:\n",
        "    print(f\"{email} is not a valid email address.\")\n",
        "#if re.match(pattern, email):\n",
        "#  print(f\"{email} is a valid email address.\")\n",
        "#else:\n",
        "#  print(f\"{email} is not a valid email address.\")"
      ]
    }
  ]
}