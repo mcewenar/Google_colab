{
  "nbformat": 4,
  "nbformat_minor": 0,
  "metadata": {
    "colab": {
      "provenance": [],
      "authorship_tag": "ABX9TyNMQrdvaUZmaJnFC9rPpV+3",
      "include_colab_link": true
    },
    "kernelspec": {
      "name": "python3",
      "display_name": "Python 3"
    },
    "language_info": {
      "name": "python"
    }
  },
  "cells": [
    {
      "cell_type": "markdown",
      "metadata": {
        "id": "view-in-github",
        "colab_type": "text"
      },
      "source": [
        "<a href=\"https://colab.research.google.com/github/mcewenar/Google_colab/blob/master/matriz_6x6.ipynb\" target=\"_parent\"><img src=\"https://colab.research.google.com/assets/colab-badge.svg\" alt=\"Open In Colab\"/></a>"
      ]
    },
    {
      "cell_type": "code",
      "execution_count": 11,
      "metadata": {
        "colab": {
          "base_uri": "https://localhost:8080/",
          "height": 308
        },
        "id": "NOU3h8Pk39Vg",
        "outputId": "f6df41ec-b197-414f-c4fa-13470c63e2c0"
      },
      "outputs": [
        {
          "output_type": "stream",
          "name": "stdout",
          "text": [
            "------------\n",
            "0|1|0|1|0|1\n",
            "------------\n",
            "1|0|1|0|1|0\n",
            "------------\n",
            "0|1|0|1|0|1\n",
            "------------\n",
            "1|0|1|0|1|0\n",
            "------------\n",
            "0|1|0|1|0|1\n",
            "------------\n",
            "1|0|1|0|1|0\n",
            "------------\n"
          ]
        },
        {
          "output_type": "execute_result",
          "data": {
            "text/plain": [
              "'\\nlet a = []\\nfor (let i = 0; i<=5 ; i++) {\\n    a[i] = []\\n    console.log(\"------------\")\\n    for (let j = 0; j<= 5; j++) {\\n        \\n        if(i % 2 == 0) {\\n            if(j % 2 == 0) {\\n                a[i].push(0)\\n            } else {\\n                a[i].push(1)\\n            }\\n        } else {\\n            if(j% 2 == 0) {\\n                a[i].push(1)\\n            } else {\\n                a[i].push(0)\\n            }\\n        }\\n        \\n    }\\n    console.log(a[i].join(\"|\"))\\n}\\nconsole.log(\"------------\")\\n\\n\\n'"
            ],
            "application/vnd.google.colaboratory.intrinsic+json": {
              "type": "string"
            }
          },
          "metadata": {},
          "execution_count": 11
        }
      ],
      "source": [
        "a = []\n",
        "for i in range(6):  # i goes from 0 to 5\n",
        "    row = []\n",
        "    print(\"------------\")\n",
        "    for j in range(6):  # j goes from 0 to 5\n",
        "      if(i % 2 == 0):\n",
        "        if(j % 2 == 0):\n",
        "            row.append(str(0))\n",
        "        else:\n",
        "            row.append(str(1))\n",
        "      else:\n",
        "        if(j % 2 == 0):\n",
        "            row.append(str(1))\n",
        "        if j % 2 == 0:\n",
        "            row.append(str(0))\n",
        "    a.append(row)\n",
        "    print('|'.join(row))\n",
        "\n",
        "\n",
        "print(\"------------\")\n",
        "\n",
        "\n",
        "\n",
        "\n",
        "\"\"\"\n",
        "let a = []\n",
        "for (let i = 0; i<=5 ; i++) {\n",
        "    a[i] = []\n",
        "    console.log(\"------------\")\n",
        "    for (let j = 0; j<= 5; j++) {\n",
        "\n",
        "        if(i % 2 == 0) {\n",
        "            if(j % 2 == 0) {\n",
        "                a[i].push(0)\n",
        "            } else {\n",
        "                a[i].push(1)\n",
        "            }\n",
        "        } else {\n",
        "            if(j% 2 == 0) {\n",
        "                a[i].push(1)\n",
        "            } else {\n",
        "                a[i].push(0)\n",
        "            }\n",
        "        }\n",
        "\n",
        "    }\n",
        "    console.log(a[i].join(\"|\"))\n",
        "}\n",
        "console.log(\"------------\")\n",
        "\n",
        "\n",
        "\"\"\""
      ]
    }
  ]
}