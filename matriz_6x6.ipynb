{
  "nbformat": 4,
  "nbformat_minor": 0,
  "metadata": {
    "colab": {
      "provenance": [],
      "authorship_tag": "ABX9TyMo+yfJJYkcUH53VeS+BkUe",
      "include_colab_link": true
    },
    "kernelspec": {
      "name": "python3",
      "display_name": "Python 3"
    },
    "language_info": {
      "name": "python"
    }
  },
  "cells": [
    {
      "cell_type": "markdown",
      "metadata": {
        "id": "view-in-github",
        "colab_type": "text"
      },
      "source": [
        "<a href=\"https://colab.research.google.com/github/mcewenar/Google_colab/blob/master/matriz_6x6.ipynb\" target=\"_parent\"><img src=\"https://colab.research.google.com/assets/colab-badge.svg\" alt=\"Open In Colab\"/></a>"
      ]
    },
    {
      "cell_type": "code",
      "execution_count": 7,
      "metadata": {
        "colab": {
          "base_uri": "https://localhost:8080/"
        },
        "id": "NOU3h8Pk39Vg",
        "outputId": "9c45cc4f-c82b-4cdc-8d32-5e860745b5a1"
      },
      "outputs": [
        {
          "output_type": "stream",
          "name": "stdout",
          "text": [
            "[[0, 1, 0, 1, 0, 1], [0, 1, 0, 1, 0, 1], [0, 1, 0, 1, 0, 1], [0, 1, 0, 1, 0, 1], [0, 1, 0, 1, 0, 1], [0, 1, 0, 1, 0, 1]]\n"
          ]
        }
      ],
      "source": [
        "a = []\n",
        "for i in range(6):  # i goes from 0 to 5\n",
        "    row = []\n",
        "    for j in range(6):  # j goes from 0 to 5\n",
        "        if j % 2 == 0:\n",
        "            row.append(0)\n",
        "        else:\n",
        "            row.append(1)\n",
        "    a.append(row)\n",
        "print(a)\n"
      ]
    }
  ]
}