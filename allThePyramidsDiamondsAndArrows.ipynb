{
  "nbformat": 4,
  "nbformat_minor": 0,
  "metadata": {
    "colab": {
      "provenance": [],
      "authorship_tag": "ABX9TyNRaWv+FpD1C0j+TJaKbtKI",
      "include_colab_link": true
    },
    "kernelspec": {
      "name": "python3",
      "display_name": "Python 3"
    },
    "language_info": {
      "name": "python"
    }
  },
  "cells": [
    {
      "cell_type": "markdown",
      "metadata": {
        "id": "view-in-github",
        "colab_type": "text"
      },
      "source": [
        "<a href=\"https://colab.research.google.com/github/mcewenar/Google_colab/blob/master/allThePyramidsDiamondsAndArrows.ipynb\" target=\"_parent\"><img src=\"https://colab.research.google.com/assets/colab-badge.svg\" alt=\"Open In Colab\"/></a>"
      ]
    },
    {
      "cell_type": "code",
      "execution_count": null,
      "metadata": {
        "colab": {
          "base_uri": "https://localhost:8080/"
        },
        "id": "_a-vv7i6Ltut",
        "outputId": "11c77422-41cb-466f-e271-dff3c9a25c18"
      },
      "outputs": [
        {
          "output_type": "stream",
          "name": "stdout",
          "text": [
            "\n",
            "Normal pyramid\n",
            "\n",
            "          \n",
            "    *     \n",
            "   * *    \n",
            "  * * *   \n",
            " * * * *  \n"
          ]
        }
      ],
      "source": [
        "#1. whole pyramid:\n",
        "print(\"\\nNormal pyramid\\n\")\n",
        "for i in range(5):\n",
        "  x='* '\n",
        "  x=x*i\n",
        "  print(f'{x: ^10}')\n"
      ]
    },
    {
      "cell_type": "code",
      "source": [
        "#Inverted diamond\n",
        "column = 5\n",
        "for i in range(column+1,1,-1):\n",
        "  print(\" \"*((column+2)-i), end=\"\")\n",
        "  for m in range(i,1,-1):\n",
        "    print('*',end=\" \")\n",
        "  print(\"\\r\")\n",
        "for j in range(1,column+1):\n",
        "  print(\" \"*((column+1)-j),end=\"\")\n",
        "  for n in range(1,j+i):\n",
        "    print('*',end=\" \")\n",
        "  print(\"\\r\")\n",
        "\n"
      ],
      "metadata": {
        "colab": {
          "base_uri": "https://localhost:8080/"
        },
        "id": "QRHFUifpp0md",
        "outputId": "1bbd0f20-d9d6-472f-adc7-685664f76545"
      },
      "execution_count": 16,
      "outputs": [
        {
          "output_type": "stream",
          "name": "stdout",
          "text": [
            " * * * * * \r\n",
            "  * * * * \r\n",
            "   * * * \r\n",
            "    * * \r\n",
            "     * \r\n",
            "     * * \r\n",
            "    * * * \r\n",
            "   * * * * \r\n",
            "  * * * * * \r\n",
            " * * * * * * \r\n"
          ]
        }
      ]
    },
    {
      "cell_type": "code",
      "source": [
        "#Diamond pattern:\n",
        "column = 5\n",
        "for i in range(1,column+1):\n",
        "  print(\" \"*((column+1)-i),end=\"\")\n",
        "  for j in range(1,i+1):\n",
        "    print('*',end=\" \")\n",
        "  print(\"\\r\")\n",
        "\n",
        "for m in range(column,1,-1):\n",
        "  print(\" \"*((column+2)-m),end=\"\")\n",
        "  for n in range(m,1,-1):\n",
        "    print('*',end=\" \")\n",
        "  print(\"\\r\")"
      ],
      "metadata": {
        "colab": {
          "base_uri": "https://localhost:8080/"
        },
        "id": "YKoIQdw_s4Zu",
        "outputId": "6bdee9fe-e72a-4d2c-cf3e-aad4edc25675"
      },
      "execution_count": 18,
      "outputs": [
        {
          "output_type": "stream",
          "name": "stdout",
          "text": [
            "     * \r\n",
            "    * * \r\n",
            "   * * * \r\n",
            "  * * * * \r\n",
            " * * * * * \r\n",
            "  * * * * \r\n",
            "   * * * \r\n",
            "    * * \r\n",
            "     * \r\n"
          ]
        }
      ]
    },
    {
      "cell_type": "code",
      "source": [
        "#Arrow pattern\n",
        "column = 5\n",
        "for i in range(1,column+1):\n",
        "  print('* '*i)\n",
        "\n",
        "for j in range(column-1,0,-1):\n",
        "  print('* '*j)"
      ],
      "metadata": {
        "colab": {
          "base_uri": "https://localhost:8080/"
        },
        "id": "ajxQ6E08vtZE",
        "outputId": "e3b3adbb-59c6-446d-b932-de46e70c3f16"
      },
      "execution_count": 20,
      "outputs": [
        {
          "output_type": "stream",
          "name": "stdout",
          "text": [
            "* \n",
            "* * \n",
            "* * * \n",
            "* * * * \n",
            "* * * * * \n",
            "* * * * \n",
            "* * * \n",
            "* * \n",
            "* \n"
          ]
        }
      ]
    },
    {
      "cell_type": "code",
      "source": [
        "#Invert pyramid:\n",
        "print(\"\\nInvert pyramid\\n\")\n",
        "for i in range(5):\n",
        "  x='* '\n",
        "  x=x*(5-i)\n",
        "  print(f'{x: ^10}')"
      ],
      "metadata": {
        "colab": {
          "base_uri": "https://localhost:8080/"
        },
        "id": "G5AsGOF0Wp_e",
        "outputId": "0b79dfef-b7d4-4302-f2c4-4d16ab0c18d6"
      },
      "execution_count": null,
      "outputs": [
        {
          "output_type": "stream",
          "name": "stdout",
          "text": [
            "\n",
            "Invert pyramid\n",
            "\n",
            "* * * * * \n",
            " * * * *  \n",
            "  * * *   \n",
            "   * *    \n",
            "    *     \n"
          ]
        }
      ]
    },
    {
      "cell_type": "code",
      "source": [
        "#Left sided pyramid\n",
        "print(\"\\nLeft sided pyramid\\n\")\n",
        "for i in range(5):\n",
        "  x='* '\n",
        "  x=x*i\n",
        "  print(f'{x: <10}')"
      ],
      "metadata": {
        "colab": {
          "base_uri": "https://localhost:8080/"
        },
        "id": "3w1In_3yXAAD",
        "outputId": "49b47625-27ed-4bfa-e676-094802965c74"
      },
      "execution_count": null,
      "outputs": [
        {
          "output_type": "stream",
          "name": "stdout",
          "text": [
            "\n",
            "Left sided pyramid\n",
            "\n",
            "          \n",
            "*         \n",
            "* *       \n",
            "* * *     \n",
            "* * * *   \n"
          ]
        }
      ]
    },
    {
      "cell_type": "code",
      "source": [
        "#Right sided pyramid\n",
        "print(\"\\nRight pyramid\\n\")\n",
        "for i in range(5):\n",
        "  x='* '\n",
        "  x=x*i\n",
        "  print(f'{x: >10}')"
      ],
      "metadata": {
        "colab": {
          "base_uri": "https://localhost:8080/"
        },
        "id": "MygysmK2XYju",
        "outputId": "b981f768-6ece-4f5f-b14e-a8b0575e798a"
      },
      "execution_count": null,
      "outputs": [
        {
          "output_type": "stream",
          "name": "stdout",
          "text": [
            "\n",
            "Right pyramid\n",
            "\n",
            "          \n",
            "        * \n",
            "      * * \n",
            "    * * * \n",
            "  * * * * \n"
          ]
        }
      ]
    }
  ]
}