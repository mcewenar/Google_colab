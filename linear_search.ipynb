{
  "nbformat": 4,
  "nbformat_minor": 0,
  "metadata": {
    "colab": {
      "provenance": [],
      "authorship_tag": "ABX9TyNnDqTtx0+0qWgFDKCxfnBh",
      "include_colab_link": true
    },
    "kernelspec": {
      "name": "python3",
      "display_name": "Python 3"
    },
    "language_info": {
      "name": "python"
    }
  },
  "cells": [
    {
      "cell_type": "markdown",
      "metadata": {
        "id": "view-in-github",
        "colab_type": "text"
      },
      "source": [
        "<a href=\"https://colab.research.google.com/github/mcewenar/Google_colab/blob/master/linear_search.ipynb\" target=\"_parent\"><img src=\"https://colab.research.google.com/assets/colab-badge.svg\" alt=\"Open In Colab\"/></a>"
      ]
    },
    {
      "cell_type": "code",
      "execution_count": 2,
      "metadata": {
        "colab": {
          "base_uri": "https://localhost:8080/"
        },
        "id": "FxgfBvG2-A98",
        "outputId": "75c01d8f-158c-4069-ae80-2c6d6f3867a9"
      },
      "outputs": [
        {
          "output_type": "stream",
          "name": "stdout",
          "text": [
            "Element 8 found at index 2\n"
          ]
        }
      ],
      "source": [
        "def linear_search(arr, target):\n",
        "  for i in range(len(arr)):\n",
        "    if arr[i] == target:\n",
        "      return i; #Return the index of the target element.\n",
        "  return -1; #Return -1 if target is not found\n",
        "\n",
        "#Init:\n",
        "arr = [5,3,8,7,2]\n",
        "target = 8;\n",
        "result = linear_search(arr,target);\n",
        "if result != -1:\n",
        "  print(f\"Element {target} found at index {result}\");\n",
        "else:\n",
        "  print(\"Element not found\");"
      ]
    },
    {
      "cell_type": "code",
      "source": [],
      "metadata": {
        "id": "AnZ3mfriAsv6"
      },
      "execution_count": null,
      "outputs": []
    }
  ]
}