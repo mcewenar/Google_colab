{
  "nbformat": 4,
  "nbformat_minor": 0,
  "metadata": {
    "colab": {
      "provenance": [],
      "authorship_tag": "ABX9TyPrQP1G3R7thFEi/9lmKd2d",
      "include_colab_link": true
    },
    "kernelspec": {
      "name": "python3",
      "display_name": "Python 3"
    },
    "language_info": {
      "name": "python"
    }
  },
  "cells": [
    {
      "cell_type": "markdown",
      "metadata": {
        "id": "view-in-github",
        "colab_type": "text"
      },
      "source": [
        "<a href=\"https://colab.research.google.com/github/mcewenar/Google_colab/blob/master/arrays_tech_exercise.ipynb\" target=\"_parent\"><img src=\"https://colab.research.google.com/assets/colab-badge.svg\" alt=\"Open In Colab\"/></a>"
      ]
    },
    {
      "cell_type": "code",
      "execution_count": 2,
      "metadata": {
        "colab": {
          "base_uri": "https://localhost:8080/"
        },
        "id": "68yWeGoS3Sxw",
        "outputId": "07c08c2d-cea7-4a49-edcb-ae97ecb74e3d"
      },
      "outputs": [
        {
          "output_type": "stream",
          "name": "stdout",
          "text": [
            "common element is 1\n",
            "common element is 7\n",
            "[1, 2, 5, 5, 8, 9, 7, 10]\n"
          ]
        }
      ],
      "source": [
        "#Write a program to find the common elements between two arrays of integers.\n",
        "array1 = [1,2,5,5,8,9,7,10]\n",
        "array2 = [1,0,6,15,6,4,7,0]\n",
        "\n",
        "for i in range(len(array1)):\n",
        "  for j in range(len(array1)):\n",
        "    if array1[i] == array2[j]:\n",
        "      print(f\"common element is {array1[i]}\")"
      ]
    },
    {
      "cell_type": "code",
      "source": [
        "#Write a program to find the second largest element in an array\n",
        "array2 = [1,2,5,5,8,8,9,9,7,7,10,10]\n",
        "array2.sort()\n",
        "index = len(array2)-1\n",
        "#Filter repetitive code\n",
        "while array2[index] == array2[index-1]:\n",
        "  index -= 1\n",
        "print(f\"Way 2: Second largest value is {array2[index-1]}\")"
      ],
      "metadata": {
        "colab": {
          "base_uri": "https://localhost:8080/"
        },
        "id": "4H2WTotu8VWc",
        "outputId": "72e20b65-6723-4b85-ab3b-9d15d2020705"
      },
      "execution_count": 36,
      "outputs": [
        {
          "output_type": "stream",
          "name": "stdout",
          "text": [
            "Way 2: Second largest value is 9\n"
          ]
        }
      ]
    },
    {
      "cell_type": "code",
      "source": [
        "#Write a program to reverse an array of integer values:\n",
        "\n",
        "#When is odd, the pivot is the center, thus this number not vary\n",
        "array_int = [4,5,3,6,6,7,4]\n",
        "print(f\"Original array is {array_int}\")\n",
        "for i in range(len(array_int)//2):\n",
        "  temp = array_int[i]\n",
        "  array_int[i] = array_int[len(array_int)-1-i]\n",
        "  array_int[len(array_int)-1-i] = temp\n",
        "  #Python way:\n",
        "  #array_int[i], array_int[len(array_int)-1-i] = array_int[len(array_int)-1-i], array_int[i]\n",
        "\n",
        "print(f\"Reversed array is {array_int}\")"
      ],
      "metadata": {
        "colab": {
          "base_uri": "https://localhost:8080/"
        },
        "id": "ePnwT6d7Oxch",
        "outputId": "d2563706-630c-4570-bb13-f4f174f794c9"
      },
      "execution_count": 44,
      "outputs": [
        {
          "output_type": "stream",
          "name": "stdout",
          "text": [
            "Wuewue 2\n",
            "Original array is [4, 5, 3, 6, 6, 7, 4]\n",
            "Reversed array is [4, 7, 6, 6, 3, 5, 4]\n"
          ]
        }
      ]
    },
    {
      "cell_type": "code",
      "source": [
        "#Write Program to find the index of an array element:\n",
        "def find_index(array, element):\n",
        "  if array == None or element == None:\n",
        "    return -1\n",
        "  lenth = len(array);\n",
        "  i = 0\n",
        "  while(i<lenth):\n",
        "    if array[i] == element:\n",
        "      return i\n",
        "    i+=1\n",
        "  return -1\n",
        "\n",
        "array_int = [2,3,45,3,25,3,67,7,74,4,98]\n",
        "print(f\"Index position of 25 is: {find_index(array_int,25)}\")\n",
        "print(f\"Index position of 25 is: {find_index(array_int,67)}\")\n",
        "\n"
      ],
      "metadata": {
        "colab": {
          "base_uri": "https://localhost:8080/"
        },
        "id": "6WSlRpetO4Fy",
        "outputId": "3e8f1015-0cb1-426a-b0fd-e558fbfc111b"
      },
      "execution_count": 50,
      "outputs": [
        {
          "output_type": "stream",
          "name": "stdout",
          "text": [
            "Index position of 25 is: 4\n",
            "Index position of 25 is: 6\n"
          ]
        }
      ]
    },
    {
      "cell_type": "code",
      "source": [
        "#Write a programa to find the duplicate values of an array of integer values\n",
        "array = [1,2,5,5,6,6,7,2]\n",
        "new_array = []\n",
        "\n",
        "for i in range(len(array)-1):\n",
        "  for j in range(len(array)):\n",
        "    #print(f\"LOG: i: {i}, j: {j}, array[i]: {array[i]}, array[j]: {array[j]}\")\n",
        "    if(array[i] == array[j] and i != j):\n",
        "      new_array.append(array[i])\n",
        "      if(i not in new_array):\n",
        "        print(f\" Duplicate element {array[i]}\")\n",
        "\n",
        "\n",
        "array = [1, 2, 5, 5, 6, 6, 7, 2]\n",
        "for i in range(len(array)):\n",
        "    for j in range(i + 1, len(array)):\n",
        "        if array[i] == array[j]:\n",
        "            print(f\"pair find: {array[i]} positions {i} y {j}\")\n",
        ""
      ],
      "metadata": {
        "colab": {
          "base_uri": "https://localhost:8080/"
        },
        "id": "kscOvJsqZR5U",
        "outputId": "ddcac5f6-13ed-426c-ddb0-5004494672e7"
      },
      "execution_count": 72,
      "outputs": [
        {
          "output_type": "stream",
          "name": "stdout",
          "text": [
            " Duplicate element 2\n",
            " Duplicate element 5\n",
            " Duplicate element 6\n",
            "Par igual encontrado: 2 en las posiciones 1 y 7\n",
            "Par igual encontrado: 5 en las posiciones 2 y 3\n",
            "Par igual encontrado: 6 en las posiciones 4 y 5\n"
          ]
        }
      ]
    },
    {
      "cell_type": "code",
      "source": [],
      "metadata": {
        "id": "fUz0jiziElpv"
      },
      "execution_count": null,
      "outputs": []
    }
  ]
}