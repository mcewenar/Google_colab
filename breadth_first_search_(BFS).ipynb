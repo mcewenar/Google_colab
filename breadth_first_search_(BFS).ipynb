{
  "nbformat": 4,
  "nbformat_minor": 0,
  "metadata": {
    "colab": {
      "provenance": [],
      "authorship_tag": "ABX9TyODPXem9L6/D78cFPmP0qGJ",
      "include_colab_link": true
    },
    "kernelspec": {
      "name": "python3",
      "display_name": "Python 3"
    },
    "language_info": {
      "name": "python"
    }
  },
  "cells": [
    {
      "cell_type": "markdown",
      "metadata": {
        "id": "view-in-github",
        "colab_type": "text"
      },
      "source": [
        "<a href=\"https://colab.research.google.com/github/mcewenar/Google_colab/blob/master/breadth_first_search_(BFS).ipynb\" target=\"_parent\"><img src=\"https://colab.research.google.com/assets/colab-badge.svg\" alt=\"Open In Colab\"/></a>"
      ]
    },
    {
      "cell_type": "code",
      "execution_count": 1,
      "metadata": {
        "colab": {
          "base_uri": "https://localhost:8080/"
        },
        "id": "iHP-Z0DEOErp",
        "outputId": "35f100b8-7dd5-4005-ad5d-26c0576e582e"
      },
      "outputs": [
        {
          "output_type": "stream",
          "name": "stdout",
          "text": [
            "A B C D E F "
          ]
        }
      ],
      "source": [
        "from collections import deque;\n",
        "\n",
        "def bfs(graph,start):\n",
        "  visited = set();\n",
        "  queue = deque([start])\n",
        "  visited.add(start)\n",
        "  while queue:\n",
        "    vertex = queue.popleft();\n",
        "    print(vertex, end = \" \"); #Print the current node.\n",
        "    for neighbor in graph[vertex]:\n",
        "      if neighbor not in visited:\n",
        "        queue.append(neighbor);\n",
        "        visited.add(neighbor);\n",
        "\n",
        "#Example usage:\n",
        "graph = {\n",
        "    'A': ['B','C'],\n",
        "    'B':['D','E'],\n",
        "    'C':['F'],\n",
        "    'D':[],\n",
        "    'E':['F'],\n",
        "    'F':[]\n",
        "};\n",
        "bfs(graph, 'A');"
      ]
    }
  ]
}