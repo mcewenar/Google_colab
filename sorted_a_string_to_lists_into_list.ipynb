{
  "nbformat": 4,
  "nbformat_minor": 0,
  "metadata": {
    "colab": {
      "provenance": [],
      "authorship_tag": "ABX9TyOu2FytJl3a/iWEiiV0SvcE",
      "include_colab_link": true
    },
    "kernelspec": {
      "name": "python3",
      "display_name": "Python 3"
    },
    "language_info": {
      "name": "python"
    }
  },
  "cells": [
    {
      "cell_type": "markdown",
      "metadata": {
        "id": "view-in-github",
        "colab_type": "text"
      },
      "source": [
        "<a href=\"https://colab.research.google.com/github/mcewenar/Google_colab/blob/master/sorted_a_string_to_lists_into_list.ipynb\" target=\"_parent\"><img src=\"https://colab.research.google.com/assets/colab-badge.svg\" alt=\"Open In Colab\"/></a>"
      ]
    },
    {
      "cell_type": "code",
      "execution_count": 52,
      "metadata": {
        "colab": {
          "base_uri": "https://localhost:8080/"
        },
        "id": "1KdhEnv6lA6t",
        "outputId": "1c6505fd-4e70-477b-c60c-774672bd23fd"
      },
      "outputs": [
        {
          "output_type": "stream",
          "name": "stdout",
          "text": [
            "[['a', 4], ['b', 3], ['c', 2], ['a', 1]]\n"
          ]
        }
      ],
      "source": [
        "#Write a function that converts input into output\n",
        "\n",
        "#Input: \"aaaabbbcca\"\n",
        "#Output: [(\"a\",4),(\"b\",3),(\"c\",2),(\"a\",1)]\n",
        "\n",
        "\n",
        "def sorted_string_list(input_string):\n",
        "  if not input_string:\n",
        "        return []\n",
        "  counter = 1\n",
        "  output_list = []\n",
        "\n",
        "  list_letters = list(input_string)\n",
        "  prev_char = list_letters[0]\n",
        "\n",
        "  for index in range(1,len(list_letters)):\n",
        "    if list_letters[index] != prev_char:\n",
        "      output_list.append([prev_char,counter])\n",
        "      prev_char = list_letters[index]\n",
        "      counter = 1\n",
        "    else:\n",
        "      counter += 1\n",
        "  output_list.append([prev_char, counter])\n",
        "  return output_list\n",
        "\n",
        "\n",
        "\n",
        "\n",
        "print(sorted_string_list(\"aaaabbbcca\"))"
      ]
    }
  ]
}