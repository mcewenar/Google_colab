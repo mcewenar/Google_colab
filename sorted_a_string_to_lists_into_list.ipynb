{
  "nbformat": 4,
  "nbformat_minor": 0,
  "metadata": {
    "colab": {
      "provenance": [],
      "authorship_tag": "ABX9TyPGtoBfl1W6drF8rG61pukD",
      "include_colab_link": true
    },
    "kernelspec": {
      "name": "python3",
      "display_name": "Python 3"
    },
    "language_info": {
      "name": "python"
    }
  },
  "cells": [
    {
      "cell_type": "markdown",
      "metadata": {
        "id": "view-in-github",
        "colab_type": "text"
      },
      "source": [
        "<a href=\"https://colab.research.google.com/github/mcewenar/Google_colab/blob/master/sorted_a_string_to_lists_into_list.ipynb\" target=\"_parent\"><img src=\"https://colab.research.google.com/assets/colab-badge.svg\" alt=\"Open In Colab\"/></a>"
      ]
    },
    {
      "cell_type": "code",
      "execution_count": 9,
      "metadata": {
        "colab": {
          "base_uri": "https://localhost:8080/",
          "height": 140
        },
        "id": "1KdhEnv6lA6t",
        "outputId": "ab9bd4f2-cb21-4a4d-b5be-9dae8da567a4"
      },
      "outputs": [
        {
          "output_type": "stream",
          "name": "stdout",
          "text": [
            "[['a', 4], ['b', 3], ['c', 2], ['a', 1]]\n",
            "[['a', 4], ['b', 3], ['c', 2], ['a', 1]]\n"
          ]
        },
        {
          "output_type": "execute_result",
          "data": {
            "text/plain": [
              "'\\nIn Java:\\nimport java.util.ArrayList;\\nimport java.util.Arrays;\\nimport java.util.List;\\n\\npublic class Main\\n{\\n\\tpublic static void main(String[] args) {\\n\\t    ArrayList<Object[]> result = sortedStringList(\"aaaabbbcca\");\\n\\t    for (Object[] arr : result) {\\n            System.out.println(Arrays.toString(arr));\\n        }\\n\\n\\t}\\n\\n\\tprivate static ArrayList sortedStringList(String string_input) {\\n        ArrayList outputList = new ArrayList<Object[]>();\\n        int counter = 1;\\n        String[] arrayLetters = string_input.split(\"\");\\n\\n        for(int index = 0; index < arrayLetters.length -1; index++) {\\n            String current = arrayLetters[index];\\n            String next = arrayLetters[index+1];\\n            if (!current.equals(next)) {\\n                Object[] intArray = {arrayLetters[index], counter};\\n                outputList.add(intArray);\\n                counter = 1;\\n            } else {\\n                counter += 1;\\n            }\\n\\n        }\\n        Object[] intArray = { arrayLetters[arrayLetters.length - 1], counter };\\n        outputList.add(intArray);\\n        return outputList;\\n\\n    }\\n}\\n\\n\\n'"
            ],
            "application/vnd.google.colaboratory.intrinsic+json": {
              "type": "string"
            }
          },
          "metadata": {},
          "execution_count": 9
        }
      ],
      "source": [
        "#Write a function that converts input into output\n",
        "\n",
        "#Input: \"aaaabbbcca\"\n",
        "#Output: [(\"a\",4),(\"b\",3),(\"c\",2),(\"a\",1)]\n",
        "\n",
        "\n",
        "def sorted_string_list(input_string):\n",
        "  if not input_string:\n",
        "        return []\n",
        "  counter = 1\n",
        "  output_list = []\n",
        "\n",
        "  list_letters = list(input_string)\n",
        "  prev_char = list_letters[0]\n",
        "\n",
        "  for index in range(1,len(list_letters)):\n",
        "    if list_letters[index] != prev_char:\n",
        "      output_list.append([prev_char,counter])\n",
        "      prev_char = list_letters[index]\n",
        "      counter = 1\n",
        "    else:\n",
        "      counter += 1\n",
        "  output_list.append([prev_char, counter])\n",
        "  return output_list\n",
        "\n",
        "\n",
        "\n",
        "\n",
        "print(sorted_string_list(\"aaaabbbcca\"))\n",
        "\n",
        "\n",
        "\n",
        "def sorted_string_list2(input_string):\n",
        "  if not input_string:\n",
        "        return []\n",
        "  counter = 1\n",
        "  output_list = []\n",
        "\n",
        "  list_letters = list(input_string)\n",
        "\n",
        "  for index in range(0,len(list_letters)-1):\n",
        "    if list_letters[index] != list_letters[index+1]:\n",
        "      output_list.append([list_letters[index],counter])\n",
        "      counter = 1\n",
        "    else:\n",
        "      counter += 1\n",
        "  output_list.append([list_letters[len(list_letters)-1], counter])\n",
        "  return output_list\n",
        "\n",
        "\n",
        "\n",
        "\n",
        "print(sorted_string_list2(\"aaaabbbcca\"))\n",
        "\n",
        "\"\"\"\n",
        "In Java:\n",
        "import java.util.ArrayList;\n",
        "import java.util.Arrays;\n",
        "import java.util.List;\n",
        "\n",
        "public class Main\n",
        "{\n",
        "\tpublic static void main(String[] args) {\n",
        "\t    ArrayList<Object[]> result = sortedStringList(\"aaaabbbcca\");\n",
        "\t    for (Object[] arr : result) {\n",
        "            System.out.println(Arrays.toString(arr));\n",
        "        }\n",
        "\n",
        "\t}\n",
        "\n",
        "\tprivate static ArrayList sortedStringList(String string_input) {\n",
        "        ArrayList outputList = new ArrayList<Object[]>();\n",
        "        int counter = 1;\n",
        "        String[] arrayLetters = string_input.split(\"\");\n",
        "\n",
        "        for(int index = 0; index < arrayLetters.length -1; index++) {\n",
        "            String current = arrayLetters[index];\n",
        "            String next = arrayLetters[index+1];\n",
        "            if (!current.equals(next)) {\n",
        "                Object[] intArray = {arrayLetters[index], counter};\n",
        "                outputList.add(intArray);\n",
        "                counter = 1;\n",
        "            } else {\n",
        "                counter += 1;\n",
        "            }\n",
        "\n",
        "        }\n",
        "        Object[] intArray = { arrayLetters[arrayLetters.length - 1], counter };\n",
        "        outputList.add(intArray);\n",
        "        return outputList;\n",
        "\n",
        "    }\n",
        "}\n",
        "\n",
        "\n",
        "\"\"\""
      ]
    },
    {
      "cell_type": "code",
      "source": [],
      "metadata": {
        "id": "n3xouittJflk"
      },
      "execution_count": null,
      "outputs": []
    }
  ]
}