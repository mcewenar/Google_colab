{
  "nbformat": 4,
  "nbformat_minor": 0,
  "metadata": {
    "colab": {
      "provenance": [],
      "authorship_tag": "ABX9TyMoWLTKULYP/uv1LlzzHw3M",
      "include_colab_link": true
    },
    "kernelspec": {
      "name": "python3",
      "display_name": "Python 3"
    },
    "language_info": {
      "name": "python"
    }
  },
  "cells": [
    {
      "cell_type": "markdown",
      "metadata": {
        "id": "view-in-github",
        "colab_type": "text"
      },
      "source": [
        "<a href=\"https://colab.research.google.com/github/mcewenar/Google_colab/blob/master/check_two_strings_are_anagrams.ipynb\" target=\"_parent\"><img src=\"https://colab.research.google.com/assets/colab-badge.svg\" alt=\"Open In Colab\"/></a>"
      ]
    },
    {
      "cell_type": "code",
      "execution_count": 2,
      "metadata": {
        "colab": {
          "base_uri": "https://localhost:8080/"
        },
        "id": "uvhi-t_umZlF",
        "outputId": "06055034-c404-40fe-f1d1-995af731517d"
      },
      "outputs": [
        {
          "output_type": "stream",
          "name": "stdout",
          "text": [
            "Enter first one string: integral\n",
            "Enter the second one string: triangle\n",
            "The strings are anagrams.\n"
          ]
        }
      ],
      "source": [
        "string1 = input(\"Enter first one string: \")\n",
        "string2 = input(\"Enter the second one string: \")\n",
        "\n",
        "if len(string1) != len(string2):\n",
        "  print(\"The string are not anagrams.\")\n",
        "else:\n",
        "  #Convert string to lowercase and sort them\n",
        "  sorted_string1 = sorted(string1.lower())\n",
        "  sorted_string2 = sorted(string2.lower())\n",
        "\n",
        "  #Compare the two strings\n",
        "  if sorted_string1 == sorted_string2:\n",
        "    print(\"The strings are anagrams.\")\n",
        "  else:\n",
        "    print(\"The strings are not anagrams.\")"
      ]
    }
  ]
}