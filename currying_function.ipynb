{
  "nbformat": 4,
  "nbformat_minor": 0,
  "metadata": {
    "colab": {
      "provenance": [],
      "authorship_tag": "ABX9TyN034OjdRbRLW4PzDmBOKYZ",
      "include_colab_link": true
    },
    "kernelspec": {
      "name": "python3",
      "display_name": "Python 3"
    },
    "language_info": {
      "name": "python"
    }
  },
  "cells": [
    {
      "cell_type": "markdown",
      "metadata": {
        "id": "view-in-github",
        "colab_type": "text"
      },
      "source": [
        "<a href=\"https://colab.research.google.com/github/mcewenar/Google_colab/blob/master/currying_function.ipynb\" target=\"_parent\"><img src=\"https://colab.research.google.com/assets/colab-badge.svg\" alt=\"Open In Colab\"/></a>"
      ]
    },
    {
      "cell_type": "code",
      "execution_count": 2,
      "metadata": {
        "colab": {
          "base_uri": "https://localhost:8080/"
        },
        "id": "YxjtRK1-djoB",
        "outputId": "09848017-e281-4953-9055-08abc0337713"
      },
      "outputs": [
        {
          "output_type": "stream",
          "name": "stdout",
          "text": [
            "9\n",
            "9\n",
            "9\n"
          ]
        }
      ],
      "source": [
        "\"\"\"El currying es un concepto en programación funcional que consiste en transformar una función que toma múltiples argumentos\n",
        "en una serie de funciones que toman un solo argumento. Cada función intermedia devuelve una nueva\n",
        "función que espera el siguiente argumento, hasta que se proporcionen todos los argumentos y se pueda devolver el resultado final.\n",
        "\n",
        "En otras palabras, en lugar de definir una función que toma varios argumentos de una vez, el currying permite definir funciones que toman un\n",
        "solo argumento y devuelven una nueva función que toma el siguiente argumento.\n",
        "Currying es la técnica de transformar una funcion que tiene multiples argumentos en una función que tome un argumento simple.\n",
        "  En realidad lo transforma en una cadena de funciones, cada una con un parámetro:\n",
        "  (Int, Int) => Int\n",
        "  Se transforma en:\n",
        "  Int => Int => Int\n",
        "\"\"\"\n",
        "\n",
        "\n",
        "#Example1:\n",
        "def sum(x,y):\n",
        "  return x + y\n",
        "\n",
        "def sum_formal_currying(x):\n",
        "  def inner(y):\n",
        "    return x + y\n",
        "  return inner\n",
        "\n",
        "def sum_informal_currying(x):\n",
        "  return lambda y: x + y\n",
        "\n",
        "print(sum(4,5))\n",
        "print(sum_formal_currying(4)(5))\n",
        "print(sum_informal_currying(4)(5))"
      ]
    },
    {
      "cell_type": "code",
      "source": [
        "\"\"\"Pero usando currying, podemos transformar esta función en una serie de funciones\n",
        "que toman un argumento cada una:\n",
        "\n",
        "\n",
        "Explicacion:\n",
        "La función add(a) toma el primer argumento a y devuelve otra función add_b(b) que toma el segundo argumento b.\n",
        "La función add_b(b) devuelve otra función add_c(c) que toma el tercer argumento c.\n",
        "Finalmente, la función add_c(c) calcula y devuelve la suma de a + b + c.\n",
        "\"\"\"\n",
        "\n",
        "#Example2:\n",
        "def add(a):\n",
        "    def add_b(b):\n",
        "        def add_c(c):\n",
        "            return a + b + c\n",
        "        return add_c\n",
        "    return add_b\n",
        "\n",
        "#Result:\n",
        "curried_add = add(1)      # Ahora curried_add es una función que espera un segundo argumento\n",
        "curried_add_b = curried_add(2)  # curried_add_b ahora espera el tercer argumento\n",
        "result = curried_add_b(3)       # Finalmente, pasamos el tercer argumento y obtenemos el resultado\n",
        "print(result)  # Output: 6\n",
        "\n",
        "#O, si queremos, podemos llamar a todas las funciones en una sola línea:\n",
        "print(add(1)(2)(3))  # Output: 6\n"
      ],
      "metadata": {
        "colab": {
          "base_uri": "https://localhost:8080/"
        },
        "id": "wlrjEBJbhNJd",
        "outputId": "7a7239ec-6bde-4c25-f0a5-73ce88186583"
      },
      "execution_count": 4,
      "outputs": [
        {
          "output_type": "stream",
          "name": "stdout",
          "text": [
            "6\n"
          ]
        }
      ]
    },
    {
      "cell_type": "code",
      "source": [
        "#Ejercicio práctico cálculo de impuesto:\n",
        "\n",
        "def apply_tax(tax_rate):\n",
        "    def apply_discount(discount_rate):\n",
        "        def final_price(price):\n",
        "            price_with_tax = price + (price * tax_rate)\n",
        "            price_with_discount = price_with_tax - (price_with_tax * discount_rate)\n",
        "            return price_with_discount\n",
        "        return final_price\n",
        "    return apply_discount\n",
        "\n",
        "# Paso 1: Definir el porcentaje de impuestos (ejemplo: 10% = 0.1)\n",
        "tax = apply_tax(0.1)\n",
        "\n",
        "# Paso 2: Definir el porcentaje de descuento (ejemplo: 5% = 0.05)\n",
        "discount = tax(0.05)\n",
        "\n",
        "# Paso 3: Aplicar al precio del producto (ejemplo: precio de 100)\n",
        "price = discount(100)\n",
        "\n",
        "print(price)  # Output: 104.5"
      ],
      "metadata": {
        "colab": {
          "base_uri": "https://localhost:8080/"
        },
        "id": "AxKElWKHiZeA",
        "outputId": "45ea3fc0-39b9-48e8-c381-bb84d3895a93"
      },
      "execution_count": 5,
      "outputs": [
        {
          "output_type": "stream",
          "name": "stdout",
          "text": [
            "104.5\n"
          ]
        }
      ]
    },
    {
      "cell_type": "code",
      "source": [],
      "metadata": {
        "id": "-mJbPWaQha9G"
      },
      "execution_count": null,
      "outputs": []
    }
  ]
}