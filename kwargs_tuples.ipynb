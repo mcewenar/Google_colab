{
  "nbformat": 4,
  "nbformat_minor": 0,
  "metadata": {
    "colab": {
      "provenance": [],
      "authorship_tag": "ABX9TyME1DXyDg8EDBdgKeH3YFo4",
      "include_colab_link": true
    },
    "kernelspec": {
      "name": "python3",
      "display_name": "Python 3"
    },
    "language_info": {
      "name": "python"
    }
  },
  "cells": [
    {
      "cell_type": "markdown",
      "metadata": {
        "id": "view-in-github",
        "colab_type": "text"
      },
      "source": [
        "<a href=\"https://colab.research.google.com/github/mcewenar/Google_colab/blob/master/kwargs_tuples.ipynb\" target=\"_parent\"><img src=\"https://colab.research.google.com/assets/colab-badge.svg\" alt=\"Open In Colab\"/></a>"
      ]
    },
    {
      "cell_type": "code",
      "execution_count": 3,
      "metadata": {
        "colab": {
          "base_uri": "https://localhost:8080/"
        },
        "id": "uXZqqeLs69Yu",
        "outputId": "1ef0ed67-e125-4521-db37-9a5b19ff67db"
      },
      "outputs": [
        {
          "output_type": "stream",
          "name": "stdout",
          "text": [
            "(1, 2, 3, 4, 5, 6)\n",
            "{'a': 2, 'b': 3, 'c': 5}\n",
            "(1, 2, 3, 4)\n",
            "{'a': 10, 'b': 20}\n"
          ]
        }
      ],
      "source": [
        "#Inside a function header:\n",
        "#* collects all the positional arguments in a tuple.\n",
        "\n",
        "#** collects all the keyword arguments in a dictionary.\n",
        "\n",
        "def functionA(*a, **kw):\n",
        "       print(a)\n",
        "       print(kw)\n",
        "\n",
        "functionA(1, 2, 3, 4, 5, 6, a=2, b=3, c=5)\n",
        "\n",
        "\n",
        "#In a function call:\n",
        "#* unpacks a list or tuple into position arguments.\n",
        "\n",
        "#** unpacks a dictionary into keyword arguments.\n",
        "\n",
        "lis=[1, 2, 3, 4]\n",
        "dic={'a': 10, 'b':20}\n",
        "functionA(*lis, **dic)  #it is similar to functionA(1, 2, 3, 4, a=10, b=20)"
      ]
    },
    {
      "cell_type": "code",
      "source": [],
      "metadata": {
        "id": "lT27yEUy7ODq"
      },
      "execution_count": 1,
      "outputs": []
    }
  ]
}