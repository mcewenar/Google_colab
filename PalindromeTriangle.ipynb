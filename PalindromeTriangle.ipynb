{
  "nbformat": 4,
  "nbformat_minor": 0,
  "metadata": {
    "colab": {
      "provenance": [],
      "authorship_tag": "ABX9TyP3NS7Mtft0ar4a+8HJ72V8",
      "include_colab_link": true
    },
    "kernelspec": {
      "name": "python3",
      "display_name": "Python 3"
    },
    "language_info": {
      "name": "python"
    }
  },
  "cells": [
    {
      "cell_type": "markdown",
      "metadata": {
        "id": "view-in-github",
        "colab_type": "text"
      },
      "source": [
        "<a href=\"https://colab.research.google.com/github/mcewenar/Google_colab/blob/master/PalindromeTriangle.ipynb\" target=\"_parent\"><img src=\"https://colab.research.google.com/assets/colab-badge.svg\" alt=\"Open In Colab\"/></a>"
      ]
    },
    {
      "cell_type": "code",
      "execution_count": 1,
      "metadata": {
        "colab": {
          "base_uri": "https://localhost:8080/"
        },
        "id": "7pvuDRn8MlrS",
        "outputId": "4015bc07-3ac2-4e0e-8f8a-651bc366a7a9"
      },
      "outputs": [
        {
          "output_type": "stream",
          "name": "stdout",
          "text": [
            "          \n",
            "1 \n",
            "        \n",
            "2 1 2 \n",
            "      \n",
            "3 2 1 2 3 \n",
            "    \n",
            "4 3 2 1 2 3 4 \n",
            "  \n",
            "5 4 3 2 1 2 3 4 5 \n",
            "\n",
            "6 5 4 3 2 1 \n"
          ]
        }
      ],
      "source": [
        "def print_pattern(n):\n",
        "  \"\"\"\n",
        "  Prints a number pattern in a specific format.\n",
        "\n",
        "  Args:\n",
        "    n: An integer representing the number of rows in the pattern.\n",
        "  \"\"\"\n",
        "  for i in range(1, n + 1):\n",
        "    # Print spaces for the first part of the pattern\n",
        "    print(\" \" * (2 * (n - i)))\n",
        "    # Print the numbers in descending order\n",
        "    for j in range(i, 0, -1):\n",
        "      print(j, end=\" \")\n",
        "    # Print the numbers in ascending order (except for the last row)\n",
        "    if i < n:\n",
        "      for j in range(2, i + 1):\n",
        "        print(j, end=\" \")\n",
        "    print()\n",
        "\n",
        "# Call the function with n = 6\n",
        "print_pattern(6)"
      ]
    }
  ]
}