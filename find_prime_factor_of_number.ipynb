{
  "nbformat": 4,
  "nbformat_minor": 0,
  "metadata": {
    "colab": {
      "provenance": [],
      "authorship_tag": "ABX9TyO73vBomvOk5JOdsn5iPlpk",
      "include_colab_link": true
    },
    "kernelspec": {
      "name": "python3",
      "display_name": "Python 3"
    },
    "language_info": {
      "name": "python"
    }
  },
  "cells": [
    {
      "cell_type": "markdown",
      "metadata": {
        "id": "view-in-github",
        "colab_type": "text"
      },
      "source": [
        "<a href=\"https://colab.research.google.com/github/mcewenar/Google_colab/blob/master/find_prime_factor_of_number.ipynb\" target=\"_parent\"><img src=\"https://colab.research.google.com/assets/colab-badge.svg\" alt=\"Open In Colab\"/></a>"
      ]
    },
    {
      "cell_type": "code",
      "execution_count": null,
      "metadata": {
        "id": "1Oe2Q1I-dbXn"
      },
      "outputs": [],
      "source": [
        "def prime_factors(n):\n",
        "  factors = []\n",
        "  while n % 2 == 0:\n",
        "    factors.append(2)\n",
        "    n//=2\n",
        "  i = 3\n",
        "  while i <= n:\n",
        "    if n % i == 0:\n",
        "      factors.append(i)\n",
        "      n //= i\n",
        "    else:\n",
        "      i += 2\n",
        "  return factors\n",
        "\n",
        "num = int(input(\"Enter a number: \"))\n",
        "factors = prime_factors(num)\n",
        "print(f\"Prime factors of {num} are: {factors}\")\n",
        "\n"
      ]
    }
  ]
}