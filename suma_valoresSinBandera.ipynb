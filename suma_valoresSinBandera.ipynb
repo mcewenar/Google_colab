{
  "nbformat": 4,
  "nbformat_minor": 0,
  "metadata": {
    "colab": {
      "name": "suma_valores.ipynb",
      "provenance": [],
      "collapsed_sections": [],
      "authorship_tag": "ABX9TyOHY9JXqw86beu4Z1lfN1Vz",
      "include_colab_link": true
    },
    "kernelspec": {
      "name": "python3",
      "display_name": "Python 3"
    },
    "language_info": {
      "name": "python"
    }
  },
  "cells": [
    {
      "cell_type": "markdown",
      "metadata": {
        "id": "view-in-github",
        "colab_type": "text"
      },
      "source": [
        "<a href=\"https://colab.research.google.com/github/mcewenar/Google_colab/blob/master/suma_valoresSinBandera.ipynb\" target=\"_parent\"><img src=\"https://colab.research.google.com/assets/colab-badge.svg\" alt=\"Open In Colab\"/></a>"
      ]
    },
    {
      "cell_type": "code",
      "metadata": {
        "id": "Fi57PYQpMw4g"
      },
      "source": [
        "simplificando y eliminando el uso de bandera \n",
        "dato = 1\n",
        "suma = 0 #acumulador5\n",
        "i=0  #contador\n",
        "while (dato != 0):\n",
        "  dato = int(input(\"Ingrese numero entero o 0 para salir: \"))\n",
        "  suma += dato\n",
        "  i+=1\n",
        "i-=1 # fuera del cuerpo del while\n",
        "promedio=suma/i\n",
        "print(i,suma,promedio)"
      ],
      "execution_count": null,
      "outputs": []
    }
  ]
}