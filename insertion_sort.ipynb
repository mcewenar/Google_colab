{
  "nbformat": 4,
  "nbformat_minor": 0,
  "metadata": {
    "colab": {
      "provenance": [],
      "authorship_tag": "ABX9TyOoH/6Z6zJg1e/rzoEZC3v8",
      "include_colab_link": true
    },
    "kernelspec": {
      "name": "python3",
      "display_name": "Python 3"
    },
    "language_info": {
      "name": "python"
    }
  },
  "cells": [
    {
      "cell_type": "markdown",
      "metadata": {
        "id": "view-in-github",
        "colab_type": "text"
      },
      "source": [
        "<a href=\"https://colab.research.google.com/github/mcewenar/Google_colab/blob/master/insertion_sort.ipynb\" target=\"_parent\"><img src=\"https://colab.research.google.com/assets/colab-badge.svg\" alt=\"Open In Colab\"/></a>"
      ]
    },
    {
      "cell_type": "code",
      "execution_count": 4,
      "metadata": {
        "colab": {
          "base_uri": "https://localhost:8080/"
        },
        "id": "2Hfz4i4C3wwb",
        "outputId": "f677a9c6-a349-49c7-d9c0-cf80c85847d5"
      },
      "outputs": [
        {
          "output_type": "stream",
          "name": "stdout",
          "text": [
            "Sorted array in ascending order: [1, 3, 4, 5, 9]\n"
          ]
        }
      ],
      "source": [
        "def insertionSort(array):\n",
        "  for step in range(1, len(array)):\n",
        "    key = array[step]\n",
        "    j = step - 1\n",
        "\n",
        "    \"\"\"Compare key with each element on the left of it untill an\n",
        "    element smaller than it is found for descending order,\n",
        "    change key<array[j] to key>array[k].\n",
        "    \"\"\"\n",
        "    while j >= 0 and key < array[j]:\n",
        "      array[j + 1] = array[j]\n",
        "      j = j - 1\n",
        "\n",
        "    #Place key at after the element just smaller than it\n",
        "    array[j + 1] = key\n",
        "data_test = [9,5,1,4,3]\n",
        "insertionSort(data_test)\n",
        "print(f\"Sorted array in ascending order: {data_test}\")"
      ]
    }
  ]
}