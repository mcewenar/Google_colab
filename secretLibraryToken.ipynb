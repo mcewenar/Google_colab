{
  "nbformat": 4,
  "nbformat_minor": 0,
  "metadata": {
    "colab": {
      "provenance": [],
      "authorship_tag": "ABX9TyPXBjcNbGYwuBLx3sECZiYq",
      "include_colab_link": true
    },
    "kernelspec": {
      "name": "python3",
      "display_name": "Python 3"
    },
    "language_info": {
      "name": "python"
    }
  },
  "cells": [
    {
      "cell_type": "markdown",
      "metadata": {
        "id": "view-in-github",
        "colab_type": "text"
      },
      "source": [
        "<a href=\"https://colab.research.google.com/github/mcewenar/Google_colab/blob/master/secretLibraryToken.ipynb\" target=\"_parent\"><img src=\"https://colab.research.google.com/assets/colab-badge.svg\" alt=\"Open In Colab\"/></a>"
      ]
    },
    {
      "cell_type": "code",
      "execution_count": 2,
      "metadata": {
        "colab": {
          "base_uri": "https://localhost:8080/"
        },
        "id": "4jn5fRek_Ip1",
        "outputId": "41861ca9-bc19-4e23-b988-ca11916dda12"
      },
      "outputs": [
        {
          "output_type": "stream",
          "name": "stdout",
          "text": [
            "URL-safe Token: RJPgK_UEb32kvgQJVsZgEA\n"
          ]
        }
      ],
      "source": [
        "#This program generates a secure URL-safe token, which is useful for generating things like\n",
        "#secure reset links\n",
        "import secrets\n",
        "\n",
        "url_safe_token = secrets.token_urlsafe(16)\n",
        "print(f\"URL-safe Token: {url_safe_token}\")"
      ]
    },
    {
      "cell_type": "code",
      "source": [
        "#Secure random integer.\n",
        "#Generates a secure random integer between two numbers\n",
        "import secrets\n",
        "random_integer = secrets.randbelow(100) + 1\n",
        "print(f\"Random Integer: {random_integer}\")"
      ],
      "metadata": {
        "colab": {
          "base_uri": "https://localhost:8080/"
        },
        "id": "pmLR8faG_7xG",
        "outputId": "56cf7881-3b96-47da-9a8e-6d452df8b8cf"
      },
      "execution_count": 3,
      "outputs": [
        {
          "output_type": "stream",
          "name": "stdout",
          "text": [
            "Random Integer: 71\n"
          ]
        }
      ]
    },
    {
      "cell_type": "code",
      "source": [
        "#Secure random choice from a list\n",
        "#securely chooses a random item from a list\n",
        "import secrets\n",
        "my_list = [\"apple\", \"banana\", \"cherry\", \"date\", \"elderberry\"]\n",
        "random_item = secrets.choice(my_list)\n",
        "print(f\"Randomly chosen Item: {random_item}\")"
      ],
      "metadata": {
        "colab": {
          "base_uri": "https://localhost:8080/"
        },
        "id": "UwHIOXh7A6JL",
        "outputId": "33d27dff-5003-4f82-cfd5-eb71afef2a21"
      },
      "execution_count": 4,
      "outputs": [
        {
          "output_type": "stream",
          "name": "stdout",
          "text": [
            "Randomly chosen Item: banana\n"
          ]
        }
      ]
    },
    {
      "cell_type": "code",
      "source": [
        "#Generate a secure token\n",
        "#generates a secure random token\n",
        "import secrets\n",
        "\n",
        "token = secrets.token_hex(16)\n",
        "print(f\"Secure Token: {token}\")"
      ],
      "metadata": {
        "colab": {
          "base_uri": "https://localhost:8080/"
        },
        "id": "Efw-lQV4BNxZ",
        "outputId": "1a13f5b0-b736-46a4-80fd-bfeb8af23d4e"
      },
      "execution_count": 5,
      "outputs": [
        {
          "output_type": "stream",
          "name": "stdout",
          "text": [
            "Secure Token: 05a197ee2982a91fd5adb8cfc2807a32\n"
          ]
        }
      ]
    }
  ]
}