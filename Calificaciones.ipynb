{
  "nbformat": 4,
  "nbformat_minor": 0,
  "metadata": {
    "colab": {
      "name": "Calificaciones.ipynb",
      "provenance": [],
      "include_colab_link": true
    },
    "kernelspec": {
      "name": "python3",
      "display_name": "Python 3"
    },
    "language_info": {
      "name": "python"
    }
  },
  "cells": [
    {
      "cell_type": "markdown",
      "metadata": {
        "id": "view-in-github",
        "colab_type": "text"
      },
      "source": [
        "<a href=\"https://colab.research.google.com/github/mcewenar/Google_colab/blob/master/Calificaciones.ipynb\" target=\"_parent\"><img src=\"https://colab.research.google.com/assets/colab-badge.svg\" alt=\"Open In Colab\"/></a>"
      ]
    },
    {
      "cell_type": "code",
      "metadata": {
        "colab": {
          "base_uri": "https://localhost:8080/"
        },
        "id": "vG06CAdmqIMX",
        "outputId": "b238baac-6301-4c85-d069-f62425bba031"
      },
      "source": [
        "class Error(Exception):\n",
        "    \"\"\"Base class for other exceptions\"\"\"\n",
        "    pass\n",
        "\n",
        "class LargerThan5Error(Error):\n",
        "  \"\"\"Number is larger than 5\"\"\"\n",
        "  pass\n",
        "\n",
        "class NegativeNumberError(Error):\n",
        "  \"\"\"The number is negative\"\"\"\n",
        "  pass\n",
        "\n",
        "\n",
        "\n",
        "name = input(\"Nombre del estudiante: \")\n",
        "\n",
        "all_notes = []\n",
        "note = 0\n",
        "\n",
        "note_number = 1\n",
        "i = 0\n",
        "while i < 10:\n",
        "  try:\n",
        "   print('Nota', note_number, end=\"\")\n",
        "   print(': ', end=\"\")\n",
        "   note = float(input())\n",
        "\n",
        "   if note > 5:\n",
        "     raise LargerThan5Error\n",
        "\n",
        "   elif note < 0:\n",
        "     raise NegativeNumberError\n",
        "\n",
        "  except LargerThan5Error:\n",
        "    print(\"Dato errado, intente de nuevo.\")\n",
        "    continue\n",
        "\n",
        "  except NegativeNumberError:\n",
        "    print(\"Dato errado, intente de nuevo.\")\n",
        "    continue\n",
        "\n",
        "  except:\n",
        "    print(\"Dato errado, intente de nuevo.\")\n",
        "    continue\n",
        "\n",
        "  if (note == 0):\n",
        "    break\n",
        "\n",
        "  all_notes.append(note)\n",
        "  note_number +=1\n",
        "  i += 1\n",
        "\n",
        "notes_quantity = len(all_notes)\n",
        "note_points = sum(all_notes)\n",
        "\n",
        "final_note = note_points / notes_quantity\n",
        "\n",
        "print('El estudiante', name, 'obtuvo', notes_quantity, 'notas', 'que suman ', end=\"\")\n",
        "print(note_points, end=\"\")\n",
        "print(', su calificación final es de ', end=\"\")\n",
        "print(round(final_note, 2), end=\"\")\n",
        "\n",
        "if final_note > 3:\n",
        "  print(', ¡aprobó la asignatura!', end=\"\")\n"
      ],
      "execution_count": null,
      "outputs": [
        {
          "output_type": "stream",
          "text": [
            "Nombre del estudiante: Dani\n",
            "Nota 1: 2\n",
            "Nota 2: 0\n",
            "El estudiante Dani obtuvo 1 notas que suman 2.0, su calificación final es de 2.0"
          ],
          "name": "stdout"
        }
      ]
    }
  ]
}