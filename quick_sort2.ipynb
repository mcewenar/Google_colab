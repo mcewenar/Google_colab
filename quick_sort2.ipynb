{
  "nbformat": 4,
  "nbformat_minor": 0,
  "metadata": {
    "colab": {
      "provenance": [],
      "authorship_tag": "ABX9TyMI7x948FMVzudG9S8WWXUp",
      "include_colab_link": true
    },
    "kernelspec": {
      "name": "python3",
      "display_name": "Python 3"
    },
    "language_info": {
      "name": "python"
    }
  },
  "cells": [
    {
      "cell_type": "markdown",
      "metadata": {
        "id": "view-in-github",
        "colab_type": "text"
      },
      "source": [
        "<a href=\"https://colab.research.google.com/github/mcewenar/Google_colab/blob/master/quick_sort2.ipynb\" target=\"_parent\"><img src=\"https://colab.research.google.com/assets/colab-badge.svg\" alt=\"Open In Colab\"/></a>"
      ]
    },
    {
      "cell_type": "code",
      "execution_count": 1,
      "metadata": {
        "colab": {
          "base_uri": "https://localhost:8080/"
        },
        "id": "NvpkRPy2siPY",
        "outputId": "3efc4059-186d-41ad-9995-89d98b226ab4"
      },
      "outputs": [
        {
          "output_type": "stream",
          "name": "stdout",
          "text": [
            "Initial Array: [34, 7, 23, 32, 5, 62]\n",
            "Sorted Array: [5, 7, 23, 32, 34, 62]\n"
          ]
        }
      ],
      "source": [
        "\"\"\"Efficient algorithm that uses a \"Divide and conquer\". It words by dividing a list into smaller sublists and sorting recursively.\n",
        "The algorithm operates by selecting a pivot element from the list and rearranging the other elements around this pivot so that elements smaller than the pivot\n",
        "are placed to the left, and elements larger are placed to the right\n",
        "\n",
        "The same procedure is then applied recursively to the sublists on the left and right of the pivot until the entire list is sorted.\n",
        "\n",
        "\n",
        "CHOOSE A PIVOT: Select an element from the list to act as the pivot. There are various stategies for selecting the pivot, such as choosing the first element, the last element,\n",
        "a random element, or the median of three.\n",
        "\n",
        "PARTITION THE LIST:\n",
        "Rearrange the elements in the list so that all elements less than the pivot come before it, and all elements greater come after it. After this step,\n",
        "the pivot will be in its final position.\n",
        "\n",
        "RECURSIVE SORTING OF SUBLISTS:\n",
        "Apply the quicksort algorithm recursively to the sublists of elements less than and greater than the pivot\n",
        "\n",
        "COMBINE:\n",
        "Combine the sorted sublists to form the final sorted list.\n",
        "\n",
        "\n",
        "TIME COMPLEXITY: O(nlogn) where n is the number of elements. This occurs when the pivot divides the array relatively evenly.\n",
        "WORST CASE COMPLEXITY: O(n ̂ 2) this occurs if the pivot selection leads to very unbalanced partitions (e.g., if the array is aready sorted and the pivot is always the smallest or\n",
        "largest element).\n",
        "\n",
        "Despite the worst-case scenario, quickSort is often preferred in practice due to its excelent average performance and low memory overhead.\n",
        "\n",
        "This example demonstrates how the algorithm works and can be implemented in Javascript. It is widely used in practicew for sorting arrays because of its efficiency and simplicity\n",
        "\n",
        "SPACE COMPLEXITY: O(logn)\n",
        "\n",
        "CODE EXPLANATION:\n",
        "1. Base case: if the array length is 0 or 1, it is already sorted, so it is returned as is.\n",
        "\n",
        "2. Choosing the pivot: the last element of the array is chosen as the pivot (this is arbitrary, and other choices are possible).\n",
        "\n",
        "3. Partitioning: the code loops through all elements except the pivot. If an element is smaller than the pivot, it is added to the left array.\n",
        "If it greater or equal, it is added to the right array.\n",
        "\n",
        "4. Recursive call: The quickSort function is called recursively on the left and right arrays, and the final sorted array is formed by combining the sorted left array,\n",
        "the pivot, and the sorted right array.\n",
        "\n",
        "5. Result: the array is sorted ar each level of recursion until the entire list is sorted.\n",
        "\n",
        "\n",
        "\"\"\"\n",
        "\n",
        "def quicksort(arr):\n",
        "    # Base case: if the array is empty or contains one element, it is already sorted\n",
        "    if len(arr) <= 1:\n",
        "        return arr\n",
        "\n",
        "    # Choose the pivot (here, the last element is chosen as the pivot)\n",
        "    pivot = arr[-1]\n",
        "\n",
        "    # Arrays for elements less than and greater than the pivot\n",
        "    left = [x for x in arr[:-1] if x < pivot]   # Elementos menores que el pivote\n",
        "    right = [x for x in arr[:-1] if x >= pivot] # Elementos mayores o iguales al pivote\n",
        "\n",
        "    # Llamada recursiva y combinación del resultado\n",
        "    return quicksort(left) + [pivot] + quicksort(right)\n",
        "\n",
        "# Ejemplo de uso\n",
        "array = [34, 7, 23, 32, 5, 62]\n",
        "print(\"Initial Array:\", array)\n",
        "\n",
        "sorted_array = quicksort(array)\n",
        "print(\"Sorted Array:\", sorted_array)\n",
        "\n",
        "\n",
        "\n",
        "\"\"\"\n",
        "function quickSort(arr) {\n",
        "    # Base case: if the array is empty or contains one element, it is already sorted\n",
        "    if (arr.length <= 1) {\n",
        "        return arr;\n",
        "    }\n",
        "\n",
        "      # Choose the pivot (here, the last element is chosen as the pivot)\n",
        "    let pivot = arr[arr.length - 1];\n",
        "\n",
        "    # Arrays for elements less than and greater than the pivot\n",
        "    let left = [];\n",
        "    let right = [];\n",
        "\n",
        "    // Partition the array around the pivot\n",
        "    for (let i = 0; i < arr.length - 1; i++) {\n",
        "        if (arr[i] < pivot) {\n",
        "            left.push(arr[i]); // Agregar al array izquierdo\n",
        "        } else {\n",
        "            right.push(arr[i]); // Agregar al array derecho\n",
        "        }\n",
        "    }\n",
        "\n",
        "    //Recursively sort the left and right arrays and combine with the pivot\n",
        "    return [...quickSort(left), pivot, ...quickSort(right)];\n",
        "}\n",
        "\n",
        "// Example usage\n",
        "let array = [34, 7, 23, 32, 5, 62];\n",
        "console.log(\"Initial Array:\", array);\n",
        "\n",
        "let sortedArray = quickSort(array);\n",
        "console.log(\"Sorted Array:\", sortedArray);\n",
        "\n",
        "\"\"\"\n",
        "\n"
      ]
    }
  ]
}