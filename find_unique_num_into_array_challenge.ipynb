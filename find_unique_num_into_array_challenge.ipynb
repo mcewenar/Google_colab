{
  "nbformat": 4,
  "nbformat_minor": 0,
  "metadata": {
    "colab": {
      "provenance": [],
      "authorship_tag": "ABX9TyN5QWa0ZgNyeBqbkZ6Ao+R+",
      "include_colab_link": true
    },
    "kernelspec": {
      "name": "python3",
      "display_name": "Python 3"
    },
    "language_info": {
      "name": "python"
    }
  },
  "cells": [
    {
      "cell_type": "markdown",
      "metadata": {
        "id": "view-in-github",
        "colab_type": "text"
      },
      "source": [
        "<a href=\"https://colab.research.google.com/github/mcewenar/Google_colab/blob/master/find_unique_num_into_array_challenge.ipynb\" target=\"_parent\"><img src=\"https://colab.research.google.com/assets/colab-badge.svg\" alt=\"Open In Colab\"/></a>"
      ]
    },
    {
      "cell_type": "code",
      "execution_count": 13,
      "metadata": {
        "colab": {
          "base_uri": "https://localhost:8080/"
        },
        "id": "9WEaRacP1E22",
        "outputId": "9fb7f6d8-9e39-4efc-9105-a587937c5b09"
      },
      "outputs": [
        {
          "output_type": "stream",
          "name": "stdout",
          "text": [
            "[1, 1, 2, 2, 3, 3, 4, 4, 5, 6, 6, 7, 7, 8, 8, 9, 9]\n",
            "0\n",
            "1\n",
            "Unique number: 1\n"
          ]
        }
      ],
      "source": [
        "#The program find a not repeated number in a array numbers:\n",
        "#Example 1:\n",
        "#[1,7,4,3,2,8,9,6,6,9,5,3,4,1,7,2,8]\n",
        "#Unique number: 5\n",
        "\n",
        "#Example 2:\n",
        "#[10, 12, 7, 10, 6, 12, 14, 6, 14, 8, 9, 8, 9, 11, 11, 5, 5]\n",
        "#Unique number: 7\n",
        "\n",
        "#Example 3:\n",
        "#[2,4,6,8,6,2,8,4,1,9,1,3,3,7,7,5,5]\n",
        "#Unique number: 9\n",
        "\n",
        "\n",
        "array = [1,7,4,3,2,8,9,6,6,9,5,3,4,1,7,2,8]\n",
        "#Answer: 5\n",
        "\n",
        "def find_unique_numb(array):\n",
        "  #Step 1: Abstraction's Tim sort algorithm O(n):\n",
        "  array.sort()\n",
        "  print(array)\n",
        "  #2 step 2: iterate the array and compare each element index named \"i\" with its \"i+1\". This algorithm is O(n) time complexity\n",
        "  for i in range(len(array)-1):\n",
        "    print(i)\n",
        "    if array[i] != array[i+1]:\n",
        "      print(f\"Unique number: {array[i]}\")\n",
        "      break\n",
        "\n",
        "\n",
        "find_unique_numb(array)"
      ]
    },
    {
      "cell_type": "code",
      "source": [],
      "metadata": {
        "id": "ZjOcVQWB4lV6"
      },
      "execution_count": null,
      "outputs": []
    }
  ]
}