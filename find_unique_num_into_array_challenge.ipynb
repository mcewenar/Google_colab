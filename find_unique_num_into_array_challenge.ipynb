{
  "nbformat": 4,
  "nbformat_minor": 0,
  "metadata": {
    "colab": {
      "provenance": [],
      "authorship_tag": "ABX9TyNcvWVSc7k3QzHKVjF67vTQ",
      "include_colab_link": true
    },
    "kernelspec": {
      "name": "python3",
      "display_name": "Python 3"
    },
    "language_info": {
      "name": "python"
    }
  },
  "cells": [
    {
      "cell_type": "markdown",
      "metadata": {
        "id": "view-in-github",
        "colab_type": "text"
      },
      "source": [
        "<a href=\"https://colab.research.google.com/github/mcewenar/Google_colab/blob/master/find_unique_num_into_array_challenge.ipynb\" target=\"_parent\"><img src=\"https://colab.research.google.com/assets/colab-badge.svg\" alt=\"Open In Colab\"/></a>"
      ]
    },
    {
      "cell_type": "code",
      "execution_count": null,
      "metadata": {
        "colab": {
          "base_uri": "https://localhost:8080/"
        },
        "id": "9WEaRacP1E22",
        "outputId": "534e2e12-52c8-452d-eaa2-48f8643f07b2"
      },
      "outputs": [
        {
          "output_type": "stream",
          "name": "stdout",
          "text": [
            "9\n"
          ]
        }
      ],
      "source": [
        "#The program find a not repeated number in a array numbers:\n",
        "#Example 1:\n",
        "#[1,7,4,3,2,8,9,6,6,9,5,3,4,1,7,2,8]\n",
        "#Unique number: 5\n",
        "\n",
        "#Example 2:\n",
        "#[10, 12, 7, 10, 6, 12, 14, 6, 14, 8, 9, 8, 9, 11, 11, 5, 5]\n",
        "#Unique number: 7\n",
        "\n",
        "#Example 3:\n",
        "#[2,4,6,8,6,2,8,4,1,9,1,3,3,7,7,5,5]\n",
        "#Unique number: 9\n",
        "\n",
        "\n",
        "array = [2,4,6,8,6,2,8,4,9,1,1,3,3,7,7,5,5]\n",
        "#Answer: 9\n",
        "\n",
        "def find_unique_numb(array):\n",
        "  counter = 0\n",
        "  flag = True\n",
        "  #Step 1: Abstraction's Tim sort algorithm  O(n) in best-case scenarios (for nearly sorted arrays), its worst-case time complexity is O(n log n):\n",
        "  array.sort()\n",
        "  #2 step 2: iterate the array and compare each element index named \"i\" with its \"i+1\". This algorithm is O(n) time complexity\n",
        "  while flag:\n",
        "    #Only when last element is unique:\n",
        "    if counter == len(array) - 1:\n",
        "      print(array[counter])\n",
        "      flag = False\n",
        "    elif array[counter] == array[counter + 1]:\n",
        "      counter += 2\n",
        "    else:\n",
        "      flag = False\n",
        "      print(array[counter])\n",
        "\n",
        "find_unique_numb(array)\n",
        "#THE ALGORITHM HAVE TIME COMPLEXITY: O(n log n) AND SPACE COMPLEXITY: O(1)\n",
        "\n"
      ]
    },
    {
      "cell_type": "code",
      "source": [],
      "metadata": {
        "id": "ZjOcVQWB4lV6"
      },
      "execution_count": null,
      "outputs": []
    }
  ]
}