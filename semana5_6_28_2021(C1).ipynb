{
  "nbformat": 4,
  "nbformat_minor": 0,
  "metadata": {
    "colab": {
      "name": "semana5_6-28-2021(C1).ipynb",
      "provenance": [],
      "collapsed_sections": [],
      "include_colab_link": true
    },
    "kernelspec": {
      "name": "python3",
      "display_name": "Python 3"
    },
    "language_info": {
      "name": "python"
    }
  },
  "cells": [
    {
      "cell_type": "markdown",
      "metadata": {
        "id": "view-in-github",
        "colab_type": "text"
      },
      "source": [
        "<a href=\"https://colab.research.google.com/github/mcewenar/Google_colab/blob/master/semana5_6_28_2021(C1).ipynb\" target=\"_parent\"><img src=\"https://colab.research.google.com/assets/colab-badge.svg\" alt=\"Open In Colab\"/></a>"
      ]
    },
    {
      "cell_type": "code",
      "metadata": {
        "colab": {
          "base_uri": "https://localhost:8080/"
        },
        "id": "BI682kMMc0BA",
        "outputId": "8f700807-6bdc-4ba7-cdfc-215e41e372b1"
      },
      "source": [
        "#cada pareja clave:valor en un diccionario se considera un item o registro\n",
        "d1={22:'SSH', 23:'Telnet', 80:'HTTP', 3306:'MySQL'}; print(d1)\n",
        "d2={\"edad\":40, \"genero\":'Masculino',\"nombre\":'Juan Salvador', \"apellido\":'Gaviota'};print(d2)\n",
        "d3={\"producto\":'Leche', \"presentacion\":[900,1100,1300]};print(d3)\n",
        "d4={'compania':'La Gallina Saraviada',\"precio\":{\"grande\":23000, \"mediana\":18000, \"pequena\":12000}};print(d4)\n",
        "d5={12100100:\"Juan Maria de los Santos\"};print(d5)\n",
        "d6={'primos':[2, 3, 5, 7, 11, 13, 17, 19]};print(d6)\n",
        "d7={(3, 5, 7):105};print(d7)"
      ],
      "execution_count": null,
      "outputs": [
        {
          "output_type": "stream",
          "text": [
            "{22: 'SSH', 23: 'Telnet', 80: 'HTTP', 3306: 'MySQL'}\n",
            "{'edad': 40, 'genero': 'Masculino', 'nombre': 'Juan Salvador', 'apellido': 'Gaviota'}\n",
            "{'producto': 'Leche', 'presentacion': [900, 1100, 1300]}\n",
            "{'compania': 'La Gallina Saraviada', 'precio': {'grande': 23000, 'mediana': 18000, 'pequena': 12000}}\n",
            "{12100100: 'Juan Maria de los Santos'}\n",
            "{'primos': [2, 3, 5, 7, 11, 13, 17, 19]}\n",
            "{(3, 5, 7): 105}\n"
          ],
          "name": "stdout"
        }
      ]
    },
    {
      "cell_type": "code",
      "metadata": {
        "colab": {
          "base_uri": "https://localhost:8080/"
        },
        "id": "LTkAXj_1dh76",
        "outputId": "cf8bca2d-eca2-4e57-850c-d9d6fb81476e"
      },
      "source": [
        "puertos = {22:'SSH', 23:'Telnet', 80:'HTTP', 3306:'MySQL'}\n",
        "print(puertos)"
      ],
      "execution_count": null,
      "outputs": [
        {
          "output_type": "stream",
          "text": [
            "{22: 'SSH', 23: 'Telnet', 80: 'HTTP', 3306: 'MySQL'}\n"
          ],
          "name": "stdout"
        }
      ]
    },
    {
      "cell_type": "code",
      "metadata": {
        "colab": {
          "base_uri": "https://localhost:8080/"
        },
        "id": "g1S7b2iedyEi",
        "outputId": "ecb83060-7712-4471-868c-5fbba9020114"
      },
      "source": [
        "#El metodo update() agrega items de un diccionario a otro\n",
        "dict_ports = {22:\"SSH\", 80:\"Http\"}\n",
        "dict_ports2 = {53:\"DNS\", 443:\"https\"}\n",
        "print(dict_ports)\n",
        "dict_ports.update(dict_ports2)\n",
        "print(dict_ports)"
      ],
      "execution_count": null,
      "outputs": [
        {
          "output_type": "stream",
          "text": [
            "{22: 'SSH', 80: 'Http'}\n",
            "{22: 'SSH', 80: 'Http', 53: 'DNS', 443: 'https'}\n"
          ],
          "name": "stdout"
        }
      ]
    },
    {
      "cell_type": "code",
      "metadata": {
        "colab": {
          "base_uri": "https://localhost:8080/"
        },
        "id": "15duypcod3Fj",
        "outputId": "f65770fe-53fd-4a05-cd38-bc219cb3a5a3"
      },
      "source": [
        "#operadores == , != para comparar si dos diccionarios tienen los mismos items\n",
        "a:bool = {123:\"Rojas\", 87:\"Rosas\"} == {87:\"Rosas\", 123:\"Rojas\"}\n",
        "print('a:',a)\n",
        "print({\"Rosas\":123} != {\"rosas\":123})\n",
        "b = {123:\"Rosas\", 87:\"rojas\"} == {\"Rosas\":123, 87:\"rojas\"}\n",
        "print('b:',b)"
      ],
      "execution_count": null,
      "outputs": [
        {
          "output_type": "stream",
          "text": [
            "a: True\n",
            "True\n",
            "b: False\n"
          ],
          "name": "stdout"
        }
      ]
    },
    {
      "cell_type": "code",
      "metadata": {
        "colab": {
          "base_uri": "https://localhost:8080/",
          "height": 215
        },
        "id": "NvPp9w2IeLGJ",
        "outputId": "fb5d5db4-ec91-400f-b0b7-ebefd5a97e39"
      },
      "source": [
        "#Se accede al valor de un item a partir de su clave; si no existe genera error\n",
        "puertos = {22:\"SSH\", 23:\"Telnet\", 80:\"HTTP\", 3306:\"MySQL\"}\n",
        "valor = puertos[22]\n",
        "\n",
        "print(valor) \n",
        "a=puertos[443];print(a)"
      ],
      "execution_count": null,
      "outputs": [
        {
          "output_type": "stream",
          "text": [
            "SSH\n"
          ],
          "name": "stdout"
        },
        {
          "output_type": "error",
          "ename": "KeyError",
          "evalue": "ignored",
          "traceback": [
            "\u001b[0;31m---------------------------------------------------------------------------\u001b[0m",
            "\u001b[0;31mKeyError\u001b[0m                                  Traceback (most recent call last)",
            "\u001b[0;32m<ipython-input-58-82fa973128d2>\u001b[0m in \u001b[0;36m<module>\u001b[0;34m()\u001b[0m\n\u001b[1;32m      4\u001b[0m \u001b[0;34m\u001b[0m\u001b[0m\n\u001b[1;32m      5\u001b[0m \u001b[0mprint\u001b[0m\u001b[0;34m(\u001b[0m\u001b[0mvalor\u001b[0m\u001b[0;34m)\u001b[0m\u001b[0;34m\u001b[0m\u001b[0;34m\u001b[0m\u001b[0m\n\u001b[0;32m----> 6\u001b[0;31m \u001b[0ma\u001b[0m\u001b[0;34m=\u001b[0m\u001b[0mpuertos\u001b[0m\u001b[0;34m[\u001b[0m\u001b[0;36m443\u001b[0m\u001b[0;34m]\u001b[0m\u001b[0;34m;\u001b[0m\u001b[0mprint\u001b[0m\u001b[0;34m(\u001b[0m\u001b[0ma\u001b[0m\u001b[0;34m)\u001b[0m\u001b[0;34m\u001b[0m\u001b[0;34m\u001b[0m\u001b[0m\n\u001b[0m",
            "\u001b[0;31mKeyError\u001b[0m: 443"
          ]
        }
      ]
    },
    {
      "cell_type": "code",
      "metadata": {
        "colab": {
          "base_uri": "https://localhost:8080/"
        },
        "id": "OwWsBG2DeA7J",
        "outputId": "b522c41b-9289-45e9-f8f5-01cb9e47df4b"
      },
      "source": [
        "#[ ] Agrega item (si no existe) o modifica valor (si existe la clave)  de un item a partir de la clave dada.\n",
        "puertos = {80:\"HTTP\", 23:\"SMTP\", 443:\"HTTPS\"}\n",
        "print(puertos)\n",
        "puertos[23] = \"Telnet\"\n",
        "print(puertos)\n",
        "puertos[110] = \"POP\"\n",
        "print(puertos)"
      ],
      "execution_count": null,
      "outputs": [
        {
          "output_type": "stream",
          "text": [
            "{80: 'HTTP', 23: 'SMTP', 443: 'HTTPS'}\n",
            "{80: 'HTTP', 23: 'Telnet', 443: 'HTTPS'}\n",
            "{80: 'HTTP', 23: 'Telnet', 443: 'HTTPS', 110: 'POP'}\n"
          ],
          "name": "stdout"
        }
      ]
    },
    {
      "cell_type": "code",
      "metadata": {
        "colab": {
          "base_uri": "https://localhost:8080/"
        },
        "id": "ndqOf7Gyedsb",
        "outputId": "f0ef526d-bfef-478f-9dfc-74613755ddf7"
      },
      "source": [
        "#del permite eliminar el item con la clave dada.\n",
        "puertos = {22:\"SSH\", 23:\"Telnet\", 80:\"HTTP\", 3306:\"MySQL\"}\n",
        "print(puertos)\n",
        "del puertos[23]\n",
        "print(puertos)"
      ],
      "execution_count": null,
      "outputs": [
        {
          "output_type": "stream",
          "text": [
            "{22: 'SSH', 23: 'Telnet', 80: 'HTTP', 3306: 'MySQL'}\n",
            "{22: 'SSH', 80: 'HTTP', 3306: 'MySQL'}\n"
          ],
          "name": "stdout"
        }
      ]
    },
    {
      "cell_type": "code",
      "metadata": {
        "colab": {
          "base_uri": "https://localhost:8080/"
        },
        "id": "YuMqKrATelNi",
        "outputId": "49e27fe4-0bc1-42ed-d00d-adeca644bbd1"
      },
      "source": [
        "#determina si en un diccionario existe un item que tenga asociada una clave.\n",
        "puertos = {80:\"HTTP\", 23:\"SMTP\", 443:\"HTTPS\"}\n",
        "if 80 in puertos: #80 es una clave\n",
        "  print(\"80 existe\")\n",
        "if 110 not in puertos:\n",
        "  print(\"110 no existe\")\n",
        "else:\n",
        "  print(\"110 existe\")"
      ],
      "execution_count": null,
      "outputs": [
        {
          "output_type": "stream",
          "text": [
            "80 existe\n",
            "110 no existe\n"
          ],
          "name": "stdout"
        }
      ]
    },
    {
      "cell_type": "code",
      "metadata": {
        "colab": {
          "base_uri": "https://localhost:8080/"
        },
        "id": "br-Uv-wZeyDS",
        "outputId": "f6ff4387-8dac-42c3-b4d7-4f984cf80715"
      },
      "source": [
        "#iterando un diccionario usando el ciclo for para obtener las claves.\n",
        "dict_ports = {22:\"SSH\", 23:\"telnet\", 80:\"Http\"}\n",
        "for k in dict_ports:\n",
        "  print(k)"
      ],
      "execution_count": null,
      "outputs": [
        {
          "output_type": "stream",
          "text": [
            "22\n",
            "23\n",
            "80\n"
          ],
          "name": "stdout"
        }
      ]
    },
    {
      "cell_type": "code",
      "metadata": {
        "colab": {
          "base_uri": "https://localhost:8080/"
        },
        "id": "du_KWIQUe5uB",
        "outputId": "c61fc873-9363-48ce-cc61-5ea86e345075"
      },
      "source": [
        "#el ciclo for y el metodo items() sirven para obtener los items con sus componentes\n",
        "dict_ports = {22:\"SSH\", 23:\"Telnet\", 80:\"Http\"}\n",
        "for k,v in dict_ports.items():\n",
        "  print(k, \"->\", v)"
      ],
      "execution_count": null,
      "outputs": [
        {
          "output_type": "stream",
          "text": [
            "22 -> SSH\n",
            "23 -> Telnet\n",
            "80 -> Http\n"
          ],
          "name": "stdout"
        }
      ]
    },
    {
      "cell_type": "code",
      "metadata": {
        "colab": {
          "base_uri": "https://localhost:8080/"
        },
        "id": "s3ISoYHufCy0",
        "outputId": "ac7efd95-c910-42c6-c962-811bed16d31d"
      },
      "source": [
        "#len() retorna el nro de items de un diccionario\n",
        "puertos = {80:\"HTTP\", 23:\"SMTP\", 443:\"HTTPS\"}\n",
        "print(len(puertos))"
      ],
      "execution_count": null,
      "outputs": [
        {
          "output_type": "stream",
          "text": [
            "3\n"
          ],
          "name": "stdout"
        }
      ]
    },
    {
      "cell_type": "code",
      "metadata": {
        "colab": {
          "base_uri": "https://localhost:8080/"
        },
        "id": "bqU2c-9wfHjB",
        "outputId": "ad916660-1c6a-4865-f075-c58b617a1d35"
      },
      "source": [
        "# Obtiene el valor de un item a partir de la llave con el metodo get.\n",
        "dict1 = {\"a\":1, \"b\":2, \"c\":3, 'd':4}\n",
        "llave='b'\n",
        "print(dict1.get(llave)) #retorna el valor asociado con la llave\n",
        "print(dict1.get(\"e\", \"clave no encontrada.\"))"
      ],
      "execution_count": null,
      "outputs": [
        {
          "output_type": "stream",
          "text": [
            "2\n",
            "clave no encontrada.\n"
          ],
          "name": "stdout"
        }
      ]
    },
    {
      "cell_type": "code",
      "metadata": {
        "colab": {
          "base_uri": "https://localhost:8080/"
        },
        "id": "l1puHAjIfYDx",
        "outputId": "8b31c54e-14bd-44e5-81d7-29b7071823d8"
      },
      "source": [
        "#obtiene la max()/min() clave de los items en el diccionario.\n",
        "puertos = {80:\"HTTP\", 23:\"SMTP\", 443:\"HTTPS\"}\n",
        "print(max(puertos))\n",
        "print(min(puertos))"
      ],
      "execution_count": null,
      "outputs": [
        {
          "output_type": "stream",
          "text": [
            "443\n",
            "23\n"
          ],
          "name": "stdout"
        }
      ]
    },
    {
      "cell_type": "code",
      "metadata": {
        "colab": {
          "base_uri": "https://localhost:8080/"
        },
        "id": "L1yr5Ab8feea",
        "outputId": "18b9e80f-1367-4cc6-8ac4-df6e673247b4"
      },
      "source": [
        "#El metodo keys() obtiene las claves de los items de un diccionario, una lista \n",
        "#el metodo values() obtiene  los valores. en forma de lista\n",
        "dict1 = {\"a\":1, \"b\":2, \"c\":3}\n",
        "print('llaves',list(dict1.keys()))\n",
        "print('valores',list(dict1.values()))"
      ],
      "execution_count": null,
      "outputs": [
        {
          "output_type": "stream",
          "text": [
            "llaves ['a', 'b', 'c']\n",
            "valores [1, 2, 3]\n"
          ],
          "name": "stdout"
        }
      ]
    },
    {
      "cell_type": "code",
      "metadata": {
        "colab": {
          "base_uri": "https://localhost:8080/"
        },
        "id": "EzLZngbMfre5",
        "outputId": "fe9493e4-96f2-4f7b-e942-2a48cae1f7d7"
      },
      "source": [
        "#funcion dict() permite convertir listas de listas y listas de tuplas a diccionarios.\n",
        "ll_puertos = [ [80, \"http\"], [20, \"ftp\"], [23, \"telnet\"] ]\n",
        "dd_port = dict(ll_puertos)\n",
        "print(dd_port)\n",
        "puertos = [(20, \"ftp\"), (80, \"http\"), (23, \"telnet\")]\n",
        "d_port = dict(puertos)\n",
        "print(d_port)"
      ],
      "execution_count": null,
      "outputs": [
        {
          "output_type": "stream",
          "text": [
            "{80: 'http', 20: 'ftp', 23: 'telnet'}\n",
            "{20: 'ftp', 80: 'http', 23: 'telnet'}\n"
          ],
          "name": "stdout"
        }
      ]
    },
    {
      "cell_type": "code",
      "metadata": {
        "colab": {
          "base_uri": "https://localhost:8080/"
        },
        "id": "hvMQPVnDfxdb",
        "outputId": "b777b7e2-fe82-490a-ccb6-7883c7e27d9d"
      },
      "source": [
        "#metodo clear() se usa para eliminar todos los items de un diccionario.\n",
        "dict_ports = {22:\"SSH\", 23:\"telnet\", 80:\"Http\"}\n",
        "print(dict_ports)\n",
        "dict_ports.clear()\n",
        "print(dict_ports)"
      ],
      "execution_count": null,
      "outputs": [
        {
          "output_type": "stream",
          "text": [
            "{22: 'SSH', 23: 'telnet', 80: 'Http'}\n",
            "{}\n"
          ],
          "name": "stdout"
        }
      ]
    },
    {
      "cell_type": "code",
      "metadata": {
        "colab": {
          "base_uri": "https://localhost:8080/"
        },
        "id": "1MHGY-Paf36r",
        "outputId": "fa42420a-d5a0-4c8e-8639-351137ce5547"
      },
      "source": [
        "#El metodo copy() se usa para copiar un diccionario.\n",
        "portO = {80:\"HTTP\", 23:\"SMTP\", 443:\"HTTPS\"}\n",
        "copy_port = portO.copy()\n",
        "print(id(portO))\n",
        "print(id(copy_port))\n",
        "false_copy = portO; print(id(false_copy))\n",
        "print(portO)\n",
        "print(copy_port)\n",
        "print(false_copy)"
      ],
      "execution_count": null,
      "outputs": [
        {
          "output_type": "stream",
          "text": [
            "139836495043872\n",
            "139836495043792\n",
            "139836495043872\n",
            "{80: 'HTTP', 23: 'SMTP', 443: 'HTTPS'}\n",
            "{80: 'HTTP', 23: 'SMTP', 443: 'HTTPS'}\n",
            "{80: 'HTTP', 23: 'SMTP', 443: 'HTTPS'}\n"
          ],
          "name": "stdout"
        }
      ]
    },
    {
      "cell_type": "code",
      "metadata": {
        "id": "sz-X8DIsk8sT",
        "colab": {
          "base_uri": "https://localhost:8080/"
        },
        "outputId": "4e787c15-cd4d-4037-8e49-b1acff857505"
      },
      "source": [
        "#P1-Desarrollar un algoritmo que imprima de manera ascendente los\n",
        "#valores (todos del mismo tipo) de un diccionario.\n",
        "\n",
        "def ordenar(a): # ordena un arreglo\n",
        "  n=len(a)  #metodo de la burbuja\n",
        "  for i in range(n-1): # escojo un elemento a la vez y comparo contra los elementos restantes\n",
        "    for j in range(i+1,n): # hace ordenamiento en orden ascendente\n",
        "      if a[i] > a[j]: \n",
        "        tem=a[i]; a[i]=a[j]; a[j]=tem  #intercambiar elementos\n",
        "  return a\n",
        "\n",
        "dd = {1: 22, 3: 44,  7:77, 8: 33, 2: 11, 0: 0} #VE: dd\n",
        "dnue={} #VS:dnue\n",
        "lisValores=list(dd.values())\n",
        "print('valores en orden original',lisValores)\n",
        "listaOrden = ordenar(lisValores) #Ordena un arreglo o una lista\n",
        "for llave in listaOrden: #busqueda inversa (con el valor voy a buscar la llave)\n",
        "  for clave, valor in dd.items():\n",
        "    if valor == llave:\n",
        "      dnue[clave]=valor #agrega una entrada con <clave:valor>\n",
        "print('diccionario Ordenado:',dnue)"
      ],
      "execution_count": null,
      "outputs": [
        {
          "output_type": "stream",
          "text": [
            "valores en orden original [22, 44, 77, 33, 11, 0]\n",
            "diccionario Ordenado: {0: 0, 2: 11, 1: 22, 8: 33, 3: 44, 7: 77}\n"
          ],
          "name": "stdout"
        }
      ]
    },
    {
      "cell_type": "code",
      "metadata": {
        "id": "6_XXDMGJlACi",
        "colab": {
          "base_uri": "https://localhost:8080/"
        },
        "outputId": "f860fbd9-baca-4ea6-92b1-84442bbf2b74"
      },
      "source": [
        "#P2-Desarrollar un algoritmo que verifique si todas las parejas <clave:valor> de\n",
        "#un diccionario b se encuentran en otro diccionario a.\n",
        "#VE: a, b  son diccionarios\n",
        "#VS: bandera:bool\n",
        "da = {1: 22, 3: 44, 4: 33, 2: 11, 7: 77}\n",
        "db= { 3: 44, 4: 33, 2: 11, 1: 22}\n",
        "bandera:bool=True\n",
        "#bandera=da==db\n",
        "\n",
        "for llaveB in db: \n",
        "  if llaveB not in da:\n",
        "    bandera=False\n",
        "    break\n",
        "  elif da.get(llaveB) != db.get(llaveB):\n",
        "    bandera=False\n",
        "    break\n",
        "print(bandera)"
      ],
      "execution_count": null,
      "outputs": [
        {
          "output_type": "stream",
          "text": [
            "True\n"
          ],
          "name": "stdout"
        }
      ]
    },
    {
      "cell_type": "code",
      "metadata": {
        "id": "T4hgEy_UlF_K",
        "colab": {
          "base_uri": "https://localhost:8080/"
        },
        "outputId": "1b82e211-fe0e-46e3-ccc0-95c1fa1f837f"
      },
      "source": [
        "#P3-Desarrollar una funcion que reciba dos diccionarios como parametros\n",
        "#y los mezcle, es decir, que se construya un nuevo diccionario con las\n",
        "#items de los dos diccionarios; si hay una clave repetida en ambos\n",
        "#diccionarios, se debe asignar el valor que tenga la clave en el\n",
        "#primer diccionario.\n",
        "def mezclaDiccs(da,db):\n",
        "  d_nue = da\n",
        "  for llaveB in db:\n",
        "    if llaveB not in da:\n",
        "      valor=db.get(llaveB)\n",
        "      d_nue[llaveB] = valor #Agrego items al diccionario nuevo\n",
        "  return d_nue\n",
        "\n",
        "da = {1: 22, 3: 44, 4: 33, 2: 11, 7: 77}\n",
        "db= { 8:88, 3: 55, 9:99, 4: 33, 2: 11, 0: 0}\n",
        "dn=mezclaDiccs(da,db)\n",
        "print('dn:',dn)"
      ],
      "execution_count": null,
      "outputs": [
        {
          "output_type": "stream",
          "text": [
            "dn: {1: 22, 3: 44, 4: 33, 2: 11, 7: 77, 8: 88, 9: 99, 0: 0}\n"
          ],
          "name": "stdout"
        }
      ]
    },
    {
      "cell_type": "code",
      "metadata": {
        "id": "g1arSz9SlSrZ",
        "colab": {
          "base_uri": "https://localhost:8080/"
        },
        "outputId": "3aa25bfc-6e53-4ef8-94d7-02ab3b70404f"
      },
      "source": [
        "#P4-Desarrollar un programa para que dada una lista de personas, cada\n",
        "#persona representada en un diccionario como el siguiente ejemplo:\n",
        "#imprima los nombres y apellidos de las personas que estan en un rango de edades.\n",
        "lis=[{\"nombre\":\"Paco\", \"apellidos\":\"Merchan\",\"edad\":33}, \\\n",
        "{\"nombre\":\"Hugo\", \"apellidos\":\"Tristan\",\"edad\":44}, \\\n",
        "{\"nombre\":\"Juan\", \"apellidos\":\"Marin\",\"edad\":62}, \\\n",
        "{\"nombre\":\"Jose\", \"apellidos\":\"Cortes\",\"edad\":55}]\n",
        "#print(dd)\n",
        "tope1=40; tope2=60\n",
        "for dd in lis:\n",
        "  #print(type(dd))\n",
        "  valor=dd.get('edad')\n",
        "  if tope1<= valor <= tope2:\n",
        "    nomb=dd.get('nombre')\n",
        "    apel=dd.get('apellidos')\n",
        "    print(nomb, apel) "
      ],
      "execution_count": null,
      "outputs": [
        {
          "output_type": "stream",
          "text": [
            "Hugo Tristan\n",
            "Jose Cortes\n"
          ],
          "name": "stdout"
        }
      ]
    },
    {
      "cell_type": "code",
      "metadata": {
        "colab": {
          "base_uri": "https://localhost:8080/"
        },
        "id": "5wbou3qTphoh",
        "outputId": "dcc20c24-f8d7-4fb1-edc4-8eb386fa8b3d"
      },
      "source": [
        "#Con dos listas, crear un diccionario  \n",
        "name = [\"Mohit\", \"Bhaskar\", \"Manish\"]\n",
        "skill = [\"Python\", \"Python\", \"Java\"]\n",
        "dict1 = dict([(k,v) for k,v in zip(name, skill)]) #lista de tuplas convertido a dict()\n",
        "print(dict1)"
      ],
      "execution_count": null,
      "outputs": [
        {
          "output_type": "stream",
          "text": [
            "{'Mohit': 'Python', 'Bhaskar': 'Python', 'Manish': 'Java'}\n"
          ],
          "name": "stdout"
        }
      ]
    },
    {
      "cell_type": "code",
      "metadata": {
        "id": "ASlRvoyxIpgU"
      },
      "source": [
        ""
      ],
      "execution_count": null,
      "outputs": []
    },
    {
      "cell_type": "code",
      "metadata": {
        "colab": {
          "base_uri": "https://localhost:8080/"
        },
        "id": "ilLDEEhjuj8r",
        "outputId": "afe3e8e0-a94b-4820-9ad9-5e2391ebb174"
      },
      "source": [
        "from math import ceil\n",
        "a=3.1416\n",
        "b=ceil(a)\n",
        "print(b)"
      ],
      "execution_count": null,
      "outputs": [
        {
          "output_type": "stream",
          "text": [
            "4\n"
          ],
          "name": "stdout"
        }
      ]
    },
    {
      "cell_type": "code",
      "metadata": {
        "colab": {
          "base_uri": "https://localhost:8080/"
        },
        "id": "EAVWedecu6wa",
        "outputId": "04cfb900-8669-42bf-dc39-2de3d87fcf9e"
      },
      "source": [
        "#break, en caso de for anidados, interrumpe el ciclo del for mas interno\n",
        "\n",
        "A=[[1.,-3., 2.],[4.,11.,-1.],[9.0, 8.6,3.2]] #tamaño 3 x 3\n",
        "B=[[2.,3., 4.],[5,1.,1.],[7.4,6.3,2.3]]\n",
        "salir=False\n",
        "for i in range(len(A)): #coleccion 0,1,2\n",
        "  for j in range(len(A[0])): #coleccion 0, 1, 2\n",
        "    print(i, j)\n",
        "    if i==j:\n",
        "      salir=True\n",
        "      break\n",
        "  if salir:\n",
        "    break"
      ],
      "execution_count": null,
      "outputs": [
        {
          "output_type": "stream",
          "text": [
            "0 0\n"
          ],
          "name": "stdout"
        }
      ]
    },
    {
      "cell_type": "code",
      "metadata": {
        "colab": {
          "base_uri": "https://localhost:8080/",
          "height": 232
        },
        "id": "bDwDZc-aw0c9",
        "outputId": "3420f109-66ef-4718-ed8f-f846bfa744b7"
      },
      "source": [
        "#metodo replace(old, new, n) sobre cadenas\n",
        "ca='aldkfgsj rkdfbdsxscs'\n",
        "#n: reemplazar n ocurrencias de 's'\n",
        "cb=ca.replace('s', '#', 1)\n",
        "print(cb)\n",
        "a=ca[6];print(a)\n",
        "#ca[6]='#'"
      ],
      "execution_count": null,
      "outputs": [
        {
          "output_type": "stream",
          "text": [
            "aldkfg#j rkdfbdsxscs\n",
            "s\n"
          ],
          "name": "stdout"
        },
        {
          "output_type": "error",
          "ename": "TypeError",
          "evalue": "ignored",
          "traceback": [
            "\u001b[0;31m---------------------------------------------------------------------------\u001b[0m",
            "\u001b[0;31mTypeError\u001b[0m                                 Traceback (most recent call last)",
            "\u001b[0;32m<ipython-input-85-16a8fb28d6f6>\u001b[0m in \u001b[0;36m<module>\u001b[0;34m()\u001b[0m\n\u001b[1;32m      5\u001b[0m \u001b[0mprint\u001b[0m\u001b[0;34m(\u001b[0m\u001b[0mcb\u001b[0m\u001b[0;34m)\u001b[0m\u001b[0;34m\u001b[0m\u001b[0;34m\u001b[0m\u001b[0m\n\u001b[1;32m      6\u001b[0m \u001b[0ma\u001b[0m\u001b[0;34m=\u001b[0m\u001b[0mca\u001b[0m\u001b[0;34m[\u001b[0m\u001b[0;36m6\u001b[0m\u001b[0;34m]\u001b[0m\u001b[0;34m;\u001b[0m\u001b[0mprint\u001b[0m\u001b[0;34m(\u001b[0m\u001b[0ma\u001b[0m\u001b[0;34m)\u001b[0m\u001b[0;34m\u001b[0m\u001b[0;34m\u001b[0m\u001b[0m\n\u001b[0;32m----> 7\u001b[0;31m \u001b[0mca\u001b[0m\u001b[0;34m[\u001b[0m\u001b[0;36m6\u001b[0m\u001b[0;34m]\u001b[0m\u001b[0;34m=\u001b[0m\u001b[0;34m'#'\u001b[0m\u001b[0;34m\u001b[0m\u001b[0;34m\u001b[0m\u001b[0m\n\u001b[0m",
            "\u001b[0;31mTypeError\u001b[0m: 'str' object does not support item assignment"
          ]
        }
      ]
    }
  ]
}