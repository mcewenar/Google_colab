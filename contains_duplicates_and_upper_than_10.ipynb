{
  "nbformat": 4,
  "nbformat_minor": 0,
  "metadata": {
    "colab": {
      "provenance": [],
      "authorship_tag": "ABX9TyNUIdHh3ESKPfJIp9prqin1",
      "include_colab_link": true
    },
    "kernelspec": {
      "name": "python3",
      "display_name": "Python 3"
    },
    "language_info": {
      "name": "python"
    }
  },
  "cells": [
    {
      "cell_type": "markdown",
      "metadata": {
        "id": "view-in-github",
        "colab_type": "text"
      },
      "source": [
        "<a href=\"https://colab.research.google.com/github/mcewenar/Google_colab/blob/master/contains_duplicates_and_upper_than_10.ipynb\" target=\"_parent\"><img src=\"https://colab.research.google.com/assets/colab-badge.svg\" alt=\"Open In Colab\"/></a>"
      ]
    },
    {
      "cell_type": "code",
      "execution_count": null,
      "metadata": {
        "colab": {
          "base_uri": "https://localhost:8080/",
          "height": 87
        },
        "id": "O42kG26ZQcfE",
        "outputId": "879069aa-df22-43c0-dbbb-5e8ca0193afa"
      },
      "outputs": [
        {
          "output_type": "stream",
          "name": "stdout",
          "text": [
            "Está correcta\n"
          ]
        },
        {
          "output_type": "execute_result",
          "data": {
            "text/plain": [
              "'\\nJAVASCRIPT:\\n\\n\\n*/\\n\\nconst tags = [\"A\",\"B\",\"C\",\"D\", \"E\", \"F\", \"F\", \"G\", \"H\", \"J\",\"K\",\"L\", \"M\", \"N\"]\\n\\nfunction containsDuplicates(a) {\\n    for (let i = 0; i < a.length; i++) {\\n      console.log(a.lastIndexOf(a[i]) + \" and \" + a.indexOf(a[i]))\\n      if (a.indexOf(a[i]) !== a.lastIndexOf(a[i])) {\\n        return true\\n      }\\n    }\\n    return false\\n}\\n\\nfunction generateTags(tagsList) {\\n    if(containsDuplicates(tagsList) || tagsList.length < 10) {\\n        return \"No se permiten duplicados o lista inferior a 10\"\\n    }\\n    return \"Está correcta\"\\n}\\n\\nconsole.log(generateTags(tags));\\n\\n'"
            ],
            "application/vnd.google.colaboratory.intrinsic+json": {
              "type": "string"
            }
          },
          "metadata": {},
          "execution_count": 3
        }
      ],
      "source": [
        "#1. Crear una lista de N etiquetas para un blog. (Esto debe tener etiquetas únicas y el blog siempre debe tener al\n",
        "#menos 10 etiquetas)\n",
        "\n",
        "#Más eficiente:\n",
        "def contains_duplicates(lst):\n",
        "    return len(lst) != len(set(lst))\n",
        "\n",
        "def generate_tags(tags_list):\n",
        "    if contains_duplicates(tags_list) or len(tags_list) < 10:\n",
        "        return \"No se permiten duplicados o lista inferior a 10\"\n",
        "    return \"Está correcta\"\n",
        "\n",
        "tags = [\"A\", \"B\", \"C\", \"D\", \"E\", \"F\", \"F\", \"G\", \"H\", \"J\", \"K\", \"L\", \"M\", \"N\"]\n",
        "print(generate_tags(tags))\n",
        "\n",
        "\n",
        "\"\"\"\n",
        "JAVASCRIPT:\n",
        "\n",
        "\n",
        "*/\n",
        "\n",
        "const tags = [\"A\",\"B\",\"C\",\"D\", \"E\", \"F\", \"F\", \"G\", \"H\", \"J\",\"K\",\"L\", \"M\", \"N\"]\n",
        "\n",
        "function containsDuplicates(a) {\n",
        "    for (let i = 0; i < a.length; i++) {\n",
        "      console.log(a.lastIndexOf(a[i]) + \" and \" + a.indexOf(a[i]))\n",
        "      if (a.indexOf(a[i]) !== a.lastIndexOf(a[i])) {\n",
        "        return true\n",
        "      }\n",
        "    }\n",
        "    return false\n",
        "}\n",
        "\n",
        "function generateTags(tagsList) {\n",
        "    if(containsDuplicates(tagsList) || tagsList.length < 10) {\n",
        "        return \"No se permiten duplicados o lista inferior a 10\"\n",
        "    }\n",
        "    return \"Está correcta\"\n",
        "}\n",
        "\n",
        "console.log(generateTags(tags));\n",
        "\n",
        "\n",
        "\n",
        "\n",
        "//2.\n",
        "function generateTags2(a) {\n",
        "  const setFromArray = new Set(a)\n",
        "  if(setFromArray.size < 10) {\n",
        "    return \"No se permite lista inferior a 10. Ingresa otra lista que sí cumpla.\"\n",
        "  }\n",
        "  return \"Lista correcta\"\n",
        "}\n",
        "console.log(generateTags2(tags));\n",
        "\n",
        "\"\"\""
      ]
    }
  ]
}