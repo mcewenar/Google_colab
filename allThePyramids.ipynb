{
  "nbformat": 4,
  "nbformat_minor": 0,
  "metadata": {
    "colab": {
      "provenance": [],
      "authorship_tag": "ABX9TyPtOEPHuMJqMfuDImf9g2hv",
      "include_colab_link": true
    },
    "kernelspec": {
      "name": "python3",
      "display_name": "Python 3"
    },
    "language_info": {
      "name": "python"
    }
  },
  "cells": [
    {
      "cell_type": "markdown",
      "metadata": {
        "id": "view-in-github",
        "colab_type": "text"
      },
      "source": [
        "<a href=\"https://colab.research.google.com/github/mcewenar/Google_colab/blob/master/allThePyramids.ipynb\" target=\"_parent\"><img src=\"https://colab.research.google.com/assets/colab-badge.svg\" alt=\"Open In Colab\"/></a>"
      ]
    },
    {
      "cell_type": "code",
      "execution_count": 10,
      "metadata": {
        "colab": {
          "base_uri": "https://localhost:8080/"
        },
        "id": "_a-vv7i6Ltut",
        "outputId": "11c77422-41cb-466f-e271-dff3c9a25c18"
      },
      "outputs": [
        {
          "output_type": "stream",
          "name": "stdout",
          "text": [
            "\n",
            "Normal pyramid\n",
            "\n",
            "          \n",
            "    *     \n",
            "   * *    \n",
            "  * * *   \n",
            " * * * *  \n"
          ]
        }
      ],
      "source": [
        "#1. whole pyramid:\n",
        "print(\"\\nNormal pyramid\\n\")\n",
        "for i in range(5):\n",
        "  x='* '\n",
        "  x=x*i\n",
        "  print(f'{x: ^10}')\n",
        ""
      ]
    },
    {
      "cell_type": "code",
      "source": [
        "#Invert pyramid:\n",
        "print(\"\\nInvert pyramid\\n\")\n",
        "for i in range(5):\n",
        "  x='* '\n",
        "  x=x*(5-i)\n",
        "  print(f'{x: ^10}')"
      ],
      "metadata": {
        "colab": {
          "base_uri": "https://localhost:8080/"
        },
        "id": "G5AsGOF0Wp_e",
        "outputId": "0b79dfef-b7d4-4302-f2c4-4d16ab0c18d6"
      },
      "execution_count": 11,
      "outputs": [
        {
          "output_type": "stream",
          "name": "stdout",
          "text": [
            "\n",
            "Invert pyramid\n",
            "\n",
            "* * * * * \n",
            " * * * *  \n",
            "  * * *   \n",
            "   * *    \n",
            "    *     \n"
          ]
        }
      ]
    },
    {
      "cell_type": "code",
      "source": [
        "#Left sided pyramid\n",
        "print(\"\\nLeft sided pyramid\\n\")\n",
        "for i in range(5):\n",
        "  x='* '\n",
        "  x=x*i\n",
        "  print(f'{x: <10}')"
      ],
      "metadata": {
        "colab": {
          "base_uri": "https://localhost:8080/"
        },
        "id": "3w1In_3yXAAD",
        "outputId": "49b47625-27ed-4bfa-e676-094802965c74"
      },
      "execution_count": 12,
      "outputs": [
        {
          "output_type": "stream",
          "name": "stdout",
          "text": [
            "\n",
            "Left sided pyramid\n",
            "\n",
            "          \n",
            "*         \n",
            "* *       \n",
            "* * *     \n",
            "* * * *   \n"
          ]
        }
      ]
    },
    {
      "cell_type": "code",
      "source": [
        "#Right sided pyramid\n",
        "print(\"\\nRight pyramid\\n\")\n",
        "for i in range(5):\n",
        "  x='* '\n",
        "  x=x*i\n",
        "  print(f'{x: >10}')"
      ],
      "metadata": {
        "colab": {
          "base_uri": "https://localhost:8080/"
        },
        "id": "MygysmK2XYju",
        "outputId": "b981f768-6ece-4f5f-b14e-a8b0575e798a"
      },
      "execution_count": 13,
      "outputs": [
        {
          "output_type": "stream",
          "name": "stdout",
          "text": [
            "\n",
            "Right pyramid\n",
            "\n",
            "          \n",
            "        * \n",
            "      * * \n",
            "    * * * \n",
            "  * * * * \n"
          ]
        }
      ]
    }
  ]
}