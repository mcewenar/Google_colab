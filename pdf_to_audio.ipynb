{
  "nbformat": 4,
  "nbformat_minor": 0,
  "metadata": {
    "colab": {
      "provenance": [],
      "authorship_tag": "ABX9TyOjSG3Bq1FdEiMYT86MVCIo",
      "include_colab_link": true
    },
    "kernelspec": {
      "name": "python3",
      "display_name": "Python 3"
    },
    "language_info": {
      "name": "python"
    }
  },
  "cells": [
    {
      "cell_type": "markdown",
      "metadata": {
        "id": "view-in-github",
        "colab_type": "text"
      },
      "source": [
        "<a href=\"https://colab.research.google.com/github/mcewenar/Google_colab/blob/master/pdf_to_audio.ipynb\" target=\"_parent\"><img src=\"https://colab.research.google.com/assets/colab-badge.svg\" alt=\"Open In Colab\"/></a>"
      ]
    },
    {
      "cell_type": "code",
      "execution_count": null,
      "metadata": {
        "id": "jGx1aMqV2opC"
      },
      "outputs": [],
      "source": [
        "import PyPDF2, pyttsx3\n",
        "\n",
        "path = open('clcoding.pdf', 'rb')\n",
        "\n",
        "\n",
        "#Creating a PdfFileReader object\n",
        "pdfReader = PyPDF2.PdfFileReader(path)\n",
        "\n",
        "#Get an engine instance for the speech synthesis\n",
        "speak = pyttsx3.init()\n",
        "\n",
        "for pages in range(pdfReader.numPages):\n",
        "    page = pdfReader.getPage(pages)\n",
        "    text = page.extractText()\n",
        "    speak.say(text)\n",
        "    speak.runAndWait()\n",
        "\n",
        "speak.stop()\n",
        "path.close()"
      ]
    }
  ]
}