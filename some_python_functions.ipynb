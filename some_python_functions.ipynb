{
  "nbformat": 4,
  "nbformat_minor": 0,
  "metadata": {
    "colab": {
      "provenance": [],
      "authorship_tag": "ABX9TyORO3ms++sduQTbKy/cSeLs",
      "include_colab_link": true
    },
    "kernelspec": {
      "name": "python3",
      "display_name": "Python 3"
    },
    "language_info": {
      "name": "python"
    }
  },
  "cells": [
    {
      "cell_type": "markdown",
      "metadata": {
        "id": "view-in-github",
        "colab_type": "text"
      },
      "source": [
        "<a href=\"https://colab.research.google.com/github/mcewenar/Google_colab/blob/master/some_python_functions.ipynb\" target=\"_parent\"><img src=\"https://colab.research.google.com/assets/colab-badge.svg\" alt=\"Open In Colab\"/></a>"
      ]
    },
    {
      "cell_type": "code",
      "execution_count": null,
      "metadata": {
        "id": "b825eKx9FlCZ"
      },
      "outputs": [],
      "source": [
        "#Conditional return\n",
        "def check_even(x):\n",
        "  if x % 2 == 0:\n",
        "    return \"Even\"\n",
        "  else:\n",
        "    return \"Odd\"\n",
        "\n",
        "print(check_even(5))\n",
        "print(check_even(6))\n",
        "\n",
        "#With lambdas:\n",
        "#The (5) argument in this context is an example of immediately invoking a lambda function,\n",
        "#also known as an Immediately Invoked Function Expression (IIFE).\n",
        "result = (lambda x: \"Even\" if x % 2 == 0 else \"Odd\")(5)\n",
        "print(result)\n",
        "\n",
        "#IN JAVA:\n",
        "\"\"\"public class IIFEExample {\n",
        "    public static void main(String[] args) {\n",
        "        // IIFE-like anonymous inner class method\n",
        "        String result = new Object() {\n",
        "            String checkEvenOdd(int x) {\n",
        "                return (x % 2 == 0) ? \"Even\" : \"Odd\";\n",
        "            }\n",
        "        }.checkEvenOdd(5);\n",
        "\n",
        "        System.out.println(result); // Output: \"Odd\"\n",
        "    }\n",
        "\n",
        "}\n",
        "\n",
        "import java.util.function.Function;\n",
        "\n",
        "public class LambdaExample {\n",
        "    public static void main(String[] args) {\n",
        "        // Define a lambda function using the Function interface\n",
        "        Function<Integer, String> checkEvenOdd = x -> (x % 2 == 0) ? \"Even\" : \"Odd\";\n",
        "\n",
        "        // Immediately invoke the lambda function with argument 5\n",
        "        System.out.println(checkEvenOdd.apply(5));  // Output: \"Odd\"\n",
        "    }\n",
        "}\n",
        "\n",
        "\n",
        "\"\"\"\n"
      ]
    },
    {
      "cell_type": "code",
      "source": [
        "#Returning generators:\n",
        "\n",
        "def generator_example():\n",
        "  yield 1\n",
        "  yield 2\n",
        "  yield 3\n",
        "\n",
        "for value in generator_example():\n",
        "  print(value)"
      ],
      "metadata": {
        "colab": {
          "base_uri": "https://localhost:8080/"
        },
        "id": "Z-sMSnppHlZO",
        "outputId": "5ec55526-2c43-4860-aefc-295ac1e5776e"
      },
      "execution_count": 1,
      "outputs": [
        {
          "output_type": "stream",
          "name": "stdout",
          "text": [
            "1\n",
            "2\n",
            "3\n"
          ]
        }
      ]
    },
    {
      "cell_type": "code",
      "source": [
        "#returning multiple values\n",
        "def multiple_values():\n",
        "  return 1, 2, 3\n",
        "\n",
        "a, b, c = multiple_values()\n",
        "print(a, b, c)"
      ],
      "metadata": {
        "colab": {
          "base_uri": "https://localhost:8080/"
        },
        "id": "3WZkQ8XtH8P8",
        "outputId": "d1211f20-c157-47cf-d262-615914d46365"
      },
      "execution_count": 2,
      "outputs": [
        {
          "output_type": "stream",
          "name": "stdout",
          "text": [
            "1 2 3\n"
          ]
        }
      ]
    },
    {
      "cell_type": "code",
      "source": [
        "#Returning functions (Higher-order functions):\n",
        "def outer_function(x):\n",
        "  def inner_function():\n",
        "    return x * 2\n",
        "  return inner_function\n",
        "\n",
        "my_function = outer_function(5)\n",
        "print(my_function())\n",
        "\n",
        "def outer_function2():\n",
        "  def inner_function():\n",
        "    return \"Hello\"\n",
        "  return inner_function\n",
        "\n",
        "my_function2 = outer_function2()\n",
        "print(my_function2())"
      ],
      "metadata": {
        "colab": {
          "base_uri": "https://localhost:8080/"
        },
        "id": "X75CncqrIM_J",
        "outputId": "d3d7d2a5-e9a3-4ab8-8223-8e1bcaac0f2e"
      },
      "execution_count": 6,
      "outputs": [
        {
          "output_type": "stream",
          "name": "stdout",
          "text": [
            "10\n",
            "Hello\n"
          ]
        }
      ]
    }
  ]
}