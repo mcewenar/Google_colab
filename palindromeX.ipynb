{
  "nbformat": 4,
  "nbformat_minor": 0,
  "metadata": {
    "colab": {
      "name": "palindrome.ipynb",
      "provenance": [],
      "collapsed_sections": [],
      "authorship_tag": "ABX9TyPchwW20cB3v89/uUJ53IVK",
      "include_colab_link": true
    },
    "kernelspec": {
      "name": "python3",
      "display_name": "Python 3"
    },
    "language_info": {
      "name": "python"
    }
  },
  "cells": [
    {
      "cell_type": "markdown",
      "metadata": {
        "id": "view-in-github",
        "colab_type": "text"
      },
      "source": [
        "<a href=\"https://colab.research.google.com/github/mcewenar/Google_colab/blob/master/palindromeX.ipynb\" target=\"_parent\"><img src=\"https://colab.research.google.com/assets/colab-badge.svg\" alt=\"Open In Colab\"/></a>"
      ]
    },
    {
      "cell_type": "code",
      "metadata": {
        "colab": {
          "base_uri": "https://localhost:8080/"
        },
        "id": "keYyDqe1aV1n",
        "outputId": "91e2ceff-444d-4c6a-b0a8-f675a204132e"
      },
      "source": [
        "s = input(\"Enter a string: \")\n",
        "def palindrome(string):\n",
        "  durante=string.replace(\" \", \"\")\n",
        "  final = \"\".join(durante)\n",
        "  x = \"\"\n",
        "  for i in final:\n",
        "    x = i + x\n",
        "  return \"It's palindrome\" if final == x else \"It is not a palindrome\"\n",
        "\n",
        "print(palindrome(s))\n",
        " "
      ],
      "execution_count": 18,
      "outputs": [
        {
          "output_type": "stream",
          "name": "stdout",
          "text": [
            "Enter a string: dabale arroz a la zorra el abad\n",
            "It's palindrome\n"
          ]
        }
      ]
    }
  ]
}