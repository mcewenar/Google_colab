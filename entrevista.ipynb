{
  "nbformat": 4,
  "nbformat_minor": 0,
  "metadata": {
    "colab": {
      "name": "entrevista.ipynb",
      "provenance": [],
      "collapsed_sections": [],
      "authorship_tag": "ABX9TyN+Lz/jUKid2RbNAzlmpKqE",
      "include_colab_link": true
    },
    "kernelspec": {
      "name": "python3",
      "display_name": "Python 3"
    },
    "language_info": {
      "name": "python"
    }
  },
  "cells": [
    {
      "cell_type": "markdown",
      "metadata": {
        "id": "view-in-github",
        "colab_type": "text"
      },
      "source": [
        "<a href=\"https://colab.research.google.com/github/mcewenar/Google_colab/blob/master/entrevista.ipynb\" target=\"_parent\"><img src=\"https://colab.research.google.com/assets/colab-badge.svg\" alt=\"Open In Colab\"/></a>"
      ]
    },
    {
      "cell_type": "code",
      "metadata": {
        "colab": {
          "base_uri": "https://localhost:8080/"
        },
        "id": "De5MQbvVJa0x",
        "outputId": "92a614fb-777b-444a-c48a-eda15c50b174"
      },
      "source": [
        "def f1():\n",
        "  x = -1\n",
        "  print(\"Bbaby\")\n",
        "def f2(method,x):\n",
        "  if x < 0:\n",
        "    return method()\n",
        "  else:\n",
        "    x = x - 1\n",
        "    print(\"Ice\")\n",
        "    f2(method,x)\n",
        "def main():\n",
        "  f2(f1,2)\n",
        "x=3\n",
        "main()"
      ],
      "execution_count": 1,
      "outputs": [
        {
          "output_type": "stream",
          "name": "stdout",
          "text": [
            "Ice\n",
            "Ice\n",
            "Ice\n",
            "Bbaby\n"
          ]
        }
      ]
    }
  ]
}