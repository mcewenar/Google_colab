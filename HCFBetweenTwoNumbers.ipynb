{
  "nbformat": 4,
  "nbformat_minor": 0,
  "metadata": {
    "colab": {
      "provenance": [],
      "collapsed_sections": [],
      "authorship_tag": "ABX9TyOBCMR+Nm81Le0tAeCGpBMN",
      "include_colab_link": true
    },
    "kernelspec": {
      "name": "python3",
      "display_name": "Python 3"
    },
    "language_info": {
      "name": "python"
    }
  },
  "cells": [
    {
      "cell_type": "markdown",
      "metadata": {
        "id": "view-in-github",
        "colab_type": "text"
      },
      "source": [
        "<a href=\"https://colab.research.google.com/github/mcewenar/Google_colab/blob/master/HCFBetweenTwoNumbers.ipynb\" target=\"_parent\"><img src=\"https://colab.research.google.com/assets/colab-badge.svg\" alt=\"Open In Colab\"/></a>"
      ]
    },
    {
      "cell_type": "code",
      "execution_count": 1,
      "metadata": {
        "colab": {
          "base_uri": "https://localhost:8080/"
        },
        "id": "qvqz4j0VhMVn",
        "outputId": "393a0c73-71ae-4858-b1dc-5997b3d59c97"
      },
      "outputs": [
        {
          "output_type": "stream",
          "name": "stdout",
          "text": [
            "hcf = 6\n"
          ]
        }
      ],
      "source": [
        "# HCF or GCD of two numbers\n",
        "def hcf(num1 , num2):\n",
        "   if num1 > num2:\n",
        "       smaller = num2\n",
        "   else:\n",
        "       smaller = num1\n",
        "   for i in range(1 , smaller + 1):\n",
        "       if (num1 % i == 0) and (num2 % i == 0):\n",
        "           factor = i\n",
        "   return factor\n",
        "print(f'hcf = {hcf(54, 24 )}')"
      ]
    }
  ]
}