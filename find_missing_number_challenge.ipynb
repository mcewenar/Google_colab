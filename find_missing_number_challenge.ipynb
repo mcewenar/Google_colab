{
  "nbformat": 4,
  "nbformat_minor": 0,
  "metadata": {
    "colab": {
      "provenance": [],
      "authorship_tag": "ABX9TyMEs7N+2j82EZpSf0+qj6bv",
      "include_colab_link": true
    },
    "kernelspec": {
      "name": "python3",
      "display_name": "Python 3"
    },
    "language_info": {
      "name": "python"
    }
  },
  "cells": [
    {
      "cell_type": "markdown",
      "metadata": {
        "id": "view-in-github",
        "colab_type": "text"
      },
      "source": [
        "<a href=\"https://colab.research.google.com/github/mcewenar/Google_colab/blob/master/find_missing_number_challenge.ipynb\" target=\"_parent\"><img src=\"https://colab.research.google.com/assets/colab-badge.svg\" alt=\"Open In Colab\"/></a>"
      ]
    },
    {
      "cell_type": "code",
      "execution_count": null,
      "metadata": {
        "colab": {
          "base_uri": "https://localhost:8080/"
        },
        "id": "BkrOR7fdXkfn",
        "outputId": "e4e4cf98-6878-4dc4-c71e-54118f16367e"
      },
      "outputs": [
        {
          "output_type": "stream",
          "name": "stdout",
          "text": [
            "-1\n"
          ]
        }
      ],
      "source": [
        "#Program to find the numb missing into array.\n",
        "\n",
        "\n",
        "#Overall time complexity O(n) adding both functions O(n) + O(n) = O(n):\n",
        "n = 14\n",
        "array = [8,7,5,6,9,2,1,3,4,10,12,13,0,14]\n",
        "#Missed 14\n",
        "\n",
        "def validator():\n",
        "  if n == len(array):\n",
        "    return True\n",
        "  return False\n",
        "\n",
        "#O(n)\n",
        "def sum_array(array)-> int:\n",
        "  count = 0;\n",
        "  for i in array:\n",
        "    count += i\n",
        "  return count\n",
        "\n",
        "#O(n)\n",
        "def sum_n(n)-> int:\n",
        "  if n == 0:\n",
        "    return 0\n",
        "  return n + sum(n-1)\n",
        "\n",
        "  #Optimization O(1):\n",
        "  #def sum_n(n):\n",
        "  #  return n * (n + 1) // 2\n",
        "\n",
        "#O(1)\n",
        "def find_missing_num()-> int:\n",
        "  if not validator():\n",
        "    return -1\n",
        "\n",
        "  array_total = sum_array(array)\n",
        "  n_total = sum_n(n)\n",
        "  if n_total == array_total:\n",
        "    return 0\n",
        "  return n_total - array_total\n",
        "\n",
        "print(find_missing_num())\n",
        "\n",
        "\n",
        "\n"
      ]
    },
    {
      "cell_type": "code",
      "source": [
        "#Way less efficient O(n^2):\n",
        "n = 14\n",
        "array = [8,7,5,6,9,2,1,4,10,11,13,14,3,0]\n",
        "#Missed 14\n",
        "\n",
        "def validator():\n",
        "  if n == len(array):\n",
        "    return True\n",
        "  return False\n",
        "\n",
        "#O(n^2)\n",
        "def find_missing_num(array, n)-> int:\n",
        "  if not validator():\n",
        "    return -1\n",
        "\n",
        "  list_generate = list(range(n+1))\n",
        "  for i in list_generate:\n",
        "    found = False\n",
        "    for j in array:\n",
        "      if i == j:\n",
        "        found = True\n",
        "        break\n",
        "    if not found:\n",
        "      return i\n",
        "  return -1\n",
        "\n",
        "  #Too abstraction:\n",
        "    #if i not in array:\n",
        "    #  return i\n",
        "    #return 0\n",
        "\n",
        "print(find_missing_num(array, n))\n",
        "\n"
      ],
      "metadata": {
        "colab": {
          "base_uri": "https://localhost:8080/"
        },
        "id": "zsAnZp1QnRBH",
        "outputId": "f421d015-c4d3-477d-81f4-540dd387cbbe"
      },
      "execution_count": null,
      "outputs": [
        {
          "output_type": "stream",
          "name": "stdout",
          "text": [
            "12\n"
          ]
        }
      ]
    }
  ]
}