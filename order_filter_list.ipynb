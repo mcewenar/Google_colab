{
  "nbformat": 4,
  "nbformat_minor": 0,
  "metadata": {
    "colab": {
      "provenance": [],
      "authorship_tag": "ABX9TyM6K1gC5PkiUi44shvtPa1R",
      "include_colab_link": true
    },
    "kernelspec": {
      "name": "python3",
      "display_name": "Python 3"
    },
    "language_info": {
      "name": "python"
    }
  },
  "cells": [
    {
      "cell_type": "markdown",
      "metadata": {
        "id": "view-in-github",
        "colab_type": "text"
      },
      "source": [
        "<a href=\"https://colab.research.google.com/github/mcewenar/Google_colab/blob/master/order_filter_list.ipynb\" target=\"_parent\"><img src=\"https://colab.research.google.com/assets/colab-badge.svg\" alt=\"Open In Colab\"/></a>"
      ]
    },
    {
      "cell_type": "code",
      "execution_count": null,
      "metadata": {
        "colab": {
          "base_uri": "https://localhost:8080/"
        },
        "id": "E9EfSeGyRurw",
        "outputId": "f11fffb5-975c-4a1f-dc7c-7b2ac9ea0afd"
      },
      "outputs": [
        {
          "output_type": "stream",
          "name": "stdout",
          "text": [
            "1. Agregar | 2. Ordenar | 3. Filtrar | 4. Salir\n",
            "Elige: 1\n",
            "a\n",
            "Elige: bf\n",
            "Por favor, ingresa un número válido.\n",
            "Elige: 1\n",
            "g\n",
            "Elige: 1\n",
            "t\n",
            "Elige: 3\n",
            "Letra: l\n",
            "[]\n",
            "No hay elementos que comiencen con esa letra.\n"
          ]
        }
      ],
      "source": [
        "import sys\n",
        "\n",
        "def main():\n",
        "    lista = []\n",
        "\n",
        "    print(\"1. Agregar | 2. Ordenar | 3. Filtrar | 4. Salir\")\n",
        "\n",
        "    while True:\n",
        "        try:\n",
        "            op = int(input(\"Elige: \"))\n",
        "        except ValueError:\n",
        "            print(\"Por favor, ingresa un número válido.\")\n",
        "            continue\n",
        "\n",
        "        if op == 4:\n",
        "            break\n",
        "\n",
        "        if op == 1:\n",
        "            item = input()\n",
        "            lista.append(item)\n",
        "\n",
        "        elif op == 2:\n",
        "            lista.sort()\n",
        "            for item in lista:\n",
        "                print(item)\n",
        "\n",
        "        elif op == 3:\n",
        "            letra = input(\"Letra: \")\n",
        "            filtrados = [item for item in lista if item.startswith(letra)]\n",
        "            if not filtrados:\n",
        "                print(\"No hay elementos que comiencen con esa letra.\")\n",
        "                continue\n",
        "            for item in filtrados:\n",
        "                print(item)\n",
        "\n",
        "        else:\n",
        "            print(\"Opción no válida.\")\n",
        "\n",
        "if __name__ == \"__main__\":\n",
        "    main()\n"
      ]
    }
  ]
}