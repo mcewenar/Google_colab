{
  "nbformat": 4,
  "nbformat_minor": 0,
  "metadata": {
    "colab": {
      "name": "EjerciciosSemana4.ipynb",
      "private_outputs": true,
      "provenance": [],
      "collapsed_sections": [],
      "include_colab_link": true
    },
    "kernelspec": {
      "name": "python3",
      "display_name": "Python 3"
    },
    "language_info": {
      "name": "python"
    }
  },
  "cells": [
    {
      "cell_type": "markdown",
      "metadata": {
        "id": "view-in-github",
        "colab_type": "text"
      },
      "source": [
        "<a href=\"https://colab.research.google.com/github/mcewenar/Google_colab/blob/master/EjerciciosSemana4.ipynb\" target=\"_parent\"><img src=\"https://colab.research.google.com/assets/colab-badge.svg\" alt=\"Open In Colab\"/></a>"
      ]
    },
    {
      "cell_type": "code",
      "metadata": {
        "id": "kOMzW0QXYYff"
      },
      "source": [
        "#un arreglo o vector es una lista de n elementos del mismo tipo, separados por , entre []\n",
        "[]#: Arreglo vacio\n",
        "a=[1, 0, 7, -2, 8]\n",
        "b=[1.3, 2.4, -3.0, 4.5]\n",
        "#print(b)\n",
        "i=2\n",
        "#print(b[i])\n",
        "for i in (1, 2, 3, 4):\n",
        "  print('i:' , i)\n",
        "  for j  in (1, 2 , 3, 4):\n",
        "    if j==3:\n",
        "      break #se sale solo del for mas interno\n",
        "    else:\n",
        "      r=i+j\n",
        "    print(' j:',j, end=' ')\n",
        "  print()\n",
        "  from math import ceil\n",
        "  dato=3.1\n",
        "  print('techo: ', dato,'->',ceil(dato))"
      ],
      "execution_count": null,
      "outputs": []
    },
    {
      "cell_type": "code",
      "metadata": {
        "id": "OXpwXaV3GKYg"
      },
      "source": [
        "#Lectura de un arreglo\n",
        "#Lee desde teclado un arreglo de enteros (usando int), separados por espacios.\n",
        "def leer_arreglo_enteros():\n",
        "  mi_arreglo=[int(x) for x in input(\"Su Arreglo de enteros:\").split()]\n",
        "  return  mi_arreglo #delimitador de un split() es espacio por defecto\n",
        "#print(leer_arreglo_enteros())\n",
        "#Lee un arreglo de reales (usando float), separados por espacios.\n",
        "def leer_arreglo_reales():\n",
        "  return [float(x) for x in input(\"Su Arreglo de flotantes:\").split()]\n",
        "#print(leer_arreglo_reales())\n",
        "mi_lista=[x for x in input(\"Su lista:\").split(' ')]\n",
        "print(mi_lista)"
      ],
      "execution_count": null,
      "outputs": []
    },
    {
      "cell_type": "code",
      "metadata": {
        "id": "wNrpWStcIheg"
      },
      "source": [
        "#Suma de los componentes de un arreglo, debi iterar sobre el arreglo\n",
        "def suma_arreglo(A):\n",
        "  #VE: A ; VS: s E enteros\n",
        "  s = 0\n",
        "  for x in A: #A es una coleccion: 1, -3, 4, 11, 6, 7, 5\n",
        "    s += x\n",
        "  return s\n",
        "b=suma_arreglo([1,-3, 4, 11, 6, 7, 5])\n",
        "print(b)"
      ],
      "execution_count": null,
      "outputs": []
    },
    {
      "cell_type": "code",
      "metadata": {
        "id": "Uq6oNfq-MLMd"
      },
      "source": [
        "#Hallar la posicion del nro max de un arreglo\n",
        "def pos_maximo(A):\n",
        "  m = 0 #m Apunta al primer componente A[0]\n",
        "  n=len(A)\n",
        "  print(n)\n",
        "  for i in range(1, n): #genero la coleccion 1, 2, 3, 4,   Serviran como subindices\n",
        "    if A[i] > A[m]: #Comparo un elemento contra los restantes del arreglo\n",
        "      m = i     #m = 0, 2, 3, \n",
        "  print(i)\n",
        "  return m\n",
        "print('la posic del nro mayor: ',pos_maximo([1, -3, 4, 11, 6])) # max() (nro 11) esta en la posicion 3 "
      ],
      "execution_count": null,
      "outputs": []
    },
    {
      "cell_type": "code",
      "metadata": {
        "id": "YvRr3JoPM_-l"
      },
      "source": [
        "#Cuadrados de elementos de una matriz, observe como recorro una matriz\n",
        "def cuadrados_matriz(X): #VE: X tamaño  2 x 3\n",
        "  Y = [] #VS: Y   tamaño 2 x 3\n",
        "  nf=len(X) #nf = 2, len() retorna cuantos sub-arreglos fila tiene la matriz\n",
        "  #print('nf: ',nf)\n",
        "  nc = len(X[0]) #nc = 3\n",
        "  for i in range(nf): # for externo (for anidados)  coleccion = 0, 1  for i visito la fila 0 y fila1\n",
        "    fila = []\n",
        "    #print(X[i]) #Imprime fila[0], luego fila [1]\n",
        "    #print('nc: ',nc)\n",
        "    for j in range(nc):  # for interno (for anidados)  i=0; coleccion = 0, 1, 2, i=1\n",
        "      fila.append(X[i][j]**2) #agrega nuevos componentes a la fila\n",
        "    Y.append(fila)  #Agrega nuevas filas a Y, que es la matriz de salida Y=[[fila],  [fila]]\n",
        "  return Y\n",
        "A = [ [1,-3, 2] , [4, 11,-1] ] #Una matriz es un arreglo de arreglos\n",
        "nf = len(A) #2\n",
        "nc = len(A[1]) #3\n",
        "print(nf,' x ', nc)\n",
        "print('A:', A)\n",
        "B=cuadrados_matriz(A)\n",
        "print('B:',B)  "
      ],
      "execution_count": null,
      "outputs": []
    },
    {
      "cell_type": "code",
      "metadata": {
        "id": "xzkhJp04NO3c"
      },
      "source": [
        "#VE: X  tamaño 3 x 3    VS: Y tamaño 1 x 3\n",
        "#diagonal de una matriz cuadrada          X:          1  2  3       1: f=0, c=0\n",
        "def diagonal_matriz(X):#                              4  5  6       5: f=1, c=1\n",
        "  y = []   #                                          7  8  9       9: f=2,  c=2   Y=[1, 5, 9]\n",
        "  nf=len(X) #2\n",
        "  nc=len(X[0])#3\n",
        "  precondicion= nf == nc\n",
        "  #las precondiciones son las condiciones que deben cumplir las var's de entrada\n",
        "  if not precondicion:\n",
        "    print('matriz no es cuadrada:')\n",
        "  else: # la matriz si es cuadrada\n",
        "    for i in range(nf): #coleccion = 0, 1          1  -3\n",
        "      y.append(X[i][i])   #y=[1, 11]               4  11\n",
        "  return y\n",
        "print(diagonal_matriz([[1,-3],[4, 11]]))"
      ],
      "execution_count": null,
      "outputs": []
    },
    {
      "cell_type": "code",
      "metadata": {
        "id": "uPm7rDSmLsaL"
      },
      "source": [
        "#simetria de una matriz, define matriz triangular sup y matriz triangular inf\n",
        "def matriz_simetrica(M):   # para matriz cuadrada\n",
        "  bandera = True  #VS: bandera:bool     # r A B C    diag ppal= [r, s, t, u]\n",
        "  nf=len(M) ; nc=len(M[0])#len()=2      # A s D E\n",
        "  n=0                                   # B D t F\n",
        "  for i in range(0,nf-1): #  for ext    # C E F u   coleccion:0,1,2,      i=0,      1,     2\n",
        "    for j in range(i+1, nc): # for int (for anidados)   coleccion: 1,2,3  j=1,2,3; j=2,3, j =3\n",
        "      print('i:', i,'\\tj:', j, '\\tX:', M[i][j])\n",
        "      n+=1 # contador\n",
        "      bandera = bandera and M[i][j] == M[j][i] #compara un elemento de la MTS, contra otro ele de la MTI\n",
        "  print('n:',n)\n",
        "  return bandera\n",
        "#print(matriz_simetrica([[1,-3],[-3,11]]))\n",
        "print(matriz_simetrica([['r','A','B','c'],['A','s','D','E'],['B','D','t','F'],['c','E','F','u']]))"
      ],
      "execution_count": null,
      "outputs": []
    },
    {
      "cell_type": "code",
      "metadata": {
        "id": "cYbWKA4tahni"
      },
      "source": [
        "#Problema1:Programa para calcular el promedio de un arreglo de numeros reales.\n",
        "def promedio(v):\n",
        "#VE: v tamaño 1 x m \n",
        "#VS: prom E enteros, escalar\n",
        "  nn=len(v)\n",
        "  print (nn)\n",
        "  s=0;n=0\n",
        "  for i in range(nn): #coleccion: 0, 1, 2, 3, 4\n",
        "    s+= v[i]\n",
        "    n+=1\n",
        "  prom=s/n\n",
        "  return prom\n",
        "Y=[1.6,-3.5,4.2,2.8,2.3]\n",
        "print(promedio(Y))"
      ],
      "execution_count": null,
      "outputs": []
    },
    {
      "cell_type": "code",
      "metadata": {
        "id": "2ZRl3RozcgPk"
      },
      "source": [
        "#Problema2: calcular el producto punto de dos arreglos\n",
        "#de numeros enteros o reales de igual tama~no. \n",
        "#RB: Sean v = [v0, v1, ... , vn-1] y w = [w0,w1, ... ,wn-1] dos arreglos, el\n",
        "#producto de v con w (notado v . w) es un numero escalar=\n",
        "#v0 * w0 + v1 * w1 + ... + vn-1 * wn-1.\n",
        "def prodPunto(v, w):\n",
        "#VE: v, w\n",
        "#VS: s, es un escalar =suma(v[i] *w[i]), para i =0, ....len(v)-1\n",
        "  na=len(v); nb=len(w)\n",
        "  if na == nb:\n",
        "    s=0\n",
        "    for i in range(na): #colecc: 0, 1, 2, ..na-1\n",
        "      ter = v[i] * w[i]\n",
        "      s+=ter\n",
        "  else:\n",
        "    print('error: los arreglos deben ser compatibles para el producto')\n",
        "  return s\n",
        "Y=[1.6,-3.5,4.2,2.8,2.3]\n",
        "W=[3.5, 5.4, 7.3, 2.8, 4.1]\n",
        "Z= prodPunto(Y, W)\n",
        "print(Z)\n"
      ],
      "execution_count": null,
      "outputs": []
    },
    {
      "cell_type": "code",
      "metadata": {
        "id": "8D6i5GFxei_D"
      },
      "source": [
        "#P3-Desarrollar un algoritmo que calcule el producto directo de dos\n",
        "#arreglos de numeros reales de igual tamano. RB: Sean\n",
        "#v = [v0, v1, ... , vn-1] y w = [w0, w1, ... ,wn-1] dos arreglos, el\n",
        "#producto directo de v con w (notado v * w) es el vector:\n",
        "#[v0 * w0,  v1 * w1, ... , vn-1 * wn-1].\n",
        "\n",
        "def prodVecto(a, b):\n",
        "  na=len(a); nb=len(b)\n",
        "  y = [] #VS: y, es un arreglo\n",
        "  if na == nb:\n",
        "    for i in range(na): #colecc =0, 1, 2, ...na-1\n",
        "      y.append(a[i] * b[i])\n",
        "  else:\n",
        "    print('error: los arreglos deben ser compatibles para el producto')\n",
        "  return y\n",
        "v=[1.,-3., 4., 2., 3.]\n",
        "w=[.5, 5., 7., 2., 4]\n",
        "z= prodVecto(v, w)\n",
        "print(z)"
      ],
      "execution_count": null,
      "outputs": []
    },
    {
      "cell_type": "code",
      "metadata": {
        "id": "LTkUh-yIhBx_"
      },
      "source": [
        "#P4 halle la mediana de un arreglo\n",
        "#RB: La mediana es el numero que queda en la mitad del arreglo\n",
        "#despues de ser ordenado (orden ascendente)\n",
        "def ordenar(a): # ordena un arreglo\n",
        "  n=len(a)  #metodo de la burbuja\n",
        "  for i in range(n-1): # escojo un elemento a la vez y comparo contra los elementos restantes\n",
        "    for j in range(i+1,n): # hace ordenamiento en orden ascendente\n",
        "      if a[i] < a[j]: \n",
        "        tem=a[i] ;a[i]=a[j];a[j]=tem  #intercambiar elementos\n",
        "  return a\n",
        "\n",
        "def mediana(v):\n",
        "  a = ordenar(v)  # sort()\n",
        "  print(a)\n",
        "  mitad = len(a)//2  #n2 es la posicion de la mitad del arreglo, elativo, depende de si len(a) es par o impar\n",
        "  print('pos:', mitad)\n",
        "  return a[mitad]\n",
        "y =[6.,-3., 4., 5., 3., 2.]  #el 6 es  a[i] lo comparo contra los restantes a[j], j=i+1..n\n",
        "me = mediana(y)\n",
        "print('mediana: ',me)"
      ],
      "execution_count": null,
      "outputs": []
    },
    {
      "cell_type": "code",
      "metadata": {
        "id": "QPUBP8O3kYhA"
      },
      "source": [
        "#P5-colocar los ceros de un arreglo al final del mismo\n",
        "#VE: a: arreglo, llave\n",
        "#llave define el simbolo a mover al final\n",
        "#VS:a, arreglo luego de mover los ceros al final\n",
        "def mueve0alFinaL(a, llave):\n",
        "  nn=len(a) #9\n",
        "  n=nn-1\n",
        "  for i in range(n): #for ext, colecc: 0, 1, 2, ... nn-1\n",
        "    if a[i] == llave: #A[i] visita un elemento de vector, detecta un cero en pos i\n",
        "      for j in range(i, n): # for int, para j desde i hasta nn-1\n",
        "        a[j] = a[j+1] #desplaza los restantes elementos del vector hacia la izq,\n",
        "      a[n]=llave\n",
        "  return a\n",
        "\n",
        "a=[0,1, 6, 4, 7,  8, 0, 5, 1]\n",
        "llave =0\n",
        "print(mueve0alFinaL(a, llave)) #tarea hacer la traza del programa"
      ],
      "execution_count": null,
      "outputs": []
    }
  ]
}