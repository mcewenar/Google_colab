{
  "nbformat": 4,
  "nbformat_minor": 0,
  "metadata": {
    "colab": {
      "provenance": [],
      "authorship_tag": "ABX9TyNX0cCr0mYChSxyV1apgKlQ",
      "include_colab_link": true
    },
    "kernelspec": {
      "name": "python3",
      "display_name": "Python 3"
    },
    "language_info": {
      "name": "python"
    }
  },
  "cells": [
    {
      "cell_type": "markdown",
      "metadata": {
        "id": "view-in-github",
        "colab_type": "text"
      },
      "source": [
        "<a href=\"https://colab.research.google.com/github/mcewenar/Google_colab/blob/master/basic_pipelines_monads.ipynb\" target=\"_parent\"><img src=\"https://colab.research.google.com/assets/colab-badge.svg\" alt=\"Open In Colab\"/></a>"
      ]
    },
    {
      "cell_type": "code",
      "execution_count": 3,
      "metadata": {
        "colab": {
          "base_uri": "https://localhost:8080/"
        },
        "id": "nGq62g4fHM0M",
        "outputId": "a99915f2-cade-4500-cbb0-0cb350d28286"
      },
      "outputs": [
        {
          "output_type": "stream",
          "name": "stdout",
          "text": [
            "12.0\n"
          ]
        }
      ],
      "source": [
        "#Basic math operations pipelines:\n",
        "def add(x,y):\n",
        "    return x+y\n",
        "def subtract(x,y):\n",
        "    return x-y\n",
        "def multiply(x,y):\n",
        "    return x*y\n",
        "def divide(x,y):\n",
        "    return x/y\n",
        "\n",
        "def pipe(value, *functions):\n",
        "    for func, arg in functions:\n",
        "        value = func(value, arg)\n",
        "    return value\n",
        "\n",
        "#Example:\n",
        "result = pipe(5, (add, 3), (subtract, 2), (multiply, 4), (divide, 2))\n",
        "print(result)"
      ]
    },
    {
      "cell_type": "code",
      "source": [
        "#String manipulation pipeline\n",
        "\n",
        "def append_text(text, suffix):\n",
        "  return text + suffix\n",
        "\n",
        "def replace_character(text, old, new):\n",
        "  return text.replace(old, new)\n",
        "\n",
        "def pipe(value, *functions):\n",
        "  for func, *arg in functions:\n",
        "    value = func(value, *arg)\n",
        "  return value\n",
        "\n",
        "#Example:\n",
        "result = pipe(\"hello\", (append_text,\" world\"), (replace_character, \"world\", \"Python\"))\n",
        "print(result)"
      ],
      "metadata": {
        "colab": {
          "base_uri": "https://localhost:8080/"
        },
        "id": "iazrwubCHRol",
        "outputId": "e66091e6-0bbf-4f69-b41d-b9b47a7538a6"
      },
      "execution_count": 6,
      "outputs": [
        {
          "output_type": "stream",
          "name": "stdout",
          "text": [
            "hello Python\n"
          ]
        }
      ]
    },
    {
      "cell_type": "code",
      "source": [
        "#List transformation pipeline\n",
        "def append_element(lst, element):\n",
        "  lst.append(element)\n",
        "  return lst\n",
        "\n",
        "def remove_element(lst, index):\n",
        "  del lst[index]\n",
        "  return lst\n",
        "\n",
        "def reverse_list(lst):\n",
        "  return lst[::-1]\n",
        "\n",
        "def multiply_elements(lst, factor):\n",
        "  return [x * factor for x in lst]\n",
        "\n",
        "def pipe(value, *functions):\n",
        "  for func, *args in functions:\n",
        "    if args: #If args is not empty\n",
        "      value = func(value, *args)\n",
        "    else: #if no additional arguments are needed\n",
        "      value = func(value)\n",
        "  return value\n",
        "\n",
        "#Example:\n",
        "result = pipe([1, 2, 3], (append_element, 4), (remove_element, 1), (reverse_list,), (multiply_elements, 2))\n",
        "print(result)\n"
      ],
      "metadata": {
        "colab": {
          "base_uri": "https://localhost:8080/"
        },
        "id": "rH_siGngK17a",
        "outputId": "74839648-1984-4dda-c2d1-0dae202f4c1b"
      },
      "execution_count": 10,
      "outputs": [
        {
          "output_type": "stream",
          "name": "stdout",
          "text": [
            "[8, 6, 2]\n"
          ]
        }
      ]
    },
    {
      "cell_type": "code",
      "source": [
        "#Dictionary Manipulation Pipeline:\n",
        "\n",
        "def add_key(d, key_value):\n",
        "  key, value = key_value\n",
        "  d[key] = value\n",
        "  return d\n",
        "\n",
        "def increment_values(d, inc):\n",
        "  return {k: v + inc for k, v in d.items()}\n",
        "\n",
        "def filter_by_value(d, threshold):\n",
        "  return {k: v for k, v in d.items() if v > threshold}\n",
        "\n",
        "def pipe(value, *functions):\n",
        "  for func, arg in functions:\n",
        "    value = func(value, arg)\n",
        "  return value\n",
        "\n",
        "#Example:\n",
        "result = pipe({\"a\": 1, \"b\": 2, \"c\": 3}, (add_key, (\"d\", 4)), (increment_values, 1), (filter_by_value, 2))\n",
        "print(result)\n"
      ],
      "metadata": {
        "colab": {
          "base_uri": "https://localhost:8080/"
        },
        "id": "asRA3rrsNLBI",
        "outputId": "7dcf4371-09b7-4e95-9fe1-589bae684a09"
      },
      "execution_count": 12,
      "outputs": [
        {
          "output_type": "stream",
          "name": "stdout",
          "text": [
            "{'b': 3, 'c': 4, 'd': 5}\n"
          ]
        }
      ]
    }
  ]
}