{
  "nbformat": 4,
  "nbformat_minor": 0,
  "metadata": {
    "colab": {
      "name": "MandadosTienda.ipynb",
      "provenance": [],
      "collapsed_sections": [],
      "authorship_tag": "ABX9TyOa2uLJRLr2DXQpzd1pO0cC",
      "include_colab_link": true
    },
    "kernelspec": {
      "name": "python3",
      "display_name": "Python 3"
    },
    "language_info": {
      "name": "python"
    }
  },
  "cells": [
    {
      "cell_type": "markdown",
      "metadata": {
        "id": "view-in-github",
        "colab_type": "text"
      },
      "source": [
        "<a href=\"https://colab.research.google.com/github/mcewenar/Google_colab/blob/master/MandadosTienda.ipynb\" target=\"_parent\"><img src=\"https://colab.research.google.com/assets/colab-badge.svg\" alt=\"Open In Colab\"/></a>"
      ]
    },
    {
      "cell_type": "code",
      "metadata": {
        "id": "SXfh55UFYMoS"
      },
      "source": [
        "#Mi mamá me manda a comprar, por una aplicación, P panes a $ 300 cada uno, M bolsas\n",
        "#de leche a $ 3300 cada una y H huevos a $ 350 cada uno. Hacer un\n",
        "#programa que me diga las vueltas (o lo que quedo debiendo).\n",
        "\n",
        "def tienda(dinero: int):\n",
        "    pedido=0\n",
        "    lista=[]\n",
        "    lista2=[]\n",
        "    productos = {\"panes\":300, \"bolsas de leche\":3300, \"huevos\":350, \"Butifarras\":400}\n",
        "    for i in range(len(productos)):\n",
        "        while True:\n",
        "            try:\n",
        "                articulo = int(input(\"Elige la cantidad de \"+ str(list(productos.keys())[i])+\": \")) #Convierte en lista y la indexa\n",
        "                break\n",
        "            except ValueError:\n",
        "                print(\"Dato erróneo\")\n",
        "        if articulo != 0:\n",
        "            pedido += productos.get(list(productos.keys())[i])*articulo\n",
        "            lista.append(productos.get(list(productos.keys())[i])*articulo)\n",
        "            lista2.append(list(productos.keys())[i])\n",
        "    lista.append(lista2)\n",
        "    lista.append(dinero - pedido)\n",
        "    return lista\n",
        "\n",
        "while True:\n",
        "    while True:\n",
        "        try:\n",
        "            dinero = int(input(\"Ingresa dinero disponible: \"))\n",
        "            break\n",
        "        except ValueError:\n",
        "            print(\"Dato erróneo\")\n",
        "    if dinero <=0:\n",
        "        print(\"Ingreso erróneo\")\n",
        "        dinero = int(input(\"Ingresa dinero disponible: \"))\n",
        "    else:\n",
        "        saldo=tienda(dinero)\n",
        "        if saldo[len(saldo)-1] < 0:\n",
        "            print(\"Fondos insuficientes. Inténtalo de nuevo.\")\n",
        "        else:\n",
        "            for i in range(len(saldo)-2):\n",
        "                print(\"Usted compró\",str(saldo[i])+\" pesos en\",end=\" \")\n",
        "                print(saldo[len(saldo)-2][i])\n",
        "            print(\"Saldo restante:\",str(saldo[len(saldo)-1])+\" pesos\")\n",
        "            print(\"\\n¡Vuelva pronto!\\n\")"
      ],
      "execution_count": null,
      "outputs": []
    }
  ]
}