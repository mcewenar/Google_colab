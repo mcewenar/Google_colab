{
  "nbformat": 4,
  "nbformat_minor": 0,
  "metadata": {
    "colab": {
      "provenance": [],
      "authorship_tag": "ABX9TyMM/8ONCsDGoP3hVGDtUZyf",
      "include_colab_link": true
    },
    "kernelspec": {
      "name": "python3",
      "display_name": "Python 3"
    },
    "language_info": {
      "name": "python"
    }
  },
  "cells": [
    {
      "cell_type": "markdown",
      "metadata": {
        "id": "view-in-github",
        "colab_type": "text"
      },
      "source": [
        "<a href=\"https://colab.research.google.com/github/mcewenar/Google_colab/blob/master/Merry_Christmas_tree.ipynb\" target=\"_parent\"><img src=\"https://colab.research.google.com/assets/colab-badge.svg\" alt=\"Open In Colab\"/></a>"
      ]
    },
    {
      "cell_type": "code",
      "execution_count": 1,
      "metadata": {
        "colab": {
          "base_uri": "https://localhost:8080/"
        },
        "id": "Rqk7rErakt3q",
        "outputId": "4a7e299c-5a06-4144-b52b-c3ae2a182bc1"
      },
      "outputs": [
        {
          "output_type": "stream",
          "name": "stdout",
          "text": [
            "Happy Christmas\n",
            "              x               \n",
            "             xxx              \n",
            "            xxxxx             \n",
            "           xxxxxxx            \n",
            "          xxxxxxxxx           \n",
            "         xxxxxxxxxxx          \n",
            "        xxxxxxxxxxxxx         \n",
            "       xxxxxxxxxxxxxxx        \n",
            "      xxxxxxxxxxxxxxxxx       \n",
            "     xxxxxxxxxxxxxxxxxxx      \n",
            "            xxxxx             \n"
          ]
        }
      ],
      "source": [
        "cht=\"Happy Christmas\"\n",
        "print(cht)\n",
        "for leaf in [*range(10)] + [2]:\n",
        "  print(f'{\"x\"*(leaf*2+1):^30}')"
      ]
    }
  ]
}