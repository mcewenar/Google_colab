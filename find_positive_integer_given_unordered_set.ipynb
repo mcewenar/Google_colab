{
  "nbformat": 4,
  "nbformat_minor": 0,
  "metadata": {
    "colab": {
      "provenance": [],
      "authorship_tag": "ABX9TyNPCWHWVZZrNeu1BP/8UWpd",
      "include_colab_link": true
    },
    "kernelspec": {
      "name": "python3",
      "display_name": "Python 3"
    },
    "language_info": {
      "name": "python"
    }
  },
  "cells": [
    {
      "cell_type": "markdown",
      "metadata": {
        "id": "view-in-github",
        "colab_type": "text"
      },
      "source": [
        "<a href=\"https://colab.research.google.com/github/mcewenar/Google_colab/blob/master/find_positive_integer_given_unordered_set.ipynb\" target=\"_parent\"><img src=\"https://colab.research.google.com/assets/colab-badge.svg\" alt=\"Open In Colab\"/></a>"
      ]
    },
    {
      "cell_type": "code",
      "execution_count": null,
      "metadata": {
        "id": "DbJcF3v-0FR2"
      },
      "outputs": [],
      "source": [
        "\"\"\"Given a disordered set with Integer numbers, find the first positive integer (upper than 0), missing from the secuence\"\"\"\n",
        "\n",
        "\n",
        "#https://www.cuemath.com/sum-of-natural-numbers-formula/\n",
        "\n",
        "\n",
        "input = [3,4,-1,1]\n",
        "#Output: 2\n",
        "\n",
        "\n",
        "input = [1,2,0]\n",
        "#Output: 3\n",
        "\n",
        "input = [3,4,-1,1,2,7,10]\n",
        "#Output: 5\n",
        "\n",
        "\n",
        "def first_positive_integer():\n",
        "  pass"
      ]
    }
  ]
}