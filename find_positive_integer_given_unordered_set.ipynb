{
  "nbformat": 4,
  "nbformat_minor": 0,
  "metadata": {
    "colab": {
      "provenance": [],
      "authorship_tag": "ABX9TyOc9MdvXKatM0b1hzxanxka",
      "include_colab_link": true
    },
    "kernelspec": {
      "name": "python3",
      "display_name": "Python 3"
    },
    "language_info": {
      "name": "python"
    }
  },
  "cells": [
    {
      "cell_type": "markdown",
      "metadata": {
        "id": "view-in-github",
        "colab_type": "text"
      },
      "source": [
        "<a href=\"https://colab.research.google.com/github/mcewenar/Google_colab/blob/master/find_positive_integer_given_unordered_set.ipynb\" target=\"_parent\"><img src=\"https://colab.research.google.com/assets/colab-badge.svg\" alt=\"Open In Colab\"/></a>"
      ]
    },
    {
      "cell_type": "code",
      "execution_count": null,
      "metadata": {
        "id": "DbJcF3v-0FR2"
      },
      "outputs": [],
      "source": [
        "\"\"\"Given a disordered set with Integer numbers, find the first positive integer (upper than 0), missing from the secuence\"\"\"\n",
        "\n",
        "#https://www.cuemath.com/sum-of-natural-numbers-formula/\n",
        "\n",
        "import sys\n",
        "\n",
        "input1 = [3,4,-1,1]\n",
        "#Output: 2\n",
        "\n",
        "input2 = [1,2,0]\n",
        "#Output: 3\n",
        "\n",
        "input3 = [3,4,-1,1,2,7,10]\n",
        "#Output: 5\n",
        "\n",
        "\n",
        "\n",
        "def first_positive_integer(array_int)-> int:\n",
        "  for i in range(1, len(array_int)+1):\n",
        "    if i not in array_int:\n",
        "      return i\n",
        "  return array_int+1\n",
        "\n",
        "\n",
        "\n",
        "\n",
        "print(first_positive_integer(input1))\n",
        "print(first_positive_integer(input2))\n",
        "print(first_positive_integer(input3))\n",
        "\n",
        "\n",
        "\"\"\"\n",
        "POR IA:\n",
        "public class FirstMissingPositive {\n",
        "    public static int findFirstMissingPositive(int[] nums) {\n",
        "        int n = nums.length;\n",
        "\n",
        "        // Reorganizar los números en sus posiciones correctas\n",
        "        for (int i = 0; i < n; i++) {\n",
        "            while (nums[i] > 0 && nums[i] <= n && nums[nums[i] - 1] != nums[i]) {\n",
        "                // Intercambiar nums[i] con nums[nums[i] - 1]\n",
        "                int temp = nums[nums[i] - 1];\n",
        "                nums[nums[i] - 1] = nums[i];\n",
        "                nums[i] = temp;\n",
        "            }\n",
        "        }\n",
        "\n",
        "        // Identificar el primer número positivo faltante\n",
        "        for (int i = 0; i < n; i++) {\n",
        "            if (nums[i] != i + 1) {\n",
        "                return i + 1;\n",
        "            }\n",
        "        }\n",
        "\n",
        "        // Si todos los números están en su lugar, el faltante es n + 1\n",
        "        return n + 1;\n",
        "    }\n",
        "\n",
        "    public static void main(String[] args) {\n",
        "        int[] input1 = {3, 4, -1, 1};\n",
        "        System.out.println(findFirstMissingPositive(input1)); // Salida: 2\n",
        "\n",
        "        int[] input2 = {1, 2, 0};\n",
        "        System.out.println(findFirstMissingPositive(input2)); // Salida: 3\n",
        "\n",
        "        int[] input3 = {3, 4, -1, 1, 2, 7, 10};\n",
        "        System.out.println(findFirstMissingPositive(input3)); // Salida: 5\n",
        "    }\n",
        "}\n",
        "\n",
        "\n",
        "\"\"\""
      ]
    }
  ]
}