{
  "nbformat": 4,
  "nbformat_minor": 0,
  "metadata": {
    "colab": {
      "provenance": [],
      "authorship_tag": "ABX9TyO440fQ0RhkQ0qE9ZbbgQJN",
      "include_colab_link": true
    },
    "kernelspec": {
      "name": "python3",
      "display_name": "Python 3"
    },
    "language_info": {
      "name": "python"
    }
  },
  "cells": [
    {
      "cell_type": "markdown",
      "metadata": {
        "id": "view-in-github",
        "colab_type": "text"
      },
      "source": [
        "<a href=\"https://colab.research.google.com/github/mcewenar/Google_colab/blob/master/generators_to_handle_large_data.ipynb\" target=\"_parent\"><img src=\"https://colab.research.google.com/assets/colab-badge.svg\" alt=\"Open In Colab\"/></a>"
      ]
    },
    {
      "cell_type": "code",
      "execution_count": 9,
      "metadata": {
        "colab": {
          "base_uri": "https://localhost:8080/"
        },
        "id": "iDuYL9Hs4mDd",
        "outputId": "3c996014-8908-4c2b-a5dd-b8e6a43e9e17"
      },
      "outputs": [
        {
          "output_type": "stream",
          "name": "stdout",
          "text": [
            "List time: 0.08005619049072266\n",
            "Generator time: 0.10647106170654297\n"
          ]
        }
      ],
      "source": [
        "#Generators yield items one at a time, saving memory, unlike lists that hold the\n",
        "#entire data in memory\n",
        "\n",
        "import time\n",
        "\n",
        "#List approach\n",
        "start_time = time.time()\n",
        "large_list = [x**2 for x in range(1000000)]\n",
        "end_time = time.time()\n",
        "print(\"List time:\",end_time - start_time)\n",
        "\n",
        "\n",
        "#Generator approach:\n",
        "start_time2 = time.time()\n",
        "large_gen = (x**2 for x in range(1000000))\n",
        "for x in large_gen:\n",
        "    pass\n",
        "end_time2 = time.time()\n",
        "print(\"Generator time:\",end_time2 - start_time2)"
      ]
    },
    {
      "cell_type": "code",
      "source": [],
      "metadata": {
        "id": "fGrK2inT5I8K"
      },
      "execution_count": 1,
      "outputs": []
    }
  ]
}