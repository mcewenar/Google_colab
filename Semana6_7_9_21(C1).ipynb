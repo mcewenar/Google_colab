{
  "nbformat": 4,
  "nbformat_minor": 0,
  "metadata": {
    "colab": {
      "name": "Semana6_7-9-21(C1).ipynb",
      "provenance": [],
      "collapsed_sections": [],
      "include_colab_link": true
    },
    "kernelspec": {
      "name": "python3",
      "display_name": "Python 3"
    },
    "language_info": {
      "name": "python"
    }
  },
  "cells": [
    {
      "cell_type": "markdown",
      "metadata": {
        "id": "view-in-github",
        "colab_type": "text"
      },
      "source": [
        "<a href=\"https://colab.research.google.com/github/mcewenar/Google_colab/blob/master/Semana6_7_9_21(C1).ipynb\" target=\"_parent\"><img src=\"https://colab.research.google.com/assets/colab-badge.svg\" alt=\"Open In Colab\"/></a>"
      ]
    },
    {
      "cell_type": "code",
      "metadata": {
        "colab": {
          "base_uri": "https://localhost:8080/"
        },
        "id": "SpljC8PscQpt",
        "outputId": "d748fc70-de75-4523-fb2b-80220f74d3e4"
      },
      "source": [
        "#recursion\n",
        "def sumar(n):\n",
        "  if n == 0:\n",
        "    return 0 #caso base\n",
        "  else: #cuando hay cambio de contexto(llamada a una funcion), las variables locales se guardan en una pila\n",
        "    a = n + sumar(n-1) #llamada recursiva con reduccion, la operacion + queda indicada en una pila\n",
        "    return a #los retornos estan pendientes en una pila\n",
        "  #(n-1) reduccion\n",
        "print(sumar(3)) #21=  \n",
        "3 + (2 + (1 + (0))) #= la funcion se ha llamado a si misma 6 veces"
      ],
      "execution_count": null,
      "outputs": [
        {
          "output_type": "stream",
          "text": [
            "6\n"
          ],
          "name": "stdout"
        },
        {
          "output_type": "execute_result",
          "data": {
            "text/plain": [
              "6"
            ]
          },
          "metadata": {
            "tags": []
          },
          "execution_count": 33
        }
      ]
    },
    {
      "cell_type": "code",
      "metadata": {
        "colab": {
          "base_uri": "https://localhost:8080/"
        },
        "id": "uL9aaCPVc3Wh",
        "outputId": "3b062bf9-f297-4b5b-9516-c98f9bd4a25a"
      },
      "source": [
        "#Recursion, sumar los elementos de un arreglo\n",
        "def sumar_parcial(L,n):\n",
        "  if n > 0:\n",
        "    a=L[n-1] + sumar_parcial(L, n-1) #llamado recursivo con la reduccion\n",
        "    return a  #cuando hay un llamado , hay un cambio de contexto y los parametros que habia se guardan en una pila\n",
        "  else:\n",
        "     return 0\n",
        "\n",
        "def sumar_lista(L):\n",
        "  a = sumar_parcial(L,len(L))\n",
        "  return a\n",
        "\n",
        "L=[10,22,3,4,5]\n",
        "print(sumar_lista(L))"
      ],
      "execution_count": null,
      "outputs": [
        {
          "output_type": "stream",
          "text": [
            "44\n"
          ],
          "name": "stdout"
        }
      ]
    },
    {
      "cell_type": "code",
      "metadata": {
        "colab": {
          "base_uri": "https://localhost:8080/"
        },
        "id": "ty7DnJr5dQ0x",
        "outputId": "1bc38c8c-45b7-4061-d15b-c394b6414fb5"
      },
      "source": [
        "#Buscar una letra en una cadena en forma recursiva\n",
        "def buscar_parcial(str,ch,n):\n",
        "  if n > 0:\n",
        "    a= (str[n-1] == ch) or buscar_parcial(str,ch, n-1)# en una pila deja almacenadas las vars locales\n",
        "    return a\n",
        "  else:\n",
        "    return False\n",
        "\n",
        "def buscar(str,ch):\n",
        "  b=len(str)\n",
        "  a=buscar_parcial(str,ch,b)\n",
        "  return a\n",
        "\n",
        "cad1='hola'\n",
        "letra='l'\n",
        "print(buscar(cad1, letra))"
      ],
      "execution_count": null,
      "outputs": [
        {
          "output_type": "stream",
          "text": [
            "True\n"
          ],
          "name": "stdout"
        }
      ]
    },
    {
      "cell_type": "code",
      "metadata": {
        "colab": {
          "base_uri": "https://localhost:8080/"
        },
        "id": "fJGumyOQeaPO",
        "outputId": "759142fc-5022-46b4-b8db-88e34fb728fe"
      },
      "source": [
        "def f(n):\n",
        "  if n == 0:\n",
        "    return True\n",
        "  elif n == 1:\n",
        "    return False\n",
        "  else:\n",
        "    return f(n-2)\n",
        "    \n",
        "n = [0, 1, 2, 3, 4, 5, 6, 7, 8]\n",
        "for i in n:\n",
        "  print(f(i), end='\\t')"
      ],
      "execution_count": null,
      "outputs": [
        {
          "output_type": "stream",
          "text": [
            "True\tFalse\tTrue\tFalse\tTrue\tFalse\tTrue\tFalse\tTrue\t"
          ],
          "name": "stdout"
        }
      ]
    },
    {
      "cell_type": "code",
      "metadata": {
        "colab": {
          "base_uri": "https://localhost:8080/"
        },
        "id": "h4_VrFN8fV8S",
        "outputId": "1b66045e-b246-4cb1-f53c-6577b901d473"
      },
      "source": [
        "#funcion g()\n",
        "def g(n):\n",
        "  if n == 0:\n",
        "    return 0\n",
        "  elif n == 1:\n",
        "    return 1\n",
        "  elif n == 2:\n",
        "    return 2\n",
        "  else:\n",
        "    return g(n-3)\n",
        "#parece la funcion residuo cuando divido entre 3\n",
        "n = [0, 1, 2, 3, 4, 5, 6, 7, 8]\n",
        "for i in n:\n",
        "  print(g(i), end='\\t')"
      ],
      "execution_count": null,
      "outputs": [
        {
          "output_type": "stream",
          "text": [
            "0\t1\t2\t0\t1\t2\t0\t1\t2\t"
          ],
          "name": "stdout"
        }
      ]
    },
    {
      "cell_type": "code",
      "metadata": {
        "colab": {
          "base_uri": "https://localhost:8080/"
        },
        "id": "q8j9XfH4fvpi",
        "outputId": "898b1207-b92f-4e06-a80a-825d97d64f8d"
      },
      "source": [
        "#funcion h, suma de 2 numeros\n",
        "def h(n,m):\n",
        "  if m == 0:#caso base\n",
        "    return n\n",
        "  else:\n",
        "    a= h(n+1, m-1)#llamado recursivo con reduccion\n",
        "    return a\n",
        "\n",
        "L = [(2, 3), (8, 5), (6, 6)]\n",
        "for i, j in L:\n",
        "  print(h(i, j), end='\\t')"
      ],
      "execution_count": null,
      "outputs": [
        {
          "output_type": "stream",
          "text": [
            "5\t13\t12\t"
          ],
          "name": "stdout"
        }
      ]
    },
    {
      "cell_type": "code",
      "metadata": {
        "colab": {
          "base_uri": "https://localhost:8080/"
        },
        "id": "ZJf18Bw0gcyd",
        "outputId": "77c2ee7d-ed22-4187-994c-aa59423c7d23"
      },
      "source": [
        "#Disegne un modelo matem\u0013atico que permita calcular la funcion producto,\n",
        "#es decir, que reciba dos (2) numeros naturales y retorne la multiplicaci\u0013on\n",
        "#del primer numero por el segundo, sin usar operador *, /\n",
        "#p = prod(m,n) = m + (m + (m + ... (n times)))\n",
        "#prod: N x N -> N    prod(m,n) = m si  n == 1, else  m + prod(m, n-1) \n",
        "def prod(m,n):\n",
        "  if n == 1:\n",
        "    return m\n",
        "  else:\n",
        "    a= m + prod(m, n-1)#la suma queda indicada en una estructura interna de python (pila)\n",
        "    return a\n",
        "\n",
        "print(prod(13,5))"
      ],
      "execution_count": null,
      "outputs": [
        {
          "output_type": "stream",
          "text": [
            "65\n"
          ],
          "name": "stdout"
        }
      ]
    },
    {
      "cell_type": "code",
      "metadata": {
        "colab": {
          "base_uri": "https://localhost:8080/"
        },
        "id": "EGQQXDcGir8j",
        "outputId": "b0315256-31eb-4089-f696-ddf34e735a74"
      },
      "source": [
        "#potencia\n",
        "#Para expresar una funci\u0013on que\n",
        "#calcule esta operaci\u0013on, en primera instancia se construye la expresi\u0013on\n",
        "#potencia : R x N -> R que define la funci\u0013on que tiene como entrada un\n",
        "#n\u0013umero real que representa la base y un n\u0013umero natural que indica el\n",
        "#exponente, y como salida se obtendr\u0013a un n\u0013umero real que ser\u0013a la potencia.\n",
        "#Por facilidad, aqui se asumir\u0013a que 0**0 = 1.\n",
        "# potencia(b,n)= b x b x b x .... (n veces)\n",
        "def potencia(b, n):\n",
        "  if n == 0:\n",
        "    return 1\n",
        "  else:\n",
        "    a= b * potencia(b,n-1) #reduccion\n",
        "    return a\n",
        "\n",
        "base = float(input(\"Por favor digite la base: \"))\n",
        "exp = int(input(\"Por favor digite el exponente: \"))\n",
        "print(base, \"^\", exp, \"=\", potencia(base, exp))"
      ],
      "execution_count": null,
      "outputs": [
        {
          "output_type": "stream",
          "text": [
            "Por favor digite la base: 3\n",
            "Por favor digite el exponente: 4\n",
            "3.0 ^ 4 = 81.0\n"
          ],
          "name": "stdout"
        }
      ]
    },
    {
      "cell_type": "code",
      "metadata": {
        "colab": {
          "base_uri": "https://localhost:8080/"
        },
        "id": "3kqwmgDr9g8R",
        "outputId": "3a3fdb30-2ea9-4919-a7bb-1d6bce1f21fc"
      },
      "source": [
        "def fact(n):\n",
        "  if n == 0:\n",
        "    return 1 #caso base\n",
        "  else:\n",
        "    a= n * fact(n-1)#llamda recursiva con la reduccion\n",
        "    return a #pendiente en una pila, debido al cambio de contexto que sucede al interior de python\n",
        "print(fact(100))"
      ],
      "execution_count": null,
      "outputs": [
        {
          "output_type": "stream",
          "text": [
            "93326215443944152681699238856266700490715968264381621468592963895217599993229915608941463976156518286253697920827223758251185210916864000000000000000000000000\n"
          ],
          "name": "stdout"
        }
      ]
    },
    {
      "cell_type": "code",
      "metadata": {
        "colab": {
          "base_uri": "https://localhost:8080/"
        },
        "id": "BCimYPrtk4ir",
        "outputId": "eea2a4c5-0804-41d0-a9b9-458a27e02700"
      },
      "source": [
        "# un prestamo de $ 1'000.000 durante un agno, a un interes del 5% mensual \n",
        "#con la modalidad de interes compuesto mes vencido. \n",
        "#Cual es el total del dinero que debe pagar cuando ha transcurrido el agno  \n",
        "#resolviendo el problema recursivamente?.\n",
        "def pago(m, i, n):\n",
        "  if n == 0:\n",
        "    return m\n",
        "  else:\n",
        "    a= (1+i) * pago(m, i, n-1) #caso general, con reduccion\n",
        "    return a\n",
        "\n",
        "print(pago(1E6, 0.02, 12))"
      ],
      "execution_count": null,
      "outputs": [
        {
          "output_type": "stream",
          "text": [
            "1268241.7945625451\n"
          ],
          "name": "stdout"
        }
      ]
    },
    {
      "cell_type": "code",
      "metadata": {
        "colab": {
          "base_uri": "https://localhost:8080/"
        },
        "id": "JHmJfelolr6b",
        "outputId": "839bd404-684a-4938-a26d-8adac1718c2e"
      },
      "source": [
        "#Una pareja de conejos recien nacidos (uno de cada sexo) se liberan en una\n",
        "#isla. Los conejos no pueden tener descendencia hasta que cumplen dos\n",
        "#meses. Una vez que cumplen dos meses, cada pareja de conejos tiene\n",
        "#como descendencia otra pareja de conejos cada mes. \n",
        "#Cual es la cantidad de parejas de conejos en la isla una vez transcurrido un agno, suponiendo\n",
        "#que ningun conejo muere?.\n",
        "def fibo(n):\n",
        "  if n == 0: #caso base\n",
        "    return 0\n",
        "  elif n == 1: #caso base\n",
        "    return 1\n",
        "  else: #caso general\n",
        "    a= fibo(n - 1) + fibo(n - 2)\n",
        "    return a #el retorno queda pendiente con los datos almacenados en una pila\n",
        "print(fibo(12))"
      ],
      "execution_count": null,
      "outputs": [
        {
          "output_type": "stream",
          "text": [
            "144\n"
          ],
          "name": "stdout"
        }
      ]
    },
    {
      "cell_type": "code",
      "metadata": {
        "colab": {
          "base_uri": "https://localhost:8080/"
        },
        "id": "UKtMWkHBmtTY",
        "outputId": "9d57767b-c7ae-4cad-c8ac-0663eb08df90"
      },
      "source": [
        "#P1-Modele mediante una funcion matematica y disegne un programa\n",
        "#recursivo que calcule la suma de los primeros n cuadrados de los\n",
        "#numeros naturales\n",
        "#sumarCuadr: N -> N; sumarCuadr(n) = 1 if n==1, else  n**2 + sumarCuadr(n-1)  \n",
        "\n",
        "def sumarCuadr(n):\n",
        "  if n > 1:\n",
        "    a = n**2 + sumarCuadr(n-1) #la reduccion\n",
        "    return a\n",
        "  else:\n",
        "    return 1 #caso base\n",
        "print(sumarCuadr(3))\n",
        "9+4+1"
      ],
      "execution_count": null,
      "outputs": [
        {
          "output_type": "stream",
          "text": [
            "14\n"
          ],
          "name": "stdout"
        },
        {
          "output_type": "execute_result",
          "data": {
            "text/plain": [
              "14"
            ]
          },
          "metadata": {
            "tags": []
          },
          "execution_count": 6
        }
      ]
    },
    {
      "cell_type": "code",
      "metadata": {
        "colab": {
          "base_uri": "https://localhost:8080/"
        },
        "id": "Qrzdd7jKm1GY",
        "outputId": "b94a48ad-d65a-40ae-8518-918e149293e2"
      },
      "source": [
        "#P2-Modele mediante una funcion matematica y dise~ne un programa sin\n",
        "#cadenas, tuplas o listas que retorne el ultimo digito de un numero\n",
        "#natural n (leido de izquierda a derecha). Por ejemplo, ultimo(13579) = 9.\n",
        "#ultimo: N -> N, ultimo(n) = n % 10\n",
        "def ultimo(n):\n",
        "    return n%10\n",
        "print(ultimo(13579))"
      ],
      "execution_count": null,
      "outputs": [
        {
          "output_type": "stream",
          "text": [
            "9\n"
          ],
          "name": "stdout"
        }
      ]
    },
    {
      "cell_type": "code",
      "metadata": {
        "colab": {
          "base_uri": "https://localhost:8080/"
        },
        "id": "80Wjnvfhm8y3",
        "outputId": "2099e7bc-110f-482f-9358-37a33093c4a7"
      },
      "source": [
        "#P3-Modele mediante una funcion matematica y disegne un programa recursivo sin cadenas, \n",
        "#tuplas o listas que dado un numero natural n elimine el ultimo digito del numero. \n",
        "#Por ejemplo, eliminaU(654321) = 65432\n",
        "#eliminaU: N -> N, eliminaU(n) = n//10 if n%10 == 0, else eliminaU(n-1) \n",
        "def eliminaU(n):\n",
        "  if n%10 == 0:\n",
        "    return n//10   #caso base\n",
        "  else:\n",
        "    a= eliminaU(n-1) # la reduccion\n",
        "    return a\n",
        "print(eliminaU(654321))\n",
        "654321//10"
      ],
      "execution_count": null,
      "outputs": [
        {
          "output_type": "stream",
          "text": [
            "65432\n"
          ],
          "name": "stdout"
        },
        {
          "output_type": "execute_result",
          "data": {
            "text/plain": [
              "65432"
            ]
          },
          "metadata": {
            "tags": []
          },
          "execution_count": 8
        }
      ]
    },
    {
      "cell_type": "code",
      "metadata": {
        "colab": {
          "base_uri": "https://localhost:8080/"
        },
        "id": "iVN1sVjznKko",
        "outputId": "bbc585f4-b059-4293-da78-6c4078498edd"
      },
      "source": [
        "#P4-Modele mediante una funcion matematica y disegne un programa\n",
        "#recursivo sin cadenas, tuplas o listas que determine la cantidad de\n",
        "#digitos que componen un numero natural n. Por ejemplo, longitud(1230321) = 7.\n",
        "#longi: N -> N, longi(n) = 0 if n == 0, else 1 + longi(n//10) \n",
        "def longi(n):\n",
        "  if n == 0:\n",
        "    return 0\n",
        "  else:\n",
        "    a= 1 + longi(n//10)\n",
        "    return a\n",
        "\n",
        "print(longi(1234567))"
      ],
      "execution_count": null,
      "outputs": [
        {
          "output_type": "stream",
          "text": [
            "7\n"
          ],
          "name": "stdout"
        }
      ]
    },
    {
      "cell_type": "code",
      "metadata": {
        "colab": {
          "base_uri": "https://localhost:8080/"
        },
        "id": "oAeCMHTZnOeP",
        "outputId": "db04d4ee-02bc-4942-ca9b-796202d6e288"
      },
      "source": [
        "#P5-Modele mediante una funcion matematica y disegne un programa\n",
        "#recursivo sin cadenas, tuplas o listas que calcule la suma de los digitos\n",
        "#que componen un numero natural n. Por ejemplo, sumar digitos(123456) = 21.\n",
        "#sumar: N -> N, sumar(n) = 0 if n==0 , 1 elif n==1 else n%10 + sumar(n//10) \n",
        "def sumar(n):\n",
        "  if  n == 1:\n",
        "    return 1\n",
        "  elif n==0:\n",
        "    return 0\n",
        "  else:\n",
        "    a= n%10 + sumar(n//10)\n",
        "    return a\n",
        "print(sumar(0))"
      ],
      "execution_count": null,
      "outputs": [
        {
          "output_type": "stream",
          "text": [
            "0\n"
          ],
          "name": "stdout"
        }
      ]
    },
    {
      "cell_type": "code",
      "metadata": {
        "colab": {
          "base_uri": "https://localhost:8080/"
        },
        "id": "6BXKU94OnRnK",
        "outputId": "2d2c916d-cddd-4d9e-a036-9fafa0351ab5"
      },
      "source": [
        "#P6-Modele mediante una funcion matematica y disegne un programa\n",
        "#recursivo sin cadenas, tuplas o listas que retorne el primer digito de\n",
        "#un numero natural n (leido de izquierda a derecha). Por ejemplo, primero(86420) = 8.\n",
        "#primero: N -> N, primero(n) = n if n <= 9, else primero(n//10) \n",
        "def primero(n):\n",
        "  if n<=9:\n",
        "    return n\n",
        "  else:\n",
        "    a=primero(n//10)\n",
        "    return a\n",
        "print(primero(1976420))"
      ],
      "execution_count": null,
      "outputs": [
        {
          "output_type": "stream",
          "text": [
            "1\n"
          ],
          "name": "stdout"
        }
      ]
    },
    {
      "cell_type": "code",
      "metadata": {
        "colab": {
          "base_uri": "https://localhost:8080/"
        },
        "id": "LfsiTFsHnan5",
        "outputId": "856c9cb3-1c4b-4f99-d223-e03e2e55b32f"
      },
      "source": [
        "#P7-Modele mediante una funcion matematica y disegne un programa\n",
        "#recursivo sin cadenas, tuplas o listas que dado un numero natural n\n",
        "#elimine el primer digito del numero. Por ejemplo, elimina pri(564321) = 54321.\n",
        "#elimine: N -> N, elimine(n) = s if n <= 9, else elimine(n//10, s, k+1) \n",
        "def elimine(n, s, k): # s es la sumatoria, k es un contador\n",
        "#64321= 1*10**0 + 2*10**1 + 3*10**2 + 4*10**3 +6*19**4  = s\n",
        "  if n<=9:\n",
        "    return s\n",
        "  else:\n",
        "    s = s + n%10 *10**k# \n",
        "    a = elimine(n//10, s, k+1)\n",
        "    return  a\n",
        "\n",
        "def elim(n):\n",
        "  return elimine(n, 0, 0)\n",
        "print(elim(654321))"
      ],
      "execution_count": null,
      "outputs": [
        {
          "output_type": "stream",
          "text": [
            "54321\n"
          ],
          "name": "stdout"
        }
      ]
    },
    {
      "cell_type": "code",
      "metadata": {
        "colab": {
          "base_uri": "https://localhost:8080/"
        },
        "id": "L87TADJnnevf",
        "outputId": "79c7e893-7e9b-4b1f-fc5f-c8f87c13b2f0"
      },
      "source": [
        "#P8-Modele mediante una funcion matematica y disegne un programa\n",
        "#recursivo sin cadenas, tuplas o listas que dado un numero natural n\n",
        "#inserte un digito al comienzo del numero. Por ejemplo, inserta(7, 654321) = 7654321.\n",
        "#inserta: N x N -> N, inserta(n) = s + n%10 *10**k + m*10**(k+1) if n <= 9, else inserta(m, n//10, s + n%10 *10**k, k+1)\n",
        "#m: es el digito a insertar\n",
        "#n es el nro al cual le voy a insertar el digito\n",
        "#s es la sumatoria s + n%10 *10**k + m*10**(k+1)\n",
        "#k es el contador que indica la posicion del digito en el nro\n",
        "def inserta(m,n, s, k):\n",
        "  if n<=9:\n",
        "    s = s + n%10 *10**k + m*10**(k+1) #caso base\n",
        "    return s\n",
        "  else:\n",
        "    s = s + n%10 *10**k# \n",
        "    a = inserta(m, n//10, s, k+1) #caso general con reduccion\n",
        "    return  a\n",
        "def inser(m,n):\n",
        "  return inserta(m,n,0,0)\n",
        "print(inser(1,854321))"
      ],
      "execution_count": null,
      "outputs": [
        {
          "output_type": "stream",
          "text": [
            "1854321\n"
          ],
          "name": "stdout"
        }
      ]
    },
    {
      "cell_type": "code",
      "metadata": {
        "colab": {
          "base_uri": "https://localhost:8080/"
        },
        "id": "shIs-pXHnn2p",
        "outputId": "7a613b8e-0392-489c-c74c-33851de7079c"
      },
      "source": [
        "#P9- Modele mediante una funcion matematica y disegne un programa\n",
        "#recursivo sin cadenas, tuplas o listas que invierta la cifras de un\n",
        "#numero n dado. Por ejemplo, inversa(654321) = 123456\n",
        "#reversa: N -> N, reversa(n, inv) = ninv if n == 0, else reversa(n//10, n%10 + ninv*10)\n",
        "def reversa(n, ninv):\n",
        "  if n==0:\n",
        "    return ninv #caso base\n",
        "  else:\n",
        "    a=reversa(n//10, n%10 + ninv*10) #caso general con reduccion\n",
        "    return a\n",
        "#ninv: n%10 + ninv*10\n",
        "def rever(m):\n",
        "  return reversa(654321,0)\n",
        "print(rever(654321))"
      ],
      "execution_count": null,
      "outputs": [
        {
          "output_type": "stream",
          "text": [
            "123456\n"
          ],
          "name": "stdout"
        }
      ]
    },
    {
      "cell_type": "code",
      "metadata": {
        "colab": {
          "base_uri": "https://localhost:8080/"
        },
        "id": "qqTglxobnvgy",
        "outputId": "4fd87bd1-f2ca-4b02-8e31-255c15373b9a"
      },
      "source": [
        "#P10- Modele mediante una funcion matematica y disegne un programa\n",
        "#recursivo sin cadenas, tuplas o listas que determine si un numero es\n",
        "#capicua. Un numero se dice palindromo si al leerlo de izquierda a\n",
        "#derecha es lo mismo que leerlo de derecha a izquierda. Por ejemplo,\n",
        "#capicua(1) = V, capicua(1234321) = V, capicua(123421) = F.\n",
        "#capicua: N -> B, capicua(num_Orig, n, ninv) = (ninv == numOrig) if n==0, else capicua(num_Orig,n//10, n%10+ninv*10)\n",
        "def capi(arg):\n",
        "  return capicua(arg, arg, 0)\n",
        "def capicua(num_Orig, n, ninv):\n",
        "  if n==0:\n",
        "    return (ninv==num_Orig) #caso base\n",
        "  else:\n",
        "    c=n%10+ninv*10\n",
        "    a=capicua(num_Orig,n//10, c) # reduccion\n",
        "    return a\n",
        "print(capi(1234554321))"
      ],
      "execution_count": null,
      "outputs": [
        {
          "output_type": "stream",
          "text": [
            "True\n"
          ],
          "name": "stdout"
        }
      ]
    },
    {
      "cell_type": "code",
      "metadata": {
        "colab": {
          "base_uri": "https://localhost:8080/"
        },
        "id": "9ZAsftRTbagn",
        "outputId": "4ac2e550-b4e7-4ea0-e8f8-4802ab761b85"
      },
      "source": [
        "def quicksort(arr):\n",
        "    if len(arr) <= 1:\n",
        "        return arr #caso base\n",
        "    long=len(arr)\n",
        "    pivot = arr[long // 2]\n",
        "    left = [x for x in arr if x < pivot]\n",
        "    middle = [x for x in arr if x == pivot]\n",
        "    right = [x for x in arr if x > pivot]\n",
        "    return quicksort(left) + middle + quicksort(right) #caso general\n",
        "a=list(range(999,0,-2))\n",
        "b=quicksort(a)\n",
        "print(b)\n",
        "#print(quicksort([3,6,8,10,1,2,1,44,23,78,99,45]))"
      ],
      "execution_count": null,
      "outputs": [
        {
          "output_type": "stream",
          "text": [
            "[1, 3, 5, 7, 9, 11, 13, 15, 17, 19, 21, 23, 25, 27, 29, 31, 33, 35, 37, 39, 41, 43, 45, 47, 49, 51, 53, 55, 57, 59, 61, 63, 65, 67, 69, 71, 73, 75, 77, 79, 81, 83, 85, 87, 89, 91, 93, 95, 97, 99, 101, 103, 105, 107, 109, 111, 113, 115, 117, 119, 121, 123, 125, 127, 129, 131, 133, 135, 137, 139, 141, 143, 145, 147, 149, 151, 153, 155, 157, 159, 161, 163, 165, 167, 169, 171, 173, 175, 177, 179, 181, 183, 185, 187, 189, 191, 193, 195, 197, 199, 201, 203, 205, 207, 209, 211, 213, 215, 217, 219, 221, 223, 225, 227, 229, 231, 233, 235, 237, 239, 241, 243, 245, 247, 249, 251, 253, 255, 257, 259, 261, 263, 265, 267, 269, 271, 273, 275, 277, 279, 281, 283, 285, 287, 289, 291, 293, 295, 297, 299, 301, 303, 305, 307, 309, 311, 313, 315, 317, 319, 321, 323, 325, 327, 329, 331, 333, 335, 337, 339, 341, 343, 345, 347, 349, 351, 353, 355, 357, 359, 361, 363, 365, 367, 369, 371, 373, 375, 377, 379, 381, 383, 385, 387, 389, 391, 393, 395, 397, 399, 401, 403, 405, 407, 409, 411, 413, 415, 417, 419, 421, 423, 425, 427, 429, 431, 433, 435, 437, 439, 441, 443, 445, 447, 449, 451, 453, 455, 457, 459, 461, 463, 465, 467, 469, 471, 473, 475, 477, 479, 481, 483, 485, 487, 489, 491, 493, 495, 497, 499, 501, 503, 505, 507, 509, 511, 513, 515, 517, 519, 521, 523, 525, 527, 529, 531, 533, 535, 537, 539, 541, 543, 545, 547, 549, 551, 553, 555, 557, 559, 561, 563, 565, 567, 569, 571, 573, 575, 577, 579, 581, 583, 585, 587, 589, 591, 593, 595, 597, 599, 601, 603, 605, 607, 609, 611, 613, 615, 617, 619, 621, 623, 625, 627, 629, 631, 633, 635, 637, 639, 641, 643, 645, 647, 649, 651, 653, 655, 657, 659, 661, 663, 665, 667, 669, 671, 673, 675, 677, 679, 681, 683, 685, 687, 689, 691, 693, 695, 697, 699, 701, 703, 705, 707, 709, 711, 713, 715, 717, 719, 721, 723, 725, 727, 729, 731, 733, 735, 737, 739, 741, 743, 745, 747, 749, 751, 753, 755, 757, 759, 761, 763, 765, 767, 769, 771, 773, 775, 777, 779, 781, 783, 785, 787, 789, 791, 793, 795, 797, 799, 801, 803, 805, 807, 809, 811, 813, 815, 817, 819, 821, 823, 825, 827, 829, 831, 833, 835, 837, 839, 841, 843, 845, 847, 849, 851, 853, 855, 857, 859, 861, 863, 865, 867, 869, 871, 873, 875, 877, 879, 881, 883, 885, 887, 889, 891, 893, 895, 897, 899, 901, 903, 905, 907, 909, 911, 913, 915, 917, 919, 921, 923, 925, 927, 929, 931, 933, 935, 937, 939, 941, 943, 945, 947, 949, 951, 953, 955, 957, 959, 961, 963, 965, 967, 969, 971, 973, 975, 977, 979, 981, 983, 985, 987, 989, 991, 993, 995, 997, 999]\n"
          ],
          "name": "stdout"
        }
      ]
    }
  ]
}