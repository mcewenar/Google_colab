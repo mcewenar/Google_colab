{
  "nbformat": 4,
  "nbformat_minor": 0,
  "metadata": {
    "colab": {
      "provenance": [],
      "authorship_tag": "ABX9TyPGCsl7/OvVAX7K/1xl/dmw",
      "include_colab_link": true
    },
    "kernelspec": {
      "name": "python3",
      "display_name": "Python 3"
    },
    "language_info": {
      "name": "python"
    }
  },
  "cells": [
    {
      "cell_type": "markdown",
      "metadata": {
        "id": "view-in-github",
        "colab_type": "text"
      },
      "source": [
        "<a href=\"https://colab.research.google.com/github/mcewenar/Google_colab/blob/master/divisle_7_multiple_5.ipynb\" target=\"_parent\"><img src=\"https://colab.research.google.com/assets/colab-badge.svg\" alt=\"Open In Colab\"/></a>"
      ]
    },
    {
      "cell_type": "code",
      "execution_count": 3,
      "metadata": {
        "colab": {
          "base_uri": "https://localhost:8080/"
        },
        "id": "beWVryL7kpdd",
        "outputId": "765ef72b-0dda-4bb7-d579-dc73d1b950ac"
      },
      "outputs": [
        {
          "output_type": "stream",
          "name": "stdout",
          "text": [
            "Numbers divisble by 7 and multiple of 5 in range 23 to 67 are:\n",
            "35 \n"
          ]
        }
      ],
      "source": [
        "#Find numbers which are divisle by 7 and multiple of 5 in a given range\n",
        "def find_numbers(start, end):\n",
        "  print(f\"Numbers divisble by 7 and multiple of 5 in range {start} to {end} are:\")\n",
        "  for num in range(start, end + 1):\n",
        "    if num % 7 == 0 and num % 5 == 0:\n",
        "      print(num, end=' ')\n",
        "  print()\n",
        "find_numbers(23,67)"
      ]
    }
  ]
}