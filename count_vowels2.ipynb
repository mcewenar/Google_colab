{
  "nbformat": 4,
  "nbformat_minor": 0,
  "metadata": {
    "colab": {
      "provenance": [],
      "authorship_tag": "ABX9TyNw+m+vBxHFpJmtD6akb8E2",
      "include_colab_link": true
    },
    "kernelspec": {
      "name": "python3",
      "display_name": "Python 3"
    },
    "language_info": {
      "name": "python"
    }
  },
  "cells": [
    {
      "cell_type": "markdown",
      "metadata": {
        "id": "view-in-github",
        "colab_type": "text"
      },
      "source": [
        "<a href=\"https://colab.research.google.com/github/mcewenar/Google_colab/blob/master/count_vowels2.ipynb\" target=\"_parent\"><img src=\"https://colab.research.google.com/assets/colab-badge.svg\" alt=\"Open In Colab\"/></a>"
      ]
    },
    {
      "cell_type": "code",
      "execution_count": 1,
      "metadata": {
        "colab": {
          "base_uri": "https://localhost:8080/"
        },
        "id": "UH7s-Ux3Gtbk",
        "outputId": "d2157178-d1a7-4cdf-f7e6-a57e14bc31b0"
      },
      "outputs": [
        {
          "output_type": "execute_result",
          "data": {
            "text/plain": [
              "2"
            ]
          },
          "metadata": {},
          "execution_count": 1
        }
      ],
      "source": [
        "#Program that finds how many vowels are in a word.\n",
        "#1\n",
        "def vowel_counter(word):\n",
        "  count = 0\n",
        "  for letter in word.lower():\n",
        "    if letter in \"aeiou\":\n",
        "      count += 1\n",
        "  return count\n",
        "vowel_counter(\"david\")"
      ]
    },
    {
      "cell_type": "code",
      "source": [
        "def vowel_counter(word):\n",
        "  count = 0\n",
        "  list_word = []\n",
        "  list_vowels = [\"a\", \"e\", \"i\", \"o\", \"u\"]\n",
        "\n",
        "  #Cast to list\n",
        "  list_word = list(word.lower())\n",
        "  #for letter in word.lower():\n",
        "  #  list_word.append(letter)\n",
        "\n",
        "  for letter in list_word:\n",
        "    for vowel in list_vowels:\n",
        "      if letter == vowel:\n",
        "        count += 1\n",
        "  return count\n",
        "\n",
        "vowel_counter(\"David\")"
      ],
      "metadata": {
        "colab": {
          "base_uri": "https://localhost:8080/"
        },
        "id": "tFkpdIZHI67j",
        "outputId": "be16fe05-d2ec-459e-e3bf-5b902604a45c"
      },
      "execution_count": 2,
      "outputs": [
        {
          "output_type": "execute_result",
          "data": {
            "text/plain": [
              "2"
            ]
          },
          "metadata": {},
          "execution_count": 2
        }
      ]
    }
  ]
}