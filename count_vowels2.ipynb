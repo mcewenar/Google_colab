{
  "nbformat": 4,
  "nbformat_minor": 0,
  "metadata": {
    "colab": {
      "provenance": [],
      "authorship_tag": "ABX9TyO4BupO8/GnkuKarS9DFIz8",
      "include_colab_link": true
    },
    "kernelspec": {
      "name": "python3",
      "display_name": "Python 3"
    },
    "language_info": {
      "name": "python"
    }
  },
  "cells": [
    {
      "cell_type": "markdown",
      "metadata": {
        "id": "view-in-github",
        "colab_type": "text"
      },
      "source": [
        "<a href=\"https://colab.research.google.com/github/mcewenar/Google_colab/blob/master/count_vowels2.ipynb\" target=\"_parent\"><img src=\"https://colab.research.google.com/assets/colab-badge.svg\" alt=\"Open In Colab\"/></a>"
      ]
    },
    {
      "cell_type": "code",
      "execution_count": 12,
      "metadata": {
        "colab": {
          "base_uri": "https://localhost:8080/"
        },
        "id": "UH7s-Ux3Gtbk",
        "outputId": "2c40124a-f7d3-4d2c-fc05-5b7f4cee6d70"
      },
      "outputs": [
        {
          "output_type": "execute_result",
          "data": {
            "text/plain": [
              "4"
            ]
          },
          "metadata": {},
          "execution_count": 12
        }
      ],
      "source": [
        "#Program that finds how many vowels are in a word.\n",
        "#1\n",
        "def vowel_counter(word):\n",
        "  count = 0\n",
        "  for letter in word.lower():\n",
        "    if letter in \"aeiou\":\n",
        "      count += 1\n",
        "  return count\n",
        "vowel_counter(\"tucancamon\")"
      ]
    },
    {
      "cell_type": "code",
      "source": [
        "def vowel_counter(word):\n",
        "  list_word = []\n",
        "  list_vowels = [\"a\", \"e\", \"i\", \"o\", \"u\"]\n",
        "  #Cast to list\n",
        "  list_word = list(word.lower())\n",
        "  #for letter in word.lower():\n",
        "  #  list_word.append(letter)\n",
        "\n",
        "  count = 0\n",
        "  for letter in list_word:\n",
        "    for vowel in list_vowels:\n",
        "      if letter == vowel:\n",
        "        count += 1\n",
        "  return count\n",
        "\n",
        "vowel_counter(\"tucancamon\")"
      ],
      "metadata": {
        "colab": {
          "base_uri": "https://localhost:8080/"
        },
        "id": "tFkpdIZHI67j",
        "outputId": "9a8a9959-0254-43eb-8802-08cb939d81b3"
      },
      "execution_count": 13,
      "outputs": [
        {
          "output_type": "execute_result",
          "data": {
            "text/plain": [
              "4"
            ]
          },
          "metadata": {},
          "execution_count": 13
        }
      ]
    }
  ]
}