{
  "nbformat": 4,
  "nbformat_minor": 0,
  "metadata": {
    "colab": {
      "name": "matrizDiagonalNXM.ipynb",
      "provenance": [],
      "collapsed_sections": [],
      "authorship_tag": "ABX9TyN3MepNqOH727dJtWUTkmUF",
      "include_colab_link": true
    },
    "kernelspec": {
      "name": "python3",
      "display_name": "Python 3"
    },
    "language_info": {
      "name": "python"
    }
  },
  "cells": [
    {
      "cell_type": "markdown",
      "metadata": {
        "id": "view-in-github",
        "colab_type": "text"
      },
      "source": [
        "<a href=\"https://colab.research.google.com/github/mcewenar/Google_colab/blob/master/matrizDiagonalNXM.ipynb\" target=\"_parent\"><img src=\"https://colab.research.google.com/assets/colab-badge.svg\" alt=\"Open In Colab\"/></a>"
      ]
    },
    {
      "cell_type": "code",
      "metadata": {
        "colab": {
          "base_uri": "https://localhost:8080/"
        },
        "id": "swDrrJiYnZAF",
        "outputId": "5d1cc7f6-6692-4dd5-fc78-fc4612a19e7e"
      },
      "source": [
        "n = int(input(\"Ingrese número de filas: \"))\n",
        "m = int(input(\"Ingrese número de columnas\"))\n",
        "\n",
        "for i in range(n):\n",
        "  print()\n",
        "  for j in range(m):\n",
        "    if(i==j):\n",
        "      print(1,end=\" \")\n",
        "    else:\n",
        "      print(0,end= \" \")"
      ],
      "execution_count": 5,
      "outputs": [
        {
          "output_type": "stream",
          "name": "stdout",
          "text": [
            "Ingrese número de filas: 6\n",
            "Ingrese número de columnas6\n",
            "\n",
            "1 0 0 0 0 0 \n",
            "0 1 0 0 0 0 \n",
            "0 0 1 0 0 0 \n",
            "0 0 0 1 0 0 \n",
            "0 0 0 0 1 0 \n",
            "0 0 0 0 0 1 "
          ]
        }
      ]
    }
  ]
}