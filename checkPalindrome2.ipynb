{
  "nbformat": 4,
  "nbformat_minor": 0,
  "metadata": {
    "colab": {
      "provenance": [],
      "collapsed_sections": [],
      "authorship_tag": "ABX9TyNU1DU+5Rt9q0cn2TvdxNkc",
      "include_colab_link": true
    },
    "kernelspec": {
      "name": "python3",
      "display_name": "Python 3"
    },
    "language_info": {
      "name": "python"
    }
  },
  "cells": [
    {
      "cell_type": "markdown",
      "metadata": {
        "id": "view-in-github",
        "colab_type": "text"
      },
      "source": [
        "<a href=\"https://colab.research.google.com/github/mcewenar/Google_colab/blob/master/checkPalindrome2.ipynb\" target=\"_parent\"><img src=\"https://colab.research.google.com/assets/colab-badge.svg\" alt=\"Open In Colab\"/></a>"
      ]
    },
    {
      "cell_type": "code",
      "execution_count": 1,
      "metadata": {
        "colab": {
          "base_uri": "https://localhost:8080/"
        },
        "id": "cxJGz6fEdfH1",
        "outputId": "359f55de-e7c0-483a-ad0b-c9ec39e5e0f3"
      },
      "outputs": [
        {
          "output_type": "stream",
          "name": "stdout",
          "text": [
            " enter a string: anitalavalatina\n",
            " it is a palindrome \n"
          ]
        }
      ],
      "source": [
        "s = input(\" enter a string: \")\n",
        "#reverse a given string\n",
        "def palindrome(string):\n",
        "    x =\"\"\n",
        "    for i in string:\n",
        "         x = i + x\n",
        "    return x\n",
        "if s == palindrome(s):\n",
        "   print(\" it's a palindrome \")\n",
        "else:\n",
        "    print(\" it is not a palindrome \")"
      ]
    },
    {
      "cell_type": "code",
      "source": [
        "s = input(\" enter a string : \")\n",
        "# function to check the palindrome\n",
        "def palindrome(string):\n",
        "    for i in range (1 , int(len( string)/2)):\n",
        "        if string[i] == string[len(string) - i - 1]:\n",
        "             return True\n",
        "    return False\n",
        "print(palindrome(s))"
      ],
      "metadata": {
        "id": "aLGYGmMhevCB"
      },
      "execution_count": null,
      "outputs": []
    }
  ]
}