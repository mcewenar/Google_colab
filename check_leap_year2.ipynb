{
  "nbformat": 4,
  "nbformat_minor": 0,
  "metadata": {
    "colab": {
      "provenance": [],
      "authorship_tag": "ABX9TyPYhksYoQI9Q8eCNbdx1XLm",
      "include_colab_link": true
    },
    "kernelspec": {
      "name": "python3",
      "display_name": "Python 3"
    },
    "language_info": {
      "name": "python"
    }
  },
  "cells": [
    {
      "cell_type": "markdown",
      "metadata": {
        "id": "view-in-github",
        "colab_type": "text"
      },
      "source": [
        "<a href=\"https://colab.research.google.com/github/mcewenar/Google_colab/blob/master/check_leap_year2.ipynb\" target=\"_parent\"><img src=\"https://colab.research.google.com/assets/colab-badge.svg\" alt=\"Open In Colab\"/></a>"
      ]
    },
    {
      "cell_type": "code",
      "execution_count": 3,
      "metadata": {
        "colab": {
          "base_uri": "https://localhost:8080/"
        },
        "id": "0yol3DczzTxd",
        "outputId": "ef2dd06f-3fd1-4702-d7ea-0ba5e3173176"
      },
      "outputs": [
        {
          "output_type": "stream",
          "name": "stdout",
          "text": [
            "Enter a year: 2024\n",
            "2024 is leap year\n"
          ]
        }
      ],
      "source": [
        "num = int(input(\"Enter a year: \"))\n",
        "message_not_leap = f'{num} is leap year'\n",
        "if num%4 == 0:\n",
        "  if num % 100 == 0:\n",
        "    if num % 400 == 0:\n",
        "      print(f'{num} is leap year')\n",
        "    else:\n",
        "      print(message_not_leap)\n",
        "  else:\n",
        "    print(message_not_leap)\n",
        "else:\n",
        "  print(message_not_leap)\n",
        "\n"
      ]
    }
  ]
}