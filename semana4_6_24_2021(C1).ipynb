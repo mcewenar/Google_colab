{
  "nbformat": 4,
  "nbformat_minor": 0,
  "metadata": {
    "colab": {
      "name": "semana4_6-24-2021(C1).ipynb",
      "provenance": [],
      "collapsed_sections": [],
      "include_colab_link": true
    },
    "kernelspec": {
      "name": "python3",
      "display_name": "Python 3"
    },
    "language_info": {
      "name": "python"
    }
  },
  "cells": [
    {
      "cell_type": "markdown",
      "metadata": {
        "id": "view-in-github",
        "colab_type": "text"
      },
      "source": [
        "<a href=\"https://colab.research.google.com/github/mcewenar/Google_colab/blob/master/semana4_6_24_2021(C1).ipynb\" target=\"_parent\"><img src=\"https://colab.research.google.com/assets/colab-badge.svg\" alt=\"Open In Colab\"/></a>"
      ]
    },
    {
      "cell_type": "code",
      "metadata": {
        "colab": {
          "base_uri": "https://localhost:8080/"
        },
        "id": "FelC8thjXBzO",
        "outputId": "9d5cbb40-7e73-48f9-dbc7-4c1a73381776"
      },
      "source": [
        "#P1-sumar dos matrices de numeros reales\n",
        "def sumat(A,B):\n",
        "  #VE: A , B\n",
        "  nfa=len(A); nca=len(A[0])\n",
        "  nfb=len(B); ncb=len(B[0])\n",
        "  C=[] # VS: C tamaño nfa x nca   \n",
        "  if nfa == nfb and nca == ncb:\n",
        "    for i in range(nfa): #for ext  coleccion: 0, 1\n",
        "      fila = [] #[2, -6, 4]\n",
        "      for j in range(nca): #for int   for anidados, coleccion: 0, 1, 2\n",
        "        fila.append(A[i][j] + B[i][j])\n",
        "      C.append(fila)\n",
        "    return C\n",
        "  else:\n",
        "    print('error: las matrices deberian ser compatibles para la suma')\n",
        "    return -1\n",
        "A=[[1,-3, 2],[4,11,-1]] #tamaño 2 x 3\n",
        "B=[[2,3, 4],[5,1,1]]\n",
        "print(sumat(A,B))\n"
      ],
      "execution_count": null,
      "outputs": [
        {
          "output_type": "stream",
          "text": [
            "[[3, 0, 6], [9, 12, 0]]\n"
          ],
          "name": "stdout"
        }
      ]
    },
    {
      "cell_type": "code",
      "metadata": {
        "colab": {
          "base_uri": "https://localhost:8080/"
        },
        "id": "K3LS-fe7irDU",
        "outputId": "160d578d-f7f1-46af-e73e-b441497118df"
      },
      "source": [
        "#PV3-sumar los elementos de una columna de una matriz\n",
        "A=[[14, 16, 6, 27],\n",
        "[74, 97, 73, 14],\n",
        "[19, 57, 12, 23]]\n",
        "col=3\n",
        "nf=len(A) #=3\n",
        "suma=0\n",
        "for i in range(nf): #coleccion: 0, 1,3\n",
        "  suma += A[i][col]\n",
        "print(suma)\n",
        "#6+73+12"
      ],
      "execution_count": null,
      "outputs": [
        {
          "output_type": "stream",
          "text": [
            "64\n"
          ],
          "name": "stdout"
        }
      ]
    },
    {
      "cell_type": "code",
      "metadata": {
        "colab": {
          "base_uri": "https://localhost:8080/"
        },
        "id": "HksLiVcMhh98",
        "outputId": "381e7d5a-9f23-49a9-dfb5-802699f09088"
      },
      "source": [
        "#PV4-sumar los elementos de una fila de una matriz\n",
        "A=[[14, 16, 6, 27],\n",
        "[74, 97, 73, 14],\n",
        "[19, 57, 12, 23]]\n",
        "fila=1\n",
        "nf=len(A)\n",
        "nc=len(A[fila]) #4\n",
        "suma=0\n",
        "for j in range(nc):\n",
        "  suma += A[fila][j]\n",
        "print(suma)\n",
        "74+ 97+ 73+ 14"
      ],
      "execution_count": null,
      "outputs": [
        {
          "output_type": "stream",
          "text": [
            "258\n"
          ],
          "name": "stdout"
        },
        {
          "output_type": "execute_result",
          "data": {
            "text/plain": [
              "258"
            ]
          },
          "metadata": {
            "tags": []
          },
          "execution_count": 21
        }
      ]
    },
    {
      "cell_type": "code",
      "metadata": {
        "colab": {
          "base_uri": "https://localhost:8080/"
        },
        "id": "oytlnY-SjdzY",
        "outputId": "9406f799-038e-4f3e-83cc-8be1cff01def"
      },
      "source": [
        "#PV5-Determinar si una matriz es magica\n",
        "\n",
        "M=[[8, 1,6],\n",
        "   [3,5,7],\n",
        "   [4,9,2]]\n",
        "# M debe ser cuadrada\n",
        "nf=len(M)\n",
        "nc=len(M[0])\n",
        "if nf != nc:\n",
        "  print('numero de filas: ',nf,' ;numero de columnas: ', nc)\n",
        "  print('la matriz no es cuadrada')\n",
        "else:\n",
        "#Sumo la diag ppal, diag secundaria\n",
        "  sdp=0;  sds=0\n",
        "  for i in range(nf):\n",
        "    sdp += M[i][i]\n",
        "    sds += M[i][nf-i-1] # i -> N-1-i\n",
        "  print(sdp, sds)\n",
        "\n",
        "#suma por filas\n",
        "  sf=0\n",
        "  for i in range(nf):    #for ext, cambia lentamente\n",
        "    for j in range(nc):  #for int, cambia rapidamente\n",
        "      sf += M[i][j]\n",
        "  sf = sf / nf  #=15\n",
        "\n",
        "#suma por columnas\n",
        "  sc=0\n",
        "  for j in range(nc): #for ext\n",
        "    for i in range(nf): #for int\n",
        "      sc += M[i][j]\n",
        "  sc /= nc # =15\n",
        "\n",
        "  if sdp != sds or sc != sdp or sf != sdp:\n",
        "    print('la matriz No es magica')\n",
        "  else:\n",
        "    print('la matriz es magica')"
      ],
      "execution_count": null,
      "outputs": [
        {
          "output_type": "stream",
          "text": [
            "15 15\n",
            "la matriz No es magica\n"
          ],
          "name": "stdout"
        }
      ]
    },
    {
      "cell_type": "code",
      "metadata": {
        "colab": {
          "base_uri": "https://localhost:8080/"
        },
        "id": "r8bAXFNbenQ_",
        "outputId": "f3a3c0af-448e-4786-ff24-e26559d4da01"
      },
      "source": [
        "#PV2-multiplicar dos matrices de numeros reales\n",
        "def promat(X,Y): # Tamaño X:  3 x 3       Y:  3 x 4\n",
        "# C es 3x4          C[i][j] = C[i][j]+ X[i][k] * Y[k][j], para k: desde 0:ncx\n",
        " C   = [[0,0,0,0],\n",
        "         [0,0,0,0],\n",
        "         [0,0,0,0]]      # tamaño 3 x 4, append() para tener un progr generico\n",
        "# itera a traves de las filas de X\n",
        "#precondiciones = nca == nfb\n",
        " nfx=len(X); ncx=len(X[0])\n",
        " nfy=len(Y); ncy=len(Y[0])\n",
        " precondicion= ncx ==nfy \n",
        " if precondicion:\n",
        "  for i in range(nfx):  # tres for anidados\n",
        "   # itera a traves de las columnas de Y , un cambio de i es un cambio de fila anclo la posicion de una fila y recorro cols\n",
        "   for j in range(ncy):\n",
        "       # itera a traves de las filas de Y, recorro cols\n",
        "       for k in range(nfy): #coleccion: 0, 1, ...nfy\n",
        "           C[i][j] += X[i][k] * Y[k][j]\n",
        "  return C\n",
        " else:\n",
        "  print('error: las matrices deben ser compatibles para el producto')\n",
        "  return C\n",
        "# 3x3 matriz A\n",
        "A = [[12, 7, 3], #premultiplicando\n",
        "    [4 ,5, 6],\n",
        "    [7,8, 9]]    #C[i][j]: sumar (la fila i de A * la col j de B), i = 1 , j=2\n",
        "# 3x4 matriz   3x4               C[1][2]= 4*1 + 5 * 3 + 6 *9\n",
        "B = [[5, 8, 1, 2],  #posmultiplicador    A*B != B*A\n",
        "    [6, 7, 3, 0],                          #precondicion nca ==nfb\n",
        "    [4, 5, 9, 1]]                         # C tamaño de nfa x ncb\n",
        "res = promat(A,B)  #res[0][0]=12 x 5 + 7 * 6 + 2*4\n",
        "print(res)\n",
        "for r in res: #coleccion: [ [], [],[]]\n",
        "   print(r)\n",
        "#12 * 5 + 7 * 6 + 3*4\n",
        "12 * 8 + 7*7+3*5"
      ],
      "execution_count": null,
      "outputs": [
        {
          "output_type": "stream",
          "text": [
            "[[114, 160, 60, 27], [74, 97, 73, 14], [119, 157, 112, 23]]\n",
            "[114, 160, 60, 27]\n",
            "[74, 97, 73, 14]\n",
            "[119, 157, 112, 23]\n"
          ],
          "name": "stdout"
        },
        {
          "output_type": "execute_result",
          "data": {
            "text/plain": [
              "160"
            ]
          },
          "metadata": {
            "tags": []
          },
          "execution_count": 30
        }
      ]
    },
    {
      "cell_type": "code",
      "metadata": {
        "id": "NEVkIAWjp7Kz"
      },
      "source": [
        ""
      ],
      "execution_count": null,
      "outputs": []
    }
  ]
}