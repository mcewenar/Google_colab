{
  "nbformat": 4,
  "nbformat_minor": 0,
  "metadata": {
    "colab": {
      "name": "discurso_politico.ipynb",
      "provenance": [],
      "authorship_tag": "ABX9TyMYNEU16ntYvkaBStjIgIX2",
      "include_colab_link": true
    },
    "kernelspec": {
      "name": "python3",
      "display_name": "Python 3"
    },
    "language_info": {
      "name": "python"
    }
  },
  "cells": [
    {
      "cell_type": "markdown",
      "metadata": {
        "id": "view-in-github",
        "colab_type": "text"
      },
      "source": [
        "<a href=\"https://colab.research.google.com/github/mcewenar/Google_colab/blob/master/discurso_politico.ipynb\" target=\"_parent\"><img src=\"https://colab.research.google.com/assets/colab-badge.svg\" alt=\"Open In Colab\"/></a>"
      ]
    },
    {
      "cell_type": "code",
      "metadata": {
        "id": "BznvLBva4p6a"
      },
      "source": [],
      "execution_count": null,
      "outputs": []
    },
    {
      "cell_type": "markdown",
      "metadata": {
        "id": "zmQXXpxfztEA"
      },
      "source": [
        "<table>\n",
        "<tr>\n",
        "    <td><b>LAMBETAZO</b></td>\n",
        "    <td><b>POTENCIALES MARRANOS</b></td>\n",
        "    <td><b>CONDICIÓN</b></td>\n",
        "    <td><b>COMPROMISO</b></td>\n",
        "    <td><b>ILUSIÓN GUERRERISTA</b></td>\n",
        "    <td><b>PROMESA</b></td>\n",
        "    <td><b>BENEFICIO POPULISTA</b></td>\n",
        "    <td><b>DEPENDIENDO DE LA CANTIDAD DE VOTOS</b></td>\n",
        "</tr>\n",
        "<tr>\n",
        "    <td>QUERIDOS</td>\n",
        "    <td>COMPATRIOTAS</td>\n",
        "    <td>EN MI GOBIERNO</td>\n",
        "    <td>VOY A DERROTAR</td>\n",
        "    <td>LA VIOLENCIA Y</td>\n",
        "    <td>TRABAJARÉ POR</td>\n",
        "    <td>LA EDUCACIÓN</td>\n",
        "    <td>DEL PAÍS</td>\n",
        "</tr>\n",
        "<tr>\n",
        "    <td>APRECIADOS</td>\n",
        "    <td>CONCIUDADANOS</td>\n",
        "    <td>CON SU APOYO</td>\n",
        "    <td>VENCERÉ</td>\n",
        "    <td>LA DELINCUENCIA Y</td>\n",
        "    <td>GARANTIZARÉ</td>\n",
        "    <td>EL EMPLEO</td>\n",
        "    <td>DE LA CIUDAD</td>\n",
        "</tr>\n",
        "<tr>\n",
        "    <td>DISTINGUIDOS</td>\n",
        "    <td>AMIGOS</td>\n",
        "    <td>SIENDO ELEGIDO</td>\n",
        "    <td>ELIMINARÉ</td>\n",
        "    <td>LA CORRUPCIÓN Y</td>\n",
        "    <td>PROTEGERÉ</td>\n",
        "    <td>LA SEGURIDAD</td>\n",
        "    <td>DE LA COMUNIDAD</td>\n",
        "</tr>\n",
        "<tr>\n",
        "    <td>HONORABLES</td>\n",
        "    <td>COTERRANEOS</td>\n",
        "    <td>CON SU AYUDA</td>\n",
        "    <td>ACABARÉ</td>\n",
        "    <td>LA INFLACIÓN Y</td>\n",
        "    <td>VELARÉ POR</td>\n",
        "    <td>LA LAZ</td>\n",
        "    <td>DE LA POBLACIÓN</td>\n",
        "</tr>\n",
        "<tr>\n",
        "    <td>ESTIMADOS</td>\n",
        "    <td>COPARTIDARIOS</td>\n",
        "    <td>SI ME SIGUEN</td>\n",
        "    <td>LUCHARÉ CONTRA</td>\n",
        "    <td>LA POBREZA Y</td>\n",
        "    <td>PROMOVERÉ</td>\n",
        "    <td>LA IGUALDAD</td>\n",
        "    <td>PARA TODA LA GENTE</td>\n",
        "</tr>\n",
        "<tr>\n",
        "    <td>RESPETADOS</td>\n",
        "    <td>ELECTORES</td>\n",
        "    <td>DURANTE MI MANDATO</td>\n",
        "    <td>COMBATIRÉ</td>\n",
        "    <td>EL DESPLAZAMIENTO Y</td>\n",
        "    <td>DEFENDERÉ</td>\n",
        "    <td>LA SALUD</td>\n",
        "    <td>DE CADA COLOMBIANO</td>\n",
        "</tr>    \n",
        "</table>"
      ]
    },
    {
      "cell_type": "code",
      "metadata": {
        "colab": {
          "base_uri": "https://localhost:8080/"
        },
        "id": "g6xNdB1T5JCz",
        "outputId": "10e8f70a-4b2d-4903-810e-033be6003939"
      },
      "source": [
        "import random\n",
        "lambetazo = [\"Queridos\",\"Apreciados\",\"Distinguidos\",\"Honorables\",\"Estimados\",\"Respetados\"]\n",
        "potenciales_Marranos = [\"compatriotas\",\"conciudadanos\",\"hijitos\",\"copartidarios\",\"ciudadanías libres\",\"electores\"]\n",
        "condicion = [\"en mi gobierno\",\"con su apoyo\",\"siendo elegido\",\"con su ayuda\",\"si me siguen\",\"durante mi mandato\"]\n",
        "compromiso = [\"voy a derrotar\",\"venceré\",\"eliminaré\",\"acabaré\",\"lucharé contra\",\"combatiré\"]\n",
        "ilusion_guerrerista = [\"La violencia y\",\"la delincuencia y\",\"la corrupción y\",\"la inflación y\",\"la pobreza y\",\"el desplazamiento y\"]\n",
        "promesa = [\"trabajaré por\", \"garantizaré\",\"protegeré\",\"velaré por\",\"promoveré\",\"defenderé\"]\n",
        "beneficio_populista = [\"la educación\",\"el empleo\",\"la seguridad\",\"la paz\",\"la igualdad\",\"la salud\"]\n",
        "dependiendo_de_votos = [\"del país\", \"de la ciudad\", \"de la comunidad\", \"de la población\",\"para toda la gente\", \"de cada colombiano\"]\n",
        "\n",
        "choice_lambetazo = random.choice(lambetazo) #se utiliza la librería para seleccionar un elemento al azar de la lista sujetos\n",
        "choice_potencialesMarranos = random.choice(potenciales_Marranos)\n",
        "choice_condicion = random.choice(condicion)\n",
        "choice_compromiso = random.choice(compromiso)\n",
        "choice_ilusion = random.choice(ilusion_guerrerista)\n",
        "choice_promesa = random.choice(promesa)\n",
        "choice_beneficio_populista = random.choice(beneficio_populista)\n",
        "choice_dependiendoVotos = random.choice(dependiendo_de_votos)\n",
        "\n",
        "print(\"Discurso político generado: \", choice_lambetazo, choice_potencialesMarranos,\",\", choice_condicion, choice_compromiso, choice_ilusion, choice_promesa, choice_beneficio_populista, choice_dependiendoVotos)\n",
        "print(\"Discurso político generado: \", choice_lambetazo +\" \"+ choice_potencialesMarranos +\", \"+ choice_condicion +\" \"+ choice_compromiso +\" \"+ choice_ilusion +\" \"+ choice_promesa +\" \"+ choice_beneficio_populista +\" \"+ choice_dependiendoVotos)\n"
      ],
      "execution_count": null,
      "outputs": [
        {
          "output_type": "stream",
          "text": [
            "Discurso político generado:  Honorables electores , si me siguen eliminaré la corrupción y velaré por la paz de la ciudad\n",
            "Discurso político generado:  Honorables electores, si me siguen eliminaré la corrupción y velaré por la paz de la ciudad\n"
          ],
          "name": "stdout"
        }
      ]
    }
  ]
}