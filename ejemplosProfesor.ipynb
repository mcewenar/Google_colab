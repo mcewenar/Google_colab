{
  "nbformat": 4,
  "nbformat_minor": 0,
  "metadata": {
    "colab": {
      "name": "ejemplosProfesor.ipynb",
      "provenance": [],
      "collapsed_sections": [],
      "authorship_tag": "ABX9TyPhchPYX3BZR8dvXaPStjtH",
      "include_colab_link": true
    },
    "kernelspec": {
      "name": "python3",
      "display_name": "Python 3"
    },
    "language_info": {
      "name": "python"
    }
  },
  "cells": [
    {
      "cell_type": "markdown",
      "metadata": {
        "id": "view-in-github",
        "colab_type": "text"
      },
      "source": [
        "<a href=\"https://colab.research.google.com/github/mcewenar/Google_colab/blob/master/ejemplosProfesor.ipynb\" target=\"_parent\"><img src=\"https://colab.research.google.com/assets/colab-badge.svg\" alt=\"Open In Colab\"/></a>"
      ]
    },
    {
      "cell_type": "code",
      "metadata": {
        "id": "mNj0n4sFXH05"
      },
      "source": [
        "#comentario, ejercicio de evaluacion de expresiones\n",
        "ya=3; xa=4; xb=2;\n",
        "#a =xb * ya =6\n",
        "#a1= a /xa = 1.5\n",
        "#a2= a1/xb = 0.75\n",
        "#y= ya + a2 = 3.75\n",
        "y= ya  + xb *ya / xa / xb\n",
        "print(y)\n"
      ],
      "execution_count": null,
      "outputs": []
    },
    {
      "cell_type": "code",
      "metadata": {
        "id": "bwgcf4q7XNBx"
      },
      "source": [
        "# calculo de raices de una ecuacion cuadratica  a*x**2 + b*x +c =0\n",
        "a=2; b=6; c=3\n",
        "\n",
        "x1= (-b +  (b**2 - 4*a*c)**(1/2))  / (2*a) \n",
        "\n",
        "x2= (-b - (b**2-4*a*c)**(1/2)) / (2*a)\n",
        "print(x1)\n",
        "print(x2)\n",
        "print(a*x1**2+b*x1+c)\n",
        "print(a*x2**2+b*x2+c)\n",
        "#print(1.0 / 2 / 4)\n",
        "#print(1/2 + 4.0 ** (1 / 2) )\n",
        "#print(4.0 ** (1.0 / 2) + 1 / 2.0)\n",
        "#print(3e3 / 10)  #300.0\n",
        "#print( 5e-3/100) # 0.005/100 =0.00005\n",
        "#print( 5e-3 / 10 + 1) #=1.0005\n",
        "#print(1 +3 // 2 ) #1 +1 =2\n",
        "#print(7%2) #1\n",
        "#print(3//-2) #redondea el cociente al nro entero mas cercano a  cero\n",
        "#print(5/0)\n",
        "eps= 10E-15\n",
        "\n",
        "xx= 5 + 1.5* 2.3**2 /3 #\n",
        "#print(xx)\n",
        "preC:bool = xx <eps\n",
        "#print(preC)\n",
        "\n",
        "aa= 3 > 2\n",
        "bb= 35 < 36\n",
        "print(aa and bb)\n",
        "#encontrar la nota definitiva de un estudiante y determinar si aprobo el curso\n",
        "n1=3.3;n2=4.;n3=2.5; n4=0.\n",
        "#ND=(n1+n2+n3+n4)/4\n",
        "#print(\"la nota definitiva es: \",end=\" \")\n",
        "#print(ND,end= \" \")\n",
        "#aprobo:bool= ND >= 3.0 \n",
        "#print(aprobo)\n",
        "\n",
        "apro : bool = (n1+n2+n3+n4)/4 >= 3.\n",
        "print(apro)"
      ],
      "execution_count": null,
      "outputs": []
    },
    {
      "cell_type": "code",
      "metadata": {
        "id": "azt1XHHHYUXd"
      },
      "source": [
        "#a: int=5\n",
        "#print(type(a))\n",
        "a=1.8\n",
        "#print(type(a))\n",
        "b=0.8\n",
        "#print(a//b)   # sin parentesis\n",
        "#print(a %b)\n",
        "\n",
        "eps=1E-12\n",
        "#print(eps)\n",
        "\n",
        "x=1\n",
        "x = x + eps* (x==0)\n",
        "print(x)\n",
        "print(a/x)"
      ],
      "execution_count": null,
      "outputs": []
    }
  ]
}