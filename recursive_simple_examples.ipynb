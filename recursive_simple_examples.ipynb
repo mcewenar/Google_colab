{
  "nbformat": 4,
  "nbformat_minor": 0,
  "metadata": {
    "colab": {
      "provenance": [],
      "authorship_tag": "ABX9TyPrB2ZbPl3ISuXP+3LpHdsR",
      "include_colab_link": true
    },
    "kernelspec": {
      "name": "python3",
      "display_name": "Python 3"
    },
    "language_info": {
      "name": "python"
    }
  },
  "cells": [
    {
      "cell_type": "markdown",
      "metadata": {
        "id": "view-in-github",
        "colab_type": "text"
      },
      "source": [
        "<a href=\"https://colab.research.google.com/github/mcewenar/Google_colab/blob/master/recursive_simple_examples.ipynb\" target=\"_parent\"><img src=\"https://colab.research.google.com/assets/colab-badge.svg\" alt=\"Open In Colab\"/></a>"
      ]
    },
    {
      "cell_type": "code",
      "execution_count": 2,
      "metadata": {
        "colab": {
          "base_uri": "https://localhost:8080/"
        },
        "id": "nH34Fpp7sPiP",
        "outputId": "6a52a54e-05ce-4ebb-8f3c-f189929ffaa8"
      },
      "outputs": [
        {
          "output_type": "stream",
          "name": "stdout",
          "text": [
            "15\n",
            "120\n",
            "3 -> 2 -> 1 -> fin\n"
          ]
        }
      ],
      "source": [
        "#Direct return\n",
        "\n",
        "def add(a,b):\n",
        "    if b == 0:\n",
        "        return a\n",
        "    return add(a+1,b-1)\n",
        "\n",
        "print(add(10,5))\n",
        "#foo() -> bar() -> baz() -> caso_base() = X\n",
        "#<- X   <- X    <- X      <- X\n"
      ]
    },
    {
      "cell_type": "code",
      "source": [
        "def concat(n):\n",
        "    if n == 0:\n",
        "        return \"end\"\n",
        "    return f\"{n} -> \" + concat(n-1)\n",
        "\n",
        "print(concat(3))\n",
        "\n",
        "#BASE RETURN: concat(1) = \"1 -> \" + \"end\" = \"1 -> end\"\n",
        "#RETURN 2: concat(2) = \"2 -> \" + \"1 -> end\" = \"2 -> 1 -> end\"\n",
        "#RETURN 3: concat(3) = \"3 -> \" + \"2 -> 1 -> end\" = \"3 -> 2 -> 1 -> end\""
      ],
      "metadata": {
        "colab": {
          "base_uri": "https://localhost:8080/"
        },
        "id": "nsjbSKEu3Rlr",
        "outputId": "994bd160-9853-4ffc-cf8b-5323e8832a3d"
      },
      "execution_count": 3,
      "outputs": [
        {
          "output_type": "stream",
          "name": "stdout",
          "text": [
            "3 -> 2 -> 1 -> fin\n"
          ]
        }
      ]
    },
    {
      "cell_type": "code",
      "source": [
        "#processed return\n",
        "def factorial(n):\n",
        "    if n == 0:\n",
        "        return 1\n",
        "    return n * factorial(n-1)\n",
        "\n",
        "print(factorial(5))\n",
        "#f(n) -> f(n-1) -> ... -> caso_base() = X\n",
        "#<- g(X) <- h(g(X)) <- ... <- resultado final"
      ],
      "metadata": {
        "colab": {
          "base_uri": "https://localhost:8080/"
        },
        "id": "rP6o5eyS0HIJ",
        "outputId": "717df373-b326-47c4-9ce4-8903bfff5193"
      },
      "execution_count": 4,
      "outputs": [
        {
          "output_type": "stream",
          "name": "stdout",
          "text": [
            "120\n"
          ]
        }
      ]
    }
  ]
}