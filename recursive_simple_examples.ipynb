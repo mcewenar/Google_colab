{
  "nbformat": 4,
  "nbformat_minor": 0,
  "metadata": {
    "colab": {
      "provenance": [],
      "authorship_tag": "ABX9TyOf9B4KcRraLpEJgbLlZjIP",
      "include_colab_link": true
    },
    "kernelspec": {
      "name": "python3",
      "display_name": "Python 3"
    },
    "language_info": {
      "name": "python"
    }
  },
  "cells": [
    {
      "cell_type": "markdown",
      "metadata": {
        "id": "view-in-github",
        "colab_type": "text"
      },
      "source": [
        "<a href=\"https://colab.research.google.com/github/mcewenar/Google_colab/blob/master/recursive_simple_examples.ipynb\" target=\"_parent\"><img src=\"https://colab.research.google.com/assets/colab-badge.svg\" alt=\"Open In Colab\"/></a>"
      ]
    },
    {
      "cell_type": "code",
      "execution_count": null,
      "metadata": {
        "colab": {
          "base_uri": "https://localhost:8080/"
        },
        "id": "nH34Fpp7sPiP",
        "outputId": "6a52a54e-05ce-4ebb-8f3c-f189929ffaa8"
      },
      "outputs": [
        {
          "output_type": "stream",
          "name": "stdout",
          "text": [
            "15\n",
            "120\n",
            "3 -> 2 -> 1 -> fin\n"
          ]
        }
      ],
      "source": [
        "#Direct return\n",
        "\n",
        "def add(a,b):\n",
        "    if b == 0:\n",
        "        return a\n",
        "    return add(a+1,b-1)\n",
        "\n",
        "print(add(10,5))\n",
        "#foo() -> bar() -> baz() -> caso_base() = X\n",
        "#<- X   <- X    <- X      <- X\n"
      ]
    },
    {
      "cell_type": "code",
      "source": [
        "def concat(n):\n",
        "    if n == 0:\n",
        "        return \"end\"\n",
        "    return f\"{n} -> \" + concat(n-1)\n",
        "\n",
        "print(concat(3))\n",
        "\n",
        "#BASE RETURN: concat(1) = \"1 -> \" + \"end\" = \"1 -> end\"\n",
        "#RETURN 2: concat(2) = \"2 -> \" + \"1 -> end\" = \"2 -> 1 -> end\"\n",
        "#RETURN 3: concat(3) = \"3 -> \" + \"2 -> 1 -> end\" = \"3 -> 2 -> 1 -> end\"\n",
        "\n",
        "\n",
        "def concat2(n):\n",
        "    if n == 0:\n",
        "        return \"\"\n",
        "    return f\"{n} fin\" + (\" -> \" if n > 1 else \"\") + concat2(n-1)\n",
        "\n",
        "print(concat2(3))\n"
      ],
      "metadata": {
        "colab": {
          "base_uri": "https://localhost:8080/"
        },
        "id": "nsjbSKEu3Rlr",
        "outputId": "1cd37046-0c33-436d-d7e2-b142b891fb69"
      },
      "execution_count": 1,
      "outputs": [
        {
          "output_type": "stream",
          "name": "stdout",
          "text": [
            "3 -> 2 -> 1 -> end\n",
            "3 fin -> 2 fin -> 1 fin\n"
          ]
        }
      ]
    },
    {
      "cell_type": "code",
      "source": [
        "#processed return\n",
        "def factorial(n):\n",
        "    if n == 0:\n",
        "        return 1\n",
        "    return n * factorial(n-1)\n",
        "\n",
        "print(factorial(5))\n",
        "#f(n) -> f(n-1) -> ... -> caso_base() = X\n",
        "#<- g(X) <- h(g(X)) <- ... <- resultado final"
      ],
      "metadata": {
        "colab": {
          "base_uri": "https://localhost:8080/"
        },
        "id": "rP6o5eyS0HIJ",
        "outputId": "717df373-b326-47c4-9ce4-8903bfff5193"
      },
      "execution_count": null,
      "outputs": [
        {
          "output_type": "stream",
          "name": "stdout",
          "text": [
            "120\n"
          ]
        }
      ]
    }
  ]
}