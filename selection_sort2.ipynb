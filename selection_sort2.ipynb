{
  "nbformat": 4,
  "nbformat_minor": 0,
  "metadata": {
    "colab": {
      "provenance": [],
      "authorship_tag": "ABX9TyMLFBfMckM6iDa83f+ARhM/",
      "include_colab_link": true
    },
    "kernelspec": {
      "name": "python3",
      "display_name": "Python 3"
    },
    "language_info": {
      "name": "python"
    }
  },
  "cells": [
    {
      "cell_type": "markdown",
      "metadata": {
        "id": "view-in-github",
        "colab_type": "text"
      },
      "source": [
        "<a href=\"https://colab.research.google.com/github/mcewenar/Google_colab/blob/master/selection_sort2.ipynb\" target=\"_parent\"><img src=\"https://colab.research.google.com/assets/colab-badge.svg\" alt=\"Open In Colab\"/></a>"
      ]
    },
    {
      "cell_type": "code",
      "execution_count": null,
      "metadata": {
        "colab": {
          "base_uri": "https://localhost:8080/"
        },
        "id": "u6jmjo5--Ynu",
        "outputId": "db77122f-efda-419e-8fc7-7a310d55c1b8"
      },
      "outputs": [
        {
          "output_type": "stream",
          "name": "stdout",
          "text": [
            "Original array: [54, 23, 56, 87, 53, 51, 78, 84]\n",
            "Sorted array: [23, 51, 53, 54, 56, 78, 84, 87]\n"
          ]
        }
      ],
      "source": [
        "def selection_sort(arr):\n",
        "  for i in range(len(arr)):\n",
        "    min_index = i\n",
        "    for j in range(i +1, len(arr)):\n",
        "      if arr[j] < arr[min_index]:\n",
        "        min_index = j\n",
        "    arr[i], arr[min_index] = arr[min_index], arr[i]\n",
        "  return arr\n",
        "\n",
        "#Input:\n",
        "arr = [54,23,56,87,53,51,78,84]\n",
        "print(\"Original array:\", arr)\n",
        "selection_sort(arr)\n",
        "print(\"Sorted array:\", arr)"
      ]
    },
    {
      "cell_type": "code",
      "source": [
        "#Less python, more other languages.\n",
        "def selection_sort2(arr):\n",
        "  if len(arr) <= 1:\n",
        "    return arr\n",
        "  for i in range(len(arr)):\n",
        "    min_index = i\n",
        "    for j in range(i +1, len(arr)):\n",
        "      if arr[j] < arr[min_index]:\n",
        "        min_index = j\n",
        "    #Value exchange\n",
        "    temp = arr[min_index]\n",
        "    arr[min_index] = arr[i]\n",
        "    arr[i] = temp\n",
        "  return arr\n",
        "\n",
        "#Input:\n",
        "arr = [54,23,56,87,53,51,78,84]\n",
        "print(\"Original array:\", arr)\n",
        "selection_sort2(arr)\n",
        "print(\"Sorted array:\", arr)"
      ],
      "metadata": {
        "id": "033gGIt9LViq",
        "outputId": "caa9d82b-c3b3-43ea-cb48-70f6aad2e927",
        "colab": {
          "base_uri": "https://localhost:8080/"
        }
      },
      "execution_count": 2,
      "outputs": [
        {
          "output_type": "stream",
          "name": "stdout",
          "text": [
            "Original array: [54, 23, 56, 87, 53, 51, 78, 84]\n",
            "Sorted array: [23, 51, 53, 54, 56, 78, 84, 87]\n"
          ]
        }
      ]
    },
    {
      "cell_type": "code",
      "source": [],
      "metadata": {
        "id": "0cumMfPwLkCi"
      },
      "execution_count": null,
      "outputs": []
    }
  ]
}