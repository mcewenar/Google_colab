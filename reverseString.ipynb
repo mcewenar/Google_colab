{
  "nbformat": 4,
  "nbformat_minor": 0,
  "metadata": {
    "colab": {
      "name": "reverse.ipynb",
      "provenance": [],
      "authorship_tag": "ABX9TyM6BamFRMLHi8SgaIOgdxDp",
      "include_colab_link": true
    },
    "kernelspec": {
      "name": "python3",
      "display_name": "Python 3"
    },
    "language_info": {
      "name": "python"
    }
  },
  "cells": [
    {
      "cell_type": "markdown",
      "metadata": {
        "id": "view-in-github",
        "colab_type": "text"
      },
      "source": [
        "<a href=\"https://colab.research.google.com/github/mcewenar/Google_colab/blob/master/reverseString.ipynb\" target=\"_parent\"><img src=\"https://colab.research.google.com/assets/colab-badge.svg\" alt=\"Open In Colab\"/></a>"
      ]
    },
    {
      "cell_type": "code",
      "execution_count": 7,
      "metadata": {
        "colab": {
          "base_uri": "https://localhost:8080/"
        },
        "id": "vTs0tGjrNhjW",
        "outputId": "121cc9e4-a5ca-42c1-fa99-94ad99e15052"
      },
      "outputs": [
        {
          "output_type": "stream",
          "name": "stdout",
          "text": [
            "redocnohtyP \n"
          ]
        }
      ],
      "source": [
        "name = \"Pythoncoder\"\n",
        "s = \" \"\n",
        "for i in name:\n",
        "  s = i + s\n",
        "print(s)"
      ]
    }
  ]
}