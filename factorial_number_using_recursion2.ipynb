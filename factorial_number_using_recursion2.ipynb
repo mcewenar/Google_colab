{
  "nbformat": 4,
  "nbformat_minor": 0,
  "metadata": {
    "colab": {
      "provenance": [],
      "authorship_tag": "ABX9TyNt1BkNIbWKRvoIwV+aIPrL",
      "include_colab_link": true
    },
    "kernelspec": {
      "name": "python3",
      "display_name": "Python 3"
    },
    "language_info": {
      "name": "python"
    }
  },
  "cells": [
    {
      "cell_type": "markdown",
      "metadata": {
        "id": "view-in-github",
        "colab_type": "text"
      },
      "source": [
        "<a href=\"https://colab.research.google.com/github/mcewenar/Google_colab/blob/master/factorial_number_using_recursion2.ipynb\" target=\"_parent\"><img src=\"https://colab.research.google.com/assets/colab-badge.svg\" alt=\"Open In Colab\"/></a>"
      ]
    },
    {
      "cell_type": "code",
      "execution_count": 3,
      "metadata": {
        "colab": {
          "base_uri": "https://localhost:8080/"
        },
        "id": "DpuZ0qptWiQy",
        "outputId": "3028acd8-0871-46e4-dd97-525289d90573"
      },
      "outputs": [
        {
          "output_type": "stream",
          "name": "stdout",
          "text": [
            "Enter a number: 5\n",
            "The factorial of 5 is 120.\n"
          ]
        }
      ],
      "source": [
        "\"\"\"\n",
        "¿Qué es un Call Stack en la recursión?\n",
        "El Call Stack (pila de llamadas) es una estructura de datos tipo LIFO (Last In, First Out) utilizada por los lenguajes de programación para gestionar las llamadas a funciones, especialmente en la recursión.\n",
        "\n",
        "Cuando una función recursiva se llama a sí misma, cada nueva llamada se apila en el call stack. Cuando una llamada finaliza, se desapila (pop) y vuelve a la anterior.\n",
        "\n",
        "\n",
        "\"\"\"\n",
        "def factorial(n):\n",
        "  if n == 0 or n == 1:\n",
        "    return 1\n",
        "  else:\n",
        "    return n * factorial(n-1)\n",
        "\n",
        "num = int(input(\"Enter a number: \"))\n",
        "if num < 0:\n",
        "  print(\"Sorry, factorial does not exist for negative numbers\")\n",
        "else:\n",
        "  print(f\"The factorial of {num} is {factorial(num)}.\")\n",
        "\n",
        "\n",
        "\"\"\"\n",
        "Funcionamiento del Call Stack\n",
        "Si llamamos a factorial(5), el stack se ve así:\n",
        "\n",
        "factorial(5) espera el resultado de factorial(4).\n",
        "factorial(4) espera el resultado de factorial(3).\n",
        "factorial(3) espera el resultado de factorial(2).\n",
        "factorial(2) espera el resultado de factorial(1).\n",
        "factorial(1) retorna 1.\n",
        "\n",
        "(ahora, de adentro hacia afuera)\n",
        "Luego, la ejecución vuelve a subir, resolviendo cada llamada:\n",
        "factorial(2) → 2 * 1 = 2\n",
        "factorial(3) → 3 * 2 = 6\n",
        "factorial(4) → 4 * 6 = 24\n",
        "factorial(5) → 5 * 24 = 120\n",
        "\n",
        "\n",
        "def infinito(n):\n",
        "    print(n)\n",
        "    return infinito(n + 1)\n",
        "infinito(1)  # Esto causará un Stack Overflow Error\n",
        "\n",
        "En problemas grandes,\n",
        "la pila puede crecer demasiado.\n",
        "En estos casos, se usa recursión de cola o se convierte la recursión en un bucle iterativo.\n",
        "\n",
        "\"\"\""
      ]
    }
  ]
}