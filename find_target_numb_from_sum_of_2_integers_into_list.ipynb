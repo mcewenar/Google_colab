{
  "nbformat": 4,
  "nbformat_minor": 0,
  "metadata": {
    "colab": {
      "provenance": [],
      "authorship_tag": "ABX9TyNwYTkBj3Rj2OWN/7olSU0p",
      "include_colab_link": true
    },
    "kernelspec": {
      "name": "python3",
      "display_name": "Python 3"
    },
    "language_info": {
      "name": "python"
    }
  },
  "cells": [
    {
      "cell_type": "markdown",
      "metadata": {
        "id": "view-in-github",
        "colab_type": "text"
      },
      "source": [
        "<a href=\"https://colab.research.google.com/github/mcewenar/Google_colab/blob/master/find_target_numb_from_sum_of_2_integers_into_list.ipynb\" target=\"_parent\"><img src=\"https://colab.research.google.com/assets/colab-badge.svg\" alt=\"Open In Colab\"/></a>"
      ]
    },
    {
      "cell_type": "code",
      "execution_count": null,
      "metadata": {
        "colab": {
          "base_uri": "https://localhost:8080/"
        },
        "id": "Oy8mlOr1iBX4",
        "outputId": "dfba997e-198b-4677-c79d-d7f78e765f73"
      },
      "outputs": [
        {
          "output_type": "stream",
          "name": "stdout",
          "text": [
            "[1, 6]\n"
          ]
        }
      ],
      "source": [
        "#Given a list of integers and a target number, it determines the indices of the two numbers that add up to the target.\n",
        "\n",
        "list_input = [2,7,11,15,5,1,4]\n",
        "\n",
        "target = 11\n",
        "\n",
        "#Output: [1,6]\n",
        "\n",
        "\n",
        "#Brute force:\n",
        "#Time complexity: O(n^2)\n",
        "#Space complexity: O(1)\n",
        "def two_sum_brute_force(list_input, target):\n",
        "  for i in range(len(list_input)):\n",
        "    for j in range(i+1, len(list_input)):\n",
        "      if list_input[i] + list_input[j] == target:\n",
        "        return [i,j]\n",
        "\n",
        "\n",
        "print(two_sum_brute_force(list_input, target))\n",
        "\n",
        "\n",
        "\n",
        "\"\"\"\n",
        "\n",
        "JAVA IMPLEMENTATION:\n",
        "import java.util.Arrays;\n",
        "\n",
        "public class TwoSum {\n",
        "\n",
        "    public static int[] twoSumBruteForce(int[] nums, int target) {\n",
        "        for (int i = 0; i < nums.length; i++) {\n",
        "            for (int j = i + 1; j < nums.length; j++) {\n",
        "                if (nums[i] + nums[j] == target) {\n",
        "                    return new int[]{i, j};\n",
        "                }\n",
        "            }\n",
        "        }\n",
        "        // Si no se encuentra una solución\n",
        "        return new int[]{-1, -1};\n",
        "    }\n",
        "\n",
        "    public static void main(String[] args) {\n",
        "        int[] listInput = {2, 7, 11, 15, 5, 1, 4};\n",
        "        int target = 11;\n",
        "\n",
        "        int[] result = twoSumBruteForce(listInput, target);\n",
        "        System.out.println(Arrays.toString(result)); // Salida esperada: [1, 6]\n",
        "    }\n",
        "}\n",
        "\n",
        "\n",
        "\"\"\""
      ]
    },
    {
      "cell_type": "code",
      "source": [
        "#Given a list of integers and a target number, it determines the indices of the two numbers that add up to the target.\n",
        "\n",
        "list_input = [2,7,11,15,5,1,4]\n",
        "\n",
        "target = 11\n",
        "\n",
        "#Output: [1,6]\n",
        "\n",
        "\n",
        "#Using dictionaries saving values and indexes\n",
        "\n",
        "#Time complexity: O(n)\n",
        "#Space complexity: O(n)\n",
        "def two_sum_two_pass(list_input, target):\n",
        "  num_to_index = {num: i for i, num in enumerate(list_input)}\n",
        "\n",
        "  for i, num in enumerate(list_input):\n",
        "    complement = target - num\n",
        "    if complement in num_to_index and num_to_index[complement] != i:\n",
        "      return [i, num_to_index[complement]]\n",
        "\n",
        "\n",
        "print(two_sum_two_pass(list_input,target))\n",
        "\n",
        "\n",
        "\"\"\"\n",
        "JAVA IMPLEMENTATION:\n",
        "\n",
        "import java.util.HashMap;\n",
        "import java.util.Map;\n",
        "import java.util.Arrays;\n",
        "\n",
        "public class TwoSum {\n",
        "\n",
        "    public static int[] twoSumTwoPass(int[] nums, int target) {\n",
        "        // Primer recorrido: guardar número → índice\n",
        "        Map<Integer, Integer> numToIndex = new HashMap<>();\n",
        "        for (int i = 0; i < nums.length; i++) {\n",
        "            numToIndex.put(nums[i], i);\n",
        "        }\n",
        "\n",
        "        // Segundo recorrido: buscar el complemento\n",
        "        for (int i = 0; i < nums.length; i++) {\n",
        "            int complement = target - nums[i];\n",
        "            if (numToIndex.containsKey(complement) && numToIndex.get(complement) != i) {\n",
        "                return new int[]{i, numToIndex.get(complement)};\n",
        "            }\n",
        "        }\n",
        "\n",
        "        // Si no se encuentra una solución\n",
        "        return new int[]{-1, -1};\n",
        "    }\n",
        "\n",
        "    public static void main(String[] args) {\n",
        "        int[] listInput = {2, 7, 11, 15, 5, 1, 4};\n",
        "        int target = 11;\n",
        "\n",
        "        int[] result = twoSumTwoPass(listInput, target);\n",
        "        System.out.println(Arrays.toString(result)); // Salida esperada: [1, 6]\n",
        "    }\n",
        "}\n",
        "\n",
        "\n",
        "\n",
        "\"\"\""
      ],
      "metadata": {
        "colab": {
          "base_uri": "https://localhost:8080/"
        },
        "id": "iWTZOhMAjpPy",
        "outputId": "d0aca7e6-fc91-4167-c4cf-9cd269308e7b"
      },
      "execution_count": null,
      "outputs": [
        {
          "output_type": "stream",
          "name": "stdout",
          "text": [
            "[1, 6]\n"
          ]
        }
      ]
    },
    {
      "cell_type": "code",
      "source": [
        "#Pass once and saving the elements seen yet\n",
        "\n",
        "\n",
        "#Time complexity: O(n)\n",
        "#Space complexity: O(n)\n",
        "def two_sum(nums, target):\n",
        "  seen = {}\n",
        "  for i, num in enumerate(nums):\n",
        "    complement = target - num\n",
        "    if complement in seen:\n",
        "      return [seen[complement], i]\n",
        "    seen[num] = i\n",
        "  return []\n",
        "\n",
        "print(two_sum(list_input, target))\n",
        "\n",
        "\n",
        "\n",
        "\"\"\"\n",
        "JAVA IMPLEMENTATION:\n",
        "\n",
        "import java.util.HashMap;\n",
        "import java.util.Map;\n",
        "import java.util.Arrays;\n",
        "\n",
        "public class TwoSum {\n",
        "\n",
        "    public static int[] twoSum(int[] nums, int target) {\n",
        "        Map<Integer, Integer> seen = new HashMap<>();\n",
        "\n",
        "        for (int i = 0; i < nums.length; i++) {\n",
        "            int complement = target - nums[i];\n",
        "            if (seen.containsKey(complement)) {\n",
        "                return new int[]{seen.get(complement), i};\n",
        "            }\n",
        "            seen.put(nums[i], i);\n",
        "        }\n",
        "\n",
        "        // Si no se encuentra una solución\n",
        "        return new int[]{-1, -1};\n",
        "    }\n",
        "\n",
        "    public static void main(String[] args) {\n",
        "        int[] listInput = {2, 7, 11, 15, 5, 1, 4};\n",
        "        int target = 11;\n",
        "\n",
        "        int[] result = twoSum(listInput, target);\n",
        "        System.out.println(Arrays.toString(result)); // Salida esperada: [1, 6]\n",
        "    }\n",
        "}\n",
        "\n",
        "\n",
        "\"\"\""
      ],
      "metadata": {
        "colab": {
          "base_uri": "https://localhost:8080/"
        },
        "id": "kMBpaRoLkjgL",
        "outputId": "3aaf2b82-204a-4dcf-9ab9-dbb65bdba4cd"
      },
      "execution_count": null,
      "outputs": [
        {
          "output_type": "stream",
          "name": "stdout",
          "text": [
            "[1, 6]\n"
          ]
        }
      ]
    }
  ]
}