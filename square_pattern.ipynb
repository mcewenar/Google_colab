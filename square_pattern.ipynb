{
  "nbformat": 4,
  "nbformat_minor": 0,
  "metadata": {
    "colab": {
      "provenance": [],
      "authorship_tag": "ABX9TyN8Eo+VSwCecGxSR4w94kpd",
      "include_colab_link": true
    },
    "kernelspec": {
      "name": "python3",
      "display_name": "Python 3"
    },
    "language_info": {
      "name": "python"
    }
  },
  "cells": [
    {
      "cell_type": "markdown",
      "metadata": {
        "id": "view-in-github",
        "colab_type": "text"
      },
      "source": [
        "<a href=\"https://colab.research.google.com/github/mcewenar/Google_colab/blob/master/square_pattern.ipynb\" target=\"_parent\"><img src=\"https://colab.research.google.com/assets/colab-badge.svg\" alt=\"Open In Colab\"/></a>"
      ]
    },
    {
      "cell_type": "code",
      "execution_count": 3,
      "metadata": {
        "colab": {
          "base_uri": "https://localhost:8080/"
        },
        "id": "nPmp9nbY191Z",
        "outputId": "4183b5ec-2c43-4127-d0ad-7f8b08923ab0"
      },
      "outputs": [
        {
          "output_type": "stream",
          "name": "stdout",
          "text": [
            "Enter n value: 7\n",
            "01 02 03 04 05 06 07 \n",
            "02 04 06 08 10 12 14 \n",
            "03 06 09 12 15 18 21 \n",
            "04 08 12 16 20 24 28 \n",
            "05 10 15 20 25 30 35 \n",
            "06 12 18 24 30 36 42 \n",
            "07 14 21 28 35 42 49 \n"
          ]
        }
      ],
      "source": [
        "#Write square pattern:\n",
        "\n",
        "# Solicitar valor de entrada\n",
        "n = int(input(\"Enter n value: \"))\n",
        "\n",
        "# Generar el patrón de la matriz\n",
        "for i in range(1, n+1):\n",
        "    for j in range(1, n+1):\n",
        "        # Imprimir los números con formato de dos dígitos\n",
        "        print(f\"{i*j:02d}\", end=\" \")\n",
        "    print()  # Imprimir nueva línea después de cada fila"
      ]
    }
  ]
}