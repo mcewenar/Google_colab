{
  "nbformat": 4,
  "nbformat_minor": 0,
  "metadata": {
    "colab": {
      "provenance": [],
      "authorship_tag": "ABX9TyNvZACO1z1vgyP9Y3Vug4oQ",
      "include_colab_link": true
    },
    "kernelspec": {
      "name": "python3",
      "display_name": "Python 3"
    },
    "language_info": {
      "name": "python"
    }
  },
  "cells": [
    {
      "cell_type": "markdown",
      "metadata": {
        "id": "view-in-github",
        "colab_type": "text"
      },
      "source": [
        "<a href=\"https://colab.research.google.com/github/mcewenar/Google_colab/blob/master/closure_functions.ipynb\" target=\"_parent\"><img src=\"https://colab.research.google.com/assets/colab-badge.svg\" alt=\"Open In Colab\"/></a>"
      ]
    },
    {
      "cell_type": "code",
      "execution_count": 1,
      "metadata": {
        "colab": {
          "base_uri": "https://localhost:8080/"
        },
        "id": "V6ppTsWNk6vr",
        "outputId": "a0fc8da0-d17e-4037-ddea-e3cb466570b1"
      },
      "outputs": [
        {
          "output_type": "stream",
          "name": "stdout",
          "text": [
            "Hola, soy una closure\n"
          ]
        }
      ],
      "source": [
        "\"\"\"Las closures (o clausuras) en Python son funciones que \"recuerdan\" el entorno en el que fueron creadas,\n",
        "incluso después de que ese entorno haya dejado de existir. Esto significa que una closure puede acceder a variables de su entorno externo,\n",
        "aunque la función exterior haya terminado su ejecución.\n",
        "\n",
        "Una función closure ocurre cuando:\n",
        "\n",
        "Hay una función anidada: una función dentro de otra.\n",
        "La función interna accede a variables de la función externa.\n",
        "La función externa devuelve la función interna.\n",
        "La clave es que la función interna \"recuerda\" los valores de las variables de la función externa incluso después de que la función externa haya terminado.\n",
        "\n",
        "\"\"\"\n",
        "\n",
        "\n",
        "#Exercise1:\n",
        "def outer_function(text):\n",
        "    def inner_function():\n",
        "        print(text)  # La función interna accede a 'text' de la función externa\n",
        "    return inner_function\n",
        "\n",
        "my_closure = outer_function(\"Hola, soy una closure\")\n",
        "#my_closure(): Aunque outer_function ya ha terminado de ejecutarse,\n",
        "#my_closure aún puede acceder a la variable text y la imprime. Esto es posible gracias a la closure, que conserva el entorno en el que fue creada.\n",
        "\n",
        "my_closure()  # Output: Hola, soy una closure"
      ]
    },
    {
      "cell_type": "code",
      "source": [
        "#Exercise2:\n",
        "#Vamos a construir una función que genere un contador.\n",
        "#Cada vez que llamemos a la función interna, incrementará un valor y nos devolverá el valor actualizado.\n",
        "\n",
        "def make_counter():\n",
        "    count = 0  # Esta es la variable que será recordada por la closure\n",
        "\n",
        "    def increment():\n",
        "        nonlocal count  # Esto indica que estamos modificando la variable externa 'count'\n",
        "        count += 1\n",
        "        return count\n",
        "\n",
        "    return increment\n",
        "\n",
        "counter = make_counter()  # Crea un contador\n",
        "\n",
        "print(counter())  # Output: 1\n",
        "print(counter())  # Output: 2\n",
        "print(counter())  # Output: 3"
      ],
      "metadata": {
        "id": "lpeCtbscnKEM"
      },
      "execution_count": null,
      "outputs": []
    },
    {
      "cell_type": "code",
      "source": [
        "\"\"\"¿Qué hace especial a las closures?\n",
        "Recuerdan el estado: Una closure \"recuerda\" las variables de la función exterior, aunque la función exterior haya finalizado.\n",
        "Encapsulación de datos: Puedes usar closures para mantener un estado oculto. En este ejemplo, no podemos modificar directamente count desde fuera de make_counter,\n",
        "pero podemos interactuar con él a través de la closure.\n",
        "\n",
        "Las closures son una forma poderosa de mantener estado en funciones en Python. Son útiles para crear funciones personalizadas que recuerdan valores anteriores,\n",
        "como en el ejemplo del contador o del descuento acumulado.\n",
        "También proporcionan una manera de encapsular datos de forma privada y controlada, lo que ayuda a proteger el estado interno de una función.\n",
        "\n",
        "\"\"\"\n",
        "\n",
        "def make_discount(base_discount):\n",
        "    total_discount = base_discount\n",
        "\n",
        "    def apply_discount(amount):\n",
        "        nonlocal total_discount\n",
        "        total_discount += 0.01  # Cada vez que se llama, el descuento aumenta en 1%\n",
        "        return amount * (1 - total_discount)\n",
        "\n",
        "    return apply_discount\n",
        "\n",
        "discount = make_discount(0.10)  # Empieza con un 10% de descuento\n",
        "\n",
        "print(discount(100))  # Output: 90.0 (10% de descuento)\n",
        "print(discount(100))  # Output: 89.0 (11% de descuento)\n",
        "print(discount(100))  # Output: 88.0 (12% de descuento)"
      ],
      "metadata": {
        "id": "exTiv_YEnnkZ"
      },
      "execution_count": null,
      "outputs": []
    },
    {
      "cell_type": "code",
      "source": [
        "#Exercise: Closure es una funcion que usa una o más variables declaradas fuera del ámbito (scope) de la funcion:\n",
        "def sum(x):\n",
        "  n = 10\n",
        "  def add(y):\n",
        "    return x + y + n\n",
        "  return add\n",
        "\n",
        "def sum_closure_lambda(x):\n",
        "  n = 10\n",
        "  return lambda y: x + y + n\n",
        "\n",
        "print(f\"VARIABLE DENTRO FUNCION CLOSURE: {sum_closure_lambda(5)}\")\n",
        "print(f\"VARIABLE DENTRO FUNCION CLOSURE: {sum_closure_lambda(6)}\")"
      ],
      "metadata": {
        "colab": {
          "base_uri": "https://localhost:8080/"
        },
        "id": "q_QJ8A8goIZa",
        "outputId": "49e66ef3-8040-4999-f67b-958cd13af9e2"
      },
      "execution_count": 6,
      "outputs": [
        {
          "output_type": "stream",
          "name": "stdout",
          "text": [
            "VARIABLE DENTRO FUNCION CLOSURE: <function sum_closure_lambda.<locals>.<lambda> at 0x78efc7133b50>\n",
            "VARIABLE DENTRO FUNCION CLOSURE: <function sum_closure_lambda.<locals>.<lambda> at 0x78eff87faa70>\n"
          ]
        }
      ]
    }
  ]
}