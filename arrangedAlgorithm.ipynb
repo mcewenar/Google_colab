{
  "nbformat": 4,
  "nbformat_minor": 0,
  "metadata": {
    "colab": {
      "provenance": [],
      "authorship_tag": "ABX9TyMAKmOgNcB/0AQjORFK+mGS",
      "include_colab_link": true
    },
    "kernelspec": {
      "name": "python3",
      "display_name": "Python 3"
    },
    "language_info": {
      "name": "python"
    }
  },
  "cells": [
    {
      "cell_type": "markdown",
      "metadata": {
        "id": "view-in-github",
        "colab_type": "text"
      },
      "source": [
        "<a href=\"https://colab.research.google.com/github/mcewenar/Google_colab/blob/master/arrangedAlgorithm.ipynb\" target=\"_parent\"><img src=\"https://colab.research.google.com/assets/colab-badge.svg\" alt=\"Open In Colab\"/></a>"
      ]
    },
    {
      "cell_type": "code",
      "execution_count": 3,
      "metadata": {
        "colab": {
          "base_uri": "https://localhost:8080/"
        },
        "id": "dI3uIRbNFZ_T",
        "outputId": "88813dee-ba69-41e3-a7a3-78c1213e1e30"
      },
      "outputs": [
        {
          "output_type": "stream",
          "name": "stdout",
          "text": [
            "[2, 6, 11, 19, 27, 31, 45, 121]\n"
          ]
        }
      ],
      "source": [
        "#Bubble sort:\n",
        "'''comparison based algortithm in which each pais of adjacent elements is compared\n",
        "and the elements are swapped if they are not in order.\n",
        "'''\n",
        "def bubbleSort(list):\n",
        "  for iter_number in range(len(list)-1,0,-1):\n",
        "    for idx in range(iter_number):\n",
        "      if list[idx]>list[idx+1]:\n",
        "        temp = list[idx]\n",
        "        list[idx] = list[idx+1]\n",
        "        list[idx+1] = temp\n",
        "list = [19,2,31,45,6,11,121,27]\n",
        "bubbleSort(list);\n",
        "print(list);\n",
        "\n"
      ]
    },
    {
      "cell_type": "code",
      "source": [
        "#Merge sort:\n",
        "'''Merge sort first divides the array into equal halves and then\n",
        "combines them in a sorted manner'''\n",
        "\n",
        "#merge the sorted halves\n",
        "def merge(left_half,right_half):\n",
        "  res = []\n",
        "  while len(left_half) != 0 and len(right_half) != 0:\n",
        "    if left_half[0] < right_half[0]:\n",
        "      res.append(left_half[0])\n",
        "      left_half.remove(left_half[0])\n",
        "    else:\n",
        "      res.append(right_half[0])\n",
        "      right_half.remove(right_half[0])\n",
        "  if len(left_half) == 0:\n",
        "    res = res + right_half\n",
        "  else:\n",
        "    res = res + left_half\n",
        "  return res\n",
        "\n",
        "def merge_sort(unsorted_list):\n",
        "  if len(unsorted_list) <= 1:\n",
        "    return unsorted_list\n",
        "#find the middle point and divide it\n",
        "  middle = len(unsorted_list)//2\n",
        "  left_list = unsorted_list[:middle]\n",
        "  right_list = unsorted_list[middle:]\n",
        "\n",
        "  left_list = merge_sort(left_list)\n",
        "  right_list = merge_sort(right_list)\n",
        "  return list(merge(left_list,right_list))\n",
        "\n",
        "\n",
        "unsorted_list = [64,34,25,12,22,11,90]\n",
        "print(merge_sort(unsorted_list))\n",
        "\n"
      ],
      "metadata": {
        "colab": {
          "base_uri": "https://localhost:8080/",
          "height": 373
        },
        "id": "C2feynISSrLc",
        "outputId": "97178aa8-9ef3-4b10-eaaf-713ed586d4df"
      },
      "execution_count": 8,
      "outputs": [
        {
          "output_type": "error",
          "ename": "TypeError",
          "evalue": "'list' object is not callable",
          "traceback": [
            "\u001b[0;31m---------------------------------------------------------------------------\u001b[0m",
            "\u001b[0;31mTypeError\u001b[0m                                 Traceback (most recent call last)",
            "\u001b[0;32m<ipython-input-8-b4e04a946e23>\u001b[0m in \u001b[0;36m<cell line: 35>\u001b[0;34m()\u001b[0m\n\u001b[1;32m     33\u001b[0m \u001b[0;34m\u001b[0m\u001b[0m\n\u001b[1;32m     34\u001b[0m \u001b[0munsorted_list\u001b[0m \u001b[0;34m=\u001b[0m \u001b[0;34m[\u001b[0m\u001b[0;36m64\u001b[0m\u001b[0;34m,\u001b[0m\u001b[0;36m34\u001b[0m\u001b[0;34m,\u001b[0m\u001b[0;36m25\u001b[0m\u001b[0;34m,\u001b[0m\u001b[0;36m12\u001b[0m\u001b[0;34m,\u001b[0m\u001b[0;36m22\u001b[0m\u001b[0;34m,\u001b[0m\u001b[0;36m11\u001b[0m\u001b[0;34m,\u001b[0m\u001b[0;36m90\u001b[0m\u001b[0;34m]\u001b[0m\u001b[0;34m\u001b[0m\u001b[0;34m\u001b[0m\u001b[0m\n\u001b[0;32m---> 35\u001b[0;31m \u001b[0mprint\u001b[0m\u001b[0;34m(\u001b[0m\u001b[0mmerge_sort\u001b[0m\u001b[0;34m(\u001b[0m\u001b[0munsorted_list\u001b[0m\u001b[0;34m)\u001b[0m\u001b[0;34m)\u001b[0m\u001b[0;34m\u001b[0m\u001b[0;34m\u001b[0m\u001b[0m\n\u001b[0m\u001b[1;32m     36\u001b[0m \u001b[0;34m\u001b[0m\u001b[0m\n",
            "\u001b[0;32m<ipython-input-8-b4e04a946e23>\u001b[0m in \u001b[0;36mmerge_sort\u001b[0;34m(unsorted_list)\u001b[0m\n\u001b[1;32m     27\u001b[0m   \u001b[0mright_list\u001b[0m \u001b[0;34m=\u001b[0m \u001b[0munsorted_list\u001b[0m\u001b[0;34m[\u001b[0m\u001b[0mmiddle\u001b[0m\u001b[0;34m:\u001b[0m\u001b[0;34m]\u001b[0m\u001b[0;34m\u001b[0m\u001b[0;34m\u001b[0m\u001b[0m\n\u001b[1;32m     28\u001b[0m \u001b[0;34m\u001b[0m\u001b[0m\n\u001b[0;32m---> 29\u001b[0;31m   \u001b[0mleft_list\u001b[0m \u001b[0;34m=\u001b[0m \u001b[0mmerge_sort\u001b[0m\u001b[0;34m(\u001b[0m\u001b[0mleft_list\u001b[0m\u001b[0;34m)\u001b[0m\u001b[0;34m\u001b[0m\u001b[0;34m\u001b[0m\u001b[0m\n\u001b[0m\u001b[1;32m     30\u001b[0m   \u001b[0mright_list\u001b[0m \u001b[0;34m=\u001b[0m \u001b[0mmerge_sort\u001b[0m\u001b[0;34m(\u001b[0m\u001b[0mright_list\u001b[0m\u001b[0;34m)\u001b[0m\u001b[0;34m\u001b[0m\u001b[0;34m\u001b[0m\u001b[0m\n\u001b[1;32m     31\u001b[0m   \u001b[0;32mreturn\u001b[0m \u001b[0mlist\u001b[0m\u001b[0;34m(\u001b[0m\u001b[0mmerge\u001b[0m\u001b[0;34m(\u001b[0m\u001b[0mleft_list\u001b[0m\u001b[0;34m,\u001b[0m\u001b[0mright_list\u001b[0m\u001b[0;34m)\u001b[0m\u001b[0;34m)\u001b[0m\u001b[0;34m\u001b[0m\u001b[0;34m\u001b[0m\u001b[0m\n",
            "\u001b[0;32m<ipython-input-8-b4e04a946e23>\u001b[0m in \u001b[0;36mmerge_sort\u001b[0;34m(unsorted_list)\u001b[0m\n\u001b[1;32m     28\u001b[0m \u001b[0;34m\u001b[0m\u001b[0m\n\u001b[1;32m     29\u001b[0m   \u001b[0mleft_list\u001b[0m \u001b[0;34m=\u001b[0m \u001b[0mmerge_sort\u001b[0m\u001b[0;34m(\u001b[0m\u001b[0mleft_list\u001b[0m\u001b[0;34m)\u001b[0m\u001b[0;34m\u001b[0m\u001b[0;34m\u001b[0m\u001b[0m\n\u001b[0;32m---> 30\u001b[0;31m   \u001b[0mright_list\u001b[0m \u001b[0;34m=\u001b[0m \u001b[0mmerge_sort\u001b[0m\u001b[0;34m(\u001b[0m\u001b[0mright_list\u001b[0m\u001b[0;34m)\u001b[0m\u001b[0;34m\u001b[0m\u001b[0;34m\u001b[0m\u001b[0m\n\u001b[0m\u001b[1;32m     31\u001b[0m   \u001b[0;32mreturn\u001b[0m \u001b[0mlist\u001b[0m\u001b[0;34m(\u001b[0m\u001b[0mmerge\u001b[0m\u001b[0;34m(\u001b[0m\u001b[0mleft_list\u001b[0m\u001b[0;34m,\u001b[0m\u001b[0mright_list\u001b[0m\u001b[0;34m)\u001b[0m\u001b[0;34m)\u001b[0m\u001b[0;34m\u001b[0m\u001b[0;34m\u001b[0m\u001b[0m\n\u001b[1;32m     32\u001b[0m \u001b[0;34m\u001b[0m\u001b[0m\n",
            "\u001b[0;32m<ipython-input-8-b4e04a946e23>\u001b[0m in \u001b[0;36mmerge_sort\u001b[0;34m(unsorted_list)\u001b[0m\n\u001b[1;32m     29\u001b[0m   \u001b[0mleft_list\u001b[0m \u001b[0;34m=\u001b[0m \u001b[0mmerge_sort\u001b[0m\u001b[0;34m(\u001b[0m\u001b[0mleft_list\u001b[0m\u001b[0;34m)\u001b[0m\u001b[0;34m\u001b[0m\u001b[0;34m\u001b[0m\u001b[0m\n\u001b[1;32m     30\u001b[0m   \u001b[0mright_list\u001b[0m \u001b[0;34m=\u001b[0m \u001b[0mmerge_sort\u001b[0m\u001b[0;34m(\u001b[0m\u001b[0mright_list\u001b[0m\u001b[0;34m)\u001b[0m\u001b[0;34m\u001b[0m\u001b[0;34m\u001b[0m\u001b[0m\n\u001b[0;32m---> 31\u001b[0;31m   \u001b[0;32mreturn\u001b[0m \u001b[0mlist\u001b[0m\u001b[0;34m(\u001b[0m\u001b[0mmerge\u001b[0m\u001b[0;34m(\u001b[0m\u001b[0mleft_list\u001b[0m\u001b[0;34m,\u001b[0m\u001b[0mright_list\u001b[0m\u001b[0;34m)\u001b[0m\u001b[0;34m)\u001b[0m\u001b[0;34m\u001b[0m\u001b[0;34m\u001b[0m\u001b[0m\n\u001b[0m\u001b[1;32m     32\u001b[0m \u001b[0;34m\u001b[0m\u001b[0m\n\u001b[1;32m     33\u001b[0m \u001b[0;34m\u001b[0m\u001b[0m\n",
            "\u001b[0;31mTypeError\u001b[0m: 'list' object is not callable"
          ]
        }
      ]
    },
    {
      "cell_type": "code",
      "source": [
        "'''Insertion sort involves finding the right place for a given element in a sorted list. So in beginning\n",
        "we compare the first two elements and sort them by comparing them. Then we pick the third element\n",
        "and find its proper position among the previous two sorted elements to the already sorted list by\n",
        "putting the in their proper position'''\n",
        "\n",
        "def insertion_sort(inputList):\n",
        "  for i in range(1,len(inputList)):\n",
        "    j = i-1\n",
        "    nxt_element = inputList[i]\n",
        "\n",
        "  #Compare the current element with next one\n",
        "  while(inputList[j]> nxt_element) and (j>= 0):\n",
        "    inputList[j+1] = inputList[j]\n",
        "    j=j-1\n",
        "  inputList[j+1] = nxt_element\n",
        "list = [19,2,31,45,30,11,121,27]\n",
        "insertion_sort(list)\n",
        "print(list)\n",
        "\n",
        "\n",
        "\n",
        "\n",
        "\n"
      ],
      "metadata": {
        "colab": {
          "base_uri": "https://localhost:8080/"
        },
        "id": "UakTdRaAii3T",
        "outputId": "315f0c39-0457-40ef-8a31-7f603cd77143"
      },
      "execution_count": 9,
      "outputs": [
        {
          "output_type": "stream",
          "name": "stdout",
          "text": [
            "[19, 2, 31, 45, 30, 11, 27, 121]\n"
          ]
        }
      ]
    },
    {
      "cell_type": "code",
      "source": [
        "'''Shell sort involves sorting elements which are away from each other. We sort a large sublist\n",
        "of given list and go on reducing the size of the list untill all elements are sorted. The bellow program\n",
        "finds the gap by equating it to half of thelenght in it. Then we keep resetting the gap until the entire\n",
        "list is sorted.'''\n",
        "\n",
        "def shellSort(input_list):\n",
        "  gap = len(input_list)//2\n",
        "  while gap>0:\n",
        "    for i in range(gap, len(input_list)):\n",
        "      temp = input_list[i]\n",
        "      j=i\n",
        "#sort the sub list for this gap\n",
        "  while j>=gap and input_list[j-gap] > temp:\n",
        "    input_list[j] = input_list[j-gap]\n",
        "    j = j-gap\n",
        "    input_list[j] = temp\n",
        "#Reduce the gap for the next element\n",
        "  gap = gap//2\n",
        "list = [19,2,31,45,30,11,121,27]\n",
        "shellSort(list)\n",
        "print(list)"
      ],
      "metadata": {
        "id": "Pg92QBcqkjV4"
      },
      "execution_count": null,
      "outputs": []
    },
    {
      "cell_type": "code",
      "source": [
        "'''In selection sort we start by finding the minimum value in a given list and move it to a sorted list.\n",
        "Then we repeat the process for each of the remaining elements in the unsorted list. The next element entering\n",
        "the sorted list is compared with the existing elements and places at its correct position. So, at the end all the elements\n",
        "from unsorted list are sorted'''\n",
        "\n",
        "def selection_sort(ls):\n",
        "  for idx in range(len(ls)):\n",
        "    min_idx = idx\n",
        "    for j in range(idx +1, len(ls)):\n",
        "      if ls[min_idx] > ls[j]:\n",
        "        min_idx = j\n",
        "    #Swap minimum value with compared value\n",
        "    ls[idx], ls[min_idx] = ls[min_idx],ls[idx]\n",
        "\n",
        "l = [19,2,31,45,30,11,121,27]\n",
        "selection_sort(l)\n",
        "print(l)"
      ],
      "metadata": {
        "id": "f5pabpDgmhhH"
      },
      "execution_count": null,
      "outputs": []
    }
  ]
}