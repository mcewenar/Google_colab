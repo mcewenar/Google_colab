{
  "nbformat": 4,
  "nbformat_minor": 0,
  "metadata": {
    "colab": {
      "provenance": [],
      "authorship_tag": "ABX9TyO9YTSRkdozfLkPJLZDBY6q",
      "include_colab_link": true
    },
    "kernelspec": {
      "name": "python3",
      "display_name": "Python 3"
    },
    "language_info": {
      "name": "python"
    }
  },
  "cells": [
    {
      "cell_type": "markdown",
      "metadata": {
        "id": "view-in-github",
        "colab_type": "text"
      },
      "source": [
        "<a href=\"https://colab.research.google.com/github/mcewenar/Google_colab/blob/master/checkingPalindromeNumber.ipynb\" target=\"_parent\"><img src=\"https://colab.research.google.com/assets/colab-badge.svg\" alt=\"Open In Colab\"/></a>"
      ]
    },
    {
      "cell_type": "code",
      "execution_count": 3,
      "metadata": {
        "colab": {
          "base_uri": "https://localhost:8080/"
        },
        "id": "xhFxcXtKv3tB",
        "outputId": "e2bdb095-4d6f-4e8d-d607-6a99c0277e50"
      },
      "outputs": [
        {
          "output_type": "stream",
          "name": "stdout",
          "text": [
            "Enter a number: 12345\n",
            "It's not palindrome\n"
          ]
        }
      ],
      "source": [
        "num = int(input(\"Enter a number: \"))\n",
        "temp=num\n",
        "reverse=0\n",
        "while temp>0:\n",
        "  remainder=temp%10\n",
        "  reverse=(reverse*10)+remainder\n",
        "  temp=temp//10\n",
        "if num==reverse:\n",
        "  print(\"It's palindrome\")\n",
        "else:\n",
        "  print(\"It's not palindrome\")"
      ]
    }
  ]
}