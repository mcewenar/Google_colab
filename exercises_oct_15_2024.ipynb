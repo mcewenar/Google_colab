{
  "nbformat": 4,
  "nbformat_minor": 0,
  "metadata": {
    "colab": {
      "provenance": [],
      "authorship_tag": "ABX9TyP2oLiOPBk/BnUkhqRCFwFj",
      "include_colab_link": true
    },
    "kernelspec": {
      "name": "python3",
      "display_name": "Python 3"
    },
    "language_info": {
      "name": "python"
    }
  },
  "cells": [
    {
      "cell_type": "markdown",
      "metadata": {
        "id": "view-in-github",
        "colab_type": "text"
      },
      "source": [
        "<a href=\"https://colab.research.google.com/github/mcewenar/Google_colab/blob/master/exercises_oct_15_2024.ipynb\" target=\"_parent\"><img src=\"https://colab.research.google.com/assets/colab-badge.svg\" alt=\"Open In Colab\"/></a>"
      ]
    },
    {
      "cell_type": "code",
      "execution_count": null,
      "metadata": {
        "colab": {
          "base_uri": "https://localhost:8080/"
        },
        "id": "lyw7FM7beGBc",
        "outputId": "f12ce438-c61f-42bf-f61a-c9df4484ba84"
      },
      "outputs": [
        {
          "output_type": "stream",
          "name": "stdout",
          "text": [
            "1\n",
            "3\n",
            "5\n",
            "7\n",
            "9\n",
            "11\n",
            "13\n",
            "15\n",
            "17\n",
            "19\n"
          ]
        }
      ],
      "source": [
        "#Skipping even numbers on an range:\n",
        "\n",
        "for i in range(1,20):\n",
        "  if i % 2 == 0:\n",
        "    continue\n",
        "  print(i)\n",
        "\n",
        "#Stopping at a specific number:\n",
        "for i in range(1,20):\n",
        "  if i == 5:\n",
        "    break\n",
        "  print(i)"
      ]
    },
    {
      "cell_type": "code",
      "source": [],
      "metadata": {
        "id": "KTFkeVbu5YCZ"
      },
      "execution_count": null,
      "outputs": []
    },
    {
      "cell_type": "code",
      "source": [
        "#Stopping and skipping a specific number.\n",
        "\n",
        "for i in range(1,20):\n",
        "  if i == 3:\n",
        "    continue\n",
        "  if i == 7:\n",
        "    break\n",
        "  print(i)"
      ],
      "metadata": {
        "colab": {
          "base_uri": "https://localhost:8080/"
        },
        "id": "w40D6RMcebTp",
        "outputId": "1f8239ba-c2df-48b0-c848-866dc2a3a5e2"
      },
      "execution_count": null,
      "outputs": [
        {
          "output_type": "stream",
          "name": "stdout",
          "text": [
            "1\n",
            "2\n",
            "4\n",
            "5\n",
            "6\n"
          ]
        }
      ]
    },
    {
      "cell_type": "code",
      "source": [
        "#Flatten a nested list without using flatmap methods in-built\n",
        "from collections.abc import Iterable\n",
        "\n",
        "def flatten(nested_list):\n",
        "  for item in nested_list:\n",
        "    #Verify if an object is iterable (like a list, tuple, etc.), allow us know if an element would be flatted\n",
        "    if isinstance(item, Iterable) and not isinstance(item, str):\n",
        "      #Recursivity yield. Yield from is the way to delegate a other generate function\n",
        "      yield from flatten(item)\n",
        "    else:\n",
        "      yield item\n",
        "\n",
        "nested_list = [1, [2, 3], [4, [5, [6,7]]], 8]\n",
        "flattened_list = list(flatten(nested_list))\n",
        "print(flattened_list)"
      ],
      "metadata": {
        "id": "z6HUlih-5cLl",
        "outputId": "04f07506-cb5c-4427-f361-151c3dc19a25",
        "colab": {
          "base_uri": "https://localhost:8080/"
        }
      },
      "execution_count": 3,
      "outputs": [
        {
          "output_type": "stream",
          "name": "stdout",
          "text": [
            "[1, 2, 3, 4, 5, 6, 7, 8]\n"
          ]
        }
      ]
    },
    {
      "cell_type": "code",
      "source": [
        "\"\"\"\n",
        "JAVA:\n",
        "public class RotateList {\n",
        "\n",
        "    public static <T> List<T> rotate(List<T> lst, int n) {\n",
        "        // Crear una copia para no modificar la lista original\n",
        "        List<T> rotatedList = new ArrayList<>(lst);\n",
        "\n",
        "        // Asegurarse de que 'n' esté dentro del rango adecuado\n",
        "        int rotation = n % lst.size();\n",
        "\n",
        "        // Si la rotación es negativa o mayor al tamaño, ajustarla\n",
        "        if (rotation < 0) {\n",
        "            rotation += lst.size();\n",
        "        }\n",
        "\n",
        "        // Rotar la lista\n",
        "        Collections.rotate(rotatedList, rotation);\n",
        "        return rotatedList;\n",
        "    }\n",
        "\n",
        "    public static void main(String[] args) {\n",
        "        List<Integer> lst = new ArrayList<>();\n",
        "        Collections.addAll(lst, 1, 2, 3, 4, 5, 6);\n",
        "\n",
        "        int n = 2; // Número de posiciones por rotar\n",
        "\n",
        "        List<Integer> rotated = rotate(lst, n);\n",
        "        System.out.println(rotated); // Imprime: [5, 6, 1, 2, 3, 4]\n",
        "    }\n",
        "}\n",
        "\"\"\"\n",
        "#Rotate the elements of a list by n positions:\n",
        "def rotate(lst, n):\n",
        "  return lst[-n:] + lst[:-n]\n",
        "\n",
        "lst = [1, 2, 3, 4, 5, 6]\n",
        "n = 2\n",
        "rotated = rotate(lst, n)\n",
        "print(rotated)\n",
        "\n"
      ],
      "metadata": {
        "id": "Vx9oshO7OuVM",
        "outputId": "d07429d4-2b88-4b9c-fbe3-0290c136597e",
        "colab": {
          "base_uri": "https://localhost:8080/"
        }
      },
      "execution_count": 4,
      "outputs": [
        {
          "output_type": "stream",
          "name": "stdout",
          "text": [
            "[5, 6, 1, 2, 3, 4]\n"
          ]
        }
      ]
    },
    {
      "cell_type": "code",
      "source": [
        "#Find duplicate elements in a list. identify duplicate elements in a list.\n",
        "\n",
        "from collections import Counter\n",
        "\n",
        "lst = [1,2,2,3,4,4,4,5]\n",
        "duplicates = [item for item, count in Counter(lst).items() if count > 1]\n",
        "print(duplicates)\n"
      ],
      "metadata": {
        "id": "EzEeEYxaUO9V",
        "outputId": "fedcabeb-a287-4aa7-ffd0-87100fec3287",
        "colab": {
          "base_uri": "https://localhost:8080/"
        }
      },
      "execution_count": 5,
      "outputs": [
        {
          "output_type": "stream",
          "name": "stdout",
          "text": [
            "[2, 4]\n"
          ]
        }
      ]
    },
    {
      "cell_type": "code",
      "source": [
        "#List of indices for specific value\n",
        "#Get all indices of a specific value in a list.\n",
        "lst = [10,20,10,30,10,40,20]\n",
        "expected = 20\n",
        "\n",
        "indices = [i for i, x in enumerate(lst) if x == expected]\n",
        "print(indices)"
      ],
      "metadata": {
        "id": "BsDUlzazWXg8",
        "outputId": "a0b50200-f47a-41ea-ed93-0189e2a2993d",
        "colab": {
          "base_uri": "https://localhost:8080/"
        }
      },
      "execution_count": 7,
      "outputs": [
        {
          "output_type": "stream",
          "name": "stdout",
          "text": [
            "[1, 6]\n"
          ]
        }
      ]
    },
    {
      "cell_type": "code",
      "source": [
        "#Transpose a list of lists (Matrix)\n",
        "matrix = [[1,2,3],[4,5,6],[7,8,9]]\n",
        "#Way1\n",
        "transposed = [[row[i] for row in matrix] for i in range(len(matrix[0]))]\n",
        "print(transposed)\n",
        "#Way 2:\n",
        "transposed = list(map(list, zip(*matrix)))\n",
        "print(transposed)"
      ],
      "metadata": {
        "id": "MG5wMCNAXRSo",
        "outputId": "de475917-4223-4c66-db3a-355cf7459a10",
        "colab": {
          "base_uri": "https://localhost:8080/"
        }
      },
      "execution_count": 10,
      "outputs": [
        {
          "output_type": "stream",
          "name": "stdout",
          "text": [
            "[[1, 4, 7], [2, 5, 8], [3, 6, 9]]\n",
            "[[1, 4, 7], [2, 5, 8], [3, 6, 9]]\n"
          ]
        }
      ]
    },
    {
      "cell_type": "code",
      "source": [
        "#Chunk a list: Split a list into evenly sized chunks:\n",
        "\n",
        "def chunk(lst, n):\n",
        "  for i in range(0,len(lst),n):\n",
        "    yield lst[i:i+n]\n",
        "\n",
        "lst = [1,2,3,4,5,6,7,8,9]\n",
        "sized = 3\n",
        "chunks = list(chunk(lst,sized))\n",
        "print(chunks)"
      ],
      "metadata": {
        "id": "ihFSyz3SXw84",
        "outputId": "06e29e56-576e-475a-fa0a-6b901b7fd581",
        "colab": {
          "base_uri": "https://localhost:8080/"
        }
      },
      "execution_count": 11,
      "outputs": [
        {
          "output_type": "stream",
          "name": "stdout",
          "text": [
            "[[1, 2, 3], [4, 5, 6], [7, 8, 9]]\n"
          ]
        }
      ]
    },
    {
      "cell_type": "code",
      "source": [
        "\"\"\"\n",
        "IN JAVA:\n",
        "public class RemoveConsecutiveDuplicates {\n",
        "\n",
        "    public static <T> List<T> removeConsecutiveDuplicates(List<T> lst) {\n",
        "        List<T> result = new ArrayList<>();\n",
        "\n",
        "        if (lst.isEmpty()) {\n",
        "            return result;  // Si la lista está vacía, devolver la lista vacía.\n",
        "        }\n",
        "\n",
        "        // Añadir el primer elemento al resultado.\n",
        "        result.add(lst.get(0));\n",
        "\n",
        "        // Iterar por la lista desde el segundo elemento\n",
        "        for (int i = 1; i < lst.size(); i++) {\n",
        "            // Si el elemento actual es diferente al anterior, lo añadimos\n",
        "            if (!lst.get(i).equals(lst.get(i - 1))) {\n",
        "                result.add(lst.get(i));\n",
        "            }\n",
        "        }\n",
        "\n",
        "        return result;\n",
        "    }\n",
        "\n",
        "    public static void main(String[] args) {\n",
        "        List<Integer> lst = new ArrayList<>();\n",
        "        Collections.addAll(lst, 1, 2, 2, 3, 3, 3, 4, 4, 5);\n",
        "\n",
        "        List<Integer> result = removeConsecutiveDuplicates(lst);\n",
        "        System.out.println(result);  // Imprime: [1, 2, 3, 4, 5]\n",
        "    }\n",
        "}\n",
        "\"\"\"\n",
        "\n",
        "\n",
        "#Remove consecutive duplicates: remove duplicates consecutive froma list, preserving order.\n",
        "\n",
        "from itertools import groupby\n",
        "\n",
        "lst = [1,2,2,3,3,3,4,4,5]\n",
        "result = [key for key, _ in groupby(lst)]\n",
        "print(result)"
      ],
      "metadata": {
        "id": "LTvVDzOMYcZR",
        "outputId": "3a5fd4c5-4638-4a1d-e632-f00d2eaf4545",
        "colab": {
          "base_uri": "https://localhost:8080/"
        }
      },
      "execution_count": 13,
      "outputs": [
        {
          "output_type": "stream",
          "name": "stdout",
          "text": [
            "[1, 2, 3, 4, 5]\n"
          ]
        }
      ]
    },
    {
      "cell_type": "code",
      "source": [
        "#First the negative number:\n",
        "\n",
        "number_list = [10,20,-5,-20,10,30,-40]\n",
        "\n",
        "for num in number_list:\n",
        "  if num < 0:\n",
        "    print(f\"first negative number is {num}\")\n",
        "    break"
      ],
      "metadata": {
        "colab": {
          "base_uri": "https://localhost:8080/"
        },
        "id": "QoHAPkf2fSTY",
        "outputId": "ed97a087-e4ce-4b75-93da-69d05d4b5817"
      },
      "execution_count": 14,
      "outputs": [
        {
          "output_type": "stream",
          "name": "stdout",
          "text": [
            "first negative number is -5\n"
          ]
        }
      ]
    },
    {
      "cell_type": "code",
      "source": [
        "#Summing non negative numbers:\n",
        "numbers = [10,-5,6-7,-50,-6,5,7,34,5,6,-56]\n",
        "total = 0\n",
        "\n",
        "#Way 1:\n",
        "for num in numbers:\n",
        "  if num < 0:\n",
        "    continue\n",
        "\n",
        "  total += num\n",
        "\n",
        "print(f\"Total of non negative numbers is {total}\")\n",
        "\n",
        "total = 0\n",
        "#Way 2:\n",
        "for num in numbers:\n",
        "  if num >= 0:\n",
        "    total += num\n",
        "\n",
        "print(f\"Total of non negative numbers is {total}\")"
      ],
      "metadata": {
        "colab": {
          "base_uri": "https://localhost:8080/"
        },
        "id": "ztH5wLWlfyDn",
        "outputId": "1b781623-a790-4842-9bc5-9a864a7c617e"
      },
      "execution_count": 15,
      "outputs": [
        {
          "output_type": "stream",
          "name": "stdout",
          "text": [
            "Total of non negative numbers is 67\n",
            "Total of non negative numbers is 67\n"
          ]
        }
      ]
    },
    {
      "cell_type": "code",
      "source": [],
      "metadata": {
        "id": "qy2e61rgZN-z"
      },
      "execution_count": null,
      "outputs": []
    }
  ]
}