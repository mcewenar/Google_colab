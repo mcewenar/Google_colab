{
  "nbformat": 4,
  "nbformat_minor": 0,
  "metadata": {
    "colab": {
      "provenance": [],
      "authorship_tag": "ABX9TyPLUyQHV4Ma5my/8dwkLFrs",
      "include_colab_link": true
    },
    "kernelspec": {
      "name": "python3",
      "display_name": "Python 3"
    },
    "language_info": {
      "name": "python"
    }
  },
  "cells": [
    {
      "cell_type": "markdown",
      "metadata": {
        "id": "view-in-github",
        "colab_type": "text"
      },
      "source": [
        "<a href=\"https://colab.research.google.com/github/mcewenar/Google_colab/blob/master/exercises_oct_15_2024.ipynb\" target=\"_parent\"><img src=\"https://colab.research.google.com/assets/colab-badge.svg\" alt=\"Open In Colab\"/></a>"
      ]
    },
    {
      "cell_type": "code",
      "execution_count": 1,
      "metadata": {
        "colab": {
          "base_uri": "https://localhost:8080/"
        },
        "id": "lyw7FM7beGBc",
        "outputId": "f12ce438-c61f-42bf-f61a-c9df4484ba84"
      },
      "outputs": [
        {
          "output_type": "stream",
          "name": "stdout",
          "text": [
            "1\n",
            "3\n",
            "5\n",
            "7\n",
            "9\n",
            "11\n",
            "13\n",
            "15\n",
            "17\n",
            "19\n"
          ]
        }
      ],
      "source": [
        "#Skipping even numbers on an range:\n",
        "\n",
        "for i in range(1,20):\n",
        "  if i % 2 == 0:\n",
        "    continue\n",
        "  print(i)\n",
        "\n",
        "#Stopping at a specific number:\n",
        "for i in range(1,20):\n",
        "  if i == 5:\n",
        "    break\n",
        "  print(i)"
      ]
    },
    {
      "cell_type": "code",
      "source": [
        "#Stopping and skipping a specific number.\n",
        "\n",
        "for i in range(1,20):\n",
        "  if i == 3:\n",
        "    continue\n",
        "  if i == 7:\n",
        "    break\n",
        "  print(i)"
      ],
      "metadata": {
        "colab": {
          "base_uri": "https://localhost:8080/"
        },
        "id": "w40D6RMcebTp",
        "outputId": "1f8239ba-c2df-48b0-c848-866dc2a3a5e2"
      },
      "execution_count": 2,
      "outputs": [
        {
          "output_type": "stream",
          "name": "stdout",
          "text": [
            "1\n",
            "2\n",
            "4\n",
            "5\n",
            "6\n"
          ]
        }
      ]
    },
    {
      "cell_type": "code",
      "source": [
        "#First the negative number:\n",
        "\n",
        "number_list = [10,20,-5,-20,10,30,-40]\n",
        "\n",
        "for num in number_list:\n",
        "  if num < 0:\n",
        "    print(f\"first negative number is {num}\")\n",
        "    break"
      ],
      "metadata": {
        "colab": {
          "base_uri": "https://localhost:8080/"
        },
        "id": "QoHAPkf2fSTY",
        "outputId": "ccd6d2c8-3768-44b0-f5c5-a8a4be470f68"
      },
      "execution_count": 3,
      "outputs": [
        {
          "output_type": "stream",
          "name": "stdout",
          "text": [
            "first negative number is -5\n"
          ]
        }
      ]
    },
    {
      "cell_type": "code",
      "source": [
        "#Summing non negative numbers:\n",
        "numbers = [10,-5,6-7,-50,-6,5,7,34,5,6,-56]\n",
        "total = 0\n",
        "\n",
        "#Way 1:\n",
        "for num in numbers:\n",
        "  if num < 0:\n",
        "    continue\n",
        "\n",
        "  total += num\n",
        "\n",
        "print(f\"Total of non negative numbers is {total}\")\n",
        "\n",
        "total = 0\n",
        "#Way 2:\n",
        "for num in numbers:\n",
        "  if num >= 0:\n",
        "    total += num\n",
        "\n",
        "print(f\"Total of non negative numbers is {total}\")"
      ],
      "metadata": {
        "colab": {
          "base_uri": "https://localhost:8080/"
        },
        "id": "ztH5wLWlfyDn",
        "outputId": "7320441d-c13b-4f44-eed7-f7f3999abaaa"
      },
      "execution_count": 9,
      "outputs": [
        {
          "output_type": "stream",
          "name": "stdout",
          "text": [
            "Total of non negative numbers is 67\n",
            "Total of non negative numbers is 67\n"
          ]
        }
      ]
    }
  ]
}