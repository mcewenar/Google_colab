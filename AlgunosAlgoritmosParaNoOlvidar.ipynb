{
  "nbformat": 4,
  "nbformat_minor": 0,
  "metadata": {
    "colab": {
      "name": "AlgunosAlgoritmosParaNoOlvidar.ipynb",
      "provenance": [],
      "collapsed_sections": [],
      "authorship_tag": "ABX9TyOwCD3noUYqtjriulYly6Sj",
      "include_colab_link": true
    },
    "kernelspec": {
      "name": "python3",
      "display_name": "Python 3"
    },
    "language_info": {
      "name": "python"
    }
  },
  "cells": [
    {
      "cell_type": "markdown",
      "metadata": {
        "id": "view-in-github",
        "colab_type": "text"
      },
      "source": [
        "<a href=\"https://colab.research.google.com/github/mcewenar/Google_colab/blob/master/AlgunosAlgoritmosParaNoOlvidar.ipynb\" target=\"_parent\"><img src=\"https://colab.research.google.com/assets/colab-badge.svg\" alt=\"Open In Colab\"/></a>"
      ]
    },
    {
      "cell_type": "code",
      "metadata": {
        "colab": {
          "base_uri": "https://localhost:8080/"
        },
        "id": "qapmXO1B8kE8",
        "outputId": "e349608d-3786-47df-ada2-d8f783b808e2"
      },
      "source": [
        "a=1\n",
        "b=2\n",
        "str= \"anitalavalatina\"\n",
        "#Swap object:\n",
        "a,b = b,a \n",
        "#String Palindrome:\n",
        "print(\"1:\",str == str[::-1])\n",
        "#Fibonacci Series (recursion):\n",
        "fib = lambda n: n if n<=1 else fib(n-1) + fib(n-2)\n",
        "print(\"2:\",fib(10))\n",
        "#Factorial number:\n",
        "fact = lambda n: [1,0] [n>1] or fact(n-1)*n\n",
        "print(\"3:\",fact(5))\n",
        "#List comorehension:\n",
        "square = [x**2 for x in range(5)]\n",
        "print(\"4:\",square)"
      ],
      "execution_count": 9,
      "outputs": [
        {
          "output_type": "stream",
          "text": [
            "1: True\n",
            "2: 55\n",
            "3: 120\n",
            "4: [0, 1, 4, 9, 16]\n"
          ],
          "name": "stdout"
        }
      ]
    }
  ]
}