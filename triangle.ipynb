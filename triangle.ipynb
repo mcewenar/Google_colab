{
  "nbformat": 4,
  "nbformat_minor": 0,
  "metadata": {
    "colab": {
      "provenance": [],
      "collapsed_sections": [],
      "authorship_tag": "ABX9TyPUgfasZLn7MGshFvPIkaAi",
      "include_colab_link": true
    },
    "kernelspec": {
      "name": "python3",
      "display_name": "Python 3"
    },
    "language_info": {
      "name": "python"
    }
  },
  "cells": [
    {
      "cell_type": "markdown",
      "metadata": {
        "id": "view-in-github",
        "colab_type": "text"
      },
      "source": [
        "<a href=\"https://colab.research.google.com/github/mcewenar/Google_colab/blob/master/triangle.ipynb\" target=\"_parent\"><img src=\"https://colab.research.google.com/assets/colab-badge.svg\" alt=\"Open In Colab\"/></a>"
      ]
    },
    {
      "cell_type": "code",
      "execution_count": null,
      "metadata": {
        "id": "43ZWjXpopkbY"
      },
      "outputs": [],
      "source": [
        "print(\"Enter the Number of Rows: \", end = \"\")\n",
        "row = int(input());\n",
        "num = 1\n",
        "for i in range(row):\n",
        "    for j in range(i + 1):\n",
        "        print(num, end = \" \");\n",
        "        num = num + 1;\n",
        "    print();"
      ]
    }
  ]
}