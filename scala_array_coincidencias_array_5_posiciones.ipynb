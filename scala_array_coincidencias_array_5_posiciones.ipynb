{
  "nbformat": 4,
  "nbformat_minor": 0,
  "metadata": {
    "colab": {
      "provenance": [],
      "authorship_tag": "ABX9TyPUJyCm4u1Zg9pq6+z0rRf0",
      "include_colab_link": true
    },
    "kernelspec": {
      "name": "python3",
      "display_name": "Python 3"
    },
    "language_info": {
      "name": "python"
    }
  },
  "cells": [
    {
      "cell_type": "markdown",
      "metadata": {
        "id": "view-in-github",
        "colab_type": "text"
      },
      "source": [
        "<a href=\"https://colab.research.google.com/github/mcewenar/Google_colab/blob/master/scala_array_coincidencias_array_5_posiciones.ipynb\" target=\"_parent\"><img src=\"https://colab.research.google.com/assets/colab-badge.svg\" alt=\"Open In Colab\"/></a>"
      ]
    },
    {
      "cell_type": "code",
      "execution_count": 72,
      "metadata": {
        "colab": {
          "base_uri": "https://localhost:8080/"
        },
        "id": "VdMH6UYQ82aN",
        "outputId": "847a4bf2-46d1-496c-b79c-079f1ac4c791"
      },
      "outputs": [
        {
          "output_type": "stream",
          "name": "stdout",
          "text": [
            "1: ********\n",
            "2: ***\n",
            "3: ***\n",
            "4: *\n",
            "5: *\n"
          ]
        }
      ],
      "source": [
        "\n",
        "my_array = [1,2,3,4,1,2,1,2,3,3,1,1,1,1,1,5]\n",
        "#Instancia array de 5 posiciones en valores por defecto en 0\n",
        "frequencies = [0,0,0,0,0]\n",
        "for num in my_array:\n",
        "  #Para no sobrepasar o generar una excepcion de fuera de index, se \t\tresta -1 y va sumando en cada posición del array creado\n",
        "  frequencies[num-1] += 1\n",
        "\n",
        "#Itera de 0 a 4, con variable iniciando en 0, total 5 veces\n",
        "for j in range(5):\n",
        "\t#String interpolacion y se suma 1 para no empezar por 0\n",
        "  print(f\"{j + 1}: {'*' * frequencies[j]}\",end='\\n')\n",
        "\t#multiplica cada string por el num de coincidencias ya\n",
        "\n",
        ""
      ]
    },
    {
      "cell_type": "code",
      "source": [],
      "metadata": {
        "id": "1-kLnO84DOD5"
      },
      "execution_count": null,
      "outputs": []
    }
  ]
}