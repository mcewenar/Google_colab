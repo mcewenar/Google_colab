{
  "nbformat": 4,
  "nbformat_minor": 0,
  "metadata": {
    "colab": {
      "name": "semana4-6-21_2021-(C1)Parte1.ipynb",
      "provenance": [],
      "collapsed_sections": [],
      "include_colab_link": true
    },
    "kernelspec": {
      "name": "python3",
      "display_name": "Python 3"
    },
    "language_info": {
      "name": "python"
    }
  },
  "cells": [
    {
      "cell_type": "markdown",
      "metadata": {
        "id": "view-in-github",
        "colab_type": "text"
      },
      "source": [
        "<a href=\"https://colab.research.google.com/github/mcewenar/Google_colab/blob/master/semana4_6_21_2021_(C1)Parte1.ipynb\" target=\"_parent\"><img src=\"https://colab.research.google.com/assets/colab-badge.svg\" alt=\"Open In Colab\"/></a>"
      ]
    },
    {
      "cell_type": "code",
      "metadata": {
        "colab": {
          "base_uri": "https://localhost:8080/"
        },
        "id": "GW3kjBCclizV",
        "outputId": "0ed6bee6-1d92-4187-eefa-1e28ffd38acf"
      },
      "source": [
        "#PW1 Imprima el cuadrado del nro que el usr ingresa, mientras que el nro sea no negativo\n",
        "while True:\n",
        "  nro=int(input('ingrese nro entero, -1 para terminar: '))\n",
        "  if nro <0: break\n",
        "  else:print('cuadrado: ', nro**2)\n",
        "print('fin')"
      ],
      "execution_count": null,
      "outputs": [
        {
          "output_type": "stream",
          "text": [
            "fin\n"
          ],
          "name": "stdout"
        }
      ]
    },
    {
      "cell_type": "code",
      "metadata": {
        "colab": {
          "base_uri": "https://localhost:8080/"
        },
        "id": "AprDjLguoGf4",
        "outputId": "48efa6ee-3fc2-491a-ac8e-0d92edc74364"
      },
      "source": [
        "#W2-Desarrollar un programa que dado un numero entero positivo n\n",
        "#calcule e imprima (separados por espacios) n/2 si n es par o 3*n +1 si n es\n",
        "#impar. El programa debe repetir este proceso con el numero resultado\n",
        "#de la operacion anterior mientras este sea diferente de 1. Por ejemplo para\n",
        "#el numero 3 debe imprimir 10 5 16 8 4 2 1\n",
        "def seriee(n):\n",
        "  while n != 1:\n",
        "    if n % 2 == 0: #es_par?\n",
        "      n = n//2\n",
        "    else: \n",
        "      n = 3*n+1\n",
        "    print(n,end=' ')\n",
        "  return n\n",
        "N=9\n",
        "res=seriee(N)"
      ],
      "execution_count": null,
      "outputs": [
        {
          "output_type": "stream",
          "text": [
            "28 14 7 22 11 34 17 52 26 13 40 20 10 5 16 8 4 2 1 "
          ],
          "name": "stdout"
        }
      ]
    },
    {
      "cell_type": "code",
      "metadata": {
        "colab": {
          "base_uri": "https://localhost:8080/"
        },
        "id": "pK4rv-3tqkFz",
        "outputId": "658d86a2-246a-4744-a8ea-fa0b05c896f4"
      },
      "source": [
        "#3PV#poblacion version 2\n",
        "#ve: Pia, Pib, ta, tb\n",
        "#vs: n (n es el agno cuando Pb> Pa)\n",
        "Pia=25.E6;   Pib=18.9E6; \n",
        "ta=2./100;  tb=3./100; \n",
        "n=0\n",
        "Pa=Pia;   Pb=Pib #inicializacion\n",
        "while Pa > Pb:\n",
        "  incrA = Pa*ta\n",
        "  incrB = Pb*tb\n",
        "  Pa += incrA #  Pa = Pa +incrA\n",
        "  Pb += incrB  \n",
        "  n+=1   #contador de iteraciones\n",
        "print(n, Pa, Pb, sep='\\t')"
      ],
      "execution_count": null,
      "outputs": [
        {
          "output_type": "stream",
          "text": [
            "29\t44396117.25743514\t44539088.06357724\n"
          ],
          "name": "stdout"
        }
      ]
    },
    {
      "cell_type": "code",
      "metadata": {
        "colab": {
          "base_uri": "https://localhost:8080/"
        },
        "id": "rhg52mBArUZm",
        "outputId": "c60fde2f-a294-46b4-a16f-af3c28a42831"
      },
      "source": [
        "#5)WPV5 Disenar una funcion que permita calcular el epsilon de la maquina.\n",
        "#El epsilon de maquina es el numero decimal mas pequegno que \n",
        "# se puede representar de manera precisa en la maquina (que no es\n",
        "#redondeando a 0), es decir, retorna un valor diferente de 0, este da una idea\n",
        "#de la precision o numero de cifras reales que pueden ser almacenadas\n",
        "#en la maquina. La idea es realizar un ciclo en el cual se realiza la\n",
        "#operacion epsilon para potencias de 2 desde epsilon = 1 y continuando con\n",
        "#potencias decrecientes de 2\n",
        "# 1, 1/2, 1/4, 1/8, 1/16, 1/32, ..... progresion decreciente -> 0\n",
        "#hasta obtener que el resultado de que epsilon no se altere o no se trunque a 0.\n",
        "#ve: nada\n",
        "#vs: eps\n",
        "i=0 #contador de iteraciones\n",
        "act=1\n",
        "while  act > 0: #condicion de parada cuando act se trunque a 0\n",
        "  ant = act\n",
        "  i+=1 # i es  para prox iteracion\n",
        "  act=  1 / 2 * ant   #actualizacion \n",
        "eps=ant\n",
        "i=i-1 #ajusto el contador porque me pase una iteracion, en la ultima iteracion act se trunco\n",
        "print(i, eps)  #respuesta\n",
        "#------#verificacion---------\n",
        "eps=1/2**(i) \n",
        "truncado=eps/2\n",
        "print(i+1,' iteraciones valor truncado a: ', truncado)"
      ],
      "execution_count": null,
      "outputs": [
        {
          "output_type": "stream",
          "text": [
            "1074 5e-324\n",
            "1075  iteraciones valor truncado a:  0.0\n"
          ],
          "name": "stdout"
        }
      ]
    },
    {
      "cell_type": "code",
      "metadata": {
        "colab": {
          "base_uri": "https://localhost:8080/"
        },
        "id": "vgJzztmrvcV_",
        "outputId": "fa7b3152-b20b-4b26-db3a-e3ea78a71ac5"
      },
      "source": [
        "#FPV3, RB: 5!  = 1 . 2 . 3 . 4 . 5 =120\n",
        "def facto(n): #var local , n parametro formal\n",
        "  f=1    #1 es el modulo de la multiplicacion\n",
        "  for i in range(1, n+1): # lenguaje matematico [1, 10) = [1, 9]\n",
        "    f *=  i #f = f*i: f: 1*1, 1*2, 2*3, 6*4, 24*5, se sale del for \n",
        "  return f \n",
        "\n",
        "N=5 #N es var global\n",
        "for j in range(1, N+1): # 1, 2, 3, 4, 5, al invocar una funcion el parametro actual se copia al param formal\n",
        "   print(j, ' factorial: ', facto(j))  #invocacion de la funcion, j es un parametro actual\n",
        "# los parametros actuales, deben coincidir con los parametros formales en cant, tipo y orden\n",
        "print('fin')  "
      ],
      "execution_count": null,
      "outputs": [
        {
          "output_type": "stream",
          "text": [
            "1  factorial:  1\n",
            "2  factorial:  2\n",
            "3  factorial:  6\n",
            "4  factorial:  24\n",
            "5  factorial:  120\n",
            "fin\n"
          ],
          "name": "stdout"
        }
      ]
    },
    {
      "cell_type": "code",
      "metadata": {
        "colab": {
          "base_uri": "https://localhost:8080/"
        },
        "id": "gqs_bHyJvg0K",
        "outputId": "77e0288d-3ad9-4f4c-86e0-874338c6b693"
      },
      "source": [
        "#FPV5-calcular 2 ** n, utilizando multiplicaciones sucesivas = 2 . 2 . 2 .2 ....n veces = 2**n\n",
        "def dosAlaN(n): #n es una variable local\n",
        "  prod=1 #inicializo     coleccion= 1, 2, 3,4 ..,9,10\n",
        "  for i in range(1, n+1): # la var i juega el papel de contar iteraciones\n",
        "    prod= prod * 2  # range () genera la coleccion 1, 2, 3, 4, 5, 6, 7\n",
        "  return prod\n",
        "N=6 #es una var global\n",
        "print('2 elevado a la:', N,' = ', dosAlaN(N), sep=' ')"
      ],
      "execution_count": null,
      "outputs": [
        {
          "output_type": "stream",
          "text": [
            "2 elevado a la: 6  =  64\n"
          ],
          "name": "stdout"
        }
      ]
    },
    {
      "cell_type": "code",
      "metadata": {
        "colab": {
          "base_uri": "https://localhost:8080/"
        },
        "id": "L3Xh8PArv_tj",
        "outputId": "4c6f39a2-44ed-4552-ca08-c22b79bc8534"
      },
      "source": [
        "#FPV6-Implementar la funcion potencia sin utilizar el operador **, ni la funcion logaritmo \n",
        "#v entrada: x, n     \n",
        "#v salida: p\n",
        "#p= x**n\n",
        "# p = x . x . x .....x (n veces) -------Hay 3 casos 1) n>0;  2) n =0;  3) n<0\n",
        "#pero si n es == 0  ... que significa?\n",
        "\n",
        "# en general p = x**m / x**k =  x**(m-k)  \n",
        "# 1)si (m - k) == 0 , =>   p= x**m / x**k = 1     => x**0=1\n",
        "# 2) si (m - k) > 0, p=x**(m-k) = x . x . x . x ... (m-k) veces\n",
        "# 3) si (m - k) < 0,  p= 1 / x **(|m-k|) => p = 1/ (x . x . x. ...(k-m) veces)\n",
        "def pote(x,n): #x E Reales, n E enteros\n",
        "  if n==0: # 1er caso\n",
        "    p= 1\n",
        "  elif n>0: #caso2 p= x . x. x. ... n veces\n",
        "    p=1      # en 1 por ser el modulo de la multiplicacion\n",
        "    for i in range(1, n+1): #i =(1, 2, 3, 4, ... n)\n",
        "      p *=x #p= p*x, p= 1.x, x.x, x.x.x, x.x.x.x, x.x.x.x.x\n",
        "  else: # caso n <0   p=1/(x .x . x ... n veces)\n",
        "    p=1\n",
        "    for i in range(1, -n+1): #(1, 2, 3, 4)\n",
        "      p *= x         # x .x . x ... n veces\n",
        "    p = 1/p\n",
        "  return p\n",
        "y=3.; m=-3\n",
        "res=pote(y,m) #param actuales, coincidir en cant, tipo y orden\n",
        "print(res)\n",
        "1/27\n"
      ],
      "execution_count": null,
      "outputs": [
        {
          "output_type": "stream",
          "text": [
            "0.037037037037037035\n"
          ],
          "name": "stdout"
        },
        {
          "output_type": "execute_result",
          "data": {
            "text/plain": [
              "0.037037037037037035"
            ]
          },
          "metadata": {
            "tags": []
          },
          "execution_count": 75
        }
      ]
    },
    {
      "cell_type": "code",
      "metadata": {
        "colab": {
          "base_uri": "https://localhost:8080/"
        },
        "id": "iFCu4sMXwQwI",
        "outputId": "82e3226a-1a80-4b09-e77a-8c6c39ee0946"
      },
      "source": [
        "#FPV7-generar las tablas de multiplicar del 1 al 9\n",
        "print(\"Tablas del multiplicar de 1 al 9\")\n",
        "#utiliza dos for anidados\n",
        "for i in range(1, 9+1):  #for externo, i indica cual tabla voy a generar\n",
        "  print(i,\":\", end=\"\") \n",
        "  for j in range(1, 9+1): #for interno, por cada valor de i, la j toma los valores de 1 a 9\n",
        "    prod = i * j  \n",
        "    print (\"\\t\", prod, end=\"\") #aqui termina el for interno, despues de esta instruccion ingreso al for i por debajo\n",
        "  print(\"\", end ='\\n') # aqui termina el for externo, es un cambio de linea"
      ],
      "execution_count": null,
      "outputs": [
        {
          "output_type": "stream",
          "text": [
            "Tablas del multiplicar de 1 al 9\n",
            "1 :\t 1\t 2\t 3\t 4\t 5\t 6\t 7\t 8\t 9\n",
            "2 :\t 2\t 4\t 6\t 8\t 10\t 12\t 14\t 16\t 18\n",
            "3 :\t 3\t 6\t 9\t 12\t 15\t 18\t 21\t 24\t 27\n",
            "4 :\t 4\t 8\t 12\t 16\t 20\t 24\t 28\t 32\t 36\n",
            "5 :\t 5\t 10\t 15\t 20\t 25\t 30\t 35\t 40\t 45\n",
            "6 :\t 6\t 12\t 18\t 24\t 30\t 36\t 42\t 48\t 54\n",
            "7 :\t 7\t 14\t 21\t 28\t 35\t 42\t 49\t 56\t 63\n",
            "8 :\t 8\t 16\t 24\t 32\t 40\t 48\t 56\t 64\t 72\n",
            "9 :\t 9\t 18\t 27\t 36\t 45\t 54\t 63\t 72\t 81\n"
          ],
          "name": "stdout"
        }
      ]
    },
    {
      "cell_type": "code",
      "metadata": {
        "colab": {
          "base_uri": "https://localhost:8080/"
        },
        "id": "Xm_r5os7xIuV",
        "outputId": "0eabda3a-cab2-4ba2-c715-1502a8bf94d9"
      },
      "source": [
        "#funcion exponencial de x, (aprox./ alrededodr de 0, para los primeros n terminos de Serie de McLaurin)\n",
        "def expo(x,n):\n",
        "  su=0. \n",
        "  for i in range(n+1):\n",
        "    num=x**i\n",
        "    den=facto(i)\n",
        "    ter=num/den\n",
        "    su += ter\n",
        "  return su \n",
        "def facto(n):\n",
        "  f=1 #1 es el modulo de la multiplicacion\n",
        "  for i in range(1, n+1): # lenguaje matematico [1, 10) = [1, 9]\n",
        "    f *=  i \n",
        "  return f\n",
        "print(expo(1,10))  #e**1"
      ],
      "execution_count": null,
      "outputs": [
        {
          "output_type": "stream",
          "text": [
            "2.7182818011463845\n"
          ],
          "name": "stdout"
        }
      ]
    },
    {
      "cell_type": "code",
      "metadata": {
        "colab": {
          "base_uri": "https://localhost:8080/"
        },
        "id": "RLNQOSn-xJ-2",
        "outputId": "7038385c-17d5-463c-e2d1-8b3bd08d58e9"
      },
      "source": [
        "#funcion seno de x en rads alrededor de 0, utilizando los primeros n terminos Serie de McLaurin\n",
        "from math import pi\n",
        "def seno(x,n):\n",
        "  acum=0. ; sig=1. \n",
        "  for i in range(n+1): #i=0,1,2,3,4,5,6,7,8,9,10\n",
        "    num=x**(2*i+1)\n",
        "    den=facto(2*i+1)\n",
        "    ter=sig*num/den\n",
        "    acum += ter  #--\n",
        "    sig=sig*(-1) # 1, -1, 1, -1, 1 , -1 ....\n",
        "  return acum \n",
        "#pi=3.1415926\n",
        "ang= float(input(\"Seno: Ingrese angulo en grados y punto: \"))# angulo en grados, se convierte a radianes\n",
        "rad=ang*pi/180.\n",
        "res=seno(rad,10)#invocacion,rad parametro actual, se copia  a x que es el parametro formal\n",
        "print(res)"
      ],
      "execution_count": null,
      "outputs": [
        {
          "output_type": "stream",
          "text": [
            "Seno: Ingrese angulo en grados y punto: 30\n",
            "0.49999999999999994\n"
          ],
          "name": "stdout"
        }
      ]
    },
    {
      "cell_type": "code",
      "metadata": {
        "colab": {
          "base_uri": "https://localhost:8080/"
        },
        "id": "xSpQH_mexR3c",
        "outputId": "0bff289d-49f3-44af-ed37-a0739d833a8c"
      },
      "source": [
        "#funcion coseno de x en rads alrededor de 0, utilizando los primeros n terminos Serie de McLaurin\n",
        "from math import pi \n",
        "def cose(x,n):\n",
        "  acum=0. ; sig=1. \n",
        "  for i in range(n+1):\n",
        "    num=x**(2*i)\n",
        "    den=facto(2*i)\n",
        "    ter=sig*num/den\n",
        "    acum += ter\n",
        "    sig=sig*(-1)\n",
        "  return acum \n",
        "ang=float(input(\"Coseno: Ingrese angulo en grados: \")) # angulo en grados, se convierte a radianes\n",
        "rad=ang*pi/180.\n",
        "res=cose(rad,10)\n",
        "print(res)"
      ],
      "execution_count": null,
      "outputs": [
        {
          "output_type": "stream",
          "text": [
            "Coseno: Ingrese angulo en grados: 90\n",
            "6.08176268469988e-17\n"
          ],
          "name": "stdout"
        }
      ]
    },
    {
      "cell_type": "code",
      "metadata": {
        "colab": {
          "base_uri": "https://localhost:8080/"
        },
        "id": "FqDRwMSAxZ9O",
        "outputId": "eef0ec96-c252-4a1e-a050-27a1c8b0867a"
      },
      "source": [
        "#funcion logaritmo natural alrededor de 0, serie de McLaurin de n terminos, para x E R+\n",
        "def logaritmo (x,n):\n",
        "  acum=0. \n",
        "  ff=(x**2-1)/(x**2+1)\n",
        "  for i in range(n+1):\n",
        "    ee=2*i+1\n",
        "    ter=ff**ee/ee\n",
        "    acum += ter\n",
        "  return acum \n",
        "#dato=float(input(\"Logaritmo: Ingrese un nro real > 0: \")) #\n",
        "dato=expo(1,20) \n",
        "res=logaritmo(dato,25)\n",
        "print(res)"
      ],
      "execution_count": null,
      "outputs": [
        {
          "output_type": "stream",
          "text": [
            "0.999999976909683\n"
          ],
          "name": "stdout"
        }
      ]
    },
    {
      "cell_type": "code",
      "metadata": {
        "colab": {
          "base_uri": "https://localhost:8080/"
        },
        "id": "01MBaqMbxmPJ",
        "outputId": "443f5159-a0c5-4d20-8498-38777adc7e22"
      },
      "source": [
        "#funcion arco tangente para -1 <= x <= 1 utilizando n terminos serie McLaurin, result en radianes\n",
        "def arcotan1(x,n):\n",
        "  acum=0. \n",
        "  sig=1\n",
        "  for i in range(n+1):\n",
        "    ee=2*i+1\n",
        "    num=x**ee\n",
        "    ter=sig*num/ee\n",
        "    acum += ter\n",
        "    sig=-sig\n",
        "  return acum \n",
        "dato=1.   #float(input(\"ArcoTang: Ingrese un nro real [-1, 1]: \")) # \n",
        "res=4*arcotan1(dato,200000)  # tan(pi/4)=1  => pi = 4 *arcTang(1)\n",
        "print(res)"
      ],
      "execution_count": null,
      "outputs": [
        {
          "output_type": "stream",
          "text": [
            "3.1416426510898874\n"
          ],
          "name": "stdout"
        }
      ]
    },
    {
      "cell_type": "code",
      "metadata": {
        "colab": {
          "base_uri": "https://localhost:8080/"
        },
        "id": "mx8oxIKoxsYD",
        "outputId": "493987aa-3f7d-4f62-ba96-09b3898e8d9c"
      },
      "source": [
        "#Ejercicio1:  determinar si una cadena contiene a otra\n",
        "#Una cadena esta incluida en otra, si todos los caracteres (con repeticiones)\n",
        "#de la cadena esta en la segunda cadena sin tener en cuenta el orden de los caracteres.\n",
        "#v entrada: palabra, frase, E str\n",
        "#v salida: existe, E B\n",
        "def pInFrase(palabra, frase): #las cadenas son inmutables\n",
        "   existe: bool= True #asume\n",
        "   for letra in palabra: # se puede iterar cada letra de la cadena \n",
        "     NN=len(frase)\n",
        "     if letra in frase: \n",
        "       pos = frase.find(letra)\n",
        "       print(pos, letra, ':', end=\" \") #estrategia\n",
        "       izq = frase[0:pos] #subcadenas, uso funcion slice, notacion similar range [ini:fin:incr]\n",
        "       der = frase[pos+1:NN]\n",
        "       print(izq, der)\n",
        "       frase = izq + der\n",
        "     else:\n",
        "       existe=False\n",
        "       print(existe,\": No hallo la letra \", letra)\n",
        "       break\n",
        "   return existe\n",
        "p=\"prosarsa\"\n",
        "fra='la profesora de idiomas'\n",
        "#print('caso1: ',p,' EN ',fra,':',pInFrase(p, fra))\n",
        "p='pepito' \n",
        "fra= 'un pedazo de tierra'\n",
        "#print('caso2: ',p,' EN ',fra,':',pInFrase(p, fra))\n",
        "fra='tijeras o papel'\n",
        "print('caso3: ',p,' EN ',fra,':',pInFrase(p, fra))"
      ],
      "execution_count": null,
      "outputs": [
        {
          "output_type": "stream",
          "text": [
            "10 p : tijeras o  apel\n",
            "3 e : tij ras o apel\n",
            "10 p : tijras o a el\n",
            "1 i : t jras o ael\n",
            "0 t :  jras o ael\n",
            "5 o : jras   ael\n",
            "caso3:  pepito  EN  tijeras o papel : True\n"
          ],
          "name": "stdout"
        }
      ]
    },
    {
      "cell_type": "code",
      "metadata": {
        "colab": {
          "base_uri": "https://localhost:8080/"
        },
        "id": "hNm0q5MMy92R",
        "outputId": "be67c946-34f0-44b0-9914-fb0adbf261cb"
      },
      "source": [
        "#palindromo de una palabra, ejemplo: ani l ina : len(anilina)=7\n",
        "#VE: palabra                         an na\n",
        "#VS: res E B\n",
        "from math import ceil\n",
        "def esPalindrome(palabra):\n",
        "   NN = len(palabra)   \n",
        "   long2 = NN // 2     # \n",
        "   izq = palabra[0:long2] #slice o rebanada, exclueye la pos [long2]\n",
        "   der1 = palabra[long2:NN] if NN % 2 == 0 else palabra[long2+1:NN]\n",
        "   der = der1[::-1] # reversa el lado derecho\n",
        "   res:bool = der == izq  #compara ambas en orden lexicografico\n",
        "   return res \n",
        "#print(math.ceil(3.2))\n",
        "lista=[\"amor a roma\",\"anita atina\",\"al sur de Colombia\",\"anula las alas a la luna\", \\\n",
        "\"anulal a sala sal aluna\",\"la tele letal\"]\n",
        "for frase in lista: #frase es una cadena\n",
        "  res=esPalindrome(frase)\n",
        "  print(frase,'\\t',res)"
      ],
      "execution_count": null,
      "outputs": [
        {
          "output_type": "stream",
          "text": [
            "amor a roma \t True\n",
            "anita atina \t True\n",
            "al sur de Colombia \t False\n",
            "anula las alas a la luna \t False\n",
            "anulal a sala sal aluna \t False\n",
            "la tele letal \t False\n"
          ],
          "name": "stdout"
        }
      ]
    },
    {
      "cell_type": "code",
      "metadata": {
        "colab": {
          "base_uri": "https://localhost:8080/"
        },
        "id": "y8QHEKCYzpJK",
        "outputId": "5aaa0f85-1668-40a4-eb45-6fc1610d9647"
      },
      "source": [
        "#parte2: palindrome de frase, donde mayusculas se consideran igual a minusculas\n",
        "# se ignoran signos de puntuacion (. : ; , ? ! ), y espacios, aun falta quitar tildes\n",
        "def esPalindrome(palabra):\n",
        "   NN = len(palabra)   \n",
        "   long2=NN//2   \n",
        "   izq = palabra[0:long2] #slice o rebanada, excluye la pos [long2]\n",
        "   der1 = palabra[long2:NN] if (NN % 2 == 0) else palabra[long2+1:NN]  #ani l ina\n",
        "   der = der1[::-1] # reversa el lado derecho\n",
        "   res= der == izq  #compara ambas en orden lexicografico\n",
        "   return res\n",
        "lista=['Anula las alas a la luna  ',\".... Dabale arroz a la zorra el abad .?!;:,\", \\\n",
        "       'La tela letal?', '!Arriba la birra', 'Isaac no ronca asi...','Anita la latina']\n",
        "for frase in lista:\n",
        "   frase=frase.strip() #quito espacios a izq y derecha\n",
        "   frase=frase.strip('.,?;!:') #quita estos simbolos a la izq y a la derecha, pero no internas\n",
        "   frase=frase.upper() #convierto a mayusculas\n",
        "   NN=len(frase) #Vamos a quitarle los espacios intermedios, uno a la vez\n",
        "   conta=frase.count(' ')\n",
        "   for i in range(conta): #genero una coleccion 0, 1,2, sirve para controlar cuantos espacios voy a quitar\n",
        "     pos= frase.find(' ') #detecto la posicion del primer espacio\n",
        "     izq=frase[0:pos] #Como las cadenas son inmutables, no puedo cambiar sus caracteres\n",
        "     der=frase[pos+1:NN] #genero dos subcadenas, izq y der, elimino el espacio intermedio\n",
        "     print(izq, der) #subcadenas con funcion slice, notacion de range, [ini:fin:incr]\n",
        "     frase = izq + der #Junto las 2 subcadenas, omito el espacio\n",
        "   print(esPalindrome(frase)) #solucion"
      ],
      "execution_count": null,
      "outputs": [
        {
          "output_type": "stream",
          "text": [
            "ANULA LAS ALAS A LA LUNA\n",
            "ANULALAS ALAS A LA LUNA\n",
            "ANULALASALAS A LA LUNA\n",
            "ANULALASALASA LA LUNA\n",
            "ANULALASALASALA LUNA\n",
            "True\n",
            " DABALE ARROZ A LA ZORRA EL ABAD \n",
            "DABALE ARROZ A LA ZORRA EL ABAD \n",
            "DABALEARROZ A LA ZORRA EL ABAD \n",
            "DABALEARROZA LA ZORRA EL ABAD \n",
            "DABALEARROZALA ZORRA EL ABAD \n",
            "DABALEARROZALAZORRA EL ABAD \n",
            "DABALEARROZALAZORRAEL ABAD \n",
            "DABALEARROZALAZORRAELABAD \n",
            "True\n",
            "LA TELA LETAL\n",
            "LATELA LETAL\n",
            "True\n",
            "ARRIBA LA BIRRA\n",
            "ARRIBALA BIRRA\n",
            "True\n",
            "ISAAC NO RONCA ASI\n",
            "ISAACNO RONCA ASI\n",
            "ISAACNORONCA ASI\n",
            "True\n",
            "ANITA LA LATINA\n",
            "ANITALA LATINA\n",
            "True\n"
          ],
          "name": "stdout"
        }
      ]
    }
  ]
}