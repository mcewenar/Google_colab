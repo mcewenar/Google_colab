{
  "nbformat": 4,
  "nbformat_minor": 0,
  "metadata": {
    "colab": {
      "provenance": [],
      "collapsed_sections": [],
      "authorship_tag": "ABX9TyOCiyM8Q0lQnie0vcnEqtv/",
      "include_colab_link": true
    },
    "kernelspec": {
      "name": "python3",
      "display_name": "Python 3"
    },
    "language_info": {
      "name": "python"
    }
  },
  "cells": [
    {
      "cell_type": "markdown",
      "metadata": {
        "id": "view-in-github",
        "colab_type": "text"
      },
      "source": [
        "<a href=\"https://colab.research.google.com/github/mcewenar/Google_colab/blob/master/BubbleSort.ipynb\" target=\"_parent\"><img src=\"https://colab.research.google.com/assets/colab-badge.svg\" alt=\"Open In Colab\"/></a>"
      ]
    },
    {
      "cell_type": "code",
      "execution_count": 3,
      "metadata": {
        "colab": {
          "base_uri": "https://localhost:8080/"
        },
        "id": "AfHndwzKSism",
        "outputId": "2bdb491f-cd75-46c3-b90a-340750b152fc"
      },
      "outputs": [
        {
          "output_type": "stream",
          "name": "stdout",
          "text": [
            "[0, 1, 2, 3, 4, 5, 6, 7, 8, 9]\n"
          ]
        }
      ],
      "source": [
        "arr = [ 7 , 3 , 9 , 2 , 0 , 4 , 8 , 1 , 6 , 5 ]\n",
        "def bubbleSort(theSeq):\n",
        "    n = len(theSeq)\n",
        "    for i in range(n - 1):\n",
        "        for j in range(n - 1 - i):\n",
        "            if theSeq[j] > theSeq[j + 1]:\n",
        "                temp = theSeq[j]\n",
        "                theSeq[j] = theSeq[j + 1]\n",
        "                theSeq[j + 1] = temp\n",
        "    return theSeq\n",
        "print(bubbleSort(arr))"
      ]
    }
  ]
}